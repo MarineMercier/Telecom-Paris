{
 "cells": [
  {
   "cell_type": "markdown",
   "metadata": {
    "colab_type": "text",
    "id": "ACPNiuip-QVd"
   },
   "source": [
    "# Practical work on - Introduction to SAR imaging\n",
    " \n",
    "### Florence TUPIN, Emanuele DALSASSO\n",
    "\n",
    "The objectives of this session are the following:\n",
    "- visualize and analyze a SAR image\n",
    "- do the SAR synthesis on a raw data to understand the different steps.\n",
    "\n",
    "Images of the practical work can be found on: \n",
    "https://perso.telecom-paristech.fr/dalsasso/TPSAR/\n",
    "\n",
    "You have:\n",
    "- Terrasar-X images of metric resolution on Grand canyon in Colorado. \n",
    "- Terrasar-X image of Paris\n",
    "- ERS raw data of Leman lake and Lausanne \n",
    "\n",
    "Codes of the practical work are available here:\n",
    "https://perso.telecom-paristech.fr/dalsasso/TPSAR/\n",
    "\n",
    "### Reading of images with TélécomParis format\n",
    "Many useful functions are available in the file *mvalab.py*. \n",
    "A useful function to read the images with Télécom-Paris format is *imz2mat* and to visualize images is *visusar*.\n",
    "\n",
    "### First step: install needed packages \n",
    "In this and the following practical works, we are going to need\n",
    "- numpy: a fundamental package for scientific computing with Python\n",
    "- matplotlib: a Python 2D plotting library\n",
    "- scipy: library for numerical integration, interpolation, optimization, linear algebra and statistics."
   ]
  },
  {
   "cell_type": "code",
   "execution_count": null,
   "metadata": {
    "colab": {},
    "colab_type": "code",
    "id": "TfQQXbBh-QVf",
    "pycharm": {
     "is_executing": false
    }
   },
   "outputs": [],
   "source": [
    "%pip install --user matplotlib numpy scipy opencv-python \n",
    "%load_ext autoreload\n",
    "%autoreload 2"
   ]
  },
  {
   "cell_type": "markdown",
   "metadata": {
    "colab_type": "text",
    "id": "wEwkUSWA-QVk"
   },
   "source": [
    "### Restart the kernel\n",
    "Once the packages are installed, the kernel needs to be restarted. To do so, click on Kernel -> Restart\n",
    "\n",
    "### Import the libraries and packages we are going to use\n",
    "The following cell imports all that is going to be necessary for the practical work"
   ]
  },
  {
   "cell_type": "code",
   "execution_count": null,
   "metadata": {
    "colab": {},
    "colab_type": "code",
    "id": "3SQWic4x-QVm",
    "pycharm": {
     "is_executing": false
    }
   },
   "outputs": [],
   "source": [
    "import math\n",
    "import numpy as npy\n",
    "\n",
    "import scipy as spy\n",
    "import scipy.fftpack \n",
    "\n",
    "import scipy.signal\n",
    "from scipy import ndimage\n",
    "\n",
    "import matplotlib.pyplot as plt\n",
    "\n",
    "##########################################################\n",
    "\n",
    "import mvalab as mvalab\n",
    "\n",
    "##########################################################"
   ]
  },
  {
   "cell_type": "markdown",
   "metadata": {
    "colab_type": "text",
    "id": "qA-5vXjO-QVs"
   },
   "source": [
    "## SAR Images \n",
    "To read an image use {mvalab.imz2mat} with input parameter the image name (or url). \n",
    "It returns a list with a table of complex numbers, the number of columns and the number of lines."
   ]
  },
  {
   "cell_type": "code",
   "execution_count": null,
   "metadata": {
    "colab": {},
    "colab_type": "code",
    "id": "-MZeANUZ-QVt"
   },
   "outputs": [],
   "source": [
    "url='https://perso.telecom-paristech.fr/dalsasso/TPSAR/imagesbase/'\n",
    "\n",
    "image='coloradoDP.CXF' # change name to visualyse the images\n",
    "imagesar=mvalab.imz2mat(url+image)\n",
    "tableauimage=imagesar[0]\n",
    "ncol=tableauimage[1]\n",
    "nlig=tableauimage[2]\n"
   ]
  },
  {
   "cell_type": "markdown",
   "metadata": {
    "colab_type": "text",
    "id": "rUyYcTY7-QVx"
   },
   "source": [
    "## Visualizing SAR data \n",
    "Visualize the amplitude and phase of the complex backscattered electro-magnetic field\n",
    "on Grand Canyon image.\n",
    "When just using imshow the full dynamic of the image is linearly converted to [0,255].\n",
    "When using mvalab.visusar, a threshold is defined threshold = mean(image)+k.standard_deviation(image)\n",
    "to use only the values between 0 and the threshold (values above the threshold are saturated at 255).\n",
    "A usual value of k is 3 (default value).\n",
    "Give an interpretation of the amplitude image (which areas do you recognize) \n",
    "and of the phase image."
   ]
  },
  {
   "cell_type": "code",
   "execution_count": null,
   "metadata": {
    "colab": {},
    "colab_type": "code",
    "id": "2H7tqvEs-QVx"
   },
   "outputs": [],
   "source": [
    "## k=3\n",
    "\n",
    "import numpy as np\n",
    "plt.rcParams['figure.figsize'] = [13, 13]\n",
    "#visualization of amplitude data = absolute value of the complex electro-magnetic field\n",
    "#to be completed \n",
    "plt.title(\"Absolute value of the complex electro-magnetic field with plt and mvalab.visuar avec k = 3\")\n",
    "plt.imshow(np.abs(tableauimage),cmap=\"gray\")\n",
    "plt.show()\n",
    "#mvalab.visusar uses a threshold th=mean+ksigma to stretch the dynamic\n",
    "#two input parameters : table of pixels (absolute value) and k value to define the threshold\n",
    "# if the first argument is complex, it takes the absolute value\n",
    "k=3\n",
    "mvalab.visusar(np.abs(tableauimage),k) #avec seuillage\n",
    "\n",
    "#visualization of phase data \n",
    "plt.rcParams['figure.figsize'] = [13, 13]\n",
    "#to be completed \n",
    "plt.title(\"Phase Data\")\n",
    "plt.imshow(np.angle(tableauimage),cmap=\"gray\")\n",
    "plt.show()"
   ]
  },
  {
   "cell_type": "code",
   "execution_count": null,
   "metadata": {
    "colab": {},
    "colab_type": "code",
    "id": "2H7tqvEs-QVx"
   },
   "outputs": [],
   "source": [
    "## k=1\n",
    "\n",
    "import numpy as np\n",
    "plt.rcParams['figure.figsize'] = [13, 13]\n",
    "#visualization of amplitude data = absolute value of the complex electro-magnetic field\n",
    "#to be completed \n",
    "plt.title(\"Absolute value of thecomplex electro-magnetic field with plt and mvalab.visuar avec k = 1\")\n",
    "plt.imshow(np.abs(tableauimage),cmap=\"gray\")\n",
    "plt.show()\n",
    "#mvalab.visusar uses a threshold th=mean+ksigma to stretch the dynamic\n",
    "#two input parameters : table of pixels (absolute value) and k value to define the threshold\n",
    "# if the first argument is complex, it takes the absolute value\n",
    "k=1\n",
    "mvalab.visusar(np.abs(tableauimage),k) #avec seuillage\n",
    "\n",
    "#visualization of phase data \n",
    "plt.rcParams['figure.figsize'] = [13, 13]\n",
    "#to be completed \n",
    "plt.title(\"Phase Data\")\n",
    "plt.imshow(np.angle(tableauimage),cmap=\"gray\")\n",
    "plt.show()"
   ]
  },
  {
   "cell_type": "markdown",
   "metadata": {
    "colab_type": "text",
    "id": "WdjukEAVftGa"
   },
   "source": [
    "## Question 1.a\n",
    "Explain what you see in the different images of Colorado acquisition and the role of the $k$ value.\n",
    "\n",
    "---\n",
    "__Réponse:__ \n",
    "\n",
    "Quand on utilise juste Imshow(), la dynamique de l'image est très sombre. On observe de rares points très brillants au sommet des montagnes, mais l'image est difficile à interpréter. \n",
    "\n",
    "En utilisant mvalab et un seuil, on sature les points très lumineux à 255, ce qui permet de réequilibrer la dynamique de l'image. Grâce à cette transformation, on observe mieux les zons lisses tels que la rivière et on distingue bien les montagnes. \n",
    "\n",
    "k définit la dynamique de l'image, car plus k est grand, plus le seuil est élevé, donc plus l'image est sombre. Au contraire, un k trop petit risque de rendre l'image trop claire car beaucoup de valeurs seront saturées à 255, nous perdrions de l'information. "
   ]
  },
  {
   "cell_type": "markdown",
   "metadata": {
    "colab_type": "text",
    "id": "nYgsn48p-QV1"
   },
   "source": [
    "## Part 1: Analysis of a SAR image \n",
    "In this part we will use an image of TerraSAR-X sensor (metric resolution) of Paris. \n",
    "Check that you recognize the main buildings on this image. \n",
    "What is the position of the track of the sensor relatively to this image ? "
   ]
  },
  {
   "cell_type": "code",
   "execution_count": null,
   "metadata": {
    "colab": {},
    "colab_type": "code",
    "id": "4gSU9xEv-QV2"
   },
   "outputs": [],
   "source": [
    "url='https://perso.telecom-paristech.fr/dalsasso/TPSAR/paris/'\n",
    "\n",
    "image='Eiffel.CXF'\n",
    "tabimage=mvalab.imz2mat(url+image)\n",
    "ncol=tabimage[1]\n",
    "nlig=tabimage[2]\n",
    "\n",
    "tabimage_ = tabimage[0]"
   ]
  },
  {
   "cell_type": "code",
   "execution_count": null,
   "metadata": {
    "colab": {},
    "colab_type": "code",
    "id": "HrZ9BoEz-QV6"
   },
   "outputs": [],
   "source": [
    "plt.rcParams['figure.figsize'] = [13, 13]\n",
    "mvalab.visusar(tabimage_)\n",
    "mvalab.visusar(npy.angle(tabimage_)+math.pi,0.)"
   ]
  },
  {
   "cell_type": "code",
   "execution_count": null,
   "metadata": {
    "colab": {},
    "colab_type": "code",
    "id": "5EUPM7y2kDGW"
   },
   "outputs": [],
   "source": [
    "# you can focus on a subpart of the image\n",
    "#to be completed\n",
    "tabimage_crop = tabimage_[270:550,1250:1850]\n",
    "mvalab.visusar(tabimage_crop)\n"
   ]
  },
  {
   "cell_type": "markdown",
   "metadata": {
    "colab_type": "text",
    "id": "8RwrjaSfiwJU"
   },
   "source": [
    "##Question 1.b\n",
    "Explain where is the sensor relatively to the scene.\n",
    "\n",
    "Explain the appearence of the following buildings in the amplitude image : Eiffel Tower, Maison de la radio, Pont de  Bir-Hakeim (you can use a satellite optic image on googlemaps to help you https://www.google.com/maps/place/Eiffel+Tower/@48.851143,2.2797819,447m/data=!3m1!1e3!4m5!3m4!1s0x47e66e2964e34e2d:0x8ddca9ee380ef7e0!8m2!3d48.8583701!4d2.2944813).\n",
    "\n",
    "Explain the appearence of water and vegetated areas.\n",
    "\n",
    "---\n",
    "__Réponse :__\n",
    "\n",
    "L'onde est redifusée de façon mutltiple, d'où l'aspect très brillants des coins (par exemple sur la Tour Eiffel, ou la Maison de la radio). Au contraire la scène est sombre, car elle est lisse. Les strustures en coins renvoient beaucoup l'onde électromagnétique. \n",
    "\n",
    "Il semle que le capteur se situe sur la gauche de l'image, plutôt en haut. En effet, les batiments très grands tels que la Tour Eiffel sont rabattus vers la gauche, vers la direction du capteur."
   ]
  },
  {
   "cell_type": "markdown",
   "metadata": {
    "colab_type": "text",
    "id": "RjsZGJfZ-QV9"
   },
   "source": [
    "### Spectral analysis \n",
    "Plot the modulus of complex spectrum of the image and the modulus of the Fourier transform of the image taken in amplitude. \n",
    "What are the information provided by these spectrums?"
   ]
  },
  {
   "cell_type": "code",
   "execution_count": null,
   "metadata": {
    "colab": {},
    "colab_type": "code",
    "id": "8ZZNqgPF-QV-"
   },
   "outputs": [],
   "source": [
    "# SPECTRAL ANALYSIS mvalab.visusarspectre: plot the image and its Fourier spectrum\n",
    "# to complete with the name of the data you want to compute the FFT\n",
    "mvalab.visusarspectre(tabimage_)\n",
    "mvalab.visusarspectre(np.abs(tabimage_))"
   ]
  },
  {
   "cell_type": "markdown",
   "metadata": {
    "colab_type": "text",
    "id": "0-U2vyp4lgxt"
   },
   "source": [
    "## Question 1.c\n",
    "\n",
    "Explain what you see in the Fourier spectrum of the complex image. How are the two axis related to the SAR image synthesis ?\n",
    "\n",
    "Explain what you see in the Fourier spectrum of the amplitude image.\n",
    "\n",
    "---\n",
    "__Réponse :__\n",
    "\n",
    "Le spectre du module de l'image donne des informations de la phase utilisée pour la compression d'impulsion et pour la synthèse d'ouverture. Dans la direction horizontale, les fréquences sont liées au chirp émis, tandis que dans la direction azimutale les fréquences sont liées à la synthèse d'ouverture. \n",
    "\n",
    "Tandis que le spectre de l'amplitude a une apparence totalement différentes, sa transformée de Fourier ressemble à celle des images naturelles, que l'on peut facilement  interpréter. On peut y découvrir les principaux axes de l'image tels que les grands boulevards. Les objets sont perpendiculaires à la structure linéaire qu'on peut observer sur la transformée. On voit qu'il y a aussi du repliement entre les images, d'où l'apparition d'une croix horizontale et verticale."
   ]
  },
  {
   "cell_type": "markdown",
   "metadata": {
    "colab_type": "text",
    "id": "o57Jr9VM-QWT"
   },
   "source": [
    "## Part 2: SAR synthesis using SAR RAW data \n",
    "To study the SAR synthesis we will use a ERS-1 SAR image which is provided by ESA in \"raw\" format. \n",
    "It means that it corresponds to the image before the chirp compression in range and before the synthetic aperture in the azimuth direction. \n",
    "What do you see on the raw data ? Can you recognize the area ? (It corresponds to Leman Lake and Lausanne https://www.google.com/maps/place/Lausanne,+Switzerland/@46.5284586,6.5824552,12z/data=!3m1!4b1!4m5!3m4!1s0x478c293ecd89a7e5:0xeb173fc9cae2ee5e!8m2!3d46.5196535!4d6.6322734)."
   ]
  },
  {
   "cell_type": "code",
   "execution_count": null,
   "metadata": {
    "colab": {},
    "colab_type": "code",
    "id": "0Ida_AxB-QWU",
    "pycharm": {
     "is_executing": true
    }
   },
   "outputs": [],
   "source": [
    "url='https://perso.telecom-paristech.fr/dalsasso/TPSAR/imagesbase/'\n",
    "\n",
    "image='lausanneED.CXF'\n",
    "\n",
    "tabimage=mvalab.imz2mat(url+image)\n",
    "ncol=tabimage[1]\n",
    "nlig=tabimage[2]\n",
    "\n",
    "mvalab.visusar(tabimage[0])\n",
    "mvalab.visusar(npy.angle(tabimage[0])+math.pi,0.)"
   ]
  },
  {
   "cell_type": "markdown",
   "metadata": {
    "colab_type": "text",
    "id": "qKQXV3eZ-ZXl"
   },
   "source": [
    "## Question 2.a\n",
    "Where is the lake on this image ? How can we localize Lausanne city ?\n",
    "\n",
    "---\n",
    "__Réponse :__\n",
    "\n",
    "Chaque pixel représente plusieurs kilomètres, l'image est donc très grossière. Il est très difficile d'interpréter cette image. Cependant, on peut deviner que la zone sombre en bas de l'image correspond au lac qui est lisse. La ville de Lausanne correspond à la zone claire au dessus du lac, en effet la rétrodiffusion est très forte en ville."
   ]
  },
  {
   "cell_type": "markdown",
   "metadata": {
    "colab_type": "text",
    "id": "VXMB9QuT-QWb"
   },
   "source": [
    "### Range compression (fast time)\n",
    "The raw data need to be compressed along the range direction using a matched filter. \n",
    "The chirp is given and corresponds to the emitted wave of ERS sensor. The matched filter is a temporal convolution \n",
    "or equivalently a multiplication of the Fourier transforms. \n",
    "What is the effect of this processing ?"
   ]
  },
  {
   "cell_type": "code",
   "execution_count": null,
   "metadata": {
    "colab": {},
    "colab_type": "code",
    "id": "ZO7GxRGU-QWc"
   },
   "outputs": [],
   "source": [
    "sigchirp=mvalab.chirp_ers()   #Warning only 703 points to encode the chirp\n",
    "nsig=spy.size(sigchirp)\n",
    "K=4.1889e+11\n",
    "\n",
    "#display of the chirp (real and imaginary parts)\n",
    "plt.rcParams['figure.figsize'] = [6, 6]\n",
    "plt.figure()\n",
    "plt.subplot(211)\n",
    "plt.plot(spy.real(sigchirp))\n",
    "plt.subplot(212)\n",
    "plt.plot(spy.imag(sigchirp))\n",
    "plt.show()\n",
    "\n",
    "# display of the Fouriertransform of the chirp\n",
    "##%%%\n",
    "lignechirp=npy.zeros(ncol,dtype=complex)\n",
    "lignechirp[0:nsig]=sigchirp # padding\n",
    "tfchirp=scipy.fftpack.fft(lignechirp)\n",
    "#to be completed\n",
    "plt.figure()\n",
    "plt.plot(npy.abs(scipy.fftpack.fftshift(tfchirp)))\n",
    "plt.show()\n",
    "\n",
    "# range compression done in the Fourier transform line by line by FT multiplication\n",
    "#to be completed \n",
    "fft1tabimage=scipy.fftpack.fft(tabimage[0],axis=1)\n",
    "fft2tabimage=npy.zeros((nlig,ncol),dtype=complex)\n",
    "for iut in range(nlig):\n",
    "    fft2tabimage[iut,:]=npy.multiply(fft1tabimage[iut,:],npy.conj(tfchirp))\n",
    "\n",
    "newimage=scipy.fftpack.ifft(fft2tabimage,axis=1)\n",
    "mvalab.visusar(tabimage[0])\n",
    "#to be completed to display the new image\n",
    "mvalab.visusar(newimage)\n",
    "\n",
    "#########################################################################\n",
    "\n"
   ]
  },
  {
   "cell_type": "markdown",
   "metadata": {
    "colab_type": "text",
    "id": "vZ3crfHTFYmT"
   },
   "source": [
    "## Question 2.b\n",
    "What is the effect of the chirp convolution in the range direction ? \n",
    "\n",
    "---\n",
    "__Réponse:__ \n",
    "\n",
    "On voit que la transformée de Fourier correspond environ à un porte, car on cherche à concentrer l'information fréquentielle autour de la fréquence centrale. \n",
    "On concentre donc l'information en réalisant une convolution du chirp dans la direction range. Par exemple certaines cibles telles que la ligne 700 est très brillante et était auparavant étalée. "
   ]
  },
  {
   "cell_type": "markdown",
   "metadata": {
    "colab_type": "text",
    "id": "plLO8TX2-QWh"
   },
   "source": [
    "### Azimuth compression (slow time) - approximation\n",
    "We are now interested in the synthetic aperture computation in the azimuth direction. Two different compression techniques will be analysed in the following cells.\n",
    "First, the synthesis is done very approximately by just adding the complex signals in column (azimuth) without doing the phase correction. \n",
    "Compute a simple column convolution with a chosen size (30, 50 70 pixels for instance. \n",
    "What is the effect of this processing ? "
   ]
  },
  {
   "cell_type": "code",
   "execution_count": null,
   "metadata": {
    "colab": {},
    "colab_type": "code",
    "id": "voFSFxH9-QWi"
   },
   "outputs": [],
   "source": [
    "#########################################################################\n",
    "##############  SYNTHESIS\n",
    "############## constant kernel\n",
    "## \n",
    "\n",
    "#choose a size for the window to do the azimuth processing \n",
    "largeur=50\n",
    "#create a mask of values 1 with npy.ones()\n",
    "masque= np.ones(largeur)\n",
    "newimage_step1=npy.zeros( (nlig,ncol),dtype=complex)\n",
    "#do the convolution with the masque in azimuth direction - to keep the same size use mode='same'\n",
    "for jut in range(ncol):\n",
    "    newimage_step1[:,jut]= np.convolve(newimage[:,jut],masque,mode='same')\n",
    "montitre=u'Size of the uniform kernel : %d'%largeur\n",
    "# display your result\n",
    "mvalab.visusar(newimage_step1)\n"
   ]
  },
  {
   "cell_type": "markdown",
   "metadata": {
    "colab_type": "text",
    "id": "-cXbtRK6G2MC"
   },
   "source": [
    "## Question 2.c\n",
    "\n",
    "What is the effect of the chirp convolution in the range direction ? \n",
    "\n",
    "---\n",
    "__Réponse:__\n",
    "\n",
    "\n",
    "Ce premier traitement permet de focaliser les points lumineux et sombres. Les objets qui étaient étalés sur une colonne, sont focalisés sur quelques pixels en particulier. \n",
    "Cette première transformation approximative permet déjà d'obtenir des résultats plus précis.\n"
   ]
  },
  {
   "cell_type": "markdown",
   "metadata": {
    "colab_type": "text",
    "id": "W080Ob7m-QWk"
   },
   "source": [
    "### Azimuth compression (slow time) - synthetic aperture \n",
    "In this part, the real aperture synthesis is done. \n",
    "To do so, first the distance from the sensor to each pixel considered in the window (in azimuth) is computed. \n",
    "This distance is then used to correct the phase contribution of each pixel ($\\phi=\\frac{4\\pi R}{\\lambda}$).\n",
    "The associated instant frequency is given by $f_d=\\frac{1}{2\\pi}\\frac{d\\phi}{dt}$"
   ]
  },
  {
   "cell_type": "code",
   "execution_count": null,
   "metadata": {
    "colab": {},
    "colab_type": "code",
    "id": "E47J5QCL-QWl"
   },
   "outputs": [],
   "source": [
    "\n",
    "##############  SYNTHESIS\n",
    "##############  Modulated window\n",
    "#%%%\n",
    "#  Program using a fixed length of synthesis (=fixed number of samples - no range migration correction)\n",
    "longueurdonde = 3./53. # en cm\n",
    "prf=1679.902 #theoretical PRF of ERS-1\n",
    "vitessesatel=7460 # in m/s\n",
    "#distance from the sensor to the earth for the incidence angle of the considered area\n",
    "#it corresponds to the distance between the sensor and the closest point in the swath \n",
    "#(cpa closest point of approach)\n",
    "dsatel=845000;  # for 24 degrees of incidence angle ??? (considered as constant in the swath here)\n",
    "#sampling in position for the sensor position in the flight direction \n",
    "#deltay is the distance between two sensor positions sending a pulse \n",
    "deltay=vitessesatel/prf;\n",
    "\n",
    "#chosen number of points for the synthetic aperture synthesis \n",
    "largeur=800\n",
    "NN=int(0.5*largeur)\n",
    "#\n",
    "# computation of the phase ramp and complex exponential \n",
    "# replacing the \"natural window\" with weight 1\n",
    "#\n",
    "# sensor positions around 0 (-400 positions before, 400 positions after in meters)\n",
    "tabpos=deltay*npy.linspace(-NN,NN,largeur) #returns 800 evenly spaced points between -400 and 400\n",
    "#tab_cpa contains a table of the cpa distances\n",
    "tab_cpa=dsatel*npy.ones(largeur)\n",
    "#compute in tabR the distance from the point to the sensor \n",
    "#for the sensor positions in tabpos using Pythagore\n",
    "tabR=npy.sqrt(tabpos**2+tab_cpa**2)\n",
    "# compute in tabR_diff the difference between tabR and tab_cpa corresponding to the distance difference \n",
    "#compared to the closest position \n",
    "tabR_diff= tabR-tab_cpa\n",
    "# check you obtain a quadratic contribution \n",
    "plt.figure()\n",
    "plt.plot(tabR_diff)\n",
    "plt.show()\n",
    "# convert the distance to the sensor in a phase contribution using phi=(4piR)/lambda\n",
    "tab_phi = 4*math.pi*tabR_diff/longueurdonde         # a factor 2 for return trip (two ways)\n",
    "#convert the phase in the complex exponential contribution (phase ramp)\n",
    "tab_ramp = npy.exp(1j*tab_phi)\n",
    "# check the instant frequency is linear\n",
    "fd = 2/longueurdonde*npy.diff(tabR) #instant frequency\n",
    "plt.figure()\n",
    "plt.subplot(311)\n",
    "plt.plot(spy.real(tab_ramp))\n",
    "plt.subplot(312)\n",
    "plt.plot(spy.imag(tab_ramp))\n",
    "plt.subplot(313)\n",
    "plt.plot(fd)\n",
    "plt.show()\n",
    "\n",
    "######################### Warning : use the image newimage after chirp compression in distance\n",
    "\n",
    "newimage_foc=npy.zeros( (nlig,ncol),dtype=complex)\n",
    "#do the matched filter by azimuth convolution with mode='same'\n",
    "for jut in range(ncol):\n",
    "    newimage_foc[:,jut]=np.convolve(newimage[:,jut],tab_ramp,mode='same')\n",
    "montitre=u'Number of samples used to do the synthetic aperture : %d'%largeur\n",
    "mvalab.visusarspectre(newimage_foc, montitre )\n",
    "#display the image after azimuth synthesis using a square window (previous question)\n",
    "mvalab.visusar(newimage_step1)\n",
    "#display the image after synthetic aperture computation\n",
    "mvalab.visusar(newimage_foc)\n",
    "#display the original image \n",
    "mvalab.visusar(tabimage[0])"
   ]
  },
  {
   "cell_type": "markdown",
   "metadata": {
    "colab_type": "text",
    "id": "OdMfq-0nK9vt"
   },
   "source": [
    "## Question 2.d\n",
    "Compare the synthesized image with the mean kernel and the one taking into account the phase variation due to the distance. Compare the image obtained after synthesis in range and azimuth direction and the original image. \n",
    "\n",
    "---\n",
    "__Réponse :__ \n",
    "\n",
    "L'image prenant en compte les variations de phases permet d'encore mieux localiser l'information. Mais si les points lumineux sont bien localisés, l'image reste bruitée et difficile à interpréter.\n",
    "Quand on compare l'image originale à notre image finale, nous avons beaucoup gagné en reésolution. "
   ]
  },
  {
   "cell_type": "markdown",
   "metadata": {
    "colab_type": "text",
    "id": "yspMzPnD-QWq"
   },
   "source": [
    "### Azimuth multi_looking\n",
    "The size of the SLC pixel for ERS-1 are 3m in azimuth and 12m in range. \n",
    "To obtain square pixels, a simple processing is averaging amplitude values \n",
    "and then do an undersampling with a factor of 4. \n",
    "It is even better to do the averaging on intensity values (square of the modulus) \n",
    "and then take the square root. \n",
    "Do you recognize Lausanne on this image ? (use google maps to have an optical view). Is the image in the right orientation compared to a map? "
   ]
  },
  {
   "cell_type": "code",
   "execution_count": null,
   "metadata": {
    "colab": {},
    "colab_type": "code",
    "id": "raX4wXGF-QWs"
   },
   "outputs": [],
   "source": [
    "\n",
    "#define a vertical mask to do the convolution\n",
    "masque_vert=npy.ones((4,1))/4\n",
    "#do the convolution on the intensity image obtained by z.z* (=|z|²)\n",
    "ml_int=scipy.signal.convolve2d(npy.multiply(newimage_foc,npy.conj(newimage_foc)),masque_vert,mode='same')\n",
    "#do the sub-sampling to obtain square pixels with improved radiometry\n",
    "ml_int_sub=ml_int[::4,:]\n",
    "plt.rcParams['figure.figsize'] = [20, 5]\n",
    "#take the square root of the intensity to have an amplitude image (proportional to |z|)\n",
    "mvalab.visusar(npy.sqrt(ml_int_sub))"
   ]
  },
  {
   "cell_type": "markdown",
   "metadata": {
    "colab_type": "text",
    "id": "QhBkk-5DiL8O"
   },
   "source": [
    "## Question 2.e\n",
    "What is the effect of multi-looking ? Is this image well oriented compared to a map ? Use the Lac de Bret to check this point. \n",
    "\n",
    "---\n",
    "__Réponse :__\n",
    "\n",
    "On reconnaît mieux la ville une fois que le moyennage vertical et le sous-échantillonnage est réalisé, les pixels sont carrés. Le lac est en bas à gauche, et la ville de Lausanne au dessus. En haut à droite on observe une tache sombre correspondant au lac de Bret. L'image est orientée dans le même sens que google Maps, car le lac de Bret est bien sur la gauche de Lausanne. "
   ]
  }
 ],
 "metadata": {
  "colab": {
   "collapsed_sections": [],
   "name": "tpsynthese_ima207_students.ipynb",
   "provenance": [],
   "toc_visible": true
  },
  "kernelspec": {
   "display_name": "Python 3",
   "language": "python",
   "name": "python3"
  },
  "language_info": {
   "codemirror_mode": {
    "name": "ipython",
    "version": 3
   },
   "file_extension": ".py",
   "mimetype": "text/x-python",
   "name": "python",
   "nbconvert_exporter": "python",
   "pygments_lexer": "ipython3",
   "version": "3.7.4"
  },
  "pycharm": {
   "stem_cell": {
    "cell_type": "raw",
    "metadata": {
     "collapsed": false
    },
    "source": []
   }
  }
 },
 "nbformat": 4,
 "nbformat_minor": 1
}
