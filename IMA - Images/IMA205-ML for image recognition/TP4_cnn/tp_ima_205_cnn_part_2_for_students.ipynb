{
  "nbformat": 4,
  "nbformat_minor": 0,
  "metadata": {
    "kernelspec": {
      "name": "python3",
      "display_name": "Python 3"
    },
    "language_info": {
      "codemirror_mode": {
        "name": "ipython",
        "version": 3
      },
      "file_extension": ".py",
      "mimetype": "text/x-python",
      "name": "python",
      "nbconvert_exporter": "python",
      "pygments_lexer": "ipython3",
      "version": "3.7.4"
    },
    "colab": {
      "name": "tp_ima_205_cnn_part_2_for_students.ipynb",
      "provenance": []
    },
    "accelerator": "GPU"
  },
  "cells": [
    {
      "cell_type": "markdown",
      "metadata": {
        "id": "Mm1CT5faf4xJ",
        "colab_type": "text"
      },
      "source": [
        "# TP Coding Convolutional Neural Networks in keras :\n",
        "\n",
        "# Creating the CNN model in Keras using the Sequential API\n",
        "\n",
        "You have probably noticed that the Tensorflow interface, while simpler than coding a complex neural network by hand, is nevertheless somewhat laborious to use; all the variables have to be specifically created, we have to create a session etc. Luckily, a package was created which acts as a layer above Tensorflow (and other packages) to simplify the coding process. This package is called Keras.\n",
        "\n",
        "We are now going to create the same network as in part 1 of the TP with Keras. Hopefully you will see that the interfance is quite simplified in comparison to that of Tensorflow.\n",
        "\n",
        "Here is a summary of the network again\n",
        "\n",
        "- The input of the CNN is a set of (m,n,3) image tensors (m and n depend on the dataset).\n",
        "- We apply \n",
        "    - a Convolutional layer of 32 filters of shape (3,3), with stride (1,1) and padding='same' (i.e. we do not apply zero-padding)\n",
        "    - additive biases\n",
        "    - a ReLu activation function\n",
        "    \n",
        "    - a Convolutional layer of 32 filters of shape (3,3), with stride (1,1) and padding='same' (i.e. we do not apply zero-padding)\n",
        "    - additive biases\n",
        "    - a ReLu activation function\n",
        "    - a Max Pooling Layer of shape (2,2) and stride (2,2) (i.e. we reduce by two the size in each dimension)\n",
        "    \n",
        "    - a Convolutional layer of 32 filters of shape (3,3), with stride (1,1) and padding='same' (i.e. we do not apply zero-padding)\n",
        "    - additive biases\n",
        "    - a ReLu activation function\n",
        "    - a Max Pooling Layer of shape (2,2) and stride (2,2) (i.e. we reduce by two the size in each dimension)\n",
        "    \n",
        "    - We then Flatten the data (reduce them to a vector in order to be able to apply a Fully-Connected layer to it)\n",
        "    - A softmax activation function which outputs are the $P(y_c | X)$ (multi-class problem)\n",
        "\n",
        "### Your task:\n",
        "You need to add the missing parts in the code (parts between # --- START CODE HERE and # --- END CODE HERE)\n",
        "\n"
      ]
    },
    {
      "cell_type": "markdown",
      "metadata": {
        "id": "3D2TIE_if4xL",
        "colab_type": "text"
      },
      "source": [
        "Keras has a simple way of adding layers to create a neural network. First, you can indicate to Keras that the model is 'sequential', that is to say, a straight-forward CNN. For this, you can use the following function :\n",
        "- ```model = Sequential()```\n",
        "\n",
        "After this, you can add layers with the function.\n",
        "\n",
        "- ```model.add()```\n",
        "\n",
        "You can then use the ```Conv2D```, ```Activation```, ```MaxPooling2D```, ```Flatten``` and ```Dense``` (fully connected) functions to specify different layer types. You will have to specify the parameters of these functions to create the network architecture. To find these parameters, use the Keras documentation, for example in the case of convolutional layers :\n",
        "\n",
        "https://keras.io/layers/convolutional/\n"
      ]
    },
    {
      "cell_type": "markdown",
      "metadata": {
        "id": "VUAsAbzLf4xL",
        "colab_type": "text"
      },
      "source": [
        "## We first import some keras packages"
      ]
    },
    {
      "cell_type": "code",
      "metadata": {
        "id": "YYGWbfRuf4xM",
        "colab_type": "code",
        "outputId": "92b1807a-dd3c-4063-b43c-56464b60f5d7",
        "colab": {
          "base_uri": "https://localhost:8080/",
          "height": 70
        }
      },
      "source": [
        "%matplotlib inline\n",
        "%tensorflow_version 1.x\n",
        "import matplotlib.pyplot as plt\n",
        "import numpy as np\n",
        "from keras.utils.np_utils import to_categorical\n",
        "\n",
        "import keras\n",
        "from keras.models import Sequential\n",
        "from keras.layers import Dense, Dropout, Activation, Flatten\n",
        "from keras.layers import Conv2D, MaxPooling2D\n",
        "from keras import optimizers\n",
        "print(keras.__version__)"
      ],
      "execution_count": 1,
      "outputs": [
        {
          "output_type": "stream",
          "text": [
            "TensorFlow 1.x selected.\n"
          ],
          "name": "stdout"
        },
        {
          "output_type": "stream",
          "text": [
            "Using TensorFlow backend.\n"
          ],
          "name": "stderr"
        },
        {
          "output_type": "stream",
          "text": [
            "2.2.5\n"
          ],
          "name": "stdout"
        }
      ]
    },
    {
      "cell_type": "markdown",
      "metadata": {
        "id": "y_YwXigWf4xQ",
        "colab_type": "text"
      },
      "source": [
        "## Define the model parameters again"
      ]
    },
    {
      "cell_type": "code",
      "metadata": {
        "id": "DGS-JDEDf4xR",
        "colab_type": "code",
        "colab": {}
      },
      "source": [
        "learning_rate = 0.01\n",
        "n_epochs = 10\n",
        "batch_size = 64\n",
        "\n",
        "# number of convolutional filters to use\n",
        "nb_filters = 32\n",
        "# convolution kernel size\n",
        "kernel_size = (3, 3)\n",
        "# size of pooling area for max pooling\n",
        "pool_size = (2, 2)\n",
        "# re-define the input shapes\n",
        "input_shape = (32, 32, 3)\n",
        "nb_classes = 10"
      ],
      "execution_count": 0,
      "outputs": []
    },
    {
      "cell_type": "markdown",
      "metadata": {
        "id": "GyjZRqrrf4xU",
        "colab_type": "text"
      },
      "source": [
        "## Import the CIFAR10 dataset"
      ]
    },
    {
      "cell_type": "code",
      "metadata": {
        "id": "3qFC40gJf4xV",
        "colab_type": "code",
        "outputId": "1939b1e2-91e6-45c6-968d-9f506bde82aa",
        "colab": {
          "base_uri": "https://localhost:8080/",
          "height": 141
        }
      },
      "source": [
        "## Import the CIFAR10 data and carry out some pre-processing\n",
        "from keras.datasets import cifar10\n",
        "(X_train, y_train), (X_test, y_test) = cifar10.load_data()\n",
        "\n",
        "# input image dimensions\n",
        "img_rows, img_cols, nb_channels = X_train.shape[1], X_train.shape[2], X_train.shape[3]\n",
        "\n",
        "# In case depth is 1 (black and white pictures) -> reshape to proper format\n",
        "X_train = X_train.reshape(X_train.shape[0], img_rows, img_cols, nb_channels)\n",
        "X_test = X_test.reshape(X_test.shape[0], img_rows, img_cols, nb_channels)\n",
        "\n",
        "X_train = X_train.astype('float32')\n",
        "X_test = X_test.astype('float32')\n",
        "X_train /= 255.0\n",
        "X_test /= 255.0\n",
        "\n",
        "Y_train = to_categorical(y_train)\n",
        "Y_test = to_categorical(y_test)\n",
        "\n",
        "nb_classes = Y_train.shape[1]\n",
        "\n",
        "print('X_train shape:', X_train.shape)\n",
        "#print('y_train shape:', y_train.shape)\n",
        "print('Y_train shape:', Y_train.shape)\n",
        "print('There is {} train data'.format(X_train.shape[0]))\n",
        "print('There is {} test data'.format(X_test.shape[0]))\n",
        "print(img_rows, img_cols, nb_channels)\n",
        "\n",
        "\n",
        "# the CIFAR10 categories\n",
        "cifar_10_list = [ 'airplane', 'automobile','bird','cat','deer','dog','frog','horse','ship','truck']\n",
        "\n",
        "#modify the number of input channels \n",
        "n_h_0 = nb_channels\n",
        "# add more epochs\n",
        "n_epochs = 30\n"
      ],
      "execution_count": 3,
      "outputs": [
        {
          "output_type": "stream",
          "text": [
            "Downloading data from https://www.cs.toronto.edu/~kriz/cifar-10-python.tar.gz\n",
            "170500096/170498071 [==============================] - 6s 0us/step\n",
            "X_train shape: (50000, 32, 32, 3)\n",
            "Y_train shape: (50000, 10)\n",
            "There is 50000 train data\n",
            "There is 10000 test data\n",
            "32 32 3\n"
          ],
          "name": "stdout"
        }
      ]
    },
    {
      "cell_type": "code",
      "metadata": {
        "id": "6Q5CXoLDf4xY",
        "colab_type": "code",
        "outputId": "6106be27-1d09-4fd1-da25-70c31eb4e7b5",
        "colab": {
          "base_uri": "https://localhost:8080/",
          "height": 52
        }
      },
      "source": [
        "# clip data\n",
        "\n",
        "max_data = 10000\n",
        "X_train = X_train[0:max_data,:,:,:]\n",
        "X_test =  X_test[0:max_data,:,:,:]\n",
        "Y_train = Y_train[0:max_data,:]\n",
        "Y_test =  Y_test[0:max_data,:]\n",
        "print('X_train shape:', X_train.shape)\n",
        "print('Y_train shape:', Y_train.shape)"
      ],
      "execution_count": 4,
      "outputs": [
        {
          "output_type": "stream",
          "text": [
            "X_train shape: (10000, 32, 32, 3)\n",
            "Y_train shape: (10000, 10)\n"
          ],
          "name": "stdout"
        }
      ]
    },
    {
      "cell_type": "markdown",
      "metadata": {
        "id": "fgFkRROwf4xc",
        "colab_type": "text"
      },
      "source": [
        "## Create the CNN now with the network parameters specified above, using the Sequential() API of Keras"
      ]
    },
    {
      "cell_type": "code",
      "metadata": {
        "id": "VrCKdOi9f4xd",
        "colab_type": "code",
        "colab": {
          "base_uri": "https://localhost:8080/",
          "height": 159
        },
        "outputId": "f4c24129-e100-4ad1-b09a-e58af30d147b"
      },
      "source": [
        "# --- START CODE HERE\n",
        "model = Sequential()\n",
        "\n",
        "# Layer 1\n",
        "model.add(Conv2D(filters=nb_filters, kernel_size=kernel_size, strides=(1,1), padding=\"SAME\", input_shape=input_shape))\n",
        "model.add(Activation('relu'))\n",
        "\n",
        "# Layer 2\n",
        "model.add(Conv2D(filters=nb_filters, kernel_size=kernel_size, strides=(1,1), padding=\"SAME\"))\n",
        "model.add(Activation('relu'))\n",
        "\n",
        "# MaxPooling\n",
        "model.add(MaxPooling2D(pool_size=pool_size, strides=(2,2), padding=\"SAME\"))\n",
        "\n",
        "# Layer 3\n",
        "model.add(Conv2D(filters=nb_filters, kernel_size=kernel_size, strides=(1,1), padding=\"SAME\"))\n",
        "model.add(Activation('relu'))\n",
        "\n",
        "# MaxPooling\n",
        "model.add(MaxPooling2D(pool_size=pool_size, strides=(2,2), padding=\"SAME\"))\n",
        "\n",
        "model.add(Flatten())\n",
        "\n",
        "model.add(Dense(nb_classes))\n",
        "\n",
        "model.add(Activation('softmax'))\n",
        "# --- END CODE HERE"
      ],
      "execution_count": 5,
      "outputs": [
        {
          "output_type": "stream",
          "text": [
            "WARNING:tensorflow:From /usr/local/lib/python3.6/dist-packages/keras/backend/tensorflow_backend.py:66: The name tf.get_default_graph is deprecated. Please use tf.compat.v1.get_default_graph instead.\n",
            "\n",
            "WARNING:tensorflow:From /usr/local/lib/python3.6/dist-packages/keras/backend/tensorflow_backend.py:541: The name tf.placeholder is deprecated. Please use tf.compat.v1.placeholder instead.\n",
            "\n",
            "WARNING:tensorflow:From /usr/local/lib/python3.6/dist-packages/keras/backend/tensorflow_backend.py:4432: The name tf.random_uniform is deprecated. Please use tf.random.uniform instead.\n",
            "\n",
            "WARNING:tensorflow:From /usr/local/lib/python3.6/dist-packages/keras/backend/tensorflow_backend.py:4267: The name tf.nn.max_pool is deprecated. Please use tf.nn.max_pool2d instead.\n",
            "\n"
          ],
          "name": "stdout"
        }
      ]
    },
    {
      "cell_type": "markdown",
      "metadata": {
        "id": "uwNpTDbzf4xh",
        "colab_type": "text"
      },
      "source": [
        "## Compile the model\n",
        "\n",
        "This has created the computational graph correspoding to the network. However, we also need to define the ```loss``` that we will minimize and the ```optimizer``` (the specific algorithm used to perform gradient descent). This can be done with the following simple syntax :"
      ]
    },
    {
      "cell_type": "code",
      "metadata": {
        "id": "WEU2W_Gtf4xh",
        "colab_type": "code",
        "colab": {
          "base_uri": "https://localhost:8080/",
          "height": 88
        },
        "outputId": "7307eeda-4536-4721-e789-fbf7d91fac73"
      },
      "source": [
        "model.compile(loss='categorical_crossentropy',\n",
        "              optimizer=optimizers.Adam(lr=learning_rate),\n",
        "              metrics=['accuracy'])"
      ],
      "execution_count": 6,
      "outputs": [
        {
          "output_type": "stream",
          "text": [
            "WARNING:tensorflow:From /usr/local/lib/python3.6/dist-packages/keras/optimizers.py:793: The name tf.train.Optimizer is deprecated. Please use tf.compat.v1.train.Optimizer instead.\n",
            "\n",
            "WARNING:tensorflow:From /usr/local/lib/python3.6/dist-packages/keras/backend/tensorflow_backend.py:3576: The name tf.log is deprecated. Please use tf.math.log instead.\n",
            "\n"
          ],
          "name": "stdout"
        }
      ]
    },
    {
      "cell_type": "markdown",
      "metadata": {
        "id": "OvCVyQDlf4xl",
        "colab_type": "text"
      },
      "source": [
        "## Summary of the network\n",
        "\n",
        "Keras has an extremely useful function ```summary()``` which summarises the network you have created in a viewer-friendly manner :"
      ]
    },
    {
      "cell_type": "code",
      "metadata": {
        "id": "D3cRVlPhf4xm",
        "colab_type": "code",
        "outputId": "66998506-dc8a-4a24-c04f-e12f6eae3335",
        "colab": {
          "base_uri": "https://localhost:8080/",
          "height": 550
        }
      },
      "source": [
        "model.summary()"
      ],
      "execution_count": 7,
      "outputs": [
        {
          "output_type": "stream",
          "text": [
            "Model: \"sequential_1\"\n",
            "_________________________________________________________________\n",
            "Layer (type)                 Output Shape              Param #   \n",
            "=================================================================\n",
            "conv2d_1 (Conv2D)            (None, 32, 32, 32)        896       \n",
            "_________________________________________________________________\n",
            "activation_1 (Activation)    (None, 32, 32, 32)        0         \n",
            "_________________________________________________________________\n",
            "conv2d_2 (Conv2D)            (None, 32, 32, 32)        9248      \n",
            "_________________________________________________________________\n",
            "activation_2 (Activation)    (None, 32, 32, 32)        0         \n",
            "_________________________________________________________________\n",
            "max_pooling2d_1 (MaxPooling2 (None, 16, 16, 32)        0         \n",
            "_________________________________________________________________\n",
            "conv2d_3 (Conv2D)            (None, 16, 16, 32)        9248      \n",
            "_________________________________________________________________\n",
            "activation_3 (Activation)    (None, 16, 16, 32)        0         \n",
            "_________________________________________________________________\n",
            "max_pooling2d_2 (MaxPooling2 (None, 8, 8, 32)          0         \n",
            "_________________________________________________________________\n",
            "flatten_1 (Flatten)          (None, 2048)              0         \n",
            "_________________________________________________________________\n",
            "dense_1 (Dense)              (None, 10)                20490     \n",
            "_________________________________________________________________\n",
            "activation_4 (Activation)    (None, 10)                0         \n",
            "=================================================================\n",
            "Total params: 39,882\n",
            "Trainable params: 39,882\n",
            "Non-trainable params: 0\n",
            "_________________________________________________________________\n"
          ],
          "name": "stdout"
        }
      ]
    },
    {
      "cell_type": "markdown",
      "metadata": {
        "id": "LAwv7-OGf4xp",
        "colab_type": "text"
      },
      "source": [
        "## Perform the training\n",
        "\n",
        "The training can be carried out with an extremely simple syntax :"
      ]
    },
    {
      "cell_type": "code",
      "metadata": {
        "id": "49Op1piif4xp",
        "colab_type": "code",
        "outputId": "59ce9c9b-e8a2-4f3e-9b94-dde07500e988",
        "colab": {
          "base_uri": "https://localhost:8080/",
          "height": 1000
        }
      },
      "source": [
        "model.fit(X_train, Y_train,\n",
        "          batch_size=batch_size, \n",
        "          nb_epoch=n_epochs,\n",
        "          verbose=1, \n",
        "          validation_data=(X_test, Y_test))"
      ],
      "execution_count": 8,
      "outputs": [
        {
          "output_type": "stream",
          "text": [
            "WARNING:tensorflow:From /tensorflow-1.15.2/python3.6/tensorflow_core/python/ops/math_grad.py:1424: where (from tensorflow.python.ops.array_ops) is deprecated and will be removed in a future version.\n",
            "Instructions for updating:\n",
            "Use tf.where in 2.0, which has the same broadcast rule as np.where\n",
            "WARNING:tensorflow:From /usr/local/lib/python3.6/dist-packages/keras/backend/tensorflow_backend.py:1033: The name tf.assign_add is deprecated. Please use tf.compat.v1.assign_add instead.\n",
            "\n"
          ],
          "name": "stdout"
        },
        {
          "output_type": "stream",
          "text": [
            "/usr/local/lib/python3.6/dist-packages/ipykernel_launcher.py:5: UserWarning: The `nb_epoch` argument in `fit` has been renamed `epochs`.\n",
            "  \"\"\"\n"
          ],
          "name": "stderr"
        },
        {
          "output_type": "stream",
          "text": [
            "WARNING:tensorflow:From /usr/local/lib/python3.6/dist-packages/keras/backend/tensorflow_backend.py:1020: The name tf.assign is deprecated. Please use tf.compat.v1.assign instead.\n",
            "\n",
            "WARNING:tensorflow:From /usr/local/lib/python3.6/dist-packages/keras/backend/tensorflow_backend.py:3005: The name tf.Session is deprecated. Please use tf.compat.v1.Session instead.\n",
            "\n",
            "Train on 10000 samples, validate on 10000 samples\n",
            "Epoch 1/30\n",
            "WARNING:tensorflow:From /usr/local/lib/python3.6/dist-packages/keras/backend/tensorflow_backend.py:190: The name tf.get_default_session is deprecated. Please use tf.compat.v1.get_default_session instead.\n",
            "\n",
            "WARNING:tensorflow:From /usr/local/lib/python3.6/dist-packages/keras/backend/tensorflow_backend.py:197: The name tf.ConfigProto is deprecated. Please use tf.compat.v1.ConfigProto instead.\n",
            "\n",
            "WARNING:tensorflow:From /usr/local/lib/python3.6/dist-packages/keras/backend/tensorflow_backend.py:207: The name tf.global_variables is deprecated. Please use tf.compat.v1.global_variables instead.\n",
            "\n",
            "WARNING:tensorflow:From /usr/local/lib/python3.6/dist-packages/keras/backend/tensorflow_backend.py:216: The name tf.is_variable_initialized is deprecated. Please use tf.compat.v1.is_variable_initialized instead.\n",
            "\n",
            "WARNING:tensorflow:From /usr/local/lib/python3.6/dist-packages/keras/backend/tensorflow_backend.py:223: The name tf.variables_initializer is deprecated. Please use tf.compat.v1.variables_initializer instead.\n",
            "\n",
            "10000/10000 [==============================] - 14s 1ms/step - loss: 2.2415 - acc: 0.1537 - val_loss: 2.1708 - val_acc: 0.1947\n",
            "Epoch 2/30\n",
            "10000/10000 [==============================] - 1s 124us/step - loss: 2.0954 - acc: 0.2401 - val_loss: 1.9837 - val_acc: 0.2929\n",
            "Epoch 3/30\n",
            "10000/10000 [==============================] - 1s 123us/step - loss: 1.9029 - acc: 0.3307 - val_loss: 1.8597 - val_acc: 0.3435\n",
            "Epoch 4/30\n",
            "10000/10000 [==============================] - 1s 124us/step - loss: 1.7787 - acc: 0.3708 - val_loss: 1.7244 - val_acc: 0.3985\n",
            "Epoch 5/30\n",
            "10000/10000 [==============================] - 1s 127us/step - loss: 1.7059 - acc: 0.4036 - val_loss: 1.6999 - val_acc: 0.4066\n",
            "Epoch 6/30\n",
            "10000/10000 [==============================] - 1s 124us/step - loss: 1.6490 - acc: 0.4218 - val_loss: 1.6879 - val_acc: 0.4095\n",
            "Epoch 7/30\n",
            "10000/10000 [==============================] - 1s 124us/step - loss: 1.6017 - acc: 0.4351 - val_loss: 1.6293 - val_acc: 0.4273\n",
            "Epoch 8/30\n",
            "10000/10000 [==============================] - 1s 125us/step - loss: 1.5886 - acc: 0.4376 - val_loss: 1.6321 - val_acc: 0.4237\n",
            "Epoch 9/30\n",
            "10000/10000 [==============================] - 1s 125us/step - loss: 1.5797 - acc: 0.4446 - val_loss: 1.6400 - val_acc: 0.4216\n",
            "Epoch 10/30\n",
            "10000/10000 [==============================] - 1s 123us/step - loss: 1.5353 - acc: 0.4612 - val_loss: 1.6000 - val_acc: 0.4409\n",
            "Epoch 11/30\n",
            "10000/10000 [==============================] - 1s 124us/step - loss: 1.5427 - acc: 0.4572 - val_loss: 1.5909 - val_acc: 0.4391\n",
            "Epoch 12/30\n",
            "10000/10000 [==============================] - 1s 125us/step - loss: 1.5267 - acc: 0.4623 - val_loss: 1.6626 - val_acc: 0.4036\n",
            "Epoch 13/30\n",
            "10000/10000 [==============================] - 1s 131us/step - loss: 1.5326 - acc: 0.4559 - val_loss: 1.5973 - val_acc: 0.4420\n",
            "Epoch 14/30\n",
            "10000/10000 [==============================] - 1s 129us/step - loss: 1.5199 - acc: 0.4624 - val_loss: 1.6822 - val_acc: 0.4029\n",
            "Epoch 15/30\n",
            "10000/10000 [==============================] - 1s 125us/step - loss: 1.5107 - acc: 0.4709 - val_loss: 1.5923 - val_acc: 0.4353\n",
            "Epoch 16/30\n",
            "10000/10000 [==============================] - 1s 123us/step - loss: 1.5012 - acc: 0.4736 - val_loss: 1.5965 - val_acc: 0.4411\n",
            "Epoch 17/30\n",
            "10000/10000 [==============================] - 1s 125us/step - loss: 1.4958 - acc: 0.4741 - val_loss: 1.6175 - val_acc: 0.4394\n",
            "Epoch 18/30\n",
            "10000/10000 [==============================] - 1s 125us/step - loss: 1.4961 - acc: 0.4694 - val_loss: 1.6847 - val_acc: 0.4019\n",
            "Epoch 19/30\n",
            "10000/10000 [==============================] - 1s 125us/step - loss: 1.4925 - acc: 0.4699 - val_loss: 1.5916 - val_acc: 0.4464\n",
            "Epoch 20/30\n",
            "10000/10000 [==============================] - 1s 124us/step - loss: 1.4845 - acc: 0.4772 - val_loss: 1.6095 - val_acc: 0.4340\n",
            "Epoch 21/30\n",
            "10000/10000 [==============================] - 1s 126us/step - loss: 1.4873 - acc: 0.4717 - val_loss: 1.6241 - val_acc: 0.4319\n",
            "Epoch 22/30\n",
            "10000/10000 [==============================] - 1s 126us/step - loss: 1.4830 - acc: 0.4787 - val_loss: 1.5794 - val_acc: 0.4478\n",
            "Epoch 23/30\n",
            "10000/10000 [==============================] - 1s 125us/step - loss: 1.4801 - acc: 0.4757 - val_loss: 1.5709 - val_acc: 0.4519\n",
            "Epoch 24/30\n",
            "10000/10000 [==============================] - 1s 125us/step - loss: 1.4679 - acc: 0.4806 - val_loss: 1.5747 - val_acc: 0.4489\n",
            "Epoch 25/30\n",
            "10000/10000 [==============================] - 1s 126us/step - loss: 1.4795 - acc: 0.4760 - val_loss: 1.5716 - val_acc: 0.4512\n",
            "Epoch 26/30\n",
            "10000/10000 [==============================] - 1s 125us/step - loss: 1.4715 - acc: 0.4783 - val_loss: 1.6045 - val_acc: 0.4509\n",
            "Epoch 27/30\n",
            "10000/10000 [==============================] - 1s 125us/step - loss: 1.4661 - acc: 0.4845 - val_loss: 1.5952 - val_acc: 0.4403\n",
            "Epoch 28/30\n",
            "10000/10000 [==============================] - 1s 126us/step - loss: 1.4709 - acc: 0.4839 - val_loss: 1.5517 - val_acc: 0.4569\n",
            "Epoch 29/30\n",
            "10000/10000 [==============================] - 1s 125us/step - loss: 1.4578 - acc: 0.4905 - val_loss: 1.5474 - val_acc: 0.4625\n",
            "Epoch 30/30\n",
            "10000/10000 [==============================] - 1s 129us/step - loss: 1.4729 - acc: 0.4884 - val_loss: 1.5819 - val_acc: 0.4453\n"
          ],
          "name": "stdout"
        },
        {
          "output_type": "execute_result",
          "data": {
            "text/plain": [
              "<keras.callbacks.History at 0x7fa027bb8f60>"
            ]
          },
          "metadata": {
            "tags": []
          },
          "execution_count": 8
        }
      ]
    },
    {
      "cell_type": "markdown",
      "metadata": {
        "id": "D8bAjkaJf4xt",
        "colab_type": "text"
      },
      "source": [
        "## We evaluate the performances of the model on the test data"
      ]
    },
    {
      "cell_type": "code",
      "metadata": {
        "id": "FMWTVVRuf4xt",
        "colab_type": "code",
        "outputId": "ece2416f-77b3-4da9-cc68-755047248be3",
        "colab": {
          "base_uri": "https://localhost:8080/",
          "height": 52
        }
      },
      "source": [
        "score = model.evaluate(X_test, Y_test, verbose=False)\n",
        "print('Test score:', score[0])\n",
        "print('Test accuracy:', score[1])"
      ],
      "execution_count": 9,
      "outputs": [
        {
          "output_type": "stream",
          "text": [
            "Test score: 1.581874588394165\n",
            "Test accuracy: 0.4453\n"
          ],
          "name": "stdout"
        }
      ]
    },
    {
      "cell_type": "markdown",
      "metadata": {
        "id": "mczM2q9uf4xx",
        "colab_type": "text"
      },
      "source": [
        "Let's take a look at what the network has learned. What do you think ?"
      ]
    },
    {
      "cell_type": "code",
      "metadata": {
        "id": "Wk7piruAf4xz",
        "colab_type": "code",
        "outputId": "ae364651-fc28-4fef-fb56-bc3b240b39b0",
        "colab": {
          "base_uri": "https://localhost:8080/",
          "height": 338
        }
      },
      "source": [
        "plt.figure(figsize=(10, 6))\n",
        "for idx,i in enumerate(range(100,110)):\n",
        "    plt.subplot(2, 5, idx+1)\n",
        "    rand_ind = np.random.randint(0,X_test.shape[0])\n",
        "    predicted_class = np.argmax(np.squeeze(model.predict(np.expand_dims(X_test[rand_ind,:,:,:],axis=0))))\n",
        "    plt.imshow(X_test[rand_ind,:,:,:])\n",
        "    plt.title(cifar_10_list[int(predicted_class)])"
      ],
      "execution_count": 10,
      "outputs": [
        {
          "output_type": "display_data",
          "data": {
            "image/png": "[encoded data removed]",
            "text/plain": [
              "<Figure size 720x432 with 10 Axes>"
            ]
          },
          "metadata": {
            "tags": []
          }
        }
      ]
    },
    {
      "cell_type": "markdown",
      "metadata": {
        "id": "b_g9fhdXPlsS",
        "colab_type": "text"
      },
      "source": [
        "---\n",
        "__Reponse:__\n",
        "Les résultats sont similaires à ceux obtenus avec tensorFlow car l'accuracy est de 0.4 environ dans les deux cas. Cependant, Keras est plus facile à prendre en main, et les couches de neurones sont plus faciles à construire. Par exemple, le biais est ajouté automatiquement.\n",
        "\n",
        "---\n"
      ]
    },
    {
      "cell_type": "markdown",
      "metadata": {
        "id": "o1-MQ1eCf4x2",
        "colab_type": "text"
      },
      "source": [
        "## Exploring the model in greater detail :\n",
        "\n",
        "More generally, you can explore the network quite easily with the Keras package by accessing the different variables and functions of the model with the ```dir``` function :"
      ]
    },
    {
      "cell_type": "code",
      "metadata": {
        "id": "_uTPZMoRf4x2",
        "colab_type": "code",
        "outputId": "a7ed7fbd-bd49-4e5b-f3d4-9eeff2228fc8",
        "colab": {
          "base_uri": "https://localhost:8080/",
          "height": 1000
        }
      },
      "source": [
        "dir(model)"
      ],
      "execution_count": 11,
      "outputs": [
        {
          "output_type": "execute_result",
          "data": {
            "text/plain": [
              "['__call__',\n",
              " '__class__',\n",
              " '__delattr__',\n",
              " '__dict__',\n",
              " '__dir__',\n",
              " '__doc__',\n",
              " '__eq__',\n",
              " '__format__',\n",
              " '__ge__',\n",
              " '__getattribute__',\n",
              " '__getstate__',\n",
              " '__gt__',\n",
              " '__hash__',\n",
              " '__init__',\n",
              " '__init_subclass__',\n",
              " '__le__',\n",
              " '__lt__',\n",
              " '__module__',\n",
              " '__ne__',\n",
              " '__new__',\n",
              " '__reduce__',\n",
              " '__reduce_ex__',\n",
              " '__repr__',\n",
              " '__setattr__',\n",
              " '__setstate__',\n",
              " '__sizeof__',\n",
              " '__str__',\n",
              " '__subclasshook__',\n",
              " '__weakref__',\n",
              " '_add_inbound_node',\n",
              " '_base_init',\n",
              " '_build_input_shape',\n",
              " '_built',\n",
              " '_check_trainable_weights_consistency',\n",
              " '_collected_trainable_weights',\n",
              " '_compute_previous_mask',\n",
              " '_expects_training_arg',\n",
              " '_feed_input_names',\n",
              " '_feed_input_shapes',\n",
              " '_feed_inputs',\n",
              " '_feed_loss_fns',\n",
              " '_feed_output_names',\n",
              " '_feed_output_shapes',\n",
              " '_feed_outputs',\n",
              " '_feed_sample_weight_modes',\n",
              " '_feed_sample_weights',\n",
              " '_feed_targets',\n",
              " '_function_kwargs',\n",
              " '_get_callback_model',\n",
              " '_get_node_attribute_at_index',\n",
              " '_inbound_nodes',\n",
              " '_init_graph_network',\n",
              " '_init_subclassed_network',\n",
              " '_initial_weights',\n",
              " '_input_coordinates',\n",
              " '_input_layers',\n",
              " '_is_compiled',\n",
              " '_is_graph_network',\n",
              " '_layers',\n",
              " '_layers_by_depth',\n",
              " '_losses',\n",
              " '_make_predict_function',\n",
              " '_make_test_function',\n",
              " '_make_train_function',\n",
              " '_network_nodes',\n",
              " '_node_key',\n",
              " '_nodes_by_depth',\n",
              " '_non_trainable_weights',\n",
              " '_outbound_nodes',\n",
              " '_output_coordinates',\n",
              " '_output_layers',\n",
              " '_output_mask_cache',\n",
              " '_output_shape_cache',\n",
              " '_output_tensor_cache',\n",
              " '_per_input_losses',\n",
              " '_per_input_updates',\n",
              " '_set_inputs',\n",
              " '_standardize_user_data',\n",
              " '_trainable_weights',\n",
              " '_updated_config',\n",
              " '_updates',\n",
              " '_uses_dynamic_learning_phase',\n",
              " '_uses_inputs_arg',\n",
              " '_validate_or_infer_batch_size',\n",
              " 'add',\n",
              " 'add_loss',\n",
              " 'add_update',\n",
              " 'add_weight',\n",
              " 'assert_input_compatibility',\n",
              " 'build',\n",
              " 'built',\n",
              " 'call',\n",
              " 'compile',\n",
              " 'compute_mask',\n",
              " 'compute_output_shape',\n",
              " 'count_params',\n",
              " 'dtype',\n",
              " 'evaluate',\n",
              " 'evaluate_generator',\n",
              " 'fit',\n",
              " 'fit_generator',\n",
              " 'from_config',\n",
              " 'get_config',\n",
              " 'get_input_at',\n",
              " 'get_input_mask_at',\n",
              " 'get_input_shape_at',\n",
              " 'get_layer',\n",
              " 'get_losses_for',\n",
              " 'get_output_at',\n",
              " 'get_output_mask_at',\n",
              " 'get_output_shape_at',\n",
              " 'get_updates_for',\n",
              " 'get_weights',\n",
              " 'history',\n",
              " 'input',\n",
              " 'input_mask',\n",
              " 'input_names',\n",
              " 'input_shape',\n",
              " 'input_spec',\n",
              " 'inputs',\n",
              " 'layers',\n",
              " 'load_weights',\n",
              " 'loss',\n",
              " 'loss_functions',\n",
              " 'loss_weights',\n",
              " 'losses',\n",
              " 'metrics',\n",
              " 'metrics_names',\n",
              " 'metrics_tensors',\n",
              " 'metrics_updates',\n",
              " 'model',\n",
              " 'name',\n",
              " 'non_trainable_weights',\n",
              " 'optimizer',\n",
              " 'output',\n",
              " 'output_mask',\n",
              " 'output_names',\n",
              " 'output_shape',\n",
              " 'outputs',\n",
              " 'pop',\n",
              " 'predict',\n",
              " 'predict_classes',\n",
              " 'predict_function',\n",
              " 'predict_generator',\n",
              " 'predict_on_batch',\n",
              " 'predict_proba',\n",
              " 'reset_states',\n",
              " 'run_internal_graph',\n",
              " 'sample_weight_mode',\n",
              " 'sample_weight_modes',\n",
              " 'sample_weights',\n",
              " 'save',\n",
              " 'save_weights',\n",
              " 'set_weights',\n",
              " 'state_updates',\n",
              " 'stateful',\n",
              " 'stateful_metric_functions',\n",
              " 'stateful_metric_names',\n",
              " 'stop_training',\n",
              " 'summary',\n",
              " 'supports_masking',\n",
              " 'targets',\n",
              " 'test_function',\n",
              " 'test_on_batch',\n",
              " 'to_json',\n",
              " 'to_yaml',\n",
              " 'total_loss',\n",
              " 'train_function',\n",
              " 'train_on_batch',\n",
              " 'trainable',\n",
              " 'trainable_weights',\n",
              " 'updates',\n",
              " 'uses_learning_phase',\n",
              " 'weighted_metrics',\n",
              " 'weights']"
            ]
          },
          "metadata": {
            "tags": []
          },
          "execution_count": 11
        }
      ]
    },
    {
      "cell_type": "code",
      "metadata": {
        "id": "OVomGjf7f4x5",
        "colab_type": "code",
        "outputId": "ec391c90-c0b7-4de7-8482-7b6a360b71ce",
        "colab": {
          "base_uri": "https://localhost:8080/",
          "height": 1000
        }
      },
      "source": [
        "dir(model.layers[0])"
      ],
      "execution_count": 12,
      "outputs": [
        {
          "output_type": "execute_result",
          "data": {
            "text/plain": [
              "['__call__',\n",
              " '__class__',\n",
              " '__delattr__',\n",
              " '__dict__',\n",
              " '__dir__',\n",
              " '__doc__',\n",
              " '__eq__',\n",
              " '__format__',\n",
              " '__ge__',\n",
              " '__getattribute__',\n",
              " '__gt__',\n",
              " '__hash__',\n",
              " '__init__',\n",
              " '__init_subclass__',\n",
              " '__le__',\n",
              " '__lt__',\n",
              " '__module__',\n",
              " '__ne__',\n",
              " '__new__',\n",
              " '__reduce__',\n",
              " '__reduce_ex__',\n",
              " '__repr__',\n",
              " '__setattr__',\n",
              " '__sizeof__',\n",
              " '__str__',\n",
              " '__subclasshook__',\n",
              " '__weakref__',\n",
              " '_add_inbound_node',\n",
              " '_built',\n",
              " '_get_node_attribute_at_index',\n",
              " '_inbound_nodes',\n",
              " '_initial_weights',\n",
              " '_losses',\n",
              " '_node_key',\n",
              " '_non_trainable_weights',\n",
              " '_outbound_nodes',\n",
              " '_per_input_losses',\n",
              " '_per_input_updates',\n",
              " '_trainable_weights',\n",
              " '_updates',\n",
              " 'activation',\n",
              " 'activity_regularizer',\n",
              " 'add_loss',\n",
              " 'add_update',\n",
              " 'add_weight',\n",
              " 'assert_input_compatibility',\n",
              " 'batch_input_shape',\n",
              " 'bias',\n",
              " 'bias_constraint',\n",
              " 'bias_initializer',\n",
              " 'bias_regularizer',\n",
              " 'build',\n",
              " 'built',\n",
              " 'call',\n",
              " 'compute_mask',\n",
              " 'compute_output_shape',\n",
              " 'count_params',\n",
              " 'data_format',\n",
              " 'dilation_rate',\n",
              " 'dtype',\n",
              " 'filters',\n",
              " 'from_config',\n",
              " 'get_config',\n",
              " 'get_input_at',\n",
              " 'get_input_mask_at',\n",
              " 'get_input_shape_at',\n",
              " 'get_losses_for',\n",
              " 'get_output_at',\n",
              " 'get_output_mask_at',\n",
              " 'get_output_shape_at',\n",
              " 'get_updates_for',\n",
              " 'get_weights',\n",
              " 'input',\n",
              " 'input_mask',\n",
              " 'input_shape',\n",
              " 'input_spec',\n",
              " 'kernel',\n",
              " 'kernel_constraint',\n",
              " 'kernel_initializer',\n",
              " 'kernel_regularizer',\n",
              " 'kernel_size',\n",
              " 'losses',\n",
              " 'name',\n",
              " 'non_trainable_weights',\n",
              " 'output',\n",
              " 'output_mask',\n",
              " 'output_shape',\n",
              " 'padding',\n",
              " 'rank',\n",
              " 'set_weights',\n",
              " 'stateful',\n",
              " 'strides',\n",
              " 'supports_masking',\n",
              " 'trainable',\n",
              " 'trainable_weights',\n",
              " 'updates',\n",
              " 'use_bias',\n",
              " 'weights']"
            ]
          },
          "metadata": {
            "tags": []
          },
          "execution_count": 12
        }
      ]
    },
    {
      "cell_type": "markdown",
      "metadata": {
        "id": "Kpb4zxeEf4x8",
        "colab_type": "text"
      },
      "source": [
        "## Viewing the filters\n",
        "Now, display all (32) trained filters of the first layer"
      ]
    },
    {
      "cell_type": "code",
      "metadata": {
        "id": "XRe5h189f4x9",
        "colab_type": "code",
        "outputId": "d6741cc0-8db6-438c-a427-5e7c92ec4d81",
        "colab": {
          "base_uri": "https://localhost:8080/",
          "height": 428
        }
      },
      "source": [
        "print(model.layers[0].filters)\n",
        "print(model.layers[0].kernel_size)\n",
        "print(model.layers[0].get_weights()[0].shape)\n",
        "plt.figure(figsize=(10, 6))\n",
        "for num in range(0,32):\n",
        "    plt.subplot(8, 4, num+1)\n",
        "    # --- START CODE HERE\n",
        "    filter = np.mean(model.layers[0].get_weights()[0][:,:,:,num], axis=2)\n",
        "    plt.imshow((filter-np.min(filter))/np.max(filter), cmap='gray')\n",
        "    # --- END CODE HERE    "
      ],
      "execution_count": 13,
      "outputs": [
        {
          "output_type": "stream",
          "text": [
            "32\n",
            "(3, 3)\n",
            "(3, 3, 3, 32)\n"
          ],
          "name": "stdout"
        },
        {
          "output_type": "display_data",
          "data": {
            "image/png": "[encoded data removed]",
            "text/plain": [
              "<Figure size 720x432 with 32 Axes>"
            ]
          },
          "metadata": {
            "tags": []
          }
        }
      ]
    },
    {
      "cell_type": "markdown",
      "metadata": {
        "id": "Emp7O-4Tf4x_",
        "colab_type": "text"
      },
      "source": [
        "You can see that this is not very informative; it is difficult to interpret these weights. We therefore need more sophisticated techniques when analysing CNNs. To see some of these techniques, go on to part 3."
      ]
    }
  ]
}