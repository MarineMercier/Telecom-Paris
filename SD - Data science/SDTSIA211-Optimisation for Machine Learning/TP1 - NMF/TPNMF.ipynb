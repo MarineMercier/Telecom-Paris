{
 "cells": [
  {
   "cell_type": "markdown",
   "metadata": {},
   "source": [
    "# Computer Lab: nonnegative matrix factorization"
   ]
  },
  {
   "cell_type": "code",
   "execution_count": 1,
   "metadata": {},
   "outputs": [],
   "source": [
    "import numpy as np\n",
    "import matplotlib.pyplot as plt\n",
    "import scipy.optimize\n",
    "import scipy.sparse\n",
    "import scipy.sparse.linalg\n",
    "from scipy.optimize import check_grad\n",
    "import time"
   ]
  },
  {
   "cell_type": "code",
   "execution_count": 2,
   "metadata": {},
   "outputs": [],
   "source": [
    "def build_matrix_from_faces(folder='orl_faces', minidata=False):\n",
    "    # load images\n",
    "    # 400 images of size (112, 92)\n",
    "    M = []\n",
    "    if minidata is True:\n",
    "        nb_subjects = 1\n",
    "    else:\n",
    "        nb_subjects = 40\n",
    "    for subject in range(1, nb_subjects + 1\n",
    "                        ):\n",
    "        for image in range(1, 11):\n",
    "            face = plt.imread(folder + '/s' + str(subject)\n",
    "                              + '/' + str(image) + '.pgm')\n",
    "            M.append(face.ravel())\n",
    "\n",
    "    return np.array(M, dtype=float)\n",
    "\n",
    "def vectorize(W, H):\n",
    "    return np.concatenate((W.ravel(), H.ravel()))\n",
    "\n",
    "def unvectorize_M(W_H, M):\n",
    "    # number of elements in W_H is (n+p)*k where M is of size n x m\n",
    "    # W has the nk first elements\n",
    "    # H has the kp last elements\n",
    "    n, p = M.shape()\n",
    "    k = W_H.shape[0] // (n + p)\n",
    "    W = W_H[:n * k].reshape((n, k))\n",
    "    H = W_H[n * k:].reshape((k, p))\n",
    "    return W, H"
   ]
  },
  {
   "cell_type": "markdown",
   "metadata": {
    "collapsed": true
   },
   "source": [
    "Download the database at https://www.cl.cam.ac.uk/research/dtg/attarchive/facedatabase.html\n",
    "Uncompress the file."
   ]
  },
  {
   "cell_type": "code",
   "execution_count": 3,
   "metadata": {},
   "outputs": [],
   "source": [
    "# Small data to test the algorithm\n",
    "M = build_matrix_from_faces(folder='orl_faces', minidata=True)\n",
    "def unvectorize(W_H): return unvectorize_M(W_H, M)\n",
    "k = 2"
   ]
  },
  {
   "cell_type": "code",
   "execution_count": 4,
   "metadata": {},
   "outputs": [
    {
     "data": {
      "image/png": "[encoded data removed]",
      "text/plain": [
       "<Figure size 432x288 with 1 Axes>"
      ]
     },
     "metadata": {
      "needs_background": "light"
     },
     "output_type": "display_data"
    }
   ],
   "source": [
    "# To see the first face:\n",
    "plt.imshow(M[0].reshape((112, 92)), cmap='gray'); plt.show()"
   ]
  },
  {
   "cell_type": "code",
   "execution_count": 5,
   "metadata": {},
   "outputs": [],
   "source": [
    "# Full data\n",
    "M = build_matrix_from_faces(folder='orl_faces', minidata=False)\n",
    "def unvectorize(W_H): return unvectorize_M(W_H, M)\n",
    "k = 38"
   ]
  },
  {
   "cell_type": "markdown",
   "metadata": {},
   "source": [
    "## Question 2.1"
   ]
  },
  {
   "cell_type": "code",
   "execution_count": 6,
   "metadata": {},
   "outputs": [
    {
     "name": "stdout",
     "output_type": "stream",
     "text": [
      "Number of pictures in the Data base : 400\n",
      "Number of pixels in each picture : 10304\n"
     ]
    }
   ],
   "source": [
    "#Number of images \n",
    "n=len(M)\n",
    "print(\"Number of pictures in the Data base :\",n)\n",
    "\n",
    "#Number of pixels in each picture\n",
    "p=len(M[0])\n",
    "print(\"Number of pixels in each picture :\", p)\n"
   ]
  },
  {
   "cell_type": "markdown",
   "metadata": {},
   "source": [
    "## Question 3.1"
   ]
  },
  {
   "cell_type": "markdown",
   "metadata": {},
   "source": [
    "Let's study the objective function in one dimension. The objective function is therefore $$f(x,y) = cste * (x-y)²$$ \n",
    "We obtain the following Hessian Matrix (matrix of gradient) :\n",
    "\\begin{vmatrix}\n",
    "\\ 2x² & 4xy-2 \\\\\n",
    "\\ 4xy-2 & 2y² \\\\\n",
    "\\end{vmatrix}\n",
    "Calcul of the determinant : $$ Det = 4x²y² - (4xy-1)² = -8x²y² - (2xy -2)² <0$$\n",
    "As a consequence, the one dimensionnal function f isn't convex. The objective function is not convex."
   ]
  },
  {
   "cell_type": "markdown",
   "metadata": {},
   "source": [
    "## Question 3.2\n",
    "\n",
    "We call f the objective function. Using the Frobenius norm and the sacalr product associated with this norm :\n",
    "$$f(W+x,H+y)= \\frac{<M-(W+x)(H+y),M-(W+x)(H+y)>}{2np}  $$                         \n",
    "We obtain: $$f(W+x,H+y)= f(W,H) + \\frac{1}{np} *(<M-WH,xH> + <M-WH,Wy>) +o(||(x,y)||) $$ \n",
    "We know that $$<A,B>=Tr(A^tB)$$ \n",
    "So\n",
    "$$f(W+x,H+y)= f(W,H) + \\frac{1}{np} *(<MH^t-WHH^t,x> + <W^tM-W^tWH,y>) +o(||(x,y)||) $$ \n",
    "To conclude: $$ \\nabla f(W,H)= \\frac{- \\begin{vmatrix}\n",
    "\\  MH^t-WHH^t\\\\\n",
    "\\  W^tM-W^tWH\\\\\n",
    "\\end{vmatrix}}{np}$$ "
   ]
  },
  {
   "cell_type": "markdown",
   "metadata": {},
   "source": [
    "## Question 4.1"
   ]
  },
  {
   "cell_type": "code",
   "execution_count": 7,
   "metadata": {},
   "outputs": [],
   "source": [
    "W0,S,H0=scipy.sparse.linalg.svds(M,k)\n",
    "W0=np.maximum(0,W0*np.sqrt(S))\n",
    "H0=np.maximum(0,(H0.T*np.sqrt(S)).T)"
   ]
  },
  {
   "cell_type": "markdown",
   "metadata": {},
   "source": [
    "We know that the objective function is not convex, it might have many minima. As a consequence, we want to initialize our data W and H not too far from our objective, which is M = W * H. To do so, we use the singular values of M, and make sure that the matrix W and H we obtained are nonnegative Matrix. Thanks to this initialization, we might get better results and a fast convergence. \n",
    "Another possibility of initialization is the use of randomnes to determine W and H, or we can intialize them as null Matrix."
   ]
  },
  {
   "cell_type": "markdown",
   "metadata": {},
   "source": [
    "## Question 4.2"
   ]
  },
  {
   "cell_type": "markdown",
   "metadata": {},
   "source": [
    "The gradient of g is equal to $$ \\frac{1}{np} (WHo-M)Ho^t $$. It's own gradient is strictly positive, therefore g is convex."
   ]
  },
  {
   "cell_type": "markdown",
   "metadata": {},
   "source": [
    "## Question 4.3"
   ]
  },
  {
   "cell_type": "code",
   "execution_count": 8,
   "metadata": {},
   "outputs": [
    {
     "data": {
      "text/plain": [
       "0.0008857480862424753"
      ]
     },
     "execution_count": 8,
     "metadata": {},
     "output_type": "execute_result"
    }
   ],
   "source": [
    "def g_flat(W):\n",
    "    W = W.reshape((n,k))\n",
    "    return (np.sum((M-np.dot(W,H0))**2)/(2*n*p)).ravel()\n",
    "def g_(W):\n",
    "    return np.sum((M-np.dot(W,H0))**2)/(2*n*p)\n",
    "\n",
    "def grad_g_flat(W):\n",
    "    W = W.reshape((n,k))\n",
    "    return (np.dot(np.dot(W,H0) - M,np.transpose(H0))/(n*p)).ravel()\n",
    "def grad_g(W):\n",
    "    return(np.dot(np.dot(W,H0) - M,np.transpose(H0))/(n*p))\n",
    "\n",
    "check_grad(g_flat, grad_g_flat, W0.ravel())"
   ]
  },
  {
   "cell_type": "markdown",
   "metadata": {},
   "source": [
    "## Question 4.4"
   ]
  },
  {
   "cell_type": "markdown",
   "metadata": {},
   "source": [
    "$$prox_{\\gamma t R_{+}}(x)=argmin_{y\\in R}(\\gamma T_{R+}(y) + \\frac{1}{2} ||y-x||^{2})$$\n",
    "We have $$\\gamma T_{R+}(y)= +\\infty for y < 0$$ So the minimum argument y is in R+. In moreover, $$\\gamma T_{R+}(y) =0 for y\\ge 0$$\n",
    "As a consequence  $$prox_{\\gamma t R_{+}}(x)=argmin_{y\\in R+}(\\gamma T_{R+}(y) + \\frac{1}{2} ||y-x||^{2})=argmin_{y\\in R}( \\frac{1}{2} ||y-x||^{2})$$ \n",
    "This is the definition of orthogonal projection in R+."
   ]
  },
  {
   "cell_type": "markdown",
   "metadata": {},
   "source": [
    "## Question 4.5"
   ]
  },
  {
   "cell_type": "code",
   "execution_count": 9,
   "metadata": {},
   "outputs": [],
   "source": [
    "def projected_gradient_method(val_g, grad_g, W0, gamma, N):\n",
    "    for i in range(N):\n",
    "        W0=W0-gamma*grad_g(W0)\n",
    "        W0=W0*(W0>=0)\n",
    "    return W0\n"
   ]
  },
  {
   "cell_type": "markdown",
   "metadata": {},
   "source": [
    "## Question 4.6"
   ]
  },
  {
   "cell_type": "code",
   "execution_count": 10,
   "metadata": {},
   "outputs": [
    {
     "name": "stdout",
     "output_type": "stream",
     "text": [
      "Valeur initiale:  867.635022960263\n",
      "Valeur finale:  491.0063314992703\n"
     ]
    }
   ],
   "source": [
    "k=38\n",
    "Lo= np.linalg.norm(np.dot(np.transpose(H0), H0), ord='fro')/(n*p)\n",
    "print(\"Valeur initiale: \",g_(W0))\n",
    "print(\"Valeur finale: \",g_(projected_gradient_method(g_,grad_g,W0,1/Lo,100)))"
   ]
  },
  {
   "cell_type": "markdown",
   "metadata": {},
   "source": [
    "## Question 5.1 "
   ]
  },
  {
   "cell_type": "code",
   "execution_count": 11,
   "metadata": {},
   "outputs": [],
   "source": [
    "def taylor_search_line(val_g,grad_g,x_prior,gamma_prior):\n",
    "    a=0.5\n",
    "    b=2*gamma_prior\n",
    "    l=0\n",
    "    gamma=b*(a**l)\n",
    "    f=lambda g : val_g(x_prior-g*grad_g(x_prior))\n",
    "    while f(gamma)>val_g(x_prior)-(np.linalg.norm(grad_g(x_prior))**2)*gamma/2:\n",
    "        l=l+1\n",
    "        gamma=b*(a**l)\n",
    "    return gamma\n",
    "\n",
    "def gradient_method_linear_research(val_g, grad_g, W0, N):\n",
    "    gamma=1\n",
    "    for i in range(N):\n",
    "        gamma=taylor_search_line(val_g,grad_g,W0,gamma)\n",
    "        W0=W0-gamma*grad_g(W0)\n",
    "        W0=W0*(W0>=0)\n",
    "    return W0"
   ]
  },
  {
   "cell_type": "markdown",
   "metadata": {},
   "source": [
    "## Question 5.2"
   ]
  },
  {
   "cell_type": "code",
   "execution_count": 12,
   "metadata": {},
   "outputs": [
    {
     "name": "stdout",
     "output_type": "stream",
     "text": [
      "Results without line search\n",
      "Minimum of the function :  491.0063314992703\n",
      "Time :  6.502083778381348\n",
      "\n",
      "Results with line search\n",
      "Minimum of the function :  484.37256644668054\n",
      "Time :  66.88854146003723\n"
     ]
    }
   ],
   "source": [
    "t1 = time.time()\n",
    "mini1 = projected_gradient_method(g_, grad_g, W0, 1/Lo, 100)\n",
    "print(\"Results without line search\")\n",
    "print(\"Minimum of the function : \", g_(mini1))\n",
    "print(\"Time : \",time.time()-t1)\n",
    "\n",
    "print(\"\\nResults with line search\")\n",
    "t2 = time.time()\n",
    "mini2 = gradient_method_linear_research(g_, grad_g, W0, 100)\n",
    "print(\"Minimum of the function : \",g_( mini2))\n",
    "print(\"Time : \",time.time()-t2)"
   ]
  },
  {
   "cell_type": "markdown",
   "metadata": {},
   "source": [
    "We can see that the method with linear research obtains better results, but the time of calcul is 10 times superior than the time of calcul of the method without linear reserch. The improvement in the minimum research is not significant enough compared with the increase of the time of calcul. "
   ]
  },
  {
   "cell_type": "markdown",
   "metadata": {},
   "source": [
    "## Question 6.1"
   ]
  },
  {
   "cell_type": "code",
   "execution_count": 15,
   "metadata": {},
   "outputs": [],
   "source": [
    "#Functions definition\n",
    "def f_(W, H ):\n",
    "    return np.sum((M-np.dot(W,H))**2)/(2*n*p)\n",
    "\n",
    "def grad_f(W, H):\n",
    "    return [np.dot(np.dot(W,H) - M,np.transpose(H))/(n*p) ,np.dot(np.transpose(W), np.dot(W,H) - M)/(n*p)]\n",
    "\n",
    "def taylor_search_line2(val_,grad_,w,h,gamma_prior):\n",
    "    a=0.5\n",
    "    b=2*gamma_prior\n",
    "    l=0\n",
    "    gamma=b*(a**l)\n",
    "    f=lambda g : val_(w-g*(grad_(w,h)[0]),h-g*grad_(w,h)[1])\n",
    "    verif=lambda g:val_(w,h)+(np.linalg.norm(grad_(w,h)[0])+np.linalg.norm(grad_(w,h)[1]))*(g/2)\n",
    "    while f(gamma)>verif(gamma):\n",
    "        l=l+1\n",
    "        gamma=b*(a**l)\n",
    "    return gamma\n",
    "\n",
    "def gradient_method_linear_research2(val_, grad_, W0,H0, N):\n",
    "    gamma=1\n",
    "    for i in range(N):\n",
    "        gamma=taylor_search_line2(val_,grad_,W0,H0,gamma)\n",
    "        W0=W0-gamma*grad_(W0,H0)[0]\n",
    "        H0=H0-gamma*grad_(W0,H0)[1]\n",
    "        H0=H0*(H0>=0)\n",
    "        W0=W0*(W0>=0)\n",
    "    return W0,H0\n",
    "\n"
   ]
  },
  {
   "cell_type": "markdown",
   "metadata": {},
   "source": [
    "## Question 6.2"
   ]
  },
  {
   "cell_type": "markdown",
   "metadata": {},
   "source": [
    "By definition : If $$ Wt=argmin_{W}( \\frac{||M-WH_{t-1}||^{2}}{2np})$$\n",
    "We have $$\\frac{||M-W_{t-1}H_{t-1}||^{2}}{2np}<\\frac{||M-W_{t}H_{t-1}||^{2}}{2np} $$\n",
    "Likewise, according to the definition of Ht, we have $$  \\frac{||M-W_{t}H_{t-1}||^{2}}{2np}< \\frac{||M-W_{t}H_{t}||^{2}}{2np}$$. \n",
    "Given that inequality is transitive, we know that at each iteration the objective function is decreasing. \n",
    "It is minored by zero, therefore the algorithm converges."
   ]
  },
  {
   "cell_type": "markdown",
   "metadata": {},
   "source": [
    "## Question 6.3 "
   ]
  },
  {
   "cell_type": "code",
   "execution_count": 23,
   "metadata": {},
   "outputs": [],
   "source": [
    "\n",
    "def projected_gradient_W( W0,H0, gamma, N):\n",
    "    for i in range(N):\n",
    "        W0=W0-gamma*grad_f(W0,H0)[0]\n",
    "        W0=W0*(W0>=0)\n",
    "    return W0\n",
    "def projected_gradient_H( W0,H0, gamma, N):\n",
    "    for i in range(N):\n",
    "        H0=H0-gamma*grad_f(W0,H0)[1]\n",
    "        H0=H0*(H0>=0)\n",
    "    return H0\n",
    "\n",
    "def alternate_min(W,H,N):\n",
    "    for i in range(N):\n",
    "        print('Etape ',i)\n",
    "        Lo = np.linalg.norm(np.dot(H.T, H), ord='fro')/(n*p)\n",
    "        W = projected_gradient_W(W, H, 1/Lo, 100)\n",
    "        Lo = np.linalg.norm(np.dot(W.T, W), ord='fro')/(n*p)\n",
    "        H = projected_gradient_H(W, H, 1/Lo, 100)\n",
    "    return (W,H)\n",
    "\n",
    "    "
   ]
  },
  {
   "cell_type": "markdown",
   "metadata": {},
   "source": [
    "## Question 6.4"
   ]
  },
  {
   "cell_type": "code",
   "execution_count": 24,
   "metadata": {},
   "outputs": [
    {
     "name": "stdout",
     "output_type": "stream",
     "text": [
      "Initial value in (W0, H0) :  867.635022960263\n",
      "\n",
      "Results Projected Gradient Method\n",
      "Minimum of the function :  253.67032085894166\n",
      "Time :  280.1696746349335\n",
      "\n",
      "Results Alternat Minimum\n",
      "Etape  0\n",
      "Etape  1\n",
      "Etape  2\n",
      "Etape  3\n",
      "Etape  4\n",
      "Etape  5\n",
      "Etape  6\n",
      "Etape  7\n",
      "Etape  8\n",
      "Etape  9\n",
      "Etape  10\n",
      "Etape  11\n",
      "Etape  12\n",
      "Etape  13\n",
      "Etape  14\n",
      "Etape  15\n",
      "Etape  16\n",
      "Etape  17\n",
      "Etape  18\n",
      "Etape  19\n",
      "Etape  20\n",
      "Etape  21\n",
      "Etape  22\n",
      "Etape  23\n",
      "Etape  24\n",
      "Etape  25\n",
      "Etape  26\n",
      "Etape  27\n",
      "Etape  28\n",
      "Etape  29\n",
      "Etape  30\n",
      "Etape  31\n",
      "Etape  32\n",
      "Etape  33\n",
      "Etape  34\n",
      "Etape  35\n",
      "Etape  36\n",
      "Etape  37\n",
      "Etape  38\n",
      "Etape  39\n",
      "Etape  40\n",
      "Etape  41\n",
      "Etape  42\n",
      "Etape  43\n",
      "Etape  44\n",
      "Etape  45\n",
      "Etape  46\n",
      "Etape  47\n",
      "Etape  48\n",
      "Etape  49\n",
      "Etape  50\n",
      "Etape  51\n",
      "Etape  52\n",
      "Etape  53\n",
      "Etape  54\n",
      "Etape  55\n",
      "Etape  56\n",
      "Etape  57\n",
      "Etape  58\n",
      "Etape  59\n",
      "Etape  60\n",
      "Etape  61\n",
      "Etape  62\n",
      "Etape  63\n",
      "Etape  64\n",
      "Etape  65\n",
      "Etape  66\n",
      "Etape  67\n",
      "Etape  68\n",
      "Etape  69\n",
      "Etape  70\n",
      "Etape  71\n",
      "Etape  72\n",
      "Etape  73\n",
      "Etape  74\n",
      "Etape  75\n",
      "Etape  76\n",
      "Etape  77\n",
      "Etape  78\n",
      "Etape  79\n",
      "Etape  80\n",
      "Etape  81\n",
      "Etape  82\n",
      "Etape  83\n",
      "Etape  84\n",
      "Etape  85\n",
      "Etape  86\n",
      "Etape  87\n",
      "Etape  88\n",
      "Etape  89\n",
      "Etape  90\n",
      "Etape  91\n",
      "Etape  92\n",
      "Etape  93\n",
      "Etape  94\n",
      "Etape  95\n",
      "Etape  96\n",
      "Etape  97\n",
      "Etape  98\n",
      "Etape  99\n",
      "Minimum of the function :  188.0400432699311\n",
      "Time :  4887.169436216354\n"
     ]
    }
   ],
   "source": [
    "print(\"Initial value in (W0, H0) : \", f_(W0,H0))\n",
    "t1 = time.time()\n",
    "W1, H1 = gradient_method_linear_research2(f_, grad_f, W0, H0, 100)\n",
    "print(\"\\nResults Projected Gradient Method\")\n",
    "print(\"Minimum of the function : \", f_(W1,H1))\n",
    "print(\"Time : \",time.time()-t1)\n",
    "\n",
    "print(\"\\nResults Alternat Minimum\")\n",
    "t2 = time.time()\n",
    "W2,H2=alternate_min(W0,H0,100)\n",
    "print(\"Minimum of the function : \",f_(W2,H2))\n",
    "print(\"Time : \",time.time()-t2)"
   ]
  },
  {
   "cell_type": "markdown",
   "metadata": {},
   "source": [
    "(Sorry for counting the iterations, but the algorithm was taking forever, I just wanted to be sure that it was still running.)\n",
    "\n",
    "The Alternat Minimum obtains clearly better results, but the time of calcul is alsor very long. "
   ]
  },
  {
   "cell_type": "markdown",
   "metadata": {},
   "source": [
    "## Question 6.5"
   ]
  },
  {
   "cell_type": "markdown",
   "metadata": {},
   "source": [
    "We could stop the algorithme when the difference of F between to steps is small enough. We could stop when $$||F(x_{k})-F(x_{k+1})||< \\epsilon$$"
   ]
  }
 ],
 "metadata": {
  "kernelspec": {
   "display_name": "Python 3",
   "language": "python",
   "name": "python3"
  },
  "language_info": {
   "codemirror_mode": {
    "name": "ipython",
    "version": 3
   },
   "file_extension": ".py",
   "mimetype": "text/x-python",
   "name": "python",
   "nbconvert_exporter": "python",
   "pygments_lexer": "ipython3",
   "version": "3.6.6"
  }
 },
 "nbformat": 4,
 "nbformat_minor": 2
}
