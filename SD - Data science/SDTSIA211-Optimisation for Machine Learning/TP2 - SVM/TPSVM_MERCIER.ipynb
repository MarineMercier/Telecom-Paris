{
 "cells": [
  {
   "cell_type": "markdown",
   "metadata": {},
   "source": [
    "# TP Séparateurs à Vaste Marge"
   ]
  },
  {
   "cell_type": "code",
   "execution_count": 1,
   "metadata": {},
   "outputs": [],
   "source": [
    "import numpy as np\n",
    "import matplotlib.pyplot as plt\n",
    "import math"
   ]
  },
  {
   "cell_type": "code",
   "execution_count": 2,
   "metadata": {},
   "outputs": [],
   "source": [
    "def load_breastcancer(filename):\n",
    "    \"\"\"\n",
    "    Cette fonction lit le fichier filename, par exemple\n",
    "    filename = 'wdbc_M1_B0.data'\n",
    "    Elle retourne \n",
    "    X : une matrice de caracteristiques\n",
    "    y : un vecteur des classes tel que si y[i] = 1, la tumeur est maligne\n",
    "        et si y[i] = -1, la tumeur est benigne\n",
    "\n",
    "    Pour plus d'infos sur la base de donnees,\n",
    "    https://archive.ics.uci.edu/ml/datasets/Breast+Cancer+Wisconsin+%28Prognostic%29\n",
    "    \"\"\"\n",
    "\n",
    "    data = np.loadtxt(filename, delimiter=',')\n",
    "\n",
    "    # la colonne 0 ne nous interesse pas ici\n",
    "    y = data[:, 1] * 2 - 1\n",
    "    X = data[:, 2:]\n",
    "\n",
    "    # Standardisation de la matrice\n",
    "    X = X - np.mean(X, axis=0)\n",
    "    X = X / np.std(X, axis=0)\n",
    "\n",
    "    return X, y\n",
    "\n",
    "X, y = load_breastcancer(\"wdbcM1B0.data\")"
   ]
  },
  {
   "cell_type": "markdown",
   "metadata": {},
   "source": [
    "### Question 2.1\n",
    "\n",
    "Le problème (1) est le suivant :\n",
    "$$ min_{v \\in \\mathbb{R}, a \\in \\mathbb{R}^{m}, \\zeta \\in \\mathbb{R}^{n}} \\frac{1}{2} \\sum_{j=1}^{m} V_{j}^{2} + C\\sum_{i=1}^{n} \\zeta_{i} $$ \n",
    "Avec pour tout i$\\in[\\![1,n ]\\!],$  on a 0$\\leqslant\\zeta_{i}$ et $1-y_{i}(x_{i}^{T}v+a)\\leqslant\\zeta_{i}$\n",
    "\n",
    "On nomme A le minimum du problème (1).\n",
    "\n",
    "\n",
    "Le problème (2) est le suivant : \n",
    "$$ min_{v \\in \\mathbb{R}, a \\in \\mathbb{R}^{m}} \\frac{1}{2} \\sum_{j=1}^{m} V_{j}^{2} + C\\sum_{i=1}^{n} max(0,1-y_{i}(x_{i}^{T}v+a)) $$ \n",
    "On appelle B le minimum du problème (2).\n",
    "\n",
    "\n",
    "En choisissant $\\zeta$ tel que pour tout $i\\in[\\![1,n ]\\!],\\zeta_{i}=max(0,1-y_{i}(x_{i}^{T}v+a))$, on a A $\\leqslant$ B, par définition de A et du minimum. \n",
    "\n",
    "De plus, pour tout i$\\in[\\![1,n ]\\!],$  on a 0$\\leqslant\\zeta_{i}$ et $1-y_{i}(x_{i}^{T}v+a)\\leqslant\\zeta_{i}$. \n",
    "Donc pour tout i$\\in[\\![1,n ]\\!],$  on a $max(0,1-y_{i}(x_{i}^{T}v+a)) \\leqslant\\zeta_{i}$.\n",
    "On obtient bien B $\\leqslant$ A.\n",
    "\n",
    "Les deux problèmes sont donc équivalents, car leur solutions sont égales. L'optimum de l'un est égal à l'optimum de l'autre."
   ]
  },
  {
   "cell_type": "markdown",
   "metadata": {},
   "source": [
    "## Question 2.2"
   ]
  },
  {
   "cell_type": "code",
   "execution_count": 3,
   "metadata": {},
   "outputs": [
    {
     "data": {
      "image/png": "[encoded data removed]",
      "text/plain": [
       "<Figure size 432x288 with 1 Axes>"
      ]
     },
     "metadata": {
      "needs_background": "light"
     },
     "output_type": "display_data"
    }
   ],
   "source": [
    "X_=np.linspace(-4,6,11)\n",
    "Y_=[max(0,1-i)for i in range(-4,7)]\n",
    "plt.plot(X_,Y_,label=\"h(z)\")\n",
    "plt.plot([0,2], [-0.02,-.02], color = 'orange', label = \"$\\partial h(z)$ for z=1\")\n",
    "plt.plot([0,2], [0.98, -1.02], color = 'orange')\n",
    "plt.plot([0,2], [0.5, -.5], color = 'orange')\n",
    "plt.plot([0,2], [0.3,-0.3], color = 'orange')\n",
    "plt.plot([-4,-1],[4.9,1.9],color='red',label='$\\partial h(z)$ for z<1')\n",
    "plt.plot([3,6],[-0.05,-0.05],color='pink',label='$\\partial h(z)$ for z>1')\n",
    "plt.legend()\n",
    "plt.show()"
   ]
  },
  {
   "cell_type": "markdown",
   "metadata": {},
   "source": [
    "On observe graphiquement que le subgradient de h est égal à $[-1,0]$ si z=1.\n",
    "Comme h est dérivable sauf en 1, $\\frac{dh}{dz} (z) = \\partial h(z)$. \n",
    "\n",
    "Ainsi si z<1, on a $\\partial h(z)$={-1}.\n",
    "Et pour z>1, on a $\\partial h(z)$={0}."
   ]
  },
  {
   "cell_type": "markdown",
   "metadata": {},
   "source": [
    "## Question 2.3\n",
    "\n",
    "On pose N(v,a)=$\\frac{1}{2} \\sum_{j=1}^{m} v_{j}^{2}$. \n",
    "\n",
    "N:$\\mathbb{R}^{m+1}\\mapsto\\mathbb{R}$\n",
    "\n",
    "Pour tout i$\\in[\\![1,m]\\!],n_{j}(v_{j})=\\frac{1}{2}v_{j}^{2}$, on a bien N(v,a)=$ \\sum_{j=1}^{m} n_{j}(v_{j})$. \n",
    "\n",
    "N est donc séparable. \n",
    "\n"
   ]
  },
  {
   "cell_type": "markdown",
   "metadata": {},
   "source": [
    "On pose H:z$\\mapsto \\sum_{i=1}^{n} max(0,1-z_{i})$. \n",
    "\n",
    "H: $\\mathbb{R}^{n}\\mapsto\\mathbb{R}$\n",
    "          \n",
    "Pour tout i$\\in[\\![1,m]\\!],h_{j}(z_{i})=max(0,1-z_{i})$, on a bien H=$ \\sum_{i=1}^{n} h_{i}(z_{i})$. \n",
    "\n",
    "Donc H est séparable. \n"
   ]
  },
  {
   "cell_type": "markdown",
   "metadata": {},
   "source": [
    "On pose M:v,a$\\mapsto y_{i}(x_{i}^{T}v+a)$.\n",
    "\n",
    "M:$\\mathbb{R}^{m+1}\\mapsto\\mathbb{R}^{n}$\n",
    "\n",
    "Soit l$\\in \\mathbb{R}$, v,w$\\in \\mathbb{R} ^{2}$. \n",
    "$M(v+l*w,a)=y_{i}(x_{i}^{T}(v+l*w)+a)=y_{i}(x_{i}^{T}v+a)+l*y_{i}(x_{i}^{T}w+a)=M(v,a)+l*M(w,a)$.\n",
    "\n",
    "De même, M est linéaire selon a par linéarité du produit matriciel. \n",
    "\n",
    "Ainsi M est linéaire. "
   ]
  },
  {
   "cell_type": "markdown",
   "metadata": {},
   "source": [
    "Par définition de M,H et N : $$f(v,a)=N(v,a)+cH(M(v,a))$$"
   ]
  },
  {
   "cell_type": "markdown",
   "metadata": {},
   "source": [
    "dom N = $\\mathbb{R}^{m+1}$, dom H=$\\mathbb{R}^{n}$, comme M est linéaire et 0 $\\in$ dom H, \n",
    "on a  0$\\in$ relint(dom H - $M^{T}$ dom N). H et N sont convexes . \n",
    "\n",
    "On peut donc appliquer la proposition 2.4.2 :\n",
    "$$\\partial f(v,a)=\\partial(N(v,a)+H(M(v,a)))=\\partial N(v,a)+cM^{T}\\partial H(M(v,a))$$"
   ]
  },
  {
   "cell_type": "markdown",
   "metadata": {},
   "source": [
    "$\\partial N  (v,a)$ =  { $\\triangledown N(v,a) $} = {$\\begin{bmatrix} \\frac{\\partial N  (v,a)}{\\partial v} \\\\ \\frac{\\partial N  (v,a)}{\\partial a}\\end{bmatrix}$}={$\\begin{bmatrix} v \\\\ 0 \\end{bmatrix}$} car N est differentiable selon chacune de ses composante ($v_{1},v_{2},...,v_{m},a)$).\n",
    "\n",
    "$\\partial H (Z) $={$\\begin{bmatrix} -1 si Z_{i}<1  \\\\ [-1,0] si Z_{i}=1 \\\\ 0 sinon \\end{bmatrix}$} car H est séparable, et d'après la question 2.2."
   ]
  },
  {
   "cell_type": "markdown",
   "metadata": {},
   "source": [
    "## Question 2.4"
   ]
  },
  {
   "cell_type": "code",
   "execution_count": 4,
   "metadata": {},
   "outputs": [],
   "source": [
    "\n",
    "M = np.dot(np.diag(y), np.concatenate([X, np.ones((569,1))],axis=1))\n",
    "\n",
    "def N(v,a):\n",
    "    return np.sum(v**2)/2\n",
    "\n",
    "def H(z):\n",
    "    return np.sum(np.maximum(np.zeros(z.shape),1-z))\n",
    "\n",
    "def f(v,a):\n",
    "    c=1\n",
    "    f=N(v,a) + c * H(np.dot(M,np.concatenate([v, [a]])))\n",
    "    return f\n",
    "\n",
    "def subgrad_N(v,a):\n",
    "    return np.concatenate([v, [0]])\n",
    "\n",
    "def subgrad_H(Z):\n",
    "    return  (Z<=1)*(-1) #on choisit le subgradient -1 si z==1\n",
    "\n",
    "def subgrad_f(v,a):\n",
    "    c=1\n",
    "    return subgrad_N(v,a) + c * np.dot(np.transpose(M),subgrad_H(np.dot(M,np.concatenate([v, [a]]))))"
   ]
  },
  {
   "cell_type": "markdown",
   "metadata": {},
   "source": [
    "## Question 2.5"
   ]
  },
  {
   "cell_type": "code",
   "execution_count": 5,
   "metadata": {},
   "outputs": [],
   "source": [
    "def methode_sous_gradient(v,a):\n",
    "    X=np.concatenate([v, [a]])\n",
    "    res= math.inf\n",
    "    k=0\n",
    "    while res>0.01 :\n",
    "        gamma = 1/np.sqrt(k+1)\n",
    "        Xmemory=X.copy()\n",
    "        X = X - gamma*subgrad_f(X[:-1],X[-1]) \n",
    "        res=np.abs(f(Xmemory[:-1],Xmemory[-1])-f(X[:-1],X[-1]) )\n",
    "        k+=1\n",
    "    return X"
   ]
  },
  {
   "cell_type": "code",
   "execution_count": 6,
   "metadata": {},
   "outputs": [
    {
     "name": "stdout",
     "output_type": "stream",
     "text": [
      "Situation initiale : f(v0,a0)=569.0\n",
      "Situation finale après optimisation : f(v*,a*)=48.08520013665914\n"
     ]
    }
   ],
   "source": [
    "v = np.zeros((30,))\n",
    "a=0\n",
    "print(\"Situation initiale : f(v0,a0)=\"+str(f(v,a)))\n",
    "Xsol = methode_sous_gradient(v,a)\n",
    "print(\"Situation finale après optimisation : f(v*,a*)=\"+str(f(Xsol[:-1],Xsol[-1])))"
   ]
  },
  {
   "cell_type": "markdown",
   "metadata": {},
   "source": [
    "## Question 3.1"
   ]
  },
  {
   "cell_type": "markdown",
   "metadata": {},
   "source": [
    "$E(f_I(v,a)) = \\sum_i P(I = i) \\times f_i(v,a)  = \\frac{1}{n}\\sum_i f_i(v,a) = \\frac{1}{2} \\sum_j v_j^2 + \\frac{1}{n}\\sum_i c\\,n\\,max(0,1-y_i(x_i^Tv + a))\\\\ E(f_I(v,a)) = \\frac{1}{2} \\sum_j v_j^2 + c\\sum_i max(0,1-y_i(x_i^Tv + a))$\n",
    "\n",
    "Donc $ E(f_I(v,a)) = f(v,a)$"
   ]
  },
  {
   "cell_type": "markdown",
   "metadata": {},
   "source": [
    "## Question 3.2"
   ]
  },
  {
   "cell_type": "markdown",
   "metadata": {},
   "source": [
    "On a $f_i(v,a)=\\frac{1}{2} \\sum_j v_j^2 + c\\,n\\,max(0,1-y_i(x_i^Tv + a))=N(v,a)+H(Mi(v,a)^T)$\n",
    "En posant $M=y(x^T,1)$ et Mi la ième colone de M.\n",
    "\n",
    "Ainsi : $$\\partial f(v,a)=\\partial(N(v,a)+H(Mi(v,a)))=\\partial N(v,a)+cnMi^{T}\\partial H(Mi(v,a))$$\n",
    "\n",
    "$\\partial f_i(v,a) = \\left \\{ \\begin{array} {} \\{(v,0) - ncM_i^T\\} & if \\, M_i(v,a) \\lt 1 \\\\ \\{(v,0) + ncM_i^T,\\,t \\in [-1;0]\\} & if \\, M_i(v,a) = 1 \\\\ \\{(v,0)\\} & if \\, M_i(v,a) \\gt 1 \\\\ \\end{array} \\right .$"
   ]
  },
  {
   "cell_type": "markdown",
   "metadata": {},
   "source": [
    "## Question 3.3"
   ]
  },
  {
   "cell_type": "code",
   "execution_count": 7,
   "metadata": {},
   "outputs": [],
   "source": [
    "n=len(M)\n",
    "\n",
    "def subgrad_H_M_i(v,a, i):\n",
    "    va=np.concatenate([v, [a]])\n",
    "    return ((np.dot(M[i,:],va)>=1)- 1) * M[i,:]\n",
    "\n",
    "def subgrad_f_i(v,a, i):\n",
    "    va=np.concatenate([v, [a]])\n",
    "    return subgrad_N(v,a) + c * M.shape[0] * subgrad_H_M_i(v,a,i)\n",
    "\n",
    "def methode_sous_gradient_stochastique(v,a):\n",
    "    X=np.concatenate([v, [a]])\n",
    "    res= math.inf\n",
    "    k=0\n",
    "    X_moy = np.zeros(X.shape)\n",
    "    gamma_sum = 0\n",
    "    while res>0.001:\n",
    "        I=np.random.randint(n)\n",
    "        gamma = 1/np.sqrt(k+1)\n",
    "        Xmemory=X.copy()\n",
    "        X_moy+=X*gamma\n",
    "        gamma_sum+=gamma\n",
    "        X = X - gamma*subgrad_f_i(X[:-1],X[-1],I) \n",
    "        res=np.abs(f(Xmemory[:-1],Xmemory[-1])-f(X[:-1],X[-1]) )\n",
    "        k+=1\n",
    "    return X_moy/gamma_sum"
   ]
  },
  {
   "cell_type": "code",
   "execution_count": 8,
   "metadata": {},
   "outputs": [
    {
     "name": "stdout",
     "output_type": "stream",
     "text": [
      "Situation initiale : f(v0,a0)=569.0\n",
      "Situation finale après optimisation avec gradient stochastique: f(v*,a*)=275.5491334272896\n"
     ]
    }
   ],
   "source": [
    "v = np.zeros((30,))\n",
    "c=1\n",
    "print(\"Situation initiale : f(v0,a0)=\"+str(f(v,a)))\n",
    "Xsol = methode_sous_gradient_stochastique(v,a)\n",
    "print(\"Situation finale après optimisation avec gradient stochastique: f(v*,a*)=\"+str(f(Xsol[:-1],Xsol[-1])))"
   ]
  },
  {
   "cell_type": "markdown",
   "metadata": {},
   "source": [
    "Les résultats avec cette méthode d'optimisation sont très variables : entre 30 et 300. "
   ]
  },
  {
   "cell_type": "markdown",
   "metadata": {},
   "source": [
    "## Question 4.1"
   ]
  },
  {
   "cell_type": "markdown",
   "metadata": {},
   "source": [
    "Le lagrangien du problème (1) s'écrit :\n",
    " $$L(v,a,\\zeta,\\phi)=\\sum_{j=1}^{m} V_{j}^{2} + C\\sum_{i=1}^{n} \\zeta_{i}+\\sum_{i=1}^{n} \\phi_{i}(1-y_{i}(x_{i}^Tv+a)-\\zeta_{i})-\\sum_{i=1}^{n} \\phi_{i}\\zeta_{i}+\\sum_{i=1}^{n} l_{\\mathbb{R}^{+}}(\\phi_{i})$$\n",
    " $$L(v,a,\\zeta,\\phi)=\\sum_{j=1}^{m} V_{j}^{2} + C\\sum_{i=1}^{n} \\zeta_{i}+\\sum_{i=1}^{n} \\phi_{i}(1-y_{i}(x_{i}^Tv+a)-2\\zeta_{i})+\\sum_{i=1}^{n} l_{\\mathbb{R}^{+}}(\\phi_{i})$$"
   ]
  },
  {
   "cell_type": "markdown",
   "metadata": {},
   "source": [
    "## Question 4.2"
   ]
  },
  {
   "cell_type": "markdown",
   "metadata": {},
   "source": [
    "Considerons d'abord g comme une fonction de x pour tout $\\phi$ :\n",
    "$$\\forall x>-\\frac{\\phi}{\\rho}, g(x,\\phi)=\\frac{x^2 \\rho}{2}+x\\phi$$ \n",
    "Sa dérivée $\\forall x>-\\frac{\\phi}{\\rho}$ vaut $\\nabla_{x}g(x,\\phi)=\\phi+x\\rho>0$. Ce résultat tend vers 0 quand x tend vers $-\\frac{\\phi}{\\rho}$.\n",
    "Au contraire, $\\forall x<-\\frac{\\phi}{\\rho},g(x,\\phi)=-\\frac{\\phi^{2}}{2\\rho}$, donc $\\nabla_{x}g(x,\\phi)=0$.\n",
    "Donc g est dérivable selon x sur R, et $\\nabla_xg(x, \\phi) = \\left \\{ \\begin{array} {} 0 & if \\, x \\le - \\frac{\\phi}{\\rho} \\\\ \\rho x + \\phi & if \\, x \\gt - \\frac{\\phi}{\\rho} \\\\ \\end{array} \\right . = \\rho \\max (0, x+\\frac{\\phi}{\\rho})$\n",
    "\n",
    "On procède de même en considérant g comme une fonction de  $\\phi$ pour tout x:  $\\nabla_\\phi g(x, \\phi) = \\left \\{ \\begin{array} {} -\\frac{\\phi}{\\rho} & if \\, \\phi \\le - x{\\rho} \\\\ x & if \\, \\phi \\gt - x{\\rho} \\\\ \\end{array} \\right . =\\max (-\\frac{\\phi}{\\rho}, x)$"
   ]
  },
  {
   "cell_type": "markdown",
   "metadata": {},
   "source": [
    "## Question 4.3"
   ]
  },
  {
   "cell_type": "markdown",
   "metadata": {},
   "source": [
    "$\\forall x \\in \\mathbb{R} \\nabla_xg(x, \\phi)>0$, donc g(.,$\\phi$) est convexe.\n",
    "De même, $\\nabla_{\\phi}g(x, \\phi)$ est décroissante pour x fixé, ainsi, g(x,.) est concave."
   ]
  },
  {
   "cell_type": "markdown",
   "metadata": {},
   "source": [
    "## Question 4.4"
   ]
  },
  {
   "cell_type": "code",
   "execution_count": null,
   "metadata": {},
   "outputs": [],
   "source": [
    "rho = 2\n",
    "\n",
    "def f_bis(v,xi):\n",
    "    return 1/2 * np.sum(v**2) + c * np.sum(xi)\n",
    "\n",
    "def subgrad_g_x(x, phi):\n",
    "    return rho*np.maximum(np.zeros(x.shape),x+phi/rho)\n",
    "\n",
    "def subgrad_g_phi(x, phi):\n",
    "    return np.maximum(-phi/rho,x)\n",
    "\n",
    "def descente_grad_L(v0,a0,xi0,phi0,psi0):\n",
    "    v = v0.copy()\n",
    "    a = a0\n",
    "    xi = xi0.copy()\n",
    "    phi=phi0\n",
    "    psi=psi0\n",
    "    d_v = np.zeros((30,))\n",
    "    d_a = 1.5\n",
    "    d_xi = np.zeros((569,))\n",
    "    while np.sum(d_v**2)+d_a**2+np.sum(d_xi**2)>1:\n",
    "        gamma = 10**(-4)\n",
    "        d_v =( v - np.dot(np.dot(np.diag(y), X).T, subgrad_g_x(1-xi-np.dot(np.diag(y), np.dot(X, v) + a), psi)))\n",
    "        d_a=np.sum(np.dot(-np.diag(y),subgrad_g_x(1-xi-np.dot(np.diag(y), np.dot(X, v) + a),psi)))\n",
    "        d_xi =(c - subgrad_g_x(-xi, phi) - subgrad_g_x(1-xi-np.dot(np.diag(y), np.dot(X, v) + a), psi))\n",
    "        a-=d_a*gamma\n",
    "        v-=d_v*gamma\n",
    "        xi-=d_xi*gamma\n",
    "    return v, a, xi"
   ]
  },
  {
   "cell_type": "code",
   "execution_count": null,
   "metadata": {
    "scrolled": false
   },
   "outputs": [
    {
     "name": "stdout",
     "output_type": "stream",
     "text": [
      "Situation initiale : f(v0,a0)=0.0\n",
      "Situation finale après optimisation : f(v*,a*)=33.157988097341516\n"
     ]
    }
   ],
   "source": [
    "v0 = np.zeros((30,))\n",
    "a0 = 0\n",
    "xi0 = np.zeros((569,))\n",
    "phi0=np.ones((569,))\n",
    "psi0=np.ones((569,))\n",
    "print(\"Situation initiale : f(v0,a0)=\"+str(f_bis(v0,xi0)))\n",
    "v,a,xi = descente_grad_L(v0,a0,xi0,phi0,psi0)\n",
    "print(\"Situation finale après optimisation : f(v*,a*)=\"+str(f_bis(v,xi)))"
   ]
  },
  {
   "cell_type": "markdown",
   "metadata": {},
   "source": [
    "## Question 4.5 "
   ]
  },
  {
   "cell_type": "code",
   "execution_count": null,
   "metadata": {},
   "outputs": [],
   "source": [
    "def subgrad_L_phi(v,a,xi,phi,psi):\n",
    "    return subgrad_g_phi(-xi, phi)\n",
    "\n",
    "def subgrad_L_psi(v,a,xi,phi,psi):\n",
    "    x = 1-xi-np.dot(np.diag(y), np.dot(X, v) + a)\n",
    "    return subgrad_g_phi(1-xi-np.dot(np.diag(y), np.dot(X, v) + a), psi)"
   ]
  },
  {
   "cell_type": "markdown",
   "metadata": {},
   "source": [
    "## Question 4.6"
   ]
  },
  {
   "cell_type": "code",
   "execution_count": null,
   "metadata": {},
   "outputs": [],
   "source": [
    "def lagrangien_augmenté(N):\n",
    "    phi = 0\n",
    "    psi = 0\n",
    "    v0 = np.zeros((30,))\n",
    "    a0 = 0\n",
    "    xi0 = np.zeros((569,))\n",
    "    for i in range(N):\n",
    "        v,a,xi =descente_grad_L(v0,a0,xi0,phi,psi)\n",
    "        phi += rho * subgrad_g_phi(-xi, phi)\n",
    "        psi += rho * subgrad_g_phi(1-xi-np.dot(np.diag(y), np.dot(X, v) + a), psi)\n",
    "    return v,a,xi"
   ]
  },
  {
   "cell_type": "code",
   "execution_count": null,
   "metadata": {},
   "outputs": [],
   "source": [
    "v,a,xi = lagrangien_augmenté(2000)\n",
    "print(\"Situation finale après optimisation : f(v*,a*)=\"+str(f_bis(v,xi)))"
   ]
  },
  {
   "cell_type": "markdown",
   "metadata": {},
   "source": [
    "## Question 5"
   ]
  },
  {
   "cell_type": "markdown",
   "metadata": {},
   "source": [
    "La méthode du sous-gradient est plus efficace que celle du gradient stochastique. En effet la méthode du gradient stochastique renvoie des résultats très variables. Pour rendre cette méthode plus efficace il faurait augmenter grandement le nombre de données. \n",
    "\n",
    "La méthode du Lagrangien augmenté donne les meilleurs résultats mais est aussi très longue et demande beaucoup de calculs. "
   ]
  }
 ],
 "metadata": {
  "kernelspec": {
   "display_name": "Python 3",
   "language": "python",
   "name": "python3"
  },
  "language_info": {
   "codemirror_mode": {
    "name": "ipython",
    "version": 3
   },
   "file_extension": ".py",
   "mimetype": "text/x-python",
   "name": "python",
   "nbconvert_exporter": "python",
   "pygments_lexer": "ipython3",
   "version": "3.6.6"
  }
 },
 "nbformat": 4,
 "nbformat_minor": 2
}
