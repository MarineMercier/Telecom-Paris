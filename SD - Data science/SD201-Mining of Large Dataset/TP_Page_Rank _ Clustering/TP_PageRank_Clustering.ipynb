{
 "cells": [
  {
   "cell_type": "markdown",
   "metadata": {},
   "source": [
    "# TP1 : PageRank "
   ]
  },
  {
   "cell_type": "code",
   "execution_count": 1,
   "metadata": {},
   "outputs": [],
   "source": [
    "import numpy as np\n",
    "import os\n",
    "from scipy.sparse import csr_matrix\n",
    "import re"
   ]
  },
  {
   "cell_type": "code",
   "execution_count": 2,
   "metadata": {},
   "outputs": [
    {
     "name": "stdout",
     "output_type": "stream",
     "text": [
      "Résultat Beta=1 :\n",
      "0.2860921223958333 0.14295450846354166 0.14256795247395831 0.14286295572916666 0.14295450846354166 0.14256795247395831 \n",
      "\n",
      "Résultat Beta=0.8:\n",
      "0.27150030253260804 0.1417135520208213 0.14699737805073065 0.15107783732428798 0.1417135520208213 0.14699737805073065 "
     ]
    }
   ],
   "source": [
    "def createDic(fichier):\n",
    "    f=open(fichier,\"r\")\n",
    "    n=0\n",
    "    dic={}\n",
    "    for line in f:\n",
    "        u,v= [int(x) for x in line.split()]\n",
    "        if u in dic:\n",
    "            dic[u].append(v)\n",
    "        else :\n",
    "            dic[u]=[v]\n",
    "    return dic,max(dic.keys())\n",
    "\n",
    "def produit(dic,r):\n",
    "    n=len(r)\n",
    "    res=np.zeros(n)\n",
    "    for i in range(n):\n",
    "        if i+1 in dic:\n",
    "            l=dic[i+1]\n",
    "            for x in l:\n",
    "                res[x-1]+=(1./len(l))*r[i]\n",
    "    return res\n",
    "\n",
    "def pageRank(fichier,beta,epsilon):\n",
    "    dic,n=createDic(fichier)\n",
    "    ro=np.ones(n)/n\n",
    "    r1=beta*produit(dic,ro)+(1-beta)*np.ones(n)/n\n",
    "    while np.linalg.norm(r1-ro)>=epsilon:\n",
    "        ro=r1\n",
    "        r1=beta*produit(dic,ro)+(1-beta)*np.ones(n)/n\n",
    "    for i in range(len(r1)):\n",
    "        print (r1[i], end='')\n",
    "        print(\" \", end='')\n",
    "        \n",
    "print(\"Résultat Beta=1 :\")\n",
    "pageRank(\"test\",1,0.001)\n",
    "print('\\n')\n",
    "print(\"Résultat Beta=0.8:\")\n",
    "pageRank(\"test\",0.8,0.001)"
   ]
  },
  {
   "cell_type": "code",
   "execution_count": 3,
   "metadata": {},
   "outputs": [
    {
     "name": "stdout",
     "output_type": "stream",
     "text": [
      "Résultat du classement des pages wikipédia, dans l'ordre alphabétique :\n",
      "0.006191573961214233 0.009436907864351116 0.015832706644808806 0.04058648550583521 0.016072193824772207 0.015382514548184453 0.03672404300253092 0.014447131967737045 0.02194111892711345 0.015090589113008712 0.01856589362532228 0.016881276015459856 0.00948611693187439 0.05726114512012413 0.009598526954742627 0.00975250011040767 0.017370513362978065 0.010741136782735803 0.0151681509123031 0.020735951318447868 0.019041054200439174 0.016455438681685718 0.01962837123286926 0.013566707234894728 0.009741848159447682 0.022111522471551532 0.041230038508847947 0.00675726697349051 0.004212994643278345 0.02215606774045636 0.021048521991566538 0.0036363636363636355 0.016188689090995256 0.010630457188184499 0.011380776170588271 0.009941458021507733 0.007146057220550024 0.02687878072313579 0.014427084694191067 0.03672149501644434 0.01451562415323798 0.009074838035572916 0.04527484783248473 0.005923051593808525 0.03060226380353075 0.012450980708148176 0.00455710052763459 0.013332166564799335 0.009685478872391313 0.01899714423277606 0.006490068871019787 0.014153988006544122 0.020802215432843902 0.018365378588045905 0.051061928137266926 "
     ]
    }
   ],
   "source": [
    "def wiki():\n",
    "    ListeWiki = 'liste.txt'\n",
    "    Fichier = open(ListeWiki,'w')\n",
    "    pages=os.listdir(\"toyset\")\n",
    "    for i,page in enumerate(pages):\n",
    "        os.chdir(\"toyset\")\n",
    "        f=open(page,\"r\",encoding=\"utf8\")\n",
    "        text=f.read()\n",
    "        urls = re.findall(r'a href=[\\'\"]?([^\\'\" >]+)',text)\n",
    "        for url in urls:\n",
    "            k=pages.index(url)\n",
    "            i=pages.index(page)\n",
    "            Fichier.write(str(i)+' '+str(k) +'\\n')\n",
    "        os.chdir(\"..\")\n",
    "    Fichier.close()\n",
    "    pageRank(ListeWiki,0.8,0.001)\n",
    "print(\"Résultat du classement des pages wikipédia, dans l'ordre alphabétique :\")\n",
    "wiki()"
   ]
  },
  {
   "cell_type": "markdown",
   "metadata": {},
   "source": [
    "# TP2 : Clustering \n"
   ]
  },
  {
   "cell_type": "code",
   "execution_count": 4,
   "metadata": {},
   "outputs": [],
   "source": [
    "import csv\n",
    "import random\n",
    "import pandas as pd\n",
    "import numpy as np\n",
    "from sklearn import decomposition\n",
    "import matplotlib.pyplot as plt\n",
    "from sklearn.cluster import KMeans"
   ]
  },
  {
   "cell_type": "code",
   "execution_count": 5,
   "metadata": {},
   "outputs": [],
   "source": [
    "def chercherData(path):\n",
    "    ListeEntreprises=[]\n",
    "    M=np.array(pd.read_csv(path))\n",
    "    for i in range(1,len(M)):\n",
    "        for j in range(1,len(M[0])):\n",
    "            M[i][j]=float(M[i][j])\n",
    "    return (M)\n",
    "\n",
    "def distance(x,y):\n",
    "    n=len(x)\n",
    "    m=len(y)\n",
    "    if n!=m :\n",
    "        print(\"c'est une problème de taille\")\n",
    "    else :\n",
    "        d=0\n",
    "        for i in range(n):\n",
    "            d=d+(float(x[i])-float(y[i]))**2\n",
    "    return np.sqrt(d)\n",
    "\n",
    "def K_mean(nc,max_i,ni,X):\n",
    "    Z=[X[j][1:] for j in range(len(X))]\n",
    "    kmeans = KMeans(init='random', n_clusters=nc, max_iter=max_i, n_init=ni).fit(Z)\n",
    "    return kmeans\n",
    "\n",
    "def KmeanListeNoms(nc,max_i,ni,X):\n",
    "    kmean=K_mean(nc,max_i,ni,X)\n",
    "    clust=kmean.labels_\n",
    "    clusters=[[] for i in range(nc)]\n",
    "    for i in range(len(X)):\n",
    "        clusters[clust[i]-1].append(X[i][0])\n",
    "    print (\"SSE = \" + str(calculSSE(kmean,X)))\n",
    "    return clusters\n",
    "\n",
    "def calculSSE(kmean,X):\n",
    "    centers=kmean.cluster_centers_\n",
    "    clust=kmean.labels_\n",
    "    x=len(X)\n",
    "    k=len(centers)\n",
    "    sum=0\n",
    "    for i in range(x):\n",
    "        sum=sum+np.square(distance(X[i][1:],centers[clust[i]-1]))\n",
    "    return sum\n",
    "\n",
    "X=chercherData(\"data.csv\")"
   ]
  },
  {
   "cell_type": "markdown",
   "metadata": {},
   "source": [
    "### Question1\n"
   ]
  },
  {
   "cell_type": "code",
   "execution_count": 6,
   "metadata": {},
   "outputs": [
    {
     "name": "stdout",
     "output_type": "stream",
     "text": [
      "Exemple de clustering :\n",
      "SSE = 8403.048663729325\n"
     ]
    },
    {
     "data": {
      "text/plain": [
       "[['Merck'],\n",
       " ['Hewlett-Packard'],\n",
       " ['DuPont', 'Caterpillar'],\n",
       " ['IBM',\n",
       "  'The Home Depot',\n",
       "  'Intel',\n",
       "  'Wal-Mart',\n",
       "  'United Technologies',\n",
       "  'Travelers',\n",
       "  '3M'],\n",
       " ['Cisco Systems'],\n",
       " ['Alcoa'],\n",
       " ['Kraft',\n",
       "  'Verizon',\n",
       "  'Procter & Gamble',\n",
       "  'General Electric',\n",
       "  'AT&T',\n",
       "  'McDonalds',\n",
       "  'Coca-Cola',\n",
       "  'Johnson & Johnson'],\n",
       " ['American Express',\n",
       "  'Boeing',\n",
       "  'Chevron',\n",
       "  'Bank of America',\n",
       "  'Microsoft',\n",
       "  'Walt Disney',\n",
       "  'Pfizer',\n",
       "  'ExxonMobil',\n",
       "  'JPMorgan Chase']]"
      ]
     },
     "execution_count": 6,
     "metadata": {},
     "output_type": "execute_result"
    }
   ],
   "source": [
    "print(\"Exemple de clustering :\")\n",
    "KmeanListeNoms(8,10000,100,X)"
   ]
  },
  {
   "cell_type": "markdown",
   "metadata": {},
   "source": [
    "### Question 2\n",
    "\n",
    "a) Max_iter et n_init semblent être deux paramètres très importants pour le bon focntionnement de l'algorithme Kmean. En effet, Max_iter donne le nombre de fois où doit être effectué la réaffectation des points à un centroïde et le calcul des nouveaux centroïdes. Si Max_iter est trop petit, l'algorithme n'a pas le temps de converger. n_init donne le nombre d'échantillons initiaux sur lequel on fait tourner l'algorithme, comme la position des centroides initiaux est déterminante sur cet algorithme, plus n_init est grand, meilleurs les résultats sont.  \n",
    "\n",
    "b) On remarque d'après les figures suivantes que augmenter ces deux paramètres permet géneralement d'obtenir de meilleurs résultats, mais pas toujours, tout d'abord parcequ'il y a une grande part d'aléatoire dans l'algorithme de Kmean, mais aussi parceque les clustering ne s'améliorent plus une fois que les deux paramètres ont atteint un certain seuil."
   ]
  },
  {
   "cell_type": "markdown",
   "metadata": {},
   "source": [
    "Comparons la valeur du SSE pour différentes valeurs de max_iter à nb_inti fixé (nb_init =100)."
   ]
  },
  {
   "cell_type": "code",
   "execution_count": 7,
   "metadata": {},
   "outputs": [
    {
     "data": {
      "image/png": "[encoded data removed]",
      "text/plain": [
       "<Figure size 432x288 with 1 Axes>"
      ]
     },
     "metadata": {
      "needs_background": "light"
     },
     "output_type": "display_data"
    }
   ],
   "source": [
    "nb_init=100\n",
    "value=[[],[]]\n",
    "for i in range(5):\n",
    "    for j in range(1,10):\n",
    "        max_iter=j*(10**i)\n",
    "        sse=calculSSE(K_mean(8,max_iter,nb_init,X),X)\n",
    "        value[0].append(max_iter)\n",
    "        value[1].append(sse)\n",
    "plt.plot(value[0],value[1])\n",
    "plt.show()"
   ]
  },
  {
   "cell_type": "markdown",
   "metadata": {},
   "source": [
    "Au delà d'un certain seuil, il semble que max_iter n'ai plus beaucoup d'effet sur la qualité du clustering. On remarque cependant que, en moyenne, le SSE des clusering avec max_iter>10 000 est plus faible que les autres, même si on observe certaines exceptions.\n",
    "\n",
    "Comparons la valeur du SSE pour différentes valeurs de nb_init à max_iter fixé (max_iter = 10000)."
   ]
  },
  {
   "cell_type": "code",
   "execution_count": 8,
   "metadata": {},
   "outputs": [
    {
     "data": {
      "image/png": "[encoded data removed]",
      "text/plain": [
       "<Figure size 432x288 with 1 Axes>"
      ]
     },
     "metadata": {
      "needs_background": "light"
     },
     "output_type": "display_data"
    }
   ],
   "source": [
    "max_iter=10000\n",
    "value=[[],[]]\n",
    "nb_init=1\n",
    "for i in range(4):\n",
    "    for j in range(1,10):\n",
    "        nb_init=j*(10**i)\n",
    "        sse=calculSSE(K_mean(8,max_iter,nb_init,X),X)\n",
    "        value[0].append(nb_init)\n",
    "        value[1].append(sse)\n",
    "plt.plot(value[0],value[1])\n",
    "plt.show()"
   ]
  },
  {
   "cell_type": "markdown",
   "metadata": {},
   "source": [
    "Plus Nb_init est grand, plus le sse du clustering est faible, cependant à partir d'un certain seuil on n'observe plus d'amélioration notable.\n",
    "\n",
    "Nous choisissons max_iter=20000 et nb_init=4000.\n",
    "\n",
    "\n",
    "### Question 3 :"
   ]
  },
  {
   "cell_type": "code",
   "execution_count": 9,
   "metadata": {},
   "outputs": [
    {
     "name": "stdout",
     "output_type": "stream",
     "text": [
      "SSE = 9737.478213654143\n"
     ]
    },
    {
     "data": {
      "text/plain": [
       "[['Chevron', 'DuPont', 'Caterpillar', 'ExxonMobil'],\n",
       " ['American Express',\n",
       "  'Boeing',\n",
       "  'Microsoft',\n",
       "  'Walt Disney',\n",
       "  'General Electric',\n",
       "  'JPMorgan Chase'],\n",
       " ['Hewlett-Packard'],\n",
       " ['Kraft',\n",
       "  'IBM',\n",
       "  'The Home Depot',\n",
       "  'Procter & Gamble',\n",
       "  'Intel',\n",
       "  'Wal-Mart',\n",
       "  'AT&T',\n",
       "  'United Technologies',\n",
       "  'Travelers',\n",
       "  'McDonalds',\n",
       "  'Coca-Cola',\n",
       "  '3M',\n",
       "  'Johnson & Johnson'],\n",
       " ['Bank of America'],\n",
       " ['Cisco Systems'],\n",
       " ['Alcoa'],\n",
       " ['Verizon', 'Merck', 'Pfizer']]"
      ]
     },
     "execution_count": 9,
     "metadata": {},
     "output_type": "execute_result"
    }
   ],
   "source": [
    "KmeanListeNoms(8,20000,4000,X)"
   ]
  },
  {
   "cell_type": "markdown",
   "metadata": {},
   "source": [
    "Le clustering obtenu : SSE = 6470\n",
    "\n",
    "Cluster technologie = 'American Express','Boeing', 'Microsoft','IBM','The Home Depot','Walt Disney', 'Wal-Mart','General Electric','United Technologies','Travelers','3M'\n",
    "  \n",
    "Cluster pharmacie et agro-alimentaire = 'Kraft', 'Verizon', 'Procter & Gamble', 'AT&T', 'Merck', 'McDonalds', 'Coca-Cola','Johnson & Johnson'\n",
    " \n",
    "Cluster : 'Intel'\n",
    "\n",
    "Cluster industrie lourde : 'DuPont', 'Caterpillar', 'Alcoa'\n",
    "\n",
    "Cluster : 'Cisco Systems'\n",
    "\n",
    "Cluster : 'Bank of America'\n",
    "\n",
    "Cluster : Hewlett-Packard'\n",
    "\n",
    "Cluster Petroliers : 'Chevron', 'Pfizer', 'ExxonMobil', 'JPMorgan Chase'"
   ]
  },
  {
   "cell_type": "markdown",
   "metadata": {},
   "source": [
    "Cette partie n'est pas nécessaire, j'ai recodé l'algorithme KMean, n'ayant pas vu qu'une fonction existait déjà. Je le laisse ici si vous souhaitez le regarder."
   ]
  },
  {
   "cell_type": "code",
   "execution_count": 10,
   "metadata": {},
   "outputs": [
    {
     "name": "stdout",
     "output_type": "stream",
     "text": [
      "Utilisation du PCA pour visualiser les clusters:\n"
     ]
    },
    {
     "data": {
      "image/png": "[encoded data removed]",
      "text/plain": [
       "<Figure size 432x288 with 1 Axes>"
      ]
     },
     "metadata": {
      "needs_background": "light"
     },
     "output_type": "display_data"
    },
    {
     "name": "stdout",
     "output_type": "stream",
     "text": [
      "Sum of squares errors = 1654.937766779677\n",
      "Liste des clusters obtenus:\n"
     ]
    },
    {
     "data": {
      "text/plain": [
       "[['Bank of America', 'Pfizer'],\n",
       " ['Kraft',\n",
       "  'Verizon',\n",
       "  'IBM',\n",
       "  'Procter & Gamble',\n",
       "  'Wal-Mart',\n",
       "  'AT&T',\n",
       "  'Travelers',\n",
       "  'McDonalds',\n",
       "  'Coca-Cola',\n",
       "  '3M',\n",
       "  'Johnson & Johnson'],\n",
       " ['Chevron', 'DuPont', 'Caterpillar', 'Alcoa', 'ExxonMobil', 'JPMorgan Chase'],\n",
       " ['The Home Depot'],\n",
       " ['Intel'],\n",
       " ['Merck'],\n",
       " ['Boeing',\n",
       "  'Microsoft',\n",
       "  'Walt Disney',\n",
       "  'Hewlett-Packard',\n",
       "  'General Electric',\n",
       "  'United Technologies'],\n",
       " ['Cisco Systems']]"
      ]
     },
     "execution_count": 10,
     "metadata": {},
     "output_type": "execute_result"
    }
   ],
   "source": [
    "def chercherData(path):\n",
    "    ListeEntreprises=[]\n",
    "    M=np.array(pd.read_csv(path))\n",
    "    for i in range(1,len(M)):\n",
    "        for j in range(1,len(M[0])):\n",
    "            M[i][j]=float(M[i][j])\n",
    "    return (M)\n",
    "\n",
    "def distance(x,y):\n",
    "    n=len(x)\n",
    "    m=len(y)\n",
    "    if n!=m :\n",
    "        print(\"c'est une problème de taille\")\n",
    "    else :\n",
    "        d=0\n",
    "        for i in range(n):\n",
    "            d=d+(float(x[i])-float(y[i]))**2\n",
    "    return np.sqrt(d)\n",
    "\n",
    "def etape_k_mean(K,M): ##affectation et calcul des nouveaux centroides \n",
    "    K2=[]\n",
    "    k=len(K)\n",
    "    m=len(M)\n",
    "    clusters=[[] for i in range(k)]\n",
    "    for i in range(1,m):\n",
    "        dist=[distance(M[i][1:],K[j]) for j in range(k)]\n",
    "        indexCentroid=dist.index(min(dist))\n",
    "        clusters[indexCentroid].append(i)   ##clusters = [[numéros des entreprises du cluster1],[numéros des entreprises du cluster2],...]\n",
    "    for i in range(k):\n",
    "        K2=calculCentroids(clusters,M)\n",
    "    return (K2,clusters)\n",
    "\n",
    "def calculCentroids(clusters,M):\n",
    "    K=[]\n",
    "    m=len(M[0])-1\n",
    "    k=len(clusters)\n",
    "    for i in range(k): \n",
    "        sum=np.zeros(m)\n",
    "        n=len(clusters[i])\n",
    "        for elmt in clusters[i]:\n",
    "            sum = sum + M[elmt][1:]\n",
    "        sum=sum/n\n",
    "        K.append(sum)\n",
    "    return K\n",
    "            \n",
    "        \n",
    "def initialisation(path,k):\n",
    "    M=chercherData(path)\n",
    "    l=random.sample([i for i in range(1,len(M))],k)\n",
    "    K=[M[l[i]][1:] for i in range(k)]\n",
    "    return M,K\n",
    "\n",
    "def k_mean(path,k):\n",
    "    M,K1=initialisation(path,k) ##K=liste des c\n",
    "    K2,clusters=etape_k_mean(K1,M)  \n",
    "    while not( np.array_equal(K1,K2) ):\n",
    "        K1=K2\n",
    "        K2,clusters=etape_k_mean(K1,M)\n",
    "    clusters_nom=[[M[j][0] for j in cluster] for cluster in clusters ]\n",
    "    afficher(clusters,M)\n",
    "    print('Sum of squares errors = '+ str(calculsse(clusters,M,K2)))\n",
    "    print(\"Liste des clusters obtenus:\")\n",
    "    return(clusters_nom)\n",
    "    \n",
    "\n",
    "def afficher(clusters,M):\n",
    "    print(\"Utilisation du PCA pour visualiser les clusters:\")\n",
    "    k=len(clusters)\n",
    "    points=[M[j][1:] for j in range(1,len(M))]\n",
    "    pca=decomposition.PCA(n_components=2)\n",
    "    liste=(pca.fit_transform(points))\n",
    "    color=['b','r','o','c','m','y','g','k','w']\n",
    "    for i in range(k):\n",
    "        for elmt in clusters[i]:\n",
    "            plt.plot(liste[elmt-1][0],liste[elmt-1][1],'.',color[i])\n",
    "    plt.show()\n",
    "    \n",
    "def calculsse(clusters,M,K):\n",
    "    k=len(K)\n",
    "    sum=0\n",
    "    for i in range(k):\n",
    "        res=0\n",
    "        for elmt in clusters[i]:\n",
    "            res=res+(distance(M[elmt][1:],K[i]))**2\n",
    "        sum=sum+res\n",
    "    return sum\n",
    "    \n",
    "\n",
    "k_mean(\"data.csv\",8)"
   ]
  }
 ],
 "metadata": {
  "kernelspec": {
   "display_name": "Python 3",
   "language": "python",
   "name": "python3"
  },
  "language_info": {
   "codemirror_mode": {
    "name": "ipython",
    "version": 3
   },
   "file_extension": ".py",
   "mimetype": "text/x-python",
   "name": "python",
   "nbconvert_exporter": "python",
   "pygments_lexer": "ipython3",
   "version": "3.6.6"
  }
 },
 "nbformat": 4,
 "nbformat_minor": 2
}
