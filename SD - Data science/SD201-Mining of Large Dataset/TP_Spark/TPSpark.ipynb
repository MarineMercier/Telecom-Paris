{
 "cells": [
  {
   "cell_type": "markdown",
   "metadata": {},
   "source": [
    "## TP SPARK"
   ]
  },
  {
   "cell_type": "code",
   "execution_count": 1,
   "metadata": {},
   "outputs": [
    {
     "data": {
      "text/html": [
       "<style scoped>\n",
       "  .ansiout {\n",
       "    display: block;\n",
       "    unicode-bidi: embed;\n",
       "    white-space: pre-wrap;\n",
       "    word-wrap: break-word;\n",
       "    word-break: break-all;\n",
       "    font-family: \"Source Code Pro\", \"Menlo\", monospace;;\n",
       "    font-size: 13px;\n",
       "    color: #555;\n",
       "    margin-left: 4px;\n",
       "    line-height: 19px;\n",
       "  }\n",
       "</style>\n",
       "<div class=\"ansiout\"><span class=\"ansired\">Out[</span><span class=\"ansired\">43</span><span class=\"ansired\">]: </span>[2, 3, 4, 5]</div>"
      ]
     },
     "metadata": {},
     "output_type": "display_data"
    }
   ],
   "source": [
    "list(map( lambda a : a+1, [ 1 , 2 , 3 , 4 ] ))"
   ]
  },
  {
   "cell_type": "code",
   "execution_count": 2,
   "metadata": {},
   "outputs": [
    {
     "data": {
      "text/html": [
       "<style scoped>\n",
       "  .ansiout {\n",
       "    display: block;\n",
       "    unicode-bidi: embed;\n",
       "    white-space: pre-wrap;\n",
       "    word-wrap: break-word;\n",
       "    word-break: break-all;\n",
       "    font-family: \"Source Code Pro\", \"Menlo\", monospace;;\n",
       "    font-size: 13px;\n",
       "    color: #555;\n",
       "    margin-left: 4px;\n",
       "    line-height: 19px;\n",
       "  }\n",
       "</style>\n",
       "<div class=\"ansiout\">[&quot;Steven Paul Jobs (/dʒɒbz/; February 24, 1955 – October 5, 2011) was an American entrepreneur, business magnate, inventor, and industrial designer. He was the chairman, chief executive officer (CEO), and co-founder of Apple Inc.; CEO and majority shareholder of Pixar;[3] a member of The Walt Disney Company&apos;s board of directors following its acquisition of Pixar; and the founder, chairman, and CEO of NeXT. Jobs and Apple co-founder Steve Wozniak are widely recognized as pioneers of the microcomputer revolution of the 1970s and 1980s.&quot;, &apos;&apos;, &apos;He was born in San Francisco to parents who had to put him up for adoption at birth; he was raised in the San Francisco Bay Area during the 1960s.[4] Jobs then attended Reed College in 1972 before dropping out,[5] and traveled through India in 1974 seeking enlightenment and studying Zen Buddhism.[6] Jobs\\&apos;s declassified FBI report stated that an acquaintance knew that Jobs had used marijuana and LSD while he was in college.[7] Jobs once told a reporter that taking LSD was &quot;one of the two or three most important things&quot; he did in his life.[8]&apos;, &apos;&apos;, &quot;Jobs and Wozniak co-founded Apple in 1976 to sell Wozniak&apos;s Apple I personal computer. The visionaries gained fame and wealth a year later for the Apple II, one of the first highly successful mass-produced personal computers. In 1979, after a tour of PARC, Jobs saw the commercial potential of the Xerox Alto, which was mouse-driven and had a graphical user interface (GUI). This led to development of the unsuccessful Apple Lisa in 1983, followed by the breakthrough Macintosh in 1984. In addition to being the first mass-produced computer with a GUI, the Macintosh introduced the sudden rise of the desktop publishing industry in 1985 with the addition of the Apple LaserWriter, the first laser printer to feature vector graphics. Following a long power struggle, Jobs was forced out of Apple in 1985.[9]&quot;]\n",
       "</div>"
      ]
     },
     "metadata": {},
     "output_type": "display_data"
    }
   ],
   "source": [
    "lines=sc.textFile(\"/FileStore/tables/steve.txt\")\n",
    "print(lines.take(5))"
   ]
  },
  {
   "cell_type": "code",
   "execution_count": 3,
   "metadata": {},
   "outputs": [
    {
     "data": {
      "text/html": [
       "<style scoped>\n",
       "  .ansiout {\n",
       "    display: block;\n",
       "    unicode-bidi: embed;\n",
       "    white-space: pre-wrap;\n",
       "    word-wrap: break-word;\n",
       "    word-break: break-all;\n",
       "    font-family: \"Source Code Pro\", \"Menlo\", monospace;;\n",
       "    font-size: 13px;\n",
       "    color: #555;\n",
       "    margin-left: 4px;\n",
       "    line-height: 19px;\n",
       "  }\n",
       "</style>\n",
       "<div class=\"ansiout\">[(&apos;&apos;, 10), (&apos;out&apos;, 3), (&apos;more.&quot;[12]&apos;, 1), (&apos;was&apos;, 33), (&apos;taking,&apos;, 1), (&apos;computer-animated&apos;, 1), (&apos;we&apos;, 2), (&apos;German&apos;, 1), (&apos;business&apos;, 2), (&apos;According&apos;, 1), (&apos;illegal&apos;, 1), (&apos;2003&apos;, 1), (&apos;undergraduate&apos;, 1), (&apos;co-founded&apos;, 1), (&apos;start&apos;, 1), (&apos;eventually&apos;, 3), (&apos;breakthrough&apos;, 1), (&apos;Jonathan&apos;, 1), (&apos;consider&apos;, 1), (&apos;pregnancy,&apos;, 1), (&apos;as&apos;, 13), (&apos;used&apos;, 1), (&apos;platform,&apos;, 1), (&apos;several&apos;, 1), (&apos;where&apos;, 1), (&apos;adoption&apos;, 4), (&apos;II,&apos;, 2), (&apos;way&apos;, 1), (&apos;looking&apos;, 1), (&apos;three&apos;, 1), (&apos;graphical&apos;, 1), (&apos;2001,&apos;, 1), (&apos;single&apos;, 1), (&apos;Story—an&apos;, 1), (&apos;designer&apos;, 1), (&apos;different&quot;&apos;, 1), (&apos;Walt&apos;, 1), (&apos;Inc.;&apos;, 1), (&apos;candidate,&apos;, 1), (&apos;closely&apos;, 1), (&apos;enlightenment&apos;, 1), (&apos;her&apos;, 5), (&apos;visual&apos;, 1), (&apos;case,&apos;, 1), (&apos;officer&apos;, 1), (&apos;new&apos;, 2), (&apos;son&apos;, 2), (&apos;sheltered&apos;, 1), (&apos;iTunes&apos;, 2), (&apos;co-founder&apos;, 2)]\n",
       "</div>"
      ]
     },
     "metadata": {},
     "output_type": "display_data"
    }
   ],
   "source": [
    "text_file=sc.textFile(\"/FileStore/tables/steve.txt\")\n",
    "words = text_file.flatMap(lambda line: line.split(\" \"))\n",
    "pairs = words.map(lambda s: (s, 1))\n",
    "counts = pairs.reduceByKey(lambda a, b: a + b)\n",
    "print(counts.take(50))"
   ]
  },
  {
   "cell_type": "code",
   "execution_count": 4,
   "metadata": {},
   "outputs": [
    {
     "data": {
      "text/html": [
       "<style scoped>\n",
       "  .ansiout {\n",
       "    display: block;\n",
       "    unicode-bidi: embed;\n",
       "    white-space: pre-wrap;\n",
       "    word-wrap: break-word;\n",
       "    word-break: break-all;\n",
       "    font-family: \"Source Code Pro\", \"Menlo\", monospace;;\n",
       "    font-size: 13px;\n",
       "    color: #555;\n",
       "    margin-left: 4px;\n",
       "    line-height: 19px;\n",
       "  }\n",
       "</style>\n",
       "<div class=\"ansiout\">the: 66\n",
       "and: 53\n",
       "a: 45\n",
       "to: 42\n",
       "in: 41\n",
       "</div>"
      ]
     },
     "metadata": {},
     "output_type": "display_data"
    }
   ],
   "source": [
    "sort=counts.sortBy( lambda key: key[1],ascending=False).collect()\n",
    "for i in range(5):\n",
    "  print(\"%s: %i\" % (sort[i][0],sort[i][1]))"
   ]
  },
  {
   "cell_type": "code",
   "execution_count": 5,
   "metadata": {},
   "outputs": [
    {
     "data": {
      "text/html": [
       "<style scoped>\n",
       "  .ansiout {\n",
       "    display: block;\n",
       "    unicode-bidi: embed;\n",
       "    white-space: pre-wrap;\n",
       "    word-wrap: break-word;\n",
       "    word-break: break-all;\n",
       "    font-family: \"Source Code Pro\", \"Menlo\", monospace;;\n",
       "    font-size: 13px;\n",
       "    color: #555;\n",
       "    margin-left: 4px;\n",
       "    line-height: 19px;\n",
       "  }\n",
       "</style>\n",
       "<div class=\"ansiout\">Jandali: 8\n",
       "Schieble: 8\n",
       "Jobs&apos;s: 8\n",
       "Francisco: 6\n",
       "Joanne: 5\n",
       "</div>"
      ]
     },
     "metadata": {},
     "output_type": "display_data"
    }
   ],
   "source": [
    "filtre=counts.filter(lambda key: len(key[0])>5)\n",
    "sortfil=filtre.sortBy( lambda key: key[1],ascending=False).collect()\n",
    "for i in range(5):\n",
    "  print(\"%s: %i\" % (sortfil[i][0],sortfil[i][1]))"
   ]
  },
  {
   "cell_type": "code",
   "execution_count": 6,
   "metadata": {},
   "outputs": [
    {
     "data": {
      "text/html": [
       "<style scoped>\n",
       "  .ansiout {\n",
       "    display: block;\n",
       "    unicode-bidi: embed;\n",
       "    white-space: pre-wrap;\n",
       "    word-wrap: break-word;\n",
       "    word-break: break-all;\n",
       "    font-family: \"Source Code Pro\", \"Menlo\", monospace;;\n",
       "    font-size: 13px;\n",
       "    color: #555;\n",
       "    margin-left: 4px;\n",
       "    line-height: 19px;\n",
       "  }\n",
       "</style>\n",
       "<div class=\"ansiout\">(&apos;60589&apos;, ([&apos;United&apos;, &apos;States&apos;], 8145))\n",
       "(&apos;30594&apos;, ([&apos;France&apos;], 7799))\n",
       "(&apos;24449&apos;, ([&apos;Communes&apos;, &apos;of&apos;, &apos;France&apos;], 5740))\n",
       "(&apos;26539&apos;, ([&apos;Departments&apos;, &apos;of&apos;, &apos;France&apos;], 5299))\n",
       "(&apos;51359&apos;, ([&apos;Regions&apos;, &apos;of&apos;, &apos;France&apos;], 4064))\n",
       "(&apos;23683&apos;, ([&apos;City&apos;], 3832))\n",
       "(&apos;52174&apos;, ([&apos;Romania&apos;], 3527))\n",
       "(&apos;20409&apos;, ([&apos;Category:Rivers&apos;, &apos;in&apos;, &apos;Romania&apos;], 2978))\n",
       "(&apos;59931&apos;, ([&apos;Tributary&apos;], 2799))\n",
       "(&apos;28563&apos;, ([&apos;England&apos;], 2277))\n",
       "</div>"
      ]
     },
     "metadata": {},
     "output_type": "display_data"
    }
   ],
   "source": [
    "labelLines=sc.textFile(\"/FileStore/tables/idslabels.txt\").flatMap(lambda line: line.split(\"\\n\"))\n",
    "edge=sc.textFile(\"/FileStore/tables/edgelist.txt\").flatMap(lambda line: line.split(\" \")[1:])\n",
    "pairs=edge.map(lambda s: (s,1))\n",
    "counts = pairs.reduceByKey(lambda a, b: a + b)\n",
    "labels=labelLines.map(lambda ligne : (ligne.split(\" \")[0], ligne.split(\" \")[1:]))\n",
    "liste = labels.join(counts)\n",
    "sort=liste.sortBy( lambda key: key[1][1],ascending=False).collect()\n",
    "for i in range(10):\n",
    "  print (sort[i])"
   ]
  }
 ],
 "metadata": {
  "kernelspec": {
   "display_name": "Python 3",
   "language": "python",
   "name": "python3"
  },
  "name": "TPSpark",
  "notebookId": 2394098255570712
 },
 "nbformat": 4,
 "nbformat_minor": 1
}
