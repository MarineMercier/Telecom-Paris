{
 "cells": [
  {
   "cell_type": "code",
   "execution_count": 1,
   "metadata": {},
   "outputs": [
    {
     "name": "stderr",
     "output_type": "stream",
     "text": [
      "The code failed because of a fatal error:\n",
      "\tError sending http request and maximum retry encountered..\n",
      "\n",
      "Some things to try:\n",
      "a) Make sure Spark has enough available resources for Jupyter to create a Spark context.\n",
      "b) Contact your Jupyter administrator to make sure the Spark magics library is configured correctly.\n",
      "c) Restart the kernel.\n"
     ]
    }
   ],
   "source": [
    "list(map( lambda a : a+1, [ 1 , 2 , 3 , 4 ] ))"
   ]
  },
  {
   "cell_type": "code",
   "execution_count": 2,
   "metadata": {},
   "outputs": [
    {
     "name": "stderr",
     "output_type": "stream",
     "text": [
      "The code failed because of a fatal error:\n",
      "\tError sending http request and maximum retry encountered..\n",
      "\n",
      "Some things to try:\n",
      "a) Make sure Spark has enough available resources for Jupyter to create a Spark context.\n",
      "b) Contact your Jupyter administrator to make sure the Spark magics library is configured correctly.\n",
      "c) Restart the kernel.\n"
     ]
    }
   ],
   "source": [
    "lines=sc.textFile(\"/FileStore/tables/steve.txt\")\n",
    "print(lines.take(5))"
   ]
  },
  {
   "cell_type": "code",
   "execution_count": 3,
   "metadata": {},
   "outputs": [
    {
     "name": "stderr",
     "output_type": "stream",
     "text": [
      "The code failed because of a fatal error:\n",
      "\tError sending http request and maximum retry encountered..\n",
      "\n",
      "Some things to try:\n",
      "a) Make sure Spark has enough available resources for Jupyter to create a Spark context.\n",
      "b) Contact your Jupyter administrator to make sure the Spark magics library is configured correctly.\n",
      "c) Restart the kernel.\n"
     ]
    }
   ],
   "source": [
    "text_file=sc.textFile(\"/FileStore/tables/steve.txt\")\n",
    "words = text_file.flatMap(lambda line: line.split(\" \"))\n",
    "pairs = words.map(lambda s: (s, 1))\n",
    "counts = pairs.reduceByKey(lambda a, b: a + b)\n",
    "print(counts.take(50))"
   ]
  },
  {
   "cell_type": "code",
   "execution_count": 4,
   "metadata": {},
   "outputs": [
    {
     "name": "stderr",
     "output_type": "stream",
     "text": [
      "The code failed because of a fatal error:\n",
      "\tError sending http request and maximum retry encountered..\n",
      "\n",
      "Some things to try:\n",
      "a) Make sure Spark has enough available resources for Jupyter to create a Spark context.\n",
      "b) Contact your Jupyter administrator to make sure the Spark magics library is configured correctly.\n",
      "c) Restart the kernel.\n"
     ]
    }
   ],
   "source": [
    "sort=counts.sortBy( lambda key: key[1],ascending=False).collect()\n",
    "for i in range(5):\n",
    "  print(\"%s: %i\" % (sort[i][0],sort[i][1]))"
   ]
  },
  {
   "cell_type": "code",
   "execution_count": 5,
   "metadata": {},
   "outputs": [
    {
     "name": "stderr",
     "output_type": "stream",
     "text": [
      "The code failed because of a fatal error:\n",
      "\tError sending http request and maximum retry encountered..\n",
      "\n",
      "Some things to try:\n",
      "a) Make sure Spark has enough available resources for Jupyter to create a Spark context.\n",
      "b) Contact your Jupyter administrator to make sure the Spark magics library is configured correctly.\n",
      "c) Restart the kernel.\n"
     ]
    }
   ],
   "source": [
    "filtre=counts.filter(lambda key: len(key[0])>5)\n",
    "sortfil=filtre.sortBy( lambda key: key[1],ascending=False).collect()\n",
    "for i in range(5):\n",
    "  print(\"%s: %i\" % (sortfil[i][0],sortfil[i][1]))"
   ]
  },
  {
   "cell_type": "code",
   "execution_count": null,
   "metadata": {},
   "outputs": [],
   "source": [
    "labelLines=sc.textFile(\"/FileStore/tables/idslabels.txt\").flatMap(lambda line: line.split(\"\\n\"))\n",
    "edge=sc.textFile(\"/FileStore/tables/edgelist.txt\").flatMap(lambda line: line.split(\" \")[1:])\n",
    "pairs=edge.map(lambda s: (s,1))\n",
    "counts = pairs.reduceByKey(lambda a, b: a + b)\n",
    "labels=labelLines.map(lambda ligne : (ligne.split(\" \")[0], ligne.split(\" \")[1:]))\n",
    "liste = labels.join(counts)\n",
    "sort=liste.sortBy( lambda key: key[1][1],ascending=False).collect()\n",
    "for i in range(10):\n",
    "  print (sort[i])"
   ]
  }
 ],
 "metadata": {
  "kernelspec": {
   "display_name": "Spark",
   "language": "",
   "name": "sparkkernel"
  },
  "language_info": {
   "codemirror_mode": "text/x-scala",
   "mimetype": "text/x-scala",
   "name": "scala",
   "pygments_lexer": "scala"
  },
  "name": "TPSpark",
  "notebookId": 2394098255570712
 },
 "nbformat": 4,
 "nbformat_minor": 1
}
