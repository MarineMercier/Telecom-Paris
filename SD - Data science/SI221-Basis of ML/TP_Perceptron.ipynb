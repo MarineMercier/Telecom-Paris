{
 "cells": [
  {
   "cell_type": "markdown",
   "metadata": {
    "colab_type": "text",
    "id": "bdolwas6Ty_C"
   },
   "source": [
    "# TP SI221 - Perceptron"
   ]
  },
  {
   "cell_type": "code",
   "execution_count": 0,
   "metadata": {
    "colab": {},
    "colab_type": "code",
    "id": "BATZW73KT1MX"
   },
   "outputs": [],
   "source": [
    "#Importing libraries, defining important functions\n",
    "\n",
    "import numpy as np\n",
    "import math, random\n",
    "import matplotlib.pyplot as plt\n",
    "import random\n",
    "import seaborn as sns\n",
    "from matplotlib.colors import ListedColormap"
   ]
  },
  {
   "cell_type": "markdown",
   "metadata": {
    "colab_type": "text",
    "id": "p33KyaTdT_r-"
   },
   "source": [
    "---\n",
    "## __I. Synthetic Data__\n",
    "\n",
    "__Question 1 :__\n",
    "\n",
    "\n"
   ]
  },
  {
   "cell_type": "code",
   "execution_count": 0,
   "metadata": {
    "colab": {},
    "colab_type": "code",
    "id": "Si4pW7Pc4o2Z"
   },
   "outputs": [],
   "source": [
    "def generate_samples(numberOfSamples, variance): #Fonction permettant de génerer les données\n",
    "\n",
    "  X = np.ones((numberOfSamples,2))\n",
    "  y = np.zeros(numberOfSamples)\n",
    "\n",
    "  cov = variance * np.identity(2)\n",
    "\n",
    "  for i in range(numberOfSamples):\n",
    "    if(i % 2 == 0):\n",
    "      mean = [-1, 0]\n",
    "      y[i] = 0\n",
    "    else:\n",
    "      mean = [1, 0]\n",
    "      y[i] = 1\n",
    "    X[i][0:2] = np.random.multivariate_normal(mean, cov)\n",
    "  \n",
    "  #On mélange les données avant un apprentissage\n",
    "  indices = np.arange(numberOfSamples)\n",
    "  np.random.shuffle(indices)\n",
    "\n",
    "  return X[indices], y[indices]\n",
    "\n",
    "def heaviside(value):\n",
    "  return (value >= 0)\n",
    "\n",
    "def perceptron(X, y, learningRate, nbEpochs,return_w=False):\n",
    "  w = np.zeros(3)\n",
    "  predArray = np.zeros(numberOfSamples)\n",
    "\n",
    "  for i in range(nbEpochs):\n",
    "    error = 0\n",
    "    for j in range(numberOfSamples):\n",
    "      value = np.dot(w, X[j])\n",
    "      pred = heaviside(value)\n",
    "      predArray[j] = pred\n",
    "      w += learningRate * (y[j] - pred) * X[j]\n",
    "      if(pred != y[j]):\n",
    "        error += 1\n",
    "    \n",
    "    error /= numberOfSamples\n",
    "  if return_w==True:\n",
    "    return w,error\n",
    "\n",
    "  return error\n",
    "\n",
    "def std_deviation(mean, fractions):\n",
    "  nbSamples = fractions.size\n",
    "  return ((1/nbSamples)*(sum((fractions - mean)**2)))**0.5\n",
    "\n",
    "def frontiere(f, X, y, step=50):#Fonction permettant d'afficher les résultats du perceptron\n",
    "    min_tot = np.min(X)\n",
    "    max_tot = np.max(X)\n",
    "    delta = (max_tot - min_tot) / step\n",
    "    xx, yy = np.meshgrid(np.arange(min_tot, max_tot, delta),\n",
    "                         np.arange(min_tot, max_tot, delta))\n",
    "    z = np.array([f(vec) for vec in np.c_[xx.ravel(), yy.ravel()]])\n",
    "    z = z.reshape(xx.shape)\n",
    "    z=np.array((z),dtype=\"int\")\n",
    "    labels = np.unique(z)\n",
    "    color_blind_list = sns.color_palette(\"colorblind\", labels.shape[0])\n",
    "    sns.set_palette(color_blind_list)\n",
    "    my_cmap = ListedColormap(color_blind_list)\n",
    "    plt.imshow(z, origin='lower', extent=[min_tot, max_tot, min_tot, max_tot],\n",
    "               interpolation=\"mitchell\", alpha=0.80, cmap=my_cmap)\n",
    "\n",
    "    ax = plt.gca()\n",
    "    cbar = plt.colorbar(ticks=labels)\n",
    "    cbar.ax.set_yticklabels(labels)\n",
    "    y=np.array((y),dtype=\"int\")\n",
    "    k = np.unique(y).shape[0]\n",
    "    color_blind_list = sns.color_palette(\"colorblind\", k)\n",
    "    for i, label in enumerate(y):\n",
    "        plt.scatter(X[i, 0], X[i, 1], c=[color_blind_list[int(y[i])]],\n",
    "                    s=80, marker=symlist[int(label)])\n",
    "    plt.ylim([min_tot, max_tot])\n",
    "    plt.xlim([min_tot, max_tot])\n",
    "    ax.get_yaxis().set_ticks([])\n",
    "    ax.get_xaxis().set_ticks([])\n"
   ]
  },
  {
   "cell_type": "markdown",
   "metadata": {
    "colab_type": "text",
    "id": "YAKcRTWMU1xr"
   },
   "source": [
    "Affichons les résultats que nous obtenons avec notre perceptron :"
   ]
  },
  {
   "cell_type": "code",
   "execution_count": 66,
   "metadata": {
    "colab": {
     "base_uri": "https://localhost:8080/",
     "height": 496
    },
    "colab_type": "code",
    "id": "VdNDpIzRCYM7",
    "outputId": "6ef12a32-8daf-47a7-98f9-3f99ba0cd3f3"
   },
   "outputs": [
    {
     "data": {
      "image/png": "[encoded data removed]",
      "text/plain": [
       "<Figure size 864x576 with 2 Axes>"
      ]
     },
     "metadata": {
      "tags": []
     },
     "output_type": "display_data"
    }
   ],
   "source": [
    "numberOfSamples = 200\n",
    "learningRate = 0.1\n",
    "nbEpochs = 30\n",
    "symlist = ['o', 'p', '*', 's', '+', 'x', 'D', 'v', '-', '^']\n",
    "\n",
    "X_, y = generate_samples(numberOfSamples, 0.01)\n",
    "b=np.ones((numberOfSamples,1))\n",
    "X=np.c_[X_,b]\n",
    "w,error = perceptron(X, y, learningRate, nbEpochs,return_w=True)\n",
    "\n",
    "fig0 = plt.figure(figsize=(12, 8))\n",
    "title = \"Visualisation des données ainsi que de la frontière choisie par le perceptron, pourcentage d'erreurs = \" +str(error)\n",
    "plt.title(title)\n",
    "\n",
    "def f(xx):\n",
    "  x=[xx[0],xx[1],1]\n",
    "  value = np.dot(w, x)\n",
    "  pred = heaviside(value)\n",
    "  return pred\n",
    "\n",
    "frontiere(f, X_,y, step=100)\n",
    "plt.xlabel(\"X[0]\")\n",
    "plt.ylabel(\"X[1]\")\n",
    "plt.show()"
   ]
  },
  {
   "cell_type": "code",
   "execution_count": 56,
   "metadata": {
    "colab": {
     "base_uri": "https://localhost:8080/",
     "height": 70
    },
    "colab_type": "code",
    "id": "dtdsKprWyilK",
    "outputId": "1fc6235d-d8f8-4d84-c655-e93bad327f28"
   },
   "outputs": [
    {
     "name": "stdout",
     "output_type": "stream",
     "text": [
      "Pour sigma = 0.75\n",
      "Pourcentage d'erreur en moyenne : 0.1826\n",
      "Déviation standard moyenne : 0.02803997146931502\n"
     ]
    }
   ],
   "source": [
    "numberOfSamples = 200\n",
    "learningRate = 0.1\n",
    "sigma=0.75\n",
    "nbEpochs = 30\n",
    "b=np.ones((numberOfSamples,1))\n",
    "\n",
    "fractions = np.zeros(50)\n",
    "for i in range(50):\n",
    "  X_, y = generate_samples(numberOfSamples, sigma)\n",
    "  X=np.c_[X_,b]\n",
    "  fractions[i] = perceptron(X, y, learningRate, nbEpochs)\n",
    "\n",
    "mean = fractions.mean()\n",
    "stdDeviation = std_deviation(mean, fractions)\n",
    "print(\"Pour sigma = \"+str(sigma)+\" : \")\n",
    "print(\"Pourcentage d'erreur en moyenne : \" +str(mean))\n",
    "print(\"Déviation standard moyenne : \"+str(stdDeviation))\n",
    "\n",
    "#For plotting purposes\n",
    "#X_plot = X[:,0]\n",
    "#Y_plot = X[:,1]\n",
    "#plt.plot(X_plot[y == 0], Y_plot[y == 0], 'ro')\n",
    "#plt.plot(X_plot[y == 1], Y_plot[y == 1], \"bo\")\n"
   ]
  },
  {
   "cell_type": "markdown",
   "metadata": {
    "colab_type": "text",
    "id": "nQ3sD9JT1Jgg"
   },
   "source": [
    "Pour 50 datasets avec une variance de 0.05 : moyenne = 0, déviation standard = 0\n",
    "\n",
    "---\n",
    "\n",
    "\n",
    "Pour 50 datasets avec une variance de 0.25 : moyenne = 0.03, déviation standard = 0.02\n",
    "\n",
    "---\n",
    "\n",
    "\n",
    "\n",
    "Pour 50 datasets avec une variance de 0.5 : moyenne = 0.12, déviation standard = 0.03\n",
    "\n",
    "---\n",
    "\n",
    "Pour 50 datasets avec une variance de 0.75 : moyenne = 0.18, déviation standard = 0.03\n",
    "\n",
    "---\n",
    "  \n",
    "    \n",
    "\n",
    "Affichons les résultats sous forme de barre d'erreur :\n"
   ]
  },
  {
   "cell_type": "code",
   "execution_count": 63,
   "metadata": {
    "colab": {
     "base_uri": "https://localhost:8080/",
     "height": 313
    },
    "colab_type": "code",
    "id": "7HbE1zRwQpQs",
    "outputId": "85eaac95-c1cc-4ed8-af1a-509b4a3a7bff"
   },
   "outputs": [
    {
     "data": {
      "text/plain": [
       "Text(0, 0.5, 'Erreur')"
      ]
     },
     "execution_count": 63,
     "metadata": {
      "tags": []
     },
     "output_type": "execute_result"
    },
    {
     "data": {
      "image/png": "[encoded data removed]",
      "text/plain": [
       "<Figure size 432x288 with 1 Axes>"
      ]
     },
     "metadata": {
      "tags": []
     },
     "output_type": "display_data"
    }
   ],
   "source": [
    "sigma=[0.05,0.25,0.5,0.75]\n",
    "means=[]\n",
    "deviations=[]\n",
    "\n",
    "for j in range(len(sigma)):\n",
    "  fractions = np.zeros(50)\n",
    "  for i in range(50):\n",
    "    X_, y = generate_samples(numberOfSamples, sigma[j])\n",
    "    X=np.c_[X_,b]\n",
    "    fractions[i] = perceptron(X, y, learningRate, nbEpochs)\n",
    "  means.append(fractions.mean())\n",
    "  deviations.append(std_deviation(means[j], fractions))\n",
    "\n",
    "plt.errorbar(sigma, means, xerr=[0, 0, 0, 0], yerr=deviations, fmt='none', capsize=10)\n",
    "plt.title(\"Affichage du pourcentage d'erreur en fonction de la variance\")\n",
    "plt.xlabel('Variance')\n",
    "plt.ylabel('Erreur')"
   ]
  },
  {
   "cell_type": "markdown",
   "metadata": {
    "colab_type": "text",
    "id": "AdX6iQaJ6cGD"
   },
   "source": [
    "Le nombre d'erreurs augmente avec la variance, en effet plus la variance est grande, moins il y a de chances que les deux classes soient séparables. Au contraire, plus la variance est grande, plus il y a des chances que les deux classes se superposent. \n",
    "Logiquement, la variance autour du nombre d'erreurs augmente aussi. \n",
    "  \n",
    "    \n",
    "    \n",
    "\n",
    "__Question 2 :__"
   ]
  },
  {
   "cell_type": "code",
   "execution_count": 68,
   "metadata": {
    "colab": {
     "base_uri": "https://localhost:8080/",
     "height": 70
    },
    "colab_type": "code",
    "id": "RIEaMllI6eDT",
    "outputId": "19824b5f-1d00-440a-dc0a-33d56d720c99"
   },
   "outputs": [
    {
     "name": "stdout",
     "output_type": "stream",
     "text": [
      "Pour sigma = 0.15 : \n",
      "Pourcentage d'erreur en moyenne : 0.333\n",
      "Déviation standard moyenne : 0.04885693400122444\n"
     ]
    }
   ],
   "source": [
    "sigma=0.15\n",
    "X, y = generate_samples(numberOfSamples, sigma)\n",
    "X=np.c_[X,b]\n",
    "p = 0.2\n",
    "\n",
    "fractions = np.zeros(50)\n",
    "for i in range(50):\n",
    "  y_tilde = y.copy()\n",
    "\n",
    "  for j in range(numberOfSamples):\n",
    "    if(random.random() <= p):\n",
    "      y_tilde[j] = (y_tilde[j] + 1)%2\n",
    "\n",
    "  fractions[i] = perceptron(X, y_tilde, learningRate, nbEpochs)\n",
    "\n",
    "mean = fractions.mean()\n",
    "stdDeviation = std_deviation(mean, fractions)\n",
    "print(\"Pour sigma = \"+str(sigma)+\" : \")\n",
    "print(\"Pourcentage d'erreur en moyenne : \" +str(mean))\n",
    "print(\"Déviation standard moyenne : \"+str(stdDeviation))\n"
   ]
  },
  {
   "cell_type": "markdown",
   "metadata": {
    "colab_type": "text",
    "id": "fGVniQ5_8Q5W"
   },
   "source": [
    "p = 0.05 ; moyenne = 0.11 ; déviation = 0.036\n",
    "\n",
    "---\n",
    "\n",
    "p = 0.1 ; moyenne = 0.19 ; déviation = 0.038\n",
    "\n",
    "---\n",
    "\n",
    "p = 0.2 ; moyenne = 0.33 ; déviation = 0.044\n",
    "\n",
    "---\n",
    "Affichons le résultat sous forme de barres d'erreurs :"
   ]
  },
  {
   "cell_type": "code",
   "execution_count": 73,
   "metadata": {
    "colab": {
     "base_uri": "https://localhost:8080/",
     "height": 314
    },
    "colab_type": "code",
    "id": "ZoThQICgV_uh",
    "outputId": "b98d6ee5-2d26-424d-b4e8-d25e4a0007ac"
   },
   "outputs": [
    {
     "data": {
      "text/plain": [
       "Text(0, 0.5, 'Erreur')"
      ]
     },
     "execution_count": 73,
     "metadata": {
      "tags": []
     },
     "output_type": "execute_result"
    },
    {
     "data": {
      "image/png": "[encoded data removed]",
      "text/plain": [
       "<Figure size 432x288 with 1 Axes>"
      ]
     },
     "metadata": {
      "tags": []
     },
     "output_type": "display_data"
    }
   ],
   "source": [
    "liste_p=[0,0.05,0.1,0.2]\n",
    "sigma=0.15\n",
    "means=[]\n",
    "deviations=[]\n",
    "\n",
    "for j in range(len(liste_p)):\n",
    "  fractions = np.zeros(50)\n",
    "  \n",
    "  for i in range(50):\n",
    "    X_, y = generate_samples(numberOfSamples, sigma)\n",
    "    X=np.c_[X_,b]\n",
    "    y_tilde = y.copy()\n",
    "    for k in range(numberOfSamples):\n",
    "      if(random.random() <= liste_p[j]):\n",
    "        y_tilde[k] = (y_tilde[k] + 1)%2\n",
    "    fractions[i] = perceptron(X, y_tilde, learningRate, nbEpochs)\n",
    "  means.append(fractions.mean())\n",
    "  deviations.append(std_deviation(means[j], fractions))\n",
    "\n",
    "plt.errorbar(liste_p, means, xerr=[0, 0, 0, 0], yerr=deviations, fmt='none', capsize=10)\n",
    "plt.title(\"Affichage du pourcentage d'erreur en fonction de p\")\n",
    "plt.xlabel('Probabilité p')\n",
    "plt.ylabel('Erreur')"
   ]
  }
 ],
 "metadata": {
  "accelerator": "GPU",
  "colab": {
   "collapsed_sections": [],
   "name": "Copie de TP_Perceptron.ipynb",
   "provenance": []
  },
  "kernelspec": {
   "display_name": "Python 3",
   "language": "python",
   "name": "python3"
  },
  "language_info": {
   "codemirror_mode": {
    "name": "ipython",
    "version": 3
   },
   "file_extension": ".py",
   "mimetype": "text/x-python",
   "name": "python",
   "nbconvert_exporter": "python",
   "pygments_lexer": "ipython3",
   "version": "3.7.4"
  }
 },
 "nbformat": 4,
 "nbformat_minor": 1
}
