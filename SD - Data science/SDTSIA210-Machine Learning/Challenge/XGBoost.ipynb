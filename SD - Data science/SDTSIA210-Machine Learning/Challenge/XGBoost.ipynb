{
 "cells": [
  {
   "cell_type": "markdown",
   "metadata": {},
   "source": [
    "# FINAL NOTEBOOK"
   ]
  },
  {
   "cell_type": "code",
   "execution_count": 1,
   "metadata": {},
   "outputs": [
    {
     "name": "stderr",
     "output_type": "stream",
     "text": [
      "In /home/paul/.local/lib/python3.6/site-packages/matplotlib/mpl-data/stylelib/_classic_test.mplstyle: \n",
      "The savefig.frameon rcparam was deprecated in Matplotlib 3.1 and will be removed in 3.3.\n",
      "In /home/paul/.local/lib/python3.6/site-packages/matplotlib/mpl-data/stylelib/_classic_test.mplstyle: \n",
      "The verbose.level rcparam was deprecated in Matplotlib 3.1 and will be removed in 3.3.\n",
      "In /home/paul/.local/lib/python3.6/site-packages/matplotlib/mpl-data/stylelib/_classic_test.mplstyle: \n",
      "The verbose.fileo rcparam was deprecated in Matplotlib 3.1 and will be removed in 3.3.\n"
     ]
    }
   ],
   "source": [
    "%matplotlib inline\n",
    "import numpy as np\n",
    "import sys\n",
    "import os\n",
    "import matplotlib.pyplot as plt\n",
    "import math\n",
    "from sklearn.neighbors import KNeighborsClassifier\n",
    "from sklearn.preprocessing import StandardScaler\n",
    "from sklearn.model_selection import train_test_split\n",
    "from sklearn.linear_model import LogisticRegression\n",
    "from sklearn.svm import LinearSVC\n",
    "from sklearn.neural_network import MLPClassifier\n",
    "from sklearn.model_selection import GridSearchCV, KFold\n",
    "from sklearn.metrics import auc, accuracy_score, confusion_matrix, mean_squared_error\n",
    "from scipy.stats import uniform, randint\n",
    "from xgboost.sklearn import XGBClassifier \n",
    "import scipy.stats as st\n",
    "from sklearn.model_selection import RandomizedSearchCV\n",
    "import xgboost as xgb\n",
    "from sklearn.preprocessing import StandardScaler"
   ]
  },
  {
   "cell_type": "markdown",
   "metadata": {},
   "source": [
    "#### Loading of the data"
   ]
  },
  {
   "cell_type": "code",
   "execution_count": 2,
   "metadata": {},
   "outputs": [],
   "source": [
    "X = np.loadtxt('xtrain_challenge.csv', delimiter=',', skiprows = 1)\n",
    "Y = np.loadtxt('ytrain_challenge.csv', delimiter=',', skiprows = 1)"
   ]
  },
  {
   "cell_type": "code",
   "execution_count": 3,
   "metadata": {},
   "outputs": [],
   "source": [
    "#Chargement des données test\n",
    "X_exam = np.loadtxt('xtest_challenge.csv', delimiter=',', skiprows = 1)"
   ]
  },
  {
   "cell_type": "markdown",
   "metadata": {},
   "source": [
    "#### We shuffle the data"
   ]
  },
  {
   "cell_type": "code",
   "execution_count": 7,
   "metadata": {},
   "outputs": [],
   "source": [
    "\n",
    "\"\"\"\"X1=X[Y==1]\n",
    "X0=X[Y==0]\n",
    "Y1=Y[Y==1]\n",
    "Y0=Y[Y==0]\"\"\"\n",
    "\n",
    "N=X.shape[0]\n",
    "ordre=np.arange(0,N)\n",
    "np.random.shuffle(ordre)\n",
    "\n",
    "# Use as new variables\n",
    "X=X[ordre[:]]\n",
    "Y=Y[ordre[:]]\n",
    "\n",
    "#X=np.concatenate((X0,X1))\n",
    "#Y=np.concatenate((Y0,Y1))"
   ]
  },
  {
   "cell_type": "markdown",
   "metadata": {},
   "source": [
    "#### Observation of the data"
   ]
  },
  {
   "cell_type": "code",
   "execution_count": 27,
   "metadata": {},
   "outputs": [
    {
     "data": {
      "text/plain": [
       "(1068504,)"
      ]
     },
     "execution_count": 27,
     "metadata": {},
     "output_type": "execute_result"
    }
   ],
   "source": [
    "Y.shape"
   ]
  },
  {
   "cell_type": "code",
   "execution_count": 28,
   "metadata": {},
   "outputs": [
    {
     "data": {
      "text/plain": [
       "(1068504, 37)"
      ]
     },
     "execution_count": 28,
     "metadata": {},
     "output_type": "execute_result"
    }
   ],
   "source": [
    "X.shape"
   ]
  },
  {
   "cell_type": "code",
   "execution_count": 29,
   "metadata": {},
   "outputs": [
    {
     "data": {
      "text/plain": [
       "(3318296, 37)"
      ]
     },
     "execution_count": 29,
     "metadata": {},
     "output_type": "execute_result"
    }
   ],
   "source": [
    "X_exam.shape"
   ]
  },
  {
   "cell_type": "code",
   "execution_count": 30,
   "metadata": {},
   "outputs": [
    {
     "data": {
      "text/plain": [
       "0.03705461093266848"
      ]
     },
     "execution_count": 30,
     "metadata": {},
     "output_type": "execute_result"
    }
   ],
   "source": [
    "Y.mean()"
   ]
  },
  {
   "cell_type": "markdown",
   "metadata": {},
   "source": [
    "We observe that 96% of the data has the label has the label 1. "
   ]
  },
  {
   "cell_type": "markdown",
   "metadata": {},
   "source": [
    "#### Scale of the data"
   ]
  },
  {
   "cell_type": "markdown",
   "metadata": {},
   "source": [
    "XXXXXXX"
   ]
  },
  {
   "cell_type": "markdown",
   "metadata": {},
   "source": [
    "#### Division of the data in training set/ test set"
   ]
  },
  {
   "cell_type": "markdown",
   "metadata": {},
   "source": [
    "Sometimes, we are going to use only 1/8 of our data, to make our training faster"
   ]
  },
  {
   "cell_type": "code",
   "execution_count": 8,
   "metadata": {},
   "outputs": [],
   "source": [
    "N=len(X)\n",
    "\n",
    "X=X[:N//8]\n",
    "Y=Y[:N//8]"
   ]
  },
  {
   "cell_type": "code",
   "execution_count": 9,
   "metadata": {},
   "outputs": [],
   "source": [
    "X_train, X_test ,y_train, y_test = train_test_split(X,Y, test_size=0.33, random_state=42\n",
    ")"
   ]
  },
  {
   "cell_type": "markdown",
   "metadata": {},
   "source": [
    "## First try : KNN"
   ]
  },
  {
   "cell_type": "code",
   "execution_count": 33,
   "metadata": {},
   "outputs": [
    {
     "data": {
      "text/plain": [
       "KNeighborsClassifier(algorithm='auto', leaf_size=30, metric='minkowski',\n",
       "                     metric_params=None, n_jobs=None, n_neighbors=10, p=2,\n",
       "                     weights='uniform')"
      ]
     },
     "execution_count": 33,
     "metadata": {},
     "output_type": "execute_result"
    }
   ],
   "source": [
    "KNN = KNeighborsClassifier(n_neighbors=10)\n",
    "KNN.fit(X_train,y_train)"
   ]
  },
  {
   "cell_type": "code",
   "execution_count": 35,
   "metadata": {},
   "outputs": [
    {
     "data": {
      "text/plain": [
       "0.9974968431168774"
      ]
     },
     "execution_count": 35,
     "metadata": {},
     "output_type": "execute_result"
    }
   ],
   "source": [
    "KNN.score(X_train,y_train)"
   ]
  },
  {
   "cell_type": "code",
   "execution_count": 36,
   "metadata": {},
   "outputs": [
    {
     "data": {
      "text/plain": [
       "0.9970732371358563"
      ]
     },
     "execution_count": 36,
     "metadata": {},
     "output_type": "execute_result"
    }
   ],
   "source": [
    "NN.score(X_test,y_test)"
   ]
  },
  {
   "cell_type": "markdown",
   "metadata": {},
   "source": [
    "Dataset| Scores \n",
    "- |-: \n",
    "training set  | 99,75%\n",
    "test set | 99,71% "
   ]
  },
  {
   "cell_type": "markdown",
   "metadata": {},
   "source": [
    "We see that even we a very simple model, we reach excellent scores."
   ]
  },
  {
   "cell_type": "markdown",
   "metadata": {},
   "source": [
    "Without looking as the best parameter n_neihbors, we are going to test directly a more complex classifier."
   ]
  },
  {
   "cell_type": "markdown",
   "metadata": {},
   "source": [
    "## SVM"
   ]
  },
  {
   "cell_type": "code",
   "execution_count": 10,
   "metadata": {},
   "outputs": [],
   "source": [
    "mean_on_train=X_train.mean(axis=0)\n",
    "std_on_train=X_train.std(axis=0)\n",
    "\n",
    "X_train_scaled=(X_train-mean_on_train)/std_on_train\n",
    "X_test_scaled=(X_test-mean_on_train)/std_on_train\n",
    "X_exam_scaled=(X_exam-mean_on_train)/std_on_train"
   ]
  },
  {
   "cell_type": "code",
   "execution_count": 108,
   "metadata": {},
   "outputs": [
    {
     "name": "stderr",
     "output_type": "stream",
     "text": [
      "/home/paul/.local/lib/python3.6/site-packages/sklearn/svm/_base.py:947: ConvergenceWarning: Liblinear failed to converge, increase the number of iterations.\n",
      "  \"the number of iterations.\", ConvergenceWarning)\n"
     ]
    },
    {
     "data": {
      "text/plain": [
       "LinearSVC(C=0.1, class_weight={0: 1, 1: 1}, dual=True, fit_intercept=True,\n",
       "          intercept_scaling=1, loss='squared_hinge', max_iter=1000,\n",
       "          multi_class='ovr', penalty='l2', random_state=None, tol=0.0001,\n",
       "          verbose=0)"
      ]
     },
     "execution_count": 108,
     "metadata": {},
     "output_type": "execute_result"
    }
   ],
   "source": [
    "svm1=LinearSVC(C=0.1,class_weight={0:1,1:1})\n",
    "svm1.fit(X_train_scaled,y_train)"
   ]
  },
  {
   "cell_type": "code",
   "execution_count": 109,
   "metadata": {},
   "outputs": [
    {
     "data": {
      "text/plain": [
       "0.997932660609921"
      ]
     },
     "execution_count": 109,
     "metadata": {},
     "output_type": "execute_result"
    }
   ],
   "source": [
    "svm1.score(X_train_scaled,y_train)"
   ]
  },
  {
   "cell_type": "code",
   "execution_count": 110,
   "metadata": {},
   "outputs": [
    {
     "data": {
      "text/plain": [
       "0.9979580724203648"
      ]
     },
     "execution_count": 110,
     "metadata": {},
     "output_type": "execute_result"
    }
   ],
   "source": [
    "svm1.score(X_test_scaled,y_test)"
   ]
  },
  {
   "cell_type": "markdown",
   "metadata": {},
   "source": [
    "We are looking for best parameters"
   ]
  },
  {
   "cell_type": "code",
   "execution_count": 95,
   "metadata": {},
   "outputs": [],
   "source": [
    "parameters={'C':[0.01,0.1,1],\n",
    "           'class_weight': [{0:1,1:1},{0:1,1:5},{0:1,1:15}]}"
   ]
  },
  {
   "cell_type": "code",
   "execution_count": 96,
   "metadata": {},
   "outputs": [
    {
     "name": "stderr",
     "output_type": "stream",
     "text": [
      "/home/paul/.local/lib/python3.6/site-packages/sklearn/svm/_base.py:947: ConvergenceWarning: Liblinear failed to converge, increase the number of iterations.\n",
      "  \"the number of iterations.\", ConvergenceWarning)\n",
      "/home/paul/.local/lib/python3.6/site-packages/sklearn/svm/_base.py:947: ConvergenceWarning: Liblinear failed to converge, increase the number of iterations.\n",
      "  \"the number of iterations.\", ConvergenceWarning)\n",
      "/home/paul/.local/lib/python3.6/site-packages/sklearn/svm/_base.py:947: ConvergenceWarning: Liblinear failed to converge, increase the number of iterations.\n",
      "  \"the number of iterations.\", ConvergenceWarning)\n",
      "/home/paul/.local/lib/python3.6/site-packages/sklearn/svm/_base.py:947: ConvergenceWarning: Liblinear failed to converge, increase the number of iterations.\n",
      "  \"the number of iterations.\", ConvergenceWarning)\n",
      "/home/paul/.local/lib/python3.6/site-packages/sklearn/svm/_base.py:947: ConvergenceWarning: Liblinear failed to converge, increase the number of iterations.\n",
      "  \"the number of iterations.\", ConvergenceWarning)\n",
      "/home/paul/.local/lib/python3.6/site-packages/sklearn/svm/_base.py:947: ConvergenceWarning: Liblinear failed to converge, increase the number of iterations.\n",
      "  \"the number of iterations.\", ConvergenceWarning)\n",
      "/home/paul/.local/lib/python3.6/site-packages/sklearn/svm/_base.py:947: ConvergenceWarning: Liblinear failed to converge, increase the number of iterations.\n",
      "  \"the number of iterations.\", ConvergenceWarning)\n",
      "/home/paul/.local/lib/python3.6/site-packages/sklearn/svm/_base.py:947: ConvergenceWarning: Liblinear failed to converge, increase the number of iterations.\n",
      "  \"the number of iterations.\", ConvergenceWarning)\n",
      "/home/paul/.local/lib/python3.6/site-packages/sklearn/svm/_base.py:947: ConvergenceWarning: Liblinear failed to converge, increase the number of iterations.\n",
      "  \"the number of iterations.\", ConvergenceWarning)\n",
      "/home/paul/.local/lib/python3.6/site-packages/sklearn/svm/_base.py:947: ConvergenceWarning: Liblinear failed to converge, increase the number of iterations.\n",
      "  \"the number of iterations.\", ConvergenceWarning)\n",
      "/home/paul/.local/lib/python3.6/site-packages/sklearn/svm/_base.py:947: ConvergenceWarning: Liblinear failed to converge, increase the number of iterations.\n",
      "  \"the number of iterations.\", ConvergenceWarning)\n",
      "/home/paul/.local/lib/python3.6/site-packages/sklearn/svm/_base.py:947: ConvergenceWarning: Liblinear failed to converge, increase the number of iterations.\n",
      "  \"the number of iterations.\", ConvergenceWarning)\n",
      "/home/paul/.local/lib/python3.6/site-packages/sklearn/svm/_base.py:947: ConvergenceWarning: Liblinear failed to converge, increase the number of iterations.\n",
      "  \"the number of iterations.\", ConvergenceWarning)\n",
      "/home/paul/.local/lib/python3.6/site-packages/sklearn/svm/_base.py:947: ConvergenceWarning: Liblinear failed to converge, increase the number of iterations.\n",
      "  \"the number of iterations.\", ConvergenceWarning)\n",
      "/home/paul/.local/lib/python3.6/site-packages/sklearn/svm/_base.py:947: ConvergenceWarning: Liblinear failed to converge, increase the number of iterations.\n",
      "  \"the number of iterations.\", ConvergenceWarning)\n",
      "/home/paul/.local/lib/python3.6/site-packages/sklearn/svm/_base.py:947: ConvergenceWarning: Liblinear failed to converge, increase the number of iterations.\n",
      "  \"the number of iterations.\", ConvergenceWarning)\n",
      "/home/paul/.local/lib/python3.6/site-packages/sklearn/svm/_base.py:947: ConvergenceWarning: Liblinear failed to converge, increase the number of iterations.\n",
      "  \"the number of iterations.\", ConvergenceWarning)\n",
      "/home/paul/.local/lib/python3.6/site-packages/sklearn/svm/_base.py:947: ConvergenceWarning: Liblinear failed to converge, increase the number of iterations.\n",
      "  \"the number of iterations.\", ConvergenceWarning)\n",
      "/home/paul/.local/lib/python3.6/site-packages/sklearn/svm/_base.py:947: ConvergenceWarning: Liblinear failed to converge, increase the number of iterations.\n",
      "  \"the number of iterations.\", ConvergenceWarning)\n",
      "/home/paul/.local/lib/python3.6/site-packages/sklearn/svm/_base.py:947: ConvergenceWarning: Liblinear failed to converge, increase the number of iterations.\n",
      "  \"the number of iterations.\", ConvergenceWarning)\n",
      "/home/paul/.local/lib/python3.6/site-packages/sklearn/svm/_base.py:947: ConvergenceWarning: Liblinear failed to converge, increase the number of iterations.\n",
      "  \"the number of iterations.\", ConvergenceWarning)\n",
      "/home/paul/.local/lib/python3.6/site-packages/sklearn/svm/_base.py:947: ConvergenceWarning: Liblinear failed to converge, increase the number of iterations.\n",
      "  \"the number of iterations.\", ConvergenceWarning)\n",
      "/home/paul/.local/lib/python3.6/site-packages/sklearn/svm/_base.py:947: ConvergenceWarning: Liblinear failed to converge, increase the number of iterations.\n",
      "  \"the number of iterations.\", ConvergenceWarning)\n",
      "/home/paul/.local/lib/python3.6/site-packages/sklearn/svm/_base.py:947: ConvergenceWarning: Liblinear failed to converge, increase the number of iterations.\n",
      "  \"the number of iterations.\", ConvergenceWarning)\n",
      "/home/paul/.local/lib/python3.6/site-packages/sklearn/svm/_base.py:947: ConvergenceWarning: Liblinear failed to converge, increase the number of iterations.\n",
      "  \"the number of iterations.\", ConvergenceWarning)\n",
      "/home/paul/.local/lib/python3.6/site-packages/sklearn/svm/_base.py:947: ConvergenceWarning: Liblinear failed to converge, increase the number of iterations.\n",
      "  \"the number of iterations.\", ConvergenceWarning)\n",
      "/home/paul/.local/lib/python3.6/site-packages/sklearn/svm/_base.py:947: ConvergenceWarning: Liblinear failed to converge, increase the number of iterations.\n",
      "  \"the number of iterations.\", ConvergenceWarning)\n",
      "/home/paul/.local/lib/python3.6/site-packages/sklearn/svm/_base.py:947: ConvergenceWarning: Liblinear failed to converge, increase the number of iterations.\n",
      "  \"the number of iterations.\", ConvergenceWarning)\n",
      "/home/paul/.local/lib/python3.6/site-packages/sklearn/svm/_base.py:947: ConvergenceWarning: Liblinear failed to converge, increase the number of iterations.\n",
      "  \"the number of iterations.\", ConvergenceWarning)\n",
      "/home/paul/.local/lib/python3.6/site-packages/sklearn/svm/_base.py:947: ConvergenceWarning: Liblinear failed to converge, increase the number of iterations.\n",
      "  \"the number of iterations.\", ConvergenceWarning)\n",
      "/home/paul/.local/lib/python3.6/site-packages/sklearn/svm/_base.py:947: ConvergenceWarning: Liblinear failed to converge, increase the number of iterations.\n",
      "  \"the number of iterations.\", ConvergenceWarning)\n",
      "/home/paul/.local/lib/python3.6/site-packages/sklearn/svm/_base.py:947: ConvergenceWarning: Liblinear failed to converge, increase the number of iterations.\n",
      "  \"the number of iterations.\", ConvergenceWarning)\n",
      "/home/paul/.local/lib/python3.6/site-packages/sklearn/svm/_base.py:947: ConvergenceWarning: Liblinear failed to converge, increase the number of iterations.\n",
      "  \"the number of iterations.\", ConvergenceWarning)\n",
      "/home/paul/.local/lib/python3.6/site-packages/sklearn/svm/_base.py:947: ConvergenceWarning: Liblinear failed to converge, increase the number of iterations.\n",
      "  \"the number of iterations.\", ConvergenceWarning)\n",
      "/home/paul/.local/lib/python3.6/site-packages/sklearn/svm/_base.py:947: ConvergenceWarning: Liblinear failed to converge, increase the number of iterations.\n",
      "  \"the number of iterations.\", ConvergenceWarning)\n",
      "/home/paul/.local/lib/python3.6/site-packages/sklearn/svm/_base.py:947: ConvergenceWarning: Liblinear failed to converge, increase the number of iterations.\n",
      "  \"the number of iterations.\", ConvergenceWarning)\n",
      "/home/paul/.local/lib/python3.6/site-packages/sklearn/svm/_base.py:947: ConvergenceWarning: Liblinear failed to converge, increase the number of iterations.\n",
      "  \"the number of iterations.\", ConvergenceWarning)\n",
      "/home/paul/.local/lib/python3.6/site-packages/sklearn/svm/_base.py:947: ConvergenceWarning: Liblinear failed to converge, increase the number of iterations.\n",
      "  \"the number of iterations.\", ConvergenceWarning)\n",
      "/home/paul/.local/lib/python3.6/site-packages/sklearn/svm/_base.py:947: ConvergenceWarning: Liblinear failed to converge, increase the number of iterations.\n",
      "  \"the number of iterations.\", ConvergenceWarning)\n",
      "/home/paul/.local/lib/python3.6/site-packages/sklearn/svm/_base.py:947: ConvergenceWarning: Liblinear failed to converge, increase the number of iterations.\n",
      "  \"the number of iterations.\", ConvergenceWarning)\n"
     ]
    },
    {
     "data": {
      "text/plain": [
       "GridSearchCV(cv=None, error_score=nan,\n",
       "             estimator=LinearSVC(C=1.0, class_weight=None, dual=True,\n",
       "                                 fit_intercept=True, intercept_scaling=1,\n",
       "                                 loss='squared_hinge', max_iter=1000,\n",
       "                                 multi_class='ovr', penalty='l2',\n",
       "                                 random_state=None, tol=0.0001, verbose=0),\n",
       "             iid='deprecated', n_jobs=None,\n",
       "             param_grid={'C': [0.01, 0.1, 1],\n",
       "                         'class_weight': [{0: 1, 1: 1}, {0: 1, 1: 5},\n",
       "                                          {0: 1, 1: 15}]},\n",
       "             pre_dispatch='2*n_jobs', refit=True, return_train_score=False,\n",
       "             scoring=None, verbose=0)"
      ]
     },
     "execution_count": 96,
     "metadata": {},
     "output_type": "execute_result"
    }
   ],
   "source": [
    "grid = GridSearchCV(LinearSVC(), parameters)\n",
    "grid.fit(X_train_scaled,y_train)"
   ]
  },
  {
   "cell_type": "code",
   "execution_count": 97,
   "metadata": {},
   "outputs": [
    {
     "data": {
      "text/plain": [
       "{'C': 0.1, 'class_weight': {0: 1, 1: 1}}"
      ]
     },
     "execution_count": 97,
     "metadata": {},
     "output_type": "execute_result"
    }
   ],
   "source": [
    "grid.best_params_"
   ]
  },
  {
   "cell_type": "code",
   "execution_count": 98,
   "metadata": {},
   "outputs": [
    {
     "data": {
      "text/plain": [
       "0.9977985661648525"
      ]
     },
     "execution_count": 98,
     "metadata": {},
     "output_type": "execute_result"
    }
   ],
   "source": [
    "grid.best_score_"
   ]
  },
  {
   "cell_type": "code",
   "execution_count": 111,
   "metadata": {},
   "outputs": [],
   "source": [
    "svm2=LinearSVC(C=0.01,class_weight={0:1,1:1})"
   ]
  },
  {
   "cell_type": "code",
   "execution_count": 112,
   "metadata": {},
   "outputs": [
    {
     "data": {
      "text/plain": [
       "LinearSVC(C=0.01, class_weight={0: 1, 1: 1}, dual=True, fit_intercept=True,\n",
       "          intercept_scaling=1, loss='squared_hinge', max_iter=1000,\n",
       "          multi_class='ovr', penalty='l2', random_state=None, tol=0.0001,\n",
       "          verbose=0)"
      ]
     },
     "execution_count": 112,
     "metadata": {},
     "output_type": "execute_result"
    }
   ],
   "source": [
    "svm2.fit(X_train_scaled,y_train)"
   ]
  },
  {
   "cell_type": "code",
   "execution_count": 113,
   "metadata": {},
   "outputs": [
    {
     "data": {
      "text/plain": [
       "0.9978656117648373"
      ]
     },
     "execution_count": 113,
     "metadata": {},
     "output_type": "execute_result"
    }
   ],
   "source": [
    "svm2.score(X_train_scaled,y_train)"
   ]
  },
  {
   "cell_type": "code",
   "execution_count": 114,
   "metadata": {},
   "outputs": [
    {
     "data": {
      "text/plain": [
       "0.9978673200834921"
      ]
     },
     "execution_count": 114,
     "metadata": {},
     "output_type": "execute_result"
    }
   ],
   "source": [
    "svm2.score(X_test_scaled,y_test)"
   ]
  },
  {
   "cell_type": "markdown",
   "metadata": {},
   "source": [
    "Dataset| Scores \n",
    "- |-: \n",
    "training set  | 99,787%\n",
    "test set | 99,787% "
   ]
  },
  {
   "cell_type": "markdown",
   "metadata": {},
   "source": [
    "## MLP Classifier"
   ]
  },
  {
   "cell_type": "code",
   "execution_count": 11,
   "metadata": {},
   "outputs": [],
   "source": [
    "mlp=MLPClassifier(hidden_layer_sizes=(15,),verbose=1,max_iter=500,random_state=0)"
   ]
  },
  {
   "cell_type": "code",
   "execution_count": 12,
   "metadata": {},
   "outputs": [
    {
     "name": "stdout",
     "output_type": "stream",
     "text": [
      "Iteration 1, loss = 0.15308718\n",
      "Iteration 2, loss = 0.02765097\n",
      "Iteration 3, loss = 0.01723279\n",
      "Iteration 4, loss = 0.01312226\n",
      "Iteration 5, loss = 0.01078041\n",
      "Iteration 6, loss = 0.00936646\n",
      "Iteration 7, loss = 0.00841384\n",
      "Iteration 8, loss = 0.00766408\n",
      "Iteration 9, loss = 0.00714035\n",
      "Iteration 10, loss = 0.00676605\n",
      "Iteration 11, loss = 0.00645041\n",
      "Iteration 12, loss = 0.00627225\n",
      "Iteration 13, loss = 0.00610646\n",
      "Iteration 14, loss = 0.00601082\n",
      "Iteration 15, loss = 0.00580699\n",
      "Iteration 16, loss = 0.00574238\n",
      "Iteration 17, loss = 0.00558155\n",
      "Iteration 18, loss = 0.00553334\n",
      "Iteration 19, loss = 0.00543309\n",
      "Iteration 20, loss = 0.00533248\n",
      "Iteration 21, loss = 0.00529160\n",
      "Iteration 22, loss = 0.00514960\n",
      "Iteration 23, loss = 0.00511403\n",
      "Iteration 24, loss = 0.00503070\n",
      "Iteration 25, loss = 0.00500439\n",
      "Iteration 26, loss = 0.00488087\n",
      "Iteration 27, loss = 0.00484650\n",
      "Iteration 28, loss = 0.00482451\n",
      "Iteration 29, loss = 0.00473317\n",
      "Iteration 30, loss = 0.00468218\n",
      "Iteration 31, loss = 0.00461855\n",
      "Iteration 32, loss = 0.00453951\n",
      "Iteration 33, loss = 0.00458155\n",
      "Iteration 34, loss = 0.00444909\n",
      "Iteration 35, loss = 0.00443149\n",
      "Iteration 36, loss = 0.00433044\n",
      "Iteration 37, loss = 0.00425743\n",
      "Iteration 38, loss = 0.00426933\n",
      "Iteration 39, loss = 0.00424552\n",
      "Iteration 40, loss = 0.00415607\n",
      "Iteration 41, loss = 0.00419344\n",
      "Iteration 42, loss = 0.00412761\n",
      "Iteration 43, loss = 0.00402809\n",
      "Iteration 44, loss = 0.00399834\n",
      "Iteration 45, loss = 0.00409674\n",
      "Iteration 46, loss = 0.00399001\n",
      "Iteration 47, loss = 0.00398872\n",
      "Training loss did not improve more than tol=0.000100 for 10 consecutive epochs. Stopping.\n"
     ]
    },
    {
     "data": {
      "text/plain": [
       "MLPClassifier(activation='relu', alpha=0.0001, batch_size='auto', beta_1=0.9,\n",
       "              beta_2=0.999, early_stopping=False, epsilon=1e-08,\n",
       "              hidden_layer_sizes=(15,), learning_rate='constant',\n",
       "              learning_rate_init=0.001, max_fun=15000, max_iter=500,\n",
       "              momentum=0.9, n_iter_no_change=10, nesterovs_momentum=True,\n",
       "              power_t=0.5, random_state=0, shuffle=True, solver='adam',\n",
       "              tol=0.0001, validation_fraction=0.1, verbose=1, warm_start=False)"
      ]
     },
     "execution_count": 12,
     "metadata": {},
     "output_type": "execute_result"
    }
   ],
   "source": [
    "mlp.fit(X_train_scaled,y_train)"
   ]
  },
  {
   "cell_type": "code",
   "execution_count": 13,
   "metadata": {},
   "outputs": [
    {
     "data": {
      "text/plain": [
       "0.9988489948260642"
      ]
     },
     "execution_count": 13,
     "metadata": {},
     "output_type": "execute_result"
    }
   ],
   "source": [
    "mlp.score(X_train_scaled,y_train)"
   ]
  },
  {
   "cell_type": "code",
   "execution_count": 14,
   "metadata": {},
   "outputs": [
    {
     "data": {
      "text/plain": [
       "0.9982757055994191"
      ]
     },
     "execution_count": 14,
     "metadata": {},
     "output_type": "execute_result"
    }
   ],
   "source": [
    "mlp.score(X_test_scaled,y_test)"
   ]
  },
  {
   "cell_type": "markdown",
   "metadata": {},
   "source": [
    "Dataset| Scores \n",
    "- |-: \n",
    "training set  | 99,88%\n",
    "test set | 99,82% "
   ]
  },
  {
   "cell_type": "markdown",
   "metadata": {},
   "source": [
    "Without doing any gridsearch, just by testing a MLP with one layer and 15 neurons, we reach very good scores.\n",
    "We are going to test if we can improve it by doing a grisearch on certain parameters of our MLP."
   ]
  },
  {
   "cell_type": "code",
   "execution_count": 125,
   "metadata": {},
   "outputs": [
    {
     "ename": "SyntaxError",
     "evalue": "positional argument follows keyword argument (<ipython-input-125-8e535e71286c>, line 11)",
     "output_type": "error",
     "traceback": [
      "\u001b[0;36m  File \u001b[0;32m\"<ipython-input-125-8e535e71286c>\"\u001b[0;36m, line \u001b[0;32m11\u001b[0m\n\u001b[0;31m    grid = RandomizedSearchCV(estimator = model, param, n_iter=100, verbose=1, cv=3)\u001b[0m\n\u001b[0m                                                ^\u001b[0m\n\u001b[0;31mSyntaxError\u001b[0m\u001b[0;31m:\u001b[0m positional argument follows keyword argument\n"
     ]
    }
   ],
   "source": [
    "res=[]\n",
    "for i in range(20):\n",
    "    for j in range(20):\n",
    "        res.append((i,j))\n",
    "    res.append((i,))\n",
    "\n",
    "param = {\n",
    "    'hidden_layer_sizes': res}\n",
    "\n",
    "model = MLPClassifier(max_iter=300,verbose=1)\n",
    "grid = RandomizedSearchCV(estimator = model, param, n_iter=100, verbose=1, cv=3)\n",
    "grid.fit(X_train_scaled, y_train)\n",
    "\n",
    "print('The best hidden_layer_sizes is', grid.best_params_.get('hidden_layer_sizes'), ' with an average validation score equal to ', grid.best_score_)\n",
    "\n",
    "\n",
    "# Let's now use the best model to assess the test score\n",
    "BestModel=grid.best_estimator_\n",
    "\n",
    "print('The test score is', BestModel.score(X_test_scaled, y_test))"
   ]
  },
  {
   "cell_type": "markdown",
   "metadata": {},
   "source": [
    "## XGBOOST"
   ]
  },
  {
   "cell_type": "markdown",
   "metadata": {},
   "source": [
    "In an attempt to further improve our score, we decided to learn more about the models that frequently win machine learning competitions. \n",
    "That's how we found a model that frequently seemed to be above the others, called xgboost. \n",
    "\n",
    "What is XGBoost? \n",
    "\n",
    "XGBoost is a decision-tree-based ensemble Machine Learning algorithm that uses a gradient boosting framework."
   ]
  },
  {
   "cell_type": "code",
   "execution_count": null,
   "metadata": {},
   "outputs": [],
   "source": []
  },
  {
   "cell_type": "code",
   "execution_count": 10,
   "metadata": {},
   "outputs": [],
   "source": [
    "params_fixed={'objective':'binary:logistic','silent':0}"
   ]
  },
  {
   "cell_type": "code",
   "execution_count": 11,
   "metadata": {},
   "outputs": [],
   "source": [
    "params_dist_grid={\n",
    "    'max_depth':range(3,10,2),\n",
    "    'gamma':[0,0.5,1],\n",
    "    'n_estimators':randint(30,500),\n",
    "    'learning_rate':uniform(),\n",
    "    'subsample':uniform(),\n",
    "    'colsample_bytree':uniform()\n",
    "}"
   ]
  },
  {
   "cell_type": "markdown",
   "metadata": {},
   "source": [
    "Ne pas toucher c'est très long"
   ]
  },
  {
   "cell_type": "code",
   "execution_count": 23,
   "metadata": {},
   "outputs": [],
   "source": [
    "rd_grid=RandomizedSearchCV(\n",
    "    estimator=XGBClassifier(**params_fixed,seed=seed),param_distributions=params_dist_grid,\n",
    "n_iter=50,\n",
    "cv=3,\n",
    "scoring='accuracy',\n",
    "random_state=seed,\n",
    "verbose=10\n",
    ")"
   ]
  },
  {
   "cell_type": "code",
   "execution_count": null,
   "metadata": {},
   "outputs": [],
   "source": []
  },
  {
   "cell_type": "code",
   "execution_count": 24,
   "metadata": {},
   "outputs": [
    {
     "name": "stdout",
     "output_type": "stream",
     "text": [
      "Fitting 3 folds for each of 50 candidates, totalling 150 fits\n",
      "[CV] colsample_bytree=0.06503439684192913, gamma=0, learning_rate=0.24756150723102166, max_depth=7, n_estimators=34, subsample=0.11848249237448605 \n"
     ]
    },
    {
     "name": "stderr",
     "output_type": "stream",
     "text": [
      "[Parallel(n_jobs=1)]: Using backend SequentialBackend with 1 concurrent workers.\n"
     ]
    },
    {
     "name": "stdout",
     "output_type": "stream",
     "text": [
      "[CV]  colsample_bytree=0.06503439684192913, gamma=0, learning_rate=0.24756150723102166, max_depth=7, n_estimators=34, subsample=0.11848249237448605, score=0.997, total=   4.3s\n",
      "[CV] colsample_bytree=0.06503439684192913, gamma=0, learning_rate=0.24756150723102166, max_depth=7, n_estimators=34, subsample=0.11848249237448605 \n"
     ]
    },
    {
     "name": "stderr",
     "output_type": "stream",
     "text": [
      "[Parallel(n_jobs=1)]: Done   1 out of   1 | elapsed:    4.3s remaining:    0.0s\n"
     ]
    },
    {
     "name": "stdout",
     "output_type": "stream",
     "text": [
      "[CV]  colsample_bytree=0.06503439684192913, gamma=0, learning_rate=0.24756150723102166, max_depth=7, n_estimators=34, subsample=0.11848249237448605, score=0.996, total=   4.2s\n",
      "[CV] colsample_bytree=0.06503439684192913, gamma=0, learning_rate=0.24756150723102166, max_depth=7, n_estimators=34, subsample=0.11848249237448605 \n"
     ]
    },
    {
     "name": "stderr",
     "output_type": "stream",
     "text": [
      "[Parallel(n_jobs=1)]: Done   2 out of   2 | elapsed:    8.5s remaining:    0.0s\n"
     ]
    },
    {
     "name": "stdout",
     "output_type": "stream",
     "text": [
      "[CV]  colsample_bytree=0.06503439684192913, gamma=0, learning_rate=0.24756150723102166, max_depth=7, n_estimators=34, subsample=0.11848249237448605, score=0.997, total=   4.2s\n",
      "[CV] colsample_bytree=0.13214054942810016, gamma=0, learning_rate=0.4325346125891868, max_depth=3, n_estimators=457, subsample=0.8942723823370169 \n"
     ]
    },
    {
     "name": "stderr",
     "output_type": "stream",
     "text": [
      "[Parallel(n_jobs=1)]: Done   3 out of   3 | elapsed:   12.6s remaining:    0.0s\n"
     ]
    },
    {
     "name": "stdout",
     "output_type": "stream",
     "text": [
      "[CV]  colsample_bytree=0.13214054942810016, gamma=0, learning_rate=0.4325346125891868, max_depth=3, n_estimators=457, subsample=0.8942723823370169, score=0.999, total=  39.4s\n",
      "[CV] colsample_bytree=0.13214054942810016, gamma=0, learning_rate=0.4325346125891868, max_depth=3, n_estimators=457, subsample=0.8942723823370169 \n"
     ]
    },
    {
     "name": "stderr",
     "output_type": "stream",
     "text": [
      "[Parallel(n_jobs=1)]: Done   4 out of   4 | elapsed:   52.0s remaining:    0.0s\n"
     ]
    },
    {
     "name": "stdout",
     "output_type": "stream",
     "text": [
      "[CV]  colsample_bytree=0.13214054942810016, gamma=0, learning_rate=0.4325346125891868, max_depth=3, n_estimators=457, subsample=0.8942723823370169, score=0.999, total=  39.7s\n",
      "[CV] colsample_bytree=0.13214054942810016, gamma=0, learning_rate=0.4325346125891868, max_depth=3, n_estimators=457, subsample=0.8942723823370169 \n"
     ]
    },
    {
     "name": "stderr",
     "output_type": "stream",
     "text": [
      "[Parallel(n_jobs=1)]: Done   5 out of   5 | elapsed:  1.5min remaining:    0.0s\n"
     ]
    },
    {
     "name": "stdout",
     "output_type": "stream",
     "text": [
      "[CV]  colsample_bytree=0.13214054942810016, gamma=0, learning_rate=0.4325346125891868, max_depth=3, n_estimators=457, subsample=0.8942723823370169, score=0.999, total=  40.0s\n",
      "[CV] colsample_bytree=0.1523931947190449, gamma=1, learning_rate=0.23096728629607655, max_depth=7, n_estimators=91, subsample=0.7099300190073073 \n"
     ]
    },
    {
     "name": "stderr",
     "output_type": "stream",
     "text": [
      "[Parallel(n_jobs=1)]: Done   6 out of   6 | elapsed:  2.2min remaining:    0.0s\n"
     ]
    },
    {
     "name": "stdout",
     "output_type": "stream",
     "text": [
      "[CV]  colsample_bytree=0.1523931947190449, gamma=1, learning_rate=0.23096728629607655, max_depth=7, n_estimators=91, subsample=0.7099300190073073, score=0.998, total=  16.0s\n",
      "[CV] colsample_bytree=0.1523931947190449, gamma=1, learning_rate=0.23096728629607655, max_depth=7, n_estimators=91, subsample=0.7099300190073073 \n"
     ]
    },
    {
     "name": "stderr",
     "output_type": "stream",
     "text": [
      "[Parallel(n_jobs=1)]: Done   7 out of   7 | elapsed:  2.5min remaining:    0.0s\n"
     ]
    },
    {
     "name": "stdout",
     "output_type": "stream",
     "text": [
      "[CV]  colsample_bytree=0.1523931947190449, gamma=1, learning_rate=0.23096728629607655, max_depth=7, n_estimators=91, subsample=0.7099300190073073, score=0.999, total=  16.0s\n",
      "[CV] colsample_bytree=0.1523931947190449, gamma=1, learning_rate=0.23096728629607655, max_depth=7, n_estimators=91, subsample=0.7099300190073073 \n"
     ]
    },
    {
     "name": "stderr",
     "output_type": "stream",
     "text": [
      "[Parallel(n_jobs=1)]: Done   8 out of   8 | elapsed:  2.7min remaining:    0.0s\n"
     ]
    },
    {
     "name": "stdout",
     "output_type": "stream",
     "text": [
      "[CV]  colsample_bytree=0.1523931947190449, gamma=1, learning_rate=0.23096728629607655, max_depth=7, n_estimators=91, subsample=0.7099300190073073, score=0.999, total=  20.3s\n",
      "[CV] colsample_bytree=0.22187963515640408, gamma=1, learning_rate=0.3807697564898246, max_depth=7, n_estimators=142, subsample=0.8058014316376573 \n"
     ]
    },
    {
     "name": "stderr",
     "output_type": "stream",
     "text": [
      "[Parallel(n_jobs=1)]: Done   9 out of   9 | elapsed:  3.1min remaining:    0.0s\n"
     ]
    },
    {
     "name": "stdout",
     "output_type": "stream",
     "text": [
      "[CV]  colsample_bytree=0.22187963515640408, gamma=1, learning_rate=0.3807697564898246, max_depth=7, n_estimators=142, subsample=0.8058014316376573, score=0.999, total=  31.6s\n",
      "[CV] colsample_bytree=0.22187963515640408, gamma=1, learning_rate=0.3807697564898246, max_depth=7, n_estimators=142, subsample=0.8058014316376573 \n",
      "[CV]  colsample_bytree=0.22187963515640408, gamma=1, learning_rate=0.3807697564898246, max_depth=7, n_estimators=142, subsample=0.8058014316376573, score=0.999, total=  28.2s\n",
      "[CV] colsample_bytree=0.22187963515640408, gamma=1, learning_rate=0.3807697564898246, max_depth=7, n_estimators=142, subsample=0.8058014316376573 \n",
      "[CV]  colsample_bytree=0.22187963515640408, gamma=1, learning_rate=0.3807697564898246, max_depth=7, n_estimators=142, subsample=0.8058014316376573, score=0.999, total=  29.0s\n",
      "[CV] colsample_bytree=0.4636309538821305, gamma=0, learning_rate=0.7652628330253548, max_depth=3, n_estimators=217, subsample=0.005635524386628399 \n",
      "[CV]  colsample_bytree=0.4636309538821305, gamma=0, learning_rate=0.7652628330253548, max_depth=3, n_estimators=217, subsample=0.005635524386628399, score=0.997, total=  14.6s\n",
      "[CV] colsample_bytree=0.4636309538821305, gamma=0, learning_rate=0.7652628330253548, max_depth=3, n_estimators=217, subsample=0.005635524386628399 \n",
      "[CV]  colsample_bytree=0.4636309538821305, gamma=0, learning_rate=0.7652628330253548, max_depth=3, n_estimators=217, subsample=0.005635524386628399, score=0.997, total=  14.4s\n",
      "[CV] colsample_bytree=0.4636309538821305, gamma=0, learning_rate=0.7652628330253548, max_depth=3, n_estimators=217, subsample=0.005635524386628399 \n",
      "[CV]  colsample_bytree=0.4636309538821305, gamma=0, learning_rate=0.7652628330253548, max_depth=3, n_estimators=217, subsample=0.005635524386628399, score=0.997, total=  14.8s\n",
      "[CV] colsample_bytree=0.3484693847948471, gamma=0.5, learning_rate=0.501367277763467, max_depth=3, n_estimators=344, subsample=0.7446963541453213 \n",
      "[CV]  colsample_bytree=0.3484693847948471, gamma=0.5, learning_rate=0.501367277763467, max_depth=3, n_estimators=344, subsample=0.7446963541453213, score=0.999, total=  42.1s\n",
      "[CV] colsample_bytree=0.3484693847948471, gamma=0.5, learning_rate=0.501367277763467, max_depth=3, n_estimators=344, subsample=0.7446963541453213 \n",
      "[CV]  colsample_bytree=0.3484693847948471, gamma=0.5, learning_rate=0.501367277763467, max_depth=3, n_estimators=344, subsample=0.7446963541453213, score=0.999, total=  41.1s\n",
      "[CV] colsample_bytree=0.3484693847948471, gamma=0.5, learning_rate=0.501367277763467, max_depth=3, n_estimators=344, subsample=0.7446963541453213 \n",
      "[CV]  colsample_bytree=0.3484693847948471, gamma=0.5, learning_rate=0.501367277763467, max_depth=3, n_estimators=344, subsample=0.7446963541453213, score=0.999, total=  41.6s\n",
      "[CV] colsample_bytree=0.027059952336016435, gamma=0.5, learning_rate=0.32181898059099534, max_depth=7, n_estimators=106, subsample=0.1430695313368998 \n",
      "[CV]  colsample_bytree=0.027059952336016435, gamma=0.5, learning_rate=0.32181898059099534, max_depth=7, n_estimators=106, subsample=0.1430695313368998, score=0.997, total=   9.7s\n",
      "[CV] colsample_bytree=0.027059952336016435, gamma=0.5, learning_rate=0.32181898059099534, max_depth=7, n_estimators=106, subsample=0.1430695313368998 \n",
      "[CV]  colsample_bytree=0.027059952336016435, gamma=0.5, learning_rate=0.32181898059099534, max_depth=7, n_estimators=106, subsample=0.1430695313368998, score=0.997, total=   9.7s\n",
      "[CV] colsample_bytree=0.027059952336016435, gamma=0.5, learning_rate=0.32181898059099534, max_depth=7, n_estimators=106, subsample=0.1430695313368998 \n",
      "[CV]  colsample_bytree=0.027059952336016435, gamma=0.5, learning_rate=0.32181898059099534, max_depth=7, n_estimators=106, subsample=0.1430695313368998, score=0.998, total=   9.7s\n",
      "[CV] colsample_bytree=0.6052416274824561, gamma=0, learning_rate=0.6050492440098373, max_depth=7, n_estimators=304, subsample=0.7395162785706926 \n",
      "[CV]  colsample_bytree=0.6052416274824561, gamma=0, learning_rate=0.6050492440098373, max_depth=7, n_estimators=304, subsample=0.7395162785706926, score=0.999, total= 1.2min\n",
      "[CV] colsample_bytree=0.6052416274824561, gamma=0, learning_rate=0.6050492440098373, max_depth=7, n_estimators=304, subsample=0.7395162785706926 \n",
      "[CV]  colsample_bytree=0.6052416274824561, gamma=0, learning_rate=0.6050492440098373, max_depth=7, n_estimators=304, subsample=0.7395162785706926, score=0.999, total= 1.3min\n",
      "[CV] colsample_bytree=0.6052416274824561, gamma=0, learning_rate=0.6050492440098373, max_depth=7, n_estimators=304, subsample=0.7395162785706926 \n",
      "[CV]  colsample_bytree=0.6052416274824561, gamma=0, learning_rate=0.6050492440098373, max_depth=7, n_estimators=304, subsample=0.7395162785706926, score=0.999, total= 1.3min\n",
      "[CV] colsample_bytree=0.3798729645059653, gamma=0, learning_rate=0.2244110761611232, max_depth=9, n_estimators=212, subsample=0.38626895174139364 \n",
      "[CV]  colsample_bytree=0.3798729645059653, gamma=0, learning_rate=0.2244110761611232, max_depth=9, n_estimators=212, subsample=0.38626895174139364, score=0.999, total=  55.1s\n",
      "[CV] colsample_bytree=0.3798729645059653, gamma=0, learning_rate=0.2244110761611232, max_depth=9, n_estimators=212, subsample=0.38626895174139364 \n",
      "[CV]  colsample_bytree=0.3798729645059653, gamma=0, learning_rate=0.2244110761611232, max_depth=9, n_estimators=212, subsample=0.38626895174139364, score=0.999, total=  53.9s\n",
      "[CV] colsample_bytree=0.3798729645059653, gamma=0, learning_rate=0.2244110761611232, max_depth=9, n_estimators=212, subsample=0.38626895174139364 \n",
      "[CV]  colsample_bytree=0.3798729645059653, gamma=0, learning_rate=0.2244110761611232, max_depth=9, n_estimators=212, subsample=0.38626895174139364, score=0.999, total=  55.1s\n",
      "[CV] colsample_bytree=0.6081741773955259, gamma=0, learning_rate=0.3242569496604357, max_depth=3, n_estimators=487, subsample=0.16575363219645556 \n",
      "[CV]  colsample_bytree=0.6081741773955259, gamma=0, learning_rate=0.3242569496604357, max_depth=3, n_estimators=487, subsample=0.16575363219645556, score=0.998, total=  58.0s\n",
      "[CV] colsample_bytree=0.6081741773955259, gamma=0, learning_rate=0.3242569496604357, max_depth=3, n_estimators=487, subsample=0.16575363219645556 \n",
      "[CV]  colsample_bytree=0.6081741773955259, gamma=0, learning_rate=0.3242569496604357, max_depth=3, n_estimators=487, subsample=0.16575363219645556, score=0.998, total=  57.6s\n",
      "[CV] colsample_bytree=0.6081741773955259, gamma=0, learning_rate=0.3242569496604357, max_depth=3, n_estimators=487, subsample=0.16575363219645556 \n",
      "[CV]  colsample_bytree=0.6081741773955259, gamma=0, learning_rate=0.3242569496604357, max_depth=3, n_estimators=487, subsample=0.16575363219645556, score=0.998, total=  59.0s\n",
      "[CV] colsample_bytree=0.34825342627224587, gamma=0, learning_rate=0.4185815141367779, max_depth=3, n_estimators=488, subsample=0.8780483709609663 \n",
      "[CV]  colsample_bytree=0.34825342627224587, gamma=0, learning_rate=0.4185815141367779, max_depth=3, n_estimators=488, subsample=0.8780483709609663, score=0.999, total=  56.9s\n",
      "[CV] colsample_bytree=0.34825342627224587, gamma=0, learning_rate=0.4185815141367779, max_depth=3, n_estimators=488, subsample=0.8780483709609663 \n",
      "[CV]  colsample_bytree=0.34825342627224587, gamma=0, learning_rate=0.4185815141367779, max_depth=3, n_estimators=488, subsample=0.8780483709609663, score=0.999, total=  56.8s\n",
      "[CV] colsample_bytree=0.34825342627224587, gamma=0, learning_rate=0.4185815141367779, max_depth=3, n_estimators=488, subsample=0.8780483709609663 \n",
      "[CV]  colsample_bytree=0.34825342627224587, gamma=0, learning_rate=0.4185815141367779, max_depth=3, n_estimators=488, subsample=0.8780483709609663, score=0.999, total=  56.9s\n",
      "[CV] colsample_bytree=0.4288656296016934, gamma=0.5, learning_rate=0.6730164898324128, max_depth=5, n_estimators=410, subsample=0.7248087016755762 \n",
      "[CV]  colsample_bytree=0.4288656296016934, gamma=0.5, learning_rate=0.6730164898324128, max_depth=5, n_estimators=410, subsample=0.7248087016755762, score=0.999, total= 1.3min\n",
      "[CV] colsample_bytree=0.4288656296016934, gamma=0.5, learning_rate=0.6730164898324128, max_depth=5, n_estimators=410, subsample=0.7248087016755762 \n",
      "[CV]  colsample_bytree=0.4288656296016934, gamma=0.5, learning_rate=0.6730164898324128, max_depth=5, n_estimators=410, subsample=0.7248087016755762, score=0.999, total= 1.3min\n",
      "[CV] colsample_bytree=0.4288656296016934, gamma=0.5, learning_rate=0.6730164898324128, max_depth=5, n_estimators=410, subsample=0.7248087016755762 \n"
     ]
    },
    {
     "name": "stdout",
     "output_type": "stream",
     "text": [
      "[CV]  colsample_bytree=0.4288656296016934, gamma=0.5, learning_rate=0.6730164898324128, max_depth=5, n_estimators=410, subsample=0.7248087016755762, score=0.999, total= 1.3min\n",
      "[CV] colsample_bytree=0.0017306007327145823, gamma=0.5, learning_rate=0.05315918465055469, max_depth=9, n_estimators=205, subsample=0.8061810315662579 \n",
      "[CV]  colsample_bytree=0.0017306007327145823, gamma=0.5, learning_rate=0.05315918465055469, max_depth=9, n_estimators=205, subsample=0.8061810315662579, score=0.997, total=  23.7s\n",
      "[CV] colsample_bytree=0.0017306007327145823, gamma=0.5, learning_rate=0.05315918465055469, max_depth=9, n_estimators=205, subsample=0.8061810315662579 \n",
      "[CV]  colsample_bytree=0.0017306007327145823, gamma=0.5, learning_rate=0.05315918465055469, max_depth=9, n_estimators=205, subsample=0.8061810315662579, score=0.997, total=  23.8s\n",
      "[CV] colsample_bytree=0.0017306007327145823, gamma=0.5, learning_rate=0.05315918465055469, max_depth=9, n_estimators=205, subsample=0.8061810315662579 \n",
      "[CV]  colsample_bytree=0.0017306007327145823, gamma=0.5, learning_rate=0.05315918465055469, max_depth=9, n_estimators=205, subsample=0.8061810315662579, score=0.997, total=  24.1s\n",
      "[CV] colsample_bytree=0.0652058663329057, gamma=0.5, learning_rate=0.3009542371416952, max_depth=5, n_estimators=215, subsample=0.7182879010530241 \n",
      "[CV]  colsample_bytree=0.0652058663329057, gamma=0.5, learning_rate=0.3009542371416952, max_depth=5, n_estimators=215, subsample=0.7182879010530241, score=0.998, total=  23.1s\n",
      "[CV] colsample_bytree=0.0652058663329057, gamma=0.5, learning_rate=0.3009542371416952, max_depth=5, n_estimators=215, subsample=0.7182879010530241 \n",
      "[CV]  colsample_bytree=0.0652058663329057, gamma=0.5, learning_rate=0.3009542371416952, max_depth=5, n_estimators=215, subsample=0.7182879010530241, score=0.998, total=  23.0s\n",
      "[CV] colsample_bytree=0.0652058663329057, gamma=0.5, learning_rate=0.3009542371416952, max_depth=5, n_estimators=215, subsample=0.7182879010530241 \n",
      "[CV]  colsample_bytree=0.0652058663329057, gamma=0.5, learning_rate=0.3009542371416952, max_depth=5, n_estimators=215, subsample=0.7182879010530241, score=0.999, total=  23.0s\n",
      "[CV] colsample_bytree=0.03736425297203316, gamma=1, learning_rate=0.34508603000232396, max_depth=3, n_estimators=149, subsample=0.3515989871516927 \n",
      "[CV]  colsample_bytree=0.03736425297203316, gamma=1, learning_rate=0.34508603000232396, max_depth=3, n_estimators=149, subsample=0.3515989871516927, score=0.998, total=  10.8s\n",
      "[CV] colsample_bytree=0.03736425297203316, gamma=1, learning_rate=0.34508603000232396, max_depth=3, n_estimators=149, subsample=0.3515989871516927 \n",
      "[CV]  colsample_bytree=0.03736425297203316, gamma=1, learning_rate=0.34508603000232396, max_depth=3, n_estimators=149, subsample=0.3515989871516927, score=0.998, total=  10.9s\n",
      "[CV] colsample_bytree=0.03736425297203316, gamma=1, learning_rate=0.34508603000232396, max_depth=3, n_estimators=149, subsample=0.3515989871516927 \n",
      "[CV]  colsample_bytree=0.03736425297203316, gamma=1, learning_rate=0.34508603000232396, max_depth=3, n_estimators=149, subsample=0.3515989871516927, score=0.998, total=16.1min\n",
      "[CV] colsample_bytree=0.28640275096467005, gamma=0.5, learning_rate=0.13625268915862287, max_depth=5, n_estimators=375, subsample=0.7122370715991608 \n",
      "[CV]  colsample_bytree=0.28640275096467005, gamma=0.5, learning_rate=0.13625268915862287, max_depth=5, n_estimators=375, subsample=0.7122370715991608, score=0.999, total= 1.2min\n",
      "[CV] colsample_bytree=0.28640275096467005, gamma=0.5, learning_rate=0.13625268915862287, max_depth=5, n_estimators=375, subsample=0.7122370715991608 \n",
      "[CV]  colsample_bytree=0.28640275096467005, gamma=0.5, learning_rate=0.13625268915862287, max_depth=5, n_estimators=375, subsample=0.7122370715991608, score=0.999, total= 1.1min\n",
      "[CV] colsample_bytree=0.28640275096467005, gamma=0.5, learning_rate=0.13625268915862287, max_depth=5, n_estimators=375, subsample=0.7122370715991608 \n",
      "[CV]  colsample_bytree=0.28640275096467005, gamma=0.5, learning_rate=0.13625268915862287, max_depth=5, n_estimators=375, subsample=0.7122370715991608, score=0.999, total= 1.1min\n",
      "[CV] colsample_bytree=0.11584888265940785, gamma=0, learning_rate=0.4908537989581572, max_depth=7, n_estimators=217, subsample=0.21808623249143 \n",
      "[CV]  colsample_bytree=0.11584888265940785, gamma=0, learning_rate=0.4908537989581572, max_depth=7, n_estimators=217, subsample=0.21808623249143, score=0.998, total=  28.9s\n",
      "[CV] colsample_bytree=0.11584888265940785, gamma=0, learning_rate=0.4908537989581572, max_depth=7, n_estimators=217, subsample=0.21808623249143 \n",
      "[CV]  colsample_bytree=0.11584888265940785, gamma=0, learning_rate=0.4908537989581572, max_depth=7, n_estimators=217, subsample=0.21808623249143, score=0.998, total=  28.7s\n",
      "[CV] colsample_bytree=0.11584888265940785, gamma=0, learning_rate=0.4908537989581572, max_depth=7, n_estimators=217, subsample=0.21808623249143 \n",
      "[CV]  colsample_bytree=0.11584888265940785, gamma=0, learning_rate=0.4908537989581572, max_depth=7, n_estimators=217, subsample=0.21808623249143, score=0.998, total=  29.4s\n",
      "[CV] colsample_bytree=0.6104278565642697, gamma=1, learning_rate=0.19229938260169954, max_depth=3, n_estimators=384, subsample=0.9695258738383024 \n",
      "[CV]  colsample_bytree=0.6104278565642697, gamma=1, learning_rate=0.19229938260169954, max_depth=3, n_estimators=384, subsample=0.9695258738383024, score=0.999, total=  57.8s\n",
      "[CV] colsample_bytree=0.6104278565642697, gamma=1, learning_rate=0.19229938260169954, max_depth=3, n_estimators=384, subsample=0.9695258738383024 \n",
      "[CV]  colsample_bytree=0.6104278565642697, gamma=1, learning_rate=0.19229938260169954, max_depth=3, n_estimators=384, subsample=0.9695258738383024, score=0.999, total=  56.9s\n",
      "[CV] colsample_bytree=0.6104278565642697, gamma=1, learning_rate=0.19229938260169954, max_depth=3, n_estimators=384, subsample=0.9695258738383024 \n",
      "[CV]  colsample_bytree=0.6104278565642697, gamma=1, learning_rate=0.19229938260169954, max_depth=3, n_estimators=384, subsample=0.9695258738383024, score=0.999, total=  57.1s\n",
      "[CV] colsample_bytree=0.4418555802707862, gamma=1, learning_rate=0.838802169791344, max_depth=9, n_estimators=483, subsample=0.34916312744720013 \n",
      "[CV]  colsample_bytree=0.4418555802707862, gamma=1, learning_rate=0.838802169791344, max_depth=9, n_estimators=483, subsample=0.34916312744720013, score=0.998, total= 1.6min\n",
      "[CV] colsample_bytree=0.4418555802707862, gamma=1, learning_rate=0.838802169791344, max_depth=9, n_estimators=483, subsample=0.34916312744720013 \n",
      "[CV]  colsample_bytree=0.4418555802707862, gamma=1, learning_rate=0.838802169791344, max_depth=9, n_estimators=483, subsample=0.34916312744720013, score=0.998, total= 1.6min\n",
      "[CV] colsample_bytree=0.4418555802707862, gamma=1, learning_rate=0.838802169791344, max_depth=9, n_estimators=483, subsample=0.34916312744720013 \n",
      "[CV]  colsample_bytree=0.4418555802707862, gamma=1, learning_rate=0.838802169791344, max_depth=9, n_estimators=483, subsample=0.34916312744720013, score=0.998, total= 1.6min\n",
      "[CV] colsample_bytree=0.6468232104916526, gamma=0.5, learning_rate=0.5599867682778354, max_depth=7, n_estimators=376, subsample=0.8247083447312324 \n",
      "[CV]  colsample_bytree=0.6468232104916526, gamma=0.5, learning_rate=0.5599867682778354, max_depth=7, n_estimators=376, subsample=0.8247083447312324, score=0.999, total= 2.0min\n",
      "[CV] colsample_bytree=0.6468232104916526, gamma=0.5, learning_rate=0.5599867682778354, max_depth=7, n_estimators=376, subsample=0.8247083447312324 \n",
      "[CV]  colsample_bytree=0.6468232104916526, gamma=0.5, learning_rate=0.5599867682778354, max_depth=7, n_estimators=376, subsample=0.8247083447312324, score=0.999, total= 2.0min\n",
      "[CV] colsample_bytree=0.6468232104916526, gamma=0.5, learning_rate=0.5599867682778354, max_depth=7, n_estimators=376, subsample=0.8247083447312324 \n",
      "[CV]  colsample_bytree=0.6468232104916526, gamma=0.5, learning_rate=0.5599867682778354, max_depth=7, n_estimators=376, subsample=0.8247083447312324, score=0.999, total= 2.0min\n",
      "[CV] colsample_bytree=0.4697145869577216, gamma=0.5, learning_rate=0.39720907308977726, max_depth=3, n_estimators=312, subsample=0.9607885510753981 \n",
      "[CV]  colsample_bytree=0.4697145869577216, gamma=0.5, learning_rate=0.39720907308977726, max_depth=3, n_estimators=312, subsample=0.9607885510753981, score=0.999, total=  42.4s\n",
      "[CV] colsample_bytree=0.4697145869577216, gamma=0.5, learning_rate=0.39720907308977726, max_depth=3, n_estimators=312, subsample=0.9607885510753981 \n"
     ]
    },
    {
     "name": "stdout",
     "output_type": "stream",
     "text": [
      "[CV]  colsample_bytree=0.4697145869577216, gamma=0.5, learning_rate=0.39720907308977726, max_depth=3, n_estimators=312, subsample=0.9607885510753981, score=0.999, total=  42.5s\n",
      "[CV] colsample_bytree=0.4697145869577216, gamma=0.5, learning_rate=0.39720907308977726, max_depth=3, n_estimators=312, subsample=0.9607885510753981 \n",
      "[CV]  colsample_bytree=0.4697145869577216, gamma=0.5, learning_rate=0.39720907308977726, max_depth=3, n_estimators=312, subsample=0.9607885510753981, score=0.999, total=  43.5s\n",
      "[CV] colsample_bytree=0.1807105983444972, gamma=0.5, learning_rate=0.7116905005504024, max_depth=7, n_estimators=43, subsample=0.12476164013176438 \n",
      "[CV]  colsample_bytree=0.1807105983444972, gamma=0.5, learning_rate=0.7116905005504024, max_depth=7, n_estimators=43, subsample=0.12476164013176438, score=0.997, total=   6.4s\n",
      "[CV] colsample_bytree=0.1807105983444972, gamma=0.5, learning_rate=0.7116905005504024, max_depth=7, n_estimators=43, subsample=0.12476164013176438 \n",
      "[CV]  colsample_bytree=0.1807105983444972, gamma=0.5, learning_rate=0.7116905005504024, max_depth=7, n_estimators=43, subsample=0.12476164013176438, score=0.997, total=   6.4s\n",
      "[CV] colsample_bytree=0.1807105983444972, gamma=0.5, learning_rate=0.7116905005504024, max_depth=7, n_estimators=43, subsample=0.12476164013176438 \n",
      "[CV]  colsample_bytree=0.1807105983444972, gamma=0.5, learning_rate=0.7116905005504024, max_depth=7, n_estimators=43, subsample=0.12476164013176438, score=0.997, total=   6.5s\n",
      "[CV] colsample_bytree=0.04489508721875779, gamma=0.5, learning_rate=0.3573079777273209, max_depth=7, n_estimators=104, subsample=0.5565968240145037 \n",
      "[CV]  colsample_bytree=0.04489508721875779, gamma=0.5, learning_rate=0.3573079777273209, max_depth=7, n_estimators=104, subsample=0.5565968240145037, score=0.998, total=  11.9s\n",
      "[CV] colsample_bytree=0.04489508721875779, gamma=0.5, learning_rate=0.3573079777273209, max_depth=7, n_estimators=104, subsample=0.5565968240145037 \n",
      "[CV]  colsample_bytree=0.04489508721875779, gamma=0.5, learning_rate=0.3573079777273209, max_depth=7, n_estimators=104, subsample=0.5565968240145037, score=0.998, total=  11.8s\n",
      "[CV] colsample_bytree=0.04489508721875779, gamma=0.5, learning_rate=0.3573079777273209, max_depth=7, n_estimators=104, subsample=0.5565968240145037 \n",
      "[CV]  colsample_bytree=0.04489508721875779, gamma=0.5, learning_rate=0.3573079777273209, max_depth=7, n_estimators=104, subsample=0.5565968240145037, score=0.998, total=  11.7s\n",
      "[CV] colsample_bytree=0.5378305425082532, gamma=0.5, learning_rate=0.07486337619698258, max_depth=5, n_estimators=50, subsample=0.419807612168166 \n",
      "[CV]  colsample_bytree=0.5378305425082532, gamma=0.5, learning_rate=0.07486337619698258, max_depth=5, n_estimators=50, subsample=0.419807612168166, score=0.998, total=  11.4s\n",
      "[CV] colsample_bytree=0.5378305425082532, gamma=0.5, learning_rate=0.07486337619698258, max_depth=5, n_estimators=50, subsample=0.419807612168166 \n",
      "[CV]  colsample_bytree=0.5378305425082532, gamma=0.5, learning_rate=0.07486337619698258, max_depth=5, n_estimators=50, subsample=0.419807612168166, score=0.998, total=  11.3s\n",
      "[CV] colsample_bytree=0.5378305425082532, gamma=0.5, learning_rate=0.07486337619698258, max_depth=5, n_estimators=50, subsample=0.419807612168166 \n",
      "[CV]  colsample_bytree=0.5378305425082532, gamma=0.5, learning_rate=0.07486337619698258, max_depth=5, n_estimators=50, subsample=0.419807612168166, score=0.998, total=  11.4s\n",
      "[CV] colsample_bytree=0.08027764806449922, gamma=0, learning_rate=0.5816739095805397, max_depth=3, n_estimators=431, subsample=0.43419038829354917 \n",
      "[CV]  colsample_bytree=0.08027764806449922, gamma=0, learning_rate=0.5816739095805397, max_depth=3, n_estimators=431, subsample=0.43419038829354917, score=0.998, total=  34.5s\n",
      "[CV] colsample_bytree=0.08027764806449922, gamma=0, learning_rate=0.5816739095805397, max_depth=3, n_estimators=431, subsample=0.43419038829354917 \n",
      "[CV]  colsample_bytree=0.08027764806449922, gamma=0, learning_rate=0.5816739095805397, max_depth=3, n_estimators=431, subsample=0.43419038829354917, score=0.998, total=  34.5s\n",
      "[CV] colsample_bytree=0.08027764806449922, gamma=0, learning_rate=0.5816739095805397, max_depth=3, n_estimators=431, subsample=0.43419038829354917 \n",
      "[CV]  colsample_bytree=0.08027764806449922, gamma=0, learning_rate=0.5816739095805397, max_depth=3, n_estimators=431, subsample=0.43419038829354917, score=0.998, total=  34.4s\n",
      "[CV] colsample_bytree=0.8443575182198271, gamma=0, learning_rate=0.7856293762743507, max_depth=7, n_estimators=192, subsample=0.7530818233092769 \n",
      "[CV]  colsample_bytree=0.8443575182198271, gamma=0, learning_rate=0.7856293762743507, max_depth=7, n_estimators=192, subsample=0.7530818233092769, score=0.999, total= 1.0min\n",
      "[CV] colsample_bytree=0.8443575182198271, gamma=0, learning_rate=0.7856293762743507, max_depth=7, n_estimators=192, subsample=0.7530818233092769 \n",
      "[CV]  colsample_bytree=0.8443575182198271, gamma=0, learning_rate=0.7856293762743507, max_depth=7, n_estimators=192, subsample=0.7530818233092769, score=0.999, total= 1.1min\n",
      "[CV] colsample_bytree=0.8443575182198271, gamma=0, learning_rate=0.7856293762743507, max_depth=7, n_estimators=192, subsample=0.7530818233092769 \n",
      "[CV]  colsample_bytree=0.8443575182198271, gamma=0, learning_rate=0.7856293762743507, max_depth=7, n_estimators=192, subsample=0.7530818233092769, score=0.999, total= 1.1min\n",
      "[CV] colsample_bytree=0.42208030371369953, gamma=0, learning_rate=0.6831122329710866, max_depth=3, n_estimators=120, subsample=0.49261723921786116 \n",
      "[CV]  colsample_bytree=0.42208030371369953, gamma=0, learning_rate=0.6831122329710866, max_depth=3, n_estimators=120, subsample=0.49261723921786116, score=0.998, total=  16.0s\n",
      "[CV] colsample_bytree=0.42208030371369953, gamma=0, learning_rate=0.6831122329710866, max_depth=3, n_estimators=120, subsample=0.49261723921786116 \n",
      "[CV]  colsample_bytree=0.42208030371369953, gamma=0, learning_rate=0.6831122329710866, max_depth=3, n_estimators=120, subsample=0.49261723921786116, score=0.998, total=  16.0s\n",
      "[CV] colsample_bytree=0.42208030371369953, gamma=0, learning_rate=0.6831122329710866, max_depth=3, n_estimators=120, subsample=0.49261723921786116 \n",
      "[CV]  colsample_bytree=0.42208030371369953, gamma=0, learning_rate=0.6831122329710866, max_depth=3, n_estimators=120, subsample=0.49261723921786116, score=0.998, total=  16.0s\n",
      "[CV] colsample_bytree=0.8239347020567251, gamma=0, learning_rate=0.46000569578319994, max_depth=7, n_estimators=239, subsample=0.3321379188544956 \n",
      "[CV]  colsample_bytree=0.8239347020567251, gamma=0, learning_rate=0.46000569578319994, max_depth=7, n_estimators=239, subsample=0.3321379188544956, score=0.999, total= 1.2min\n",
      "[CV] colsample_bytree=0.8239347020567251, gamma=0, learning_rate=0.46000569578319994, max_depth=7, n_estimators=239, subsample=0.3321379188544956 \n",
      "[CV]  colsample_bytree=0.8239347020567251, gamma=0, learning_rate=0.46000569578319994, max_depth=7, n_estimators=239, subsample=0.3321379188544956, score=0.999, total= 1.2min\n",
      "[CV] colsample_bytree=0.8239347020567251, gamma=0, learning_rate=0.46000569578319994, max_depth=7, n_estimators=239, subsample=0.3321379188544956 \n",
      "[CV]  colsample_bytree=0.8239347020567251, gamma=0, learning_rate=0.46000569578319994, max_depth=7, n_estimators=239, subsample=0.3321379188544956, score=0.999, total= 1.2min\n",
      "[CV] colsample_bytree=0.7392011452227608, gamma=0, learning_rate=0.7943107818388505, max_depth=7, n_estimators=108, subsample=0.5403080029773456 \n",
      "[CV]  colsample_bytree=0.7392011452227608, gamma=0, learning_rate=0.7943107818388505, max_depth=7, n_estimators=108, subsample=0.5403080029773456, score=0.998, total=  36.2s\n",
      "[CV] colsample_bytree=0.7392011452227608, gamma=0, learning_rate=0.7943107818388505, max_depth=7, n_estimators=108, subsample=0.5403080029773456 \n",
      "[CV]  colsample_bytree=0.7392011452227608, gamma=0, learning_rate=0.7943107818388505, max_depth=7, n_estimators=108, subsample=0.5403080029773456, score=0.999, total=12.5min\n",
      "[CV] colsample_bytree=0.7392011452227608, gamma=0, learning_rate=0.7943107818388505, max_depth=7, n_estimators=108, subsample=0.5403080029773456 \n",
      "[CV]  colsample_bytree=0.7392011452227608, gamma=0, learning_rate=0.7943107818388505, max_depth=7, n_estimators=108, subsample=0.5403080029773456, score=0.999, total=  38.1s\n",
      "[CV] colsample_bytree=0.7494207571997938, gamma=1, learning_rate=0.5669082329780527, max_depth=3, n_estimators=35, subsample=0.8936616121288703 \n"
     ]
    },
    {
     "name": "stdout",
     "output_type": "stream",
     "text": [
      "[CV]  colsample_bytree=0.7494207571997938, gamma=1, learning_rate=0.5669082329780527, max_depth=3, n_estimators=35, subsample=0.8936616121288703, score=0.998, total=   6.6s\n",
      "[CV] colsample_bytree=0.7494207571997938, gamma=1, learning_rate=0.5669082329780527, max_depth=3, n_estimators=35, subsample=0.8936616121288703 \n",
      "[CV]  colsample_bytree=0.7494207571997938, gamma=1, learning_rate=0.5669082329780527, max_depth=3, n_estimators=35, subsample=0.8936616121288703, score=0.998, total=   6.7s\n",
      "[CV] colsample_bytree=0.7494207571997938, gamma=1, learning_rate=0.5669082329780527, max_depth=3, n_estimators=35, subsample=0.8936616121288703 \n",
      "[CV]  colsample_bytree=0.7494207571997938, gamma=1, learning_rate=0.5669082329780527, max_depth=3, n_estimators=35, subsample=0.8936616121288703, score=0.999, total=   6.6s\n",
      "[CV] colsample_bytree=0.1233781606164811, gamma=0.5, learning_rate=0.09772802614862519, max_depth=3, n_estimators=295, subsample=0.32162421002224917 \n",
      "[CV]  colsample_bytree=0.1233781606164811, gamma=0.5, learning_rate=0.09772802614862519, max_depth=3, n_estimators=295, subsample=0.32162421002224917, score=0.998, total=  24.5s\n",
      "[CV] colsample_bytree=0.1233781606164811, gamma=0.5, learning_rate=0.09772802614862519, max_depth=3, n_estimators=295, subsample=0.32162421002224917 \n",
      "[CV]  colsample_bytree=0.1233781606164811, gamma=0.5, learning_rate=0.09772802614862519, max_depth=3, n_estimators=295, subsample=0.32162421002224917, score=0.998, total=  24.1s\n",
      "[CV] colsample_bytree=0.1233781606164811, gamma=0.5, learning_rate=0.09772802614862519, max_depth=3, n_estimators=295, subsample=0.32162421002224917 \n",
      "[CV]  colsample_bytree=0.1233781606164811, gamma=0.5, learning_rate=0.09772802614862519, max_depth=3, n_estimators=295, subsample=0.32162421002224917, score=0.999, total=  24.3s\n",
      "[CV] colsample_bytree=0.1473000060656997, gamma=0.5, learning_rate=0.13448222256392894, max_depth=5, n_estimators=106, subsample=0.23774042930082184 \n",
      "[CV]  colsample_bytree=0.1473000060656997, gamma=0.5, learning_rate=0.13448222256392894, max_depth=5, n_estimators=106, subsample=0.23774042930082184, score=0.998, total=  12.1s\n",
      "[CV] colsample_bytree=0.1473000060656997, gamma=0.5, learning_rate=0.13448222256392894, max_depth=5, n_estimators=106, subsample=0.23774042930082184 \n",
      "[CV]  colsample_bytree=0.1473000060656997, gamma=0.5, learning_rate=0.13448222256392894, max_depth=5, n_estimators=106, subsample=0.23774042930082184, score=0.998, total=  12.0s\n",
      "[CV] colsample_bytree=0.1473000060656997, gamma=0.5, learning_rate=0.13448222256392894, max_depth=5, n_estimators=106, subsample=0.23774042930082184 \n",
      "[CV]  colsample_bytree=0.1473000060656997, gamma=0.5, learning_rate=0.13448222256392894, max_depth=5, n_estimators=106, subsample=0.23774042930082184, score=0.998, total=  12.3s\n",
      "[CV] colsample_bytree=0.9670359633400014, gamma=0, learning_rate=0.7056816909331856, max_depth=5, n_estimators=61, subsample=0.01977714403091213 \n",
      "[CV]  colsample_bytree=0.9670359633400014, gamma=0, learning_rate=0.7056816909331856, max_depth=5, n_estimators=61, subsample=0.01977714403091213, score=0.997, total=  11.1s\n",
      "[CV] colsample_bytree=0.9670359633400014, gamma=0, learning_rate=0.7056816909331856, max_depth=5, n_estimators=61, subsample=0.01977714403091213 \n",
      "[CV]  colsample_bytree=0.9670359633400014, gamma=0, learning_rate=0.7056816909331856, max_depth=5, n_estimators=61, subsample=0.01977714403091213, score=0.997, total=  11.1s\n",
      "[CV] colsample_bytree=0.9670359633400014, gamma=0, learning_rate=0.7056816909331856, max_depth=5, n_estimators=61, subsample=0.01977714403091213 \n",
      "[CV]  colsample_bytree=0.9670359633400014, gamma=0, learning_rate=0.7056816909331856, max_depth=5, n_estimators=61, subsample=0.01977714403091213, score=0.997, total=  11.4s\n",
      "[CV] colsample_bytree=0.2180407029928415, gamma=0.5, learning_rate=0.07812750650828248, max_depth=9, n_estimators=415, subsample=0.518517898052102 \n",
      "[CV]  colsample_bytree=0.2180407029928415, gamma=0.5, learning_rate=0.07812750650828248, max_depth=9, n_estimators=415, subsample=0.518517898052102, score=0.999, total= 1.5min\n",
      "[CV] colsample_bytree=0.2180407029928415, gamma=0.5, learning_rate=0.07812750650828248, max_depth=9, n_estimators=415, subsample=0.518517898052102 \n",
      "[CV]  colsample_bytree=0.2180407029928415, gamma=0.5, learning_rate=0.07812750650828248, max_depth=9, n_estimators=415, subsample=0.518517898052102, score=0.999, total= 1.5min\n",
      "[CV] colsample_bytree=0.2180407029928415, gamma=0.5, learning_rate=0.07812750650828248, max_depth=9, n_estimators=415, subsample=0.518517898052102 \n",
      "[CV]  colsample_bytree=0.2180407029928415, gamma=0.5, learning_rate=0.07812750650828248, max_depth=9, n_estimators=415, subsample=0.518517898052102, score=0.999, total= 1.5min\n",
      "[CV] colsample_bytree=0.41559925955532984, gamma=1, learning_rate=0.7698928944238359, max_depth=9, n_estimators=328, subsample=0.22604362169550185 \n",
      "[CV]  colsample_bytree=0.41559925955532984, gamma=1, learning_rate=0.7698928944238359, max_depth=9, n_estimators=328, subsample=0.22604362169550185, score=0.998, total= 1.1min\n",
      "[CV] colsample_bytree=0.41559925955532984, gamma=1, learning_rate=0.7698928944238359, max_depth=9, n_estimators=328, subsample=0.22604362169550185 \n",
      "[CV]  colsample_bytree=0.41559925955532984, gamma=1, learning_rate=0.7698928944238359, max_depth=9, n_estimators=328, subsample=0.22604362169550185, score=0.998, total= 1.1min\n",
      "[CV] colsample_bytree=0.41559925955532984, gamma=1, learning_rate=0.7698928944238359, max_depth=9, n_estimators=328, subsample=0.22604362169550185 \n",
      "[CV]  colsample_bytree=0.41559925955532984, gamma=1, learning_rate=0.7698928944238359, max_depth=9, n_estimators=328, subsample=0.22604362169550185, score=0.998, total= 1.1min\n",
      "[CV] colsample_bytree=0.5642240482168264, gamma=0.5, learning_rate=0.09939965650812232, max_depth=9, n_estimators=123, subsample=0.28602526178423104 \n",
      "[CV]  colsample_bytree=0.5642240482168264, gamma=0.5, learning_rate=0.09939965650812232, max_depth=9, n_estimators=123, subsample=0.28602526178423104, score=0.999, total=  38.5s\n",
      "[CV] colsample_bytree=0.5642240482168264, gamma=0.5, learning_rate=0.09939965650812232, max_depth=9, n_estimators=123, subsample=0.28602526178423104 \n",
      "[CV]  colsample_bytree=0.5642240482168264, gamma=0.5, learning_rate=0.09939965650812232, max_depth=9, n_estimators=123, subsample=0.28602526178423104, score=0.999, total=  38.3s\n",
      "[CV] colsample_bytree=0.5642240482168264, gamma=0.5, learning_rate=0.09939965650812232, max_depth=9, n_estimators=123, subsample=0.28602526178423104 \n",
      "[CV]  colsample_bytree=0.5642240482168264, gamma=0.5, learning_rate=0.09939965650812232, max_depth=9, n_estimators=123, subsample=0.28602526178423104, score=0.999, total=  39.2s\n",
      "[CV] colsample_bytree=0.6895767510518857, gamma=0.5, learning_rate=0.0011319754648878577, max_depth=5, n_estimators=329, subsample=0.37315429901325914 \n",
      "[CV]  colsample_bytree=0.6895767510518857, gamma=0.5, learning_rate=0.0011319754648878577, max_depth=5, n_estimators=329, subsample=0.37315429901325914, score=0.998, total= 1.3min\n",
      "[CV] colsample_bytree=0.6895767510518857, gamma=0.5, learning_rate=0.0011319754648878577, max_depth=5, n_estimators=329, subsample=0.37315429901325914 \n",
      "[CV]  colsample_bytree=0.6895767510518857, gamma=0.5, learning_rate=0.0011319754648878577, max_depth=5, n_estimators=329, subsample=0.37315429901325914, score=0.998, total= 1.3min\n",
      "[CV] colsample_bytree=0.6895767510518857, gamma=0.5, learning_rate=0.0011319754648878577, max_depth=5, n_estimators=329, subsample=0.37315429901325914 \n",
      "[CV]  colsample_bytree=0.6895767510518857, gamma=0.5, learning_rate=0.0011319754648878577, max_depth=5, n_estimators=329, subsample=0.37315429901325914, score=0.998, total= 1.3min\n",
      "[CV] colsample_bytree=0.45294600144107167, gamma=1, learning_rate=0.08303834961595746, max_depth=7, n_estimators=187, subsample=0.6069127728741993 \n",
      "[CV]  colsample_bytree=0.45294600144107167, gamma=1, learning_rate=0.08303834961595746, max_depth=7, n_estimators=187, subsample=0.6069127728741993, score=0.999, total=  51.4s\n",
      "[CV] colsample_bytree=0.45294600144107167, gamma=1, learning_rate=0.08303834961595746, max_depth=7, n_estimators=187, subsample=0.6069127728741993 \n",
      "[CV]  colsample_bytree=0.45294600144107167, gamma=1, learning_rate=0.08303834961595746, max_depth=7, n_estimators=187, subsample=0.6069127728741993, score=0.999, total=  51.9s\n",
      "[CV] colsample_bytree=0.45294600144107167, gamma=1, learning_rate=0.08303834961595746, max_depth=7, n_estimators=187, subsample=0.6069127728741993 \n"
     ]
    },
    {
     "name": "stdout",
     "output_type": "stream",
     "text": [
      "[CV]  colsample_bytree=0.45294600144107167, gamma=1, learning_rate=0.08303834961595746, max_depth=7, n_estimators=187, subsample=0.6069127728741993, score=0.999, total=  51.9s\n",
      "[CV] colsample_bytree=0.7327546305008223, gamma=0.5, learning_rate=0.692803142146249, max_depth=7, n_estimators=180, subsample=0.705851693379962 \n",
      "[CV]  colsample_bytree=0.7327546305008223, gamma=0.5, learning_rate=0.692803142146249, max_depth=7, n_estimators=180, subsample=0.705851693379962, score=0.998, total=66.2min\n",
      "[CV] colsample_bytree=0.7327546305008223, gamma=0.5, learning_rate=0.692803142146249, max_depth=7, n_estimators=180, subsample=0.705851693379962 \n",
      "[CV]  colsample_bytree=0.7327546305008223, gamma=0.5, learning_rate=0.692803142146249, max_depth=7, n_estimators=180, subsample=0.705851693379962, score=0.999, total= 1.1min\n",
      "[CV] colsample_bytree=0.7327546305008223, gamma=0.5, learning_rate=0.692803142146249, max_depth=7, n_estimators=180, subsample=0.705851693379962 \n",
      "[CV]  colsample_bytree=0.7327546305008223, gamma=0.5, learning_rate=0.692803142146249, max_depth=7, n_estimators=180, subsample=0.705851693379962, score=0.999, total= 1.1min\n",
      "[CV] colsample_bytree=0.05362154980326561, gamma=0, learning_rate=0.7980698940293289, max_depth=3, n_estimators=158, subsample=0.17004133125997645 \n",
      "[CV]  colsample_bytree=0.05362154980326561, gamma=0, learning_rate=0.7980698940293289, max_depth=3, n_estimators=158, subsample=0.17004133125997645, score=0.997, total=  10.5s\n",
      "[CV] colsample_bytree=0.05362154980326561, gamma=0, learning_rate=0.7980698940293289, max_depth=3, n_estimators=158, subsample=0.17004133125997645 \n",
      "[CV]  colsample_bytree=0.05362154980326561, gamma=0, learning_rate=0.7980698940293289, max_depth=3, n_estimators=158, subsample=0.17004133125997645, score=0.997, total=  10.4s\n",
      "[CV] colsample_bytree=0.05362154980326561, gamma=0, learning_rate=0.7980698940293289, max_depth=3, n_estimators=158, subsample=0.17004133125997645 \n",
      "[CV]  colsample_bytree=0.05362154980326561, gamma=0, learning_rate=0.7980698940293289, max_depth=3, n_estimators=158, subsample=0.17004133125997645, score=0.997, total=  10.5s\n",
      "[CV] colsample_bytree=0.07134898268568757, gamma=0.5, learning_rate=0.35233232505199596, max_depth=5, n_estimators=458, subsample=0.22387461076329174 \n",
      "[CV]  colsample_bytree=0.07134898268568757, gamma=0.5, learning_rate=0.35233232505199596, max_depth=5, n_estimators=458, subsample=0.22387461076329174, score=0.998, total=  41.6s\n",
      "[CV] colsample_bytree=0.07134898268568757, gamma=0.5, learning_rate=0.35233232505199596, max_depth=5, n_estimators=458, subsample=0.22387461076329174 \n",
      "[CV]  colsample_bytree=0.07134898268568757, gamma=0.5, learning_rate=0.35233232505199596, max_depth=5, n_estimators=458, subsample=0.22387461076329174, score=0.998, total=  41.6s\n",
      "[CV] colsample_bytree=0.07134898268568757, gamma=0.5, learning_rate=0.35233232505199596, max_depth=5, n_estimators=458, subsample=0.22387461076329174 \n",
      "[CV]  colsample_bytree=0.07134898268568757, gamma=0.5, learning_rate=0.35233232505199596, max_depth=5, n_estimators=458, subsample=0.22387461076329174, score=0.998, total=  42.0s\n",
      "[CV] colsample_bytree=0.5830420267513081, gamma=0, learning_rate=0.1407773526305579, max_depth=3, n_estimators=114, subsample=0.06530708638295535 \n",
      "[CV]  colsample_bytree=0.5830420267513081, gamma=0, learning_rate=0.1407773526305579, max_depth=3, n_estimators=114, subsample=0.06530708638295535, score=0.998, total=  12.5s\n",
      "[CV] colsample_bytree=0.5830420267513081, gamma=0, learning_rate=0.1407773526305579, max_depth=3, n_estimators=114, subsample=0.06530708638295535 \n",
      "[CV]  colsample_bytree=0.5830420267513081, gamma=0, learning_rate=0.1407773526305579, max_depth=3, n_estimators=114, subsample=0.06530708638295535, score=0.998, total=  12.6s\n",
      "[CV] colsample_bytree=0.5830420267513081, gamma=0, learning_rate=0.1407773526305579, max_depth=3, n_estimators=114, subsample=0.06530708638295535 \n",
      "[CV]  colsample_bytree=0.5830420267513081, gamma=0, learning_rate=0.1407773526305579, max_depth=3, n_estimators=114, subsample=0.06530708638295535, score=0.998, total=  13.0s\n",
      "[CV] colsample_bytree=0.1272012299182168, gamma=0.5, learning_rate=0.7365916997846382, max_depth=5, n_estimators=259, subsample=0.5938153837167053 \n",
      "[CV]  colsample_bytree=0.1272012299182168, gamma=0.5, learning_rate=0.7365916997846382, max_depth=5, n_estimators=259, subsample=0.5938153837167053, score=0.998, total=  31.8s\n",
      "[CV] colsample_bytree=0.1272012299182168, gamma=0.5, learning_rate=0.7365916997846382, max_depth=5, n_estimators=259, subsample=0.5938153837167053 \n",
      "[CV]  colsample_bytree=0.1272012299182168, gamma=0.5, learning_rate=0.7365916997846382, max_depth=5, n_estimators=259, subsample=0.5938153837167053, score=0.998, total=  34.5s\n",
      "[CV] colsample_bytree=0.1272012299182168, gamma=0.5, learning_rate=0.7365916997846382, max_depth=5, n_estimators=259, subsample=0.5938153837167053 \n",
      "[CV]  colsample_bytree=0.1272012299182168, gamma=0.5, learning_rate=0.7365916997846382, max_depth=5, n_estimators=259, subsample=0.5938153837167053, score=0.999, total=  32.2s\n",
      "[CV] colsample_bytree=0.5213285655977811, gamma=1, learning_rate=0.12245745743134928, max_depth=5, n_estimators=448, subsample=0.48831719352338554 \n",
      "[CV]  colsample_bytree=0.5213285655977811, gamma=1, learning_rate=0.12245745743134928, max_depth=5, n_estimators=448, subsample=0.48831719352338554, score=0.999, total= 1.6min\n",
      "[CV] colsample_bytree=0.5213285655977811, gamma=1, learning_rate=0.12245745743134928, max_depth=5, n_estimators=448, subsample=0.48831719352338554 \n",
      "[CV]  colsample_bytree=0.5213285655977811, gamma=1, learning_rate=0.12245745743134928, max_depth=5, n_estimators=448, subsample=0.48831719352338554, score=0.999, total= 1.7min\n",
      "[CV] colsample_bytree=0.5213285655977811, gamma=1, learning_rate=0.12245745743134928, max_depth=5, n_estimators=448, subsample=0.48831719352338554 \n",
      "[CV]  colsample_bytree=0.5213285655977811, gamma=1, learning_rate=0.12245745743134928, max_depth=5, n_estimators=448, subsample=0.48831719352338554, score=0.999, total= 1.7min\n",
      "[CV] colsample_bytree=0.5241718165563152, gamma=0.5, learning_rate=0.019013169365516558, max_depth=3, n_estimators=463, subsample=0.6098711368955574 \n",
      "[CV]  colsample_bytree=0.5241718165563152, gamma=0.5, learning_rate=0.019013169365516558, max_depth=3, n_estimators=463, subsample=0.6098711368955574, score=0.998, total= 1.2min\n",
      "[CV] colsample_bytree=0.5241718165563152, gamma=0.5, learning_rate=0.019013169365516558, max_depth=3, n_estimators=463, subsample=0.6098711368955574 \n",
      "[CV]  colsample_bytree=0.5241718165563152, gamma=0.5, learning_rate=0.019013169365516558, max_depth=3, n_estimators=463, subsample=0.6098711368955574, score=0.998, total= 1.3min\n",
      "[CV] colsample_bytree=0.5241718165563152, gamma=0.5, learning_rate=0.019013169365516558, max_depth=3, n_estimators=463, subsample=0.6098711368955574 \n",
      "[CV]  colsample_bytree=0.5241718165563152, gamma=0.5, learning_rate=0.019013169365516558, max_depth=3, n_estimators=463, subsample=0.6098711368955574, score=0.998, total= 1.2min\n",
      "[CV] colsample_bytree=0.671301928197165, gamma=0.5, learning_rate=0.5467452756716188, max_depth=3, n_estimators=140, subsample=0.5648319298748983 \n",
      "[CV]  colsample_bytree=0.671301928197165, gamma=0.5, learning_rate=0.5467452756716188, max_depth=3, n_estimators=140, subsample=0.5648319298748983, score=0.998, total=  24.6s\n",
      "[CV] colsample_bytree=0.671301928197165, gamma=0.5, learning_rate=0.5467452756716188, max_depth=3, n_estimators=140, subsample=0.5648319298748983 \n",
      "[CV]  colsample_bytree=0.671301928197165, gamma=0.5, learning_rate=0.5467452756716188, max_depth=3, n_estimators=140, subsample=0.5648319298748983, score=0.998, total=  24.8s\n",
      "[CV] colsample_bytree=0.671301928197165, gamma=0.5, learning_rate=0.5467452756716188, max_depth=3, n_estimators=140, subsample=0.5648319298748983 \n",
      "[CV]  colsample_bytree=0.671301928197165, gamma=0.5, learning_rate=0.5467452756716188, max_depth=3, n_estimators=140, subsample=0.5648319298748983, score=0.999, total=  25.1s\n",
      "[CV] colsample_bytree=0.919421811544759, gamma=1, learning_rate=0.9622594737743404, max_depth=5, n_estimators=158, subsample=0.6372091818441632 \n",
      "[CV]  colsample_bytree=0.919421811544759, gamma=1, learning_rate=0.9622594737743404, max_depth=5, n_estimators=158, subsample=0.6372091818441632, score=0.998, total=  54.5s\n",
      "[CV] colsample_bytree=0.919421811544759, gamma=1, learning_rate=0.9622594737743404, max_depth=5, n_estimators=158, subsample=0.6372091818441632 \n"
     ]
    },
    {
     "name": "stdout",
     "output_type": "stream",
     "text": [
      "[CV]  colsample_bytree=0.919421811544759, gamma=1, learning_rate=0.9622594737743404, max_depth=5, n_estimators=158, subsample=0.6372091818441632, score=0.998, total=  55.1s\n",
      "[CV] colsample_bytree=0.919421811544759, gamma=1, learning_rate=0.9622594737743404, max_depth=5, n_estimators=158, subsample=0.6372091818441632 \n",
      "[CV]  colsample_bytree=0.919421811544759, gamma=1, learning_rate=0.9622594737743404, max_depth=5, n_estimators=158, subsample=0.6372091818441632, score=0.998, total=  55.6s\n",
      "[CV] colsample_bytree=0.6754086694441321, gamma=0, learning_rate=0.22800333163252395, max_depth=9, n_estimators=165, subsample=0.4357666773827713 \n",
      "[CV]  colsample_bytree=0.6754086694441321, gamma=0, learning_rate=0.22800333163252395, max_depth=9, n_estimators=165, subsample=0.4357666773827713, score=0.999, total= 1.0min\n",
      "[CV] colsample_bytree=0.6754086694441321, gamma=0, learning_rate=0.22800333163252395, max_depth=9, n_estimators=165, subsample=0.4357666773827713 \n",
      "[CV]  colsample_bytree=0.6754086694441321, gamma=0, learning_rate=0.22800333163252395, max_depth=9, n_estimators=165, subsample=0.4357666773827713, score=0.999, total= 1.1min\n",
      "[CV] colsample_bytree=0.6754086694441321, gamma=0, learning_rate=0.22800333163252395, max_depth=9, n_estimators=165, subsample=0.4357666773827713 \n",
      "[CV]  colsample_bytree=0.6754086694441321, gamma=0, learning_rate=0.22800333163252395, max_depth=9, n_estimators=165, subsample=0.4357666773827713, score=0.999, total= 1.1min\n",
      "[CV] colsample_bytree=0.15852842041802295, gamma=0.5, learning_rate=0.643530100011603, max_depth=3, n_estimators=221, subsample=0.10669012117628052 \n",
      "[CV]  colsample_bytree=0.15852842041802295, gamma=0.5, learning_rate=0.643530100011603, max_depth=3, n_estimators=221, subsample=0.10669012117628052, score=0.998, total=  17.4s\n",
      "[CV] colsample_bytree=0.15852842041802295, gamma=0.5, learning_rate=0.643530100011603, max_depth=3, n_estimators=221, subsample=0.10669012117628052 \n",
      "[CV]  colsample_bytree=0.15852842041802295, gamma=0.5, learning_rate=0.643530100011603, max_depth=3, n_estimators=221, subsample=0.10669012117628052, score=0.998, total=  17.4s\n",
      "[CV] colsample_bytree=0.15852842041802295, gamma=0.5, learning_rate=0.643530100011603, max_depth=3, n_estimators=221, subsample=0.10669012117628052 \n",
      "[CV]  colsample_bytree=0.15852842041802295, gamma=0.5, learning_rate=0.643530100011603, max_depth=3, n_estimators=221, subsample=0.10669012117628052, score=0.997, total=  17.4s\n",
      "[CV] colsample_bytree=0.025980915983675024, gamma=0, learning_rate=0.4832152000966258, max_depth=7, n_estimators=450, subsample=0.4628262226680707 \n",
      "[CV]  colsample_bytree=0.025980915983675024, gamma=0, learning_rate=0.4832152000966258, max_depth=7, n_estimators=450, subsample=0.4628262226680707, score=0.998, total=  48.7s\n",
      "[CV] colsample_bytree=0.025980915983675024, gamma=0, learning_rate=0.4832152000966258, max_depth=7, n_estimators=450, subsample=0.4628262226680707 \n",
      "[CV]  colsample_bytree=0.025980915983675024, gamma=0, learning_rate=0.4832152000966258, max_depth=7, n_estimators=450, subsample=0.4628262226680707, score=0.998, total=  49.5s\n",
      "[CV] colsample_bytree=0.025980915983675024, gamma=0, learning_rate=0.4832152000966258, max_depth=7, n_estimators=450, subsample=0.4628262226680707 \n",
      "[CV]  colsample_bytree=0.025980915983675024, gamma=0, learning_rate=0.4832152000966258, max_depth=7, n_estimators=450, subsample=0.4628262226680707, score=0.998, total=  50.3s\n"
     ]
    },
    {
     "name": "stderr",
     "output_type": "stream",
     "text": [
      "[Parallel(n_jobs=1)]: Done 150 out of 150 | elapsed: 199.4min finished\n"
     ]
    },
    {
     "data": {
      "text/plain": [
       "RandomizedSearchCV(cv=3, error_score=nan,\n",
       "                   estimator=XGBClassifier(base_score=None, booster=None,\n",
       "                                           colsample_bylevel=None,\n",
       "                                           colsample_bynode=None,\n",
       "                                           colsample_bytree=None, gamma=None,\n",
       "                                           gpu_id=None, importance_type='gain',\n",
       "                                           interaction_constraints=None,\n",
       "                                           learning_rate=None,\n",
       "                                           max_delta_step=None, max_depth=None,\n",
       "                                           min_child_weight=None, missing=nan,\n",
       "                                           monotone_constraints=None,\n",
       "                                           n...\n",
       "                                        'learning_rate': <scipy.stats._distn_infrastructure.rv_frozen object at 0x7f049e0eccf8>,\n",
       "                                        'max_depth': range(3, 10, 2),\n",
       "                                        'n_estimators': <scipy.stats._distn_infrastructure.rv_frozen object at 0x7f049e0ecba8>,\n",
       "                                        'subsample': <scipy.stats._distn_infrastructure.rv_frozen object at 0x7f049e0ecf28>},\n",
       "                   pre_dispatch='2*n_jobs', random_state=342, refit=True,\n",
       "                   return_train_score=False, scoring='accuracy', verbose=10)"
      ]
     },
     "execution_count": 24,
     "metadata": {},
     "output_type": "execute_result"
    }
   ],
   "source": [
    "rd_grid.fit(X_train,y_train)"
   ]
  },
  {
   "cell_type": "code",
   "execution_count": 25,
   "metadata": {},
   "outputs": [
    {
     "data": {
      "text/plain": [
       "0.9988126784811241"
      ]
     },
     "execution_count": 25,
     "metadata": {},
     "output_type": "execute_result"
    }
   ],
   "source": [
    "rd_grid.best_score_"
   ]
  },
  {
   "cell_type": "code",
   "execution_count": 26,
   "metadata": {},
   "outputs": [
    {
     "data": {
      "text/plain": [
       "{'colsample_bytree': 0.5213285655977811,\n",
       " 'gamma': 1,\n",
       " 'learning_rate': 0.12245745743134928,\n",
       " 'max_depth': 5,\n",
       " 'n_estimators': 448,\n",
       " 'subsample': 0.48831719352338554}"
      ]
     },
     "execution_count": 26,
     "metadata": {},
     "output_type": "execute_result"
    }
   ],
   "source": [
    "rd_grid.best_params_"
   ]
  },
  {
   "cell_type": "code",
   "execution_count": 6,
   "metadata": {},
   "outputs": [],
   "source": [
    "clf=XGBClassifier(colsample_bytree= 0.5213285655977811,\n",
    " gamma= 1,\n",
    " learning_rate= 0.12245745743134928,\n",
    " max_depth= 5,\n",
    " n_estimators= 448,\n",
    " subsample= 0.48831719352338554,objective='binary:logistic')"
   ]
  },
  {
   "cell_type": "code",
   "execution_count": 8,
   "metadata": {},
   "outputs": [
    {
     "data": {
      "text/plain": [
       "XGBClassifier(base_score=0.5, booster=None, colsample_bylevel=1,\n",
       "              colsample_bynode=1, colsample_bytree=0.5213285655977811, gamma=1,\n",
       "              gpu_id=-1, importance_type='gain', interaction_constraints=None,\n",
       "              learning_rate=0.12245745743134928, max_delta_step=0, max_depth=5,\n",
       "              min_child_weight=1, missing=nan, monotone_constraints=None,\n",
       "              n_estimators=448, n_jobs=0, num_parallel_tree=1,\n",
       "              objective='binary:logistic', random_state=0, reg_alpha=0,\n",
       "              reg_lambda=1, scale_pos_weight=1, subsample=0.48831719352338554,\n",
       "              tree_method=None, validate_parameters=False, verbosity=None)"
      ]
     },
     "execution_count": 8,
     "metadata": {},
     "output_type": "execute_result"
    }
   ],
   "source": [
    "clf.fit(X,Y)"
   ]
  },
  {
   "cell_type": "code",
   "execution_count": 8,
   "metadata": {},
   "outputs": [
    {
     "data": {
      "text/plain": [
       "0.9988797726647514"
      ]
     },
     "execution_count": 8,
     "metadata": {},
     "output_type": "execute_result"
    }
   ],
   "source": [
    "clf.score(X_test,y_test)"
   ]
  },
  {
   "cell_type": "markdown",
   "metadata": {},
   "source": [
    "Test 2 "
   ]
  },
  {
   "cell_type": "code",
   "execution_count": 14,
   "metadata": {},
   "outputs": [],
   "source": [
    "rd_grid=RandomizedSearchCV(\n",
    "    estimator=XGBClassifier(**params_fixed,seed=seed),param_distributions=params_dist_grid,\n",
    "n_iter=100,\n",
    "cv=3,\n",
    "scoring='accuracy',\n",
    "random_state=seed,\n",
    "verbose=10\n",
    ")"
   ]
  },
  {
   "cell_type": "code",
   "execution_count": 15,
   "metadata": {},
   "outputs": [
    {
     "name": "stdout",
     "output_type": "stream",
     "text": [
      "Fitting 3 folds for each of 100 candidates, totalling 300 fits\n",
      "[CV] colsample_bytree=0.06503439684192913, gamma=0, learning_rate=0.24756150723102166, max_depth=7, n_estimators=34, subsample=0.11848249237448605 \n"
     ]
    },
    {
     "name": "stderr",
     "output_type": "stream",
     "text": [
      "[Parallel(n_jobs=1)]: Using backend SequentialBackend with 1 concurrent workers.\n"
     ]
    },
    {
     "name": "stdout",
     "output_type": "stream",
     "text": [
      "[CV]  colsample_bytree=0.06503439684192913, gamma=0, learning_rate=0.24756150723102166, max_depth=7, n_estimators=34, subsample=0.11848249237448605, score=0.997, total=   3.3s\n",
      "[CV] colsample_bytree=0.06503439684192913, gamma=0, learning_rate=0.24756150723102166, max_depth=7, n_estimators=34, subsample=0.11848249237448605 \n"
     ]
    },
    {
     "name": "stderr",
     "output_type": "stream",
     "text": [
      "[Parallel(n_jobs=1)]: Done   1 out of   1 | elapsed:    3.3s remaining:    0.0s\n"
     ]
    },
    {
     "name": "stdout",
     "output_type": "stream",
     "text": [
      "[CV]  colsample_bytree=0.06503439684192913, gamma=0, learning_rate=0.24756150723102166, max_depth=7, n_estimators=34, subsample=0.11848249237448605, score=0.997, total=   3.3s\n",
      "[CV] colsample_bytree=0.06503439684192913, gamma=0, learning_rate=0.24756150723102166, max_depth=7, n_estimators=34, subsample=0.11848249237448605 \n"
     ]
    },
    {
     "name": "stderr",
     "output_type": "stream",
     "text": [
      "[Parallel(n_jobs=1)]: Done   2 out of   2 | elapsed:    6.6s remaining:    0.0s\n"
     ]
    },
    {
     "name": "stdout",
     "output_type": "stream",
     "text": [
      "[CV]  colsample_bytree=0.06503439684192913, gamma=0, learning_rate=0.24756150723102166, max_depth=7, n_estimators=34, subsample=0.11848249237448605, score=0.997, total=   3.3s\n",
      "[CV] colsample_bytree=0.13214054942810016, gamma=0, learning_rate=0.4325346125891868, max_depth=3, n_estimators=457, subsample=0.8942723823370169 \n"
     ]
    },
    {
     "name": "stderr",
     "output_type": "stream",
     "text": [
      "[Parallel(n_jobs=1)]: Done   3 out of   3 | elapsed:    9.9s remaining:    0.0s\n"
     ]
    },
    {
     "name": "stdout",
     "output_type": "stream",
     "text": [
      "[CV]  colsample_bytree=0.13214054942810016, gamma=0, learning_rate=0.4325346125891868, max_depth=3, n_estimators=457, subsample=0.8942723823370169, score=0.999, total=  36.6s\n",
      "[CV] colsample_bytree=0.13214054942810016, gamma=0, learning_rate=0.4325346125891868, max_depth=3, n_estimators=457, subsample=0.8942723823370169 \n"
     ]
    },
    {
     "name": "stderr",
     "output_type": "stream",
     "text": [
      "[Parallel(n_jobs=1)]: Done   4 out of   4 | elapsed:   46.5s remaining:    0.0s\n"
     ]
    },
    {
     "name": "stdout",
     "output_type": "stream",
     "text": [
      "[CV]  colsample_bytree=0.13214054942810016, gamma=0, learning_rate=0.4325346125891868, max_depth=3, n_estimators=457, subsample=0.8942723823370169, score=0.999, total=  38.5s\n",
      "[CV] colsample_bytree=0.13214054942810016, gamma=0, learning_rate=0.4325346125891868, max_depth=3, n_estimators=457, subsample=0.8942723823370169 \n"
     ]
    },
    {
     "name": "stderr",
     "output_type": "stream",
     "text": [
      "[Parallel(n_jobs=1)]: Done   5 out of   5 | elapsed:  1.4min remaining:    0.0s\n"
     ]
    },
    {
     "name": "stdout",
     "output_type": "stream",
     "text": [
      "[CV]  colsample_bytree=0.13214054942810016, gamma=0, learning_rate=0.4325346125891868, max_depth=3, n_estimators=457, subsample=0.8942723823370169, score=0.999, total=  38.5s\n",
      "[CV] colsample_bytree=0.1523931947190449, gamma=1, learning_rate=0.23096728629607655, max_depth=7, n_estimators=91, subsample=0.7099300190073073 \n"
     ]
    },
    {
     "name": "stderr",
     "output_type": "stream",
     "text": [
      "[Parallel(n_jobs=1)]: Done   6 out of   6 | elapsed:  2.1min remaining:    0.0s\n"
     ]
    },
    {
     "name": "stdout",
     "output_type": "stream",
     "text": [
      "[CV]  colsample_bytree=0.1523931947190449, gamma=1, learning_rate=0.23096728629607655, max_depth=7, n_estimators=91, subsample=0.7099300190073073, score=0.998, total=  16.4s\n",
      "[CV] colsample_bytree=0.1523931947190449, gamma=1, learning_rate=0.23096728629607655, max_depth=7, n_estimators=91, subsample=0.7099300190073073 \n"
     ]
    },
    {
     "name": "stderr",
     "output_type": "stream",
     "text": [
      "[Parallel(n_jobs=1)]: Done   7 out of   7 | elapsed:  2.3min remaining:    0.0s\n"
     ]
    },
    {
     "name": "stdout",
     "output_type": "stream",
     "text": [
      "[CV]  colsample_bytree=0.1523931947190449, gamma=1, learning_rate=0.23096728629607655, max_depth=7, n_estimators=91, subsample=0.7099300190073073, score=0.999, total=  15.8s\n",
      "[CV] colsample_bytree=0.1523931947190449, gamma=1, learning_rate=0.23096728629607655, max_depth=7, n_estimators=91, subsample=0.7099300190073073 \n"
     ]
    },
    {
     "name": "stderr",
     "output_type": "stream",
     "text": [
      "[Parallel(n_jobs=1)]: Done   8 out of   8 | elapsed:  2.6min remaining:    0.0s\n"
     ]
    },
    {
     "name": "stdout",
     "output_type": "stream",
     "text": [
      "[CV]  colsample_bytree=0.1523931947190449, gamma=1, learning_rate=0.23096728629607655, max_depth=7, n_estimators=91, subsample=0.7099300190073073, score=0.999, total=  15.9s\n",
      "[CV] colsample_bytree=0.22187963515640408, gamma=1, learning_rate=0.3807697564898246, max_depth=7, n_estimators=142, subsample=0.8058014316376573 \n"
     ]
    },
    {
     "name": "stderr",
     "output_type": "stream",
     "text": [
      "[Parallel(n_jobs=1)]: Done   9 out of   9 | elapsed:  2.9min remaining:    0.0s\n"
     ]
    },
    {
     "name": "stdout",
     "output_type": "stream",
     "text": [
      "[CV]  colsample_bytree=0.22187963515640408, gamma=1, learning_rate=0.3807697564898246, max_depth=7, n_estimators=142, subsample=0.8058014316376573, score=0.999, total=  27.5s\n",
      "[CV] colsample_bytree=0.22187963515640408, gamma=1, learning_rate=0.3807697564898246, max_depth=7, n_estimators=142, subsample=0.8058014316376573 \n",
      "[CV]  colsample_bytree=0.22187963515640408, gamma=1, learning_rate=0.3807697564898246, max_depth=7, n_estimators=142, subsample=0.8058014316376573, score=0.999, total=  27.8s\n",
      "[CV] colsample_bytree=0.22187963515640408, gamma=1, learning_rate=0.3807697564898246, max_depth=7, n_estimators=142, subsample=0.8058014316376573 \n",
      "[CV]  colsample_bytree=0.22187963515640408, gamma=1, learning_rate=0.3807697564898246, max_depth=7, n_estimators=142, subsample=0.8058014316376573, score=0.999, total=  28.5s\n",
      "[CV] colsample_bytree=0.4636309538821305, gamma=0, learning_rate=0.7652628330253548, max_depth=3, n_estimators=217, subsample=0.005635524386628399 \n",
      "[CV]  colsample_bytree=0.4636309538821305, gamma=0, learning_rate=0.7652628330253548, max_depth=3, n_estimators=217, subsample=0.005635524386628399, score=0.997, total=  14.6s\n",
      "[CV] colsample_bytree=0.4636309538821305, gamma=0, learning_rate=0.7652628330253548, max_depth=3, n_estimators=217, subsample=0.005635524386628399 \n",
      "[CV]  colsample_bytree=0.4636309538821305, gamma=0, learning_rate=0.7652628330253548, max_depth=3, n_estimators=217, subsample=0.005635524386628399, score=0.997, total=  15.0s\n",
      "[CV] colsample_bytree=0.4636309538821305, gamma=0, learning_rate=0.7652628330253548, max_depth=3, n_estimators=217, subsample=0.005635524386628399 \n",
      "[CV]  colsample_bytree=0.4636309538821305, gamma=0, learning_rate=0.7652628330253548, max_depth=3, n_estimators=217, subsample=0.005635524386628399, score=0.997, total=  15.4s\n",
      "[CV] colsample_bytree=0.3484693847948471, gamma=0.5, learning_rate=0.501367277763467, max_depth=3, n_estimators=344, subsample=0.7446963541453213 \n",
      "[CV]  colsample_bytree=0.3484693847948471, gamma=0.5, learning_rate=0.501367277763467, max_depth=3, n_estimators=344, subsample=0.7446963541453213, score=0.999, total=  45.9s\n",
      "[CV] colsample_bytree=0.3484693847948471, gamma=0.5, learning_rate=0.501367277763467, max_depth=3, n_estimators=344, subsample=0.7446963541453213 \n",
      "[CV]  colsample_bytree=0.3484693847948471, gamma=0.5, learning_rate=0.501367277763467, max_depth=3, n_estimators=344, subsample=0.7446963541453213, score=0.999, total=  43.9s\n",
      "[CV] colsample_bytree=0.3484693847948471, gamma=0.5, learning_rate=0.501367277763467, max_depth=3, n_estimators=344, subsample=0.7446963541453213 \n",
      "[CV]  colsample_bytree=0.3484693847948471, gamma=0.5, learning_rate=0.501367277763467, max_depth=3, n_estimators=344, subsample=0.7446963541453213, score=0.999, total=  43.9s\n",
      "[CV] colsample_bytree=0.027059952336016435, gamma=0.5, learning_rate=0.32181898059099534, max_depth=7, n_estimators=106, subsample=0.1430695313368998 \n",
      "[CV]  colsample_bytree=0.027059952336016435, gamma=0.5, learning_rate=0.32181898059099534, max_depth=7, n_estimators=106, subsample=0.1430695313368998, score=0.998, total=  10.3s\n",
      "[CV] colsample_bytree=0.027059952336016435, gamma=0.5, learning_rate=0.32181898059099534, max_depth=7, n_estimators=106, subsample=0.1430695313368998 \n",
      "[CV]  colsample_bytree=0.027059952336016435, gamma=0.5, learning_rate=0.32181898059099534, max_depth=7, n_estimators=106, subsample=0.1430695313368998, score=0.997, total=  10.2s\n",
      "[CV] colsample_bytree=0.027059952336016435, gamma=0.5, learning_rate=0.32181898059099534, max_depth=7, n_estimators=106, subsample=0.1430695313368998 \n",
      "[CV]  colsample_bytree=0.027059952336016435, gamma=0.5, learning_rate=0.32181898059099534, max_depth=7, n_estimators=106, subsample=0.1430695313368998, score=0.998, total=  10.1s\n",
      "[CV] colsample_bytree=0.6052416274824561, gamma=0, learning_rate=0.6050492440098373, max_depth=7, n_estimators=304, subsample=0.7395162785706926 \n",
      "[CV]  colsample_bytree=0.6052416274824561, gamma=0, learning_rate=0.6050492440098373, max_depth=7, n_estimators=304, subsample=0.7395162785706926, score=0.999, total= 1.3min\n",
      "[CV] colsample_bytree=0.6052416274824561, gamma=0, learning_rate=0.6050492440098373, max_depth=7, n_estimators=304, subsample=0.7395162785706926 \n",
      "[CV]  colsample_bytree=0.6052416274824561, gamma=0, learning_rate=0.6050492440098373, max_depth=7, n_estimators=304, subsample=0.7395162785706926, score=0.999, total= 1.3min\n",
      "[CV] colsample_bytree=0.6052416274824561, gamma=0, learning_rate=0.6050492440098373, max_depth=7, n_estimators=304, subsample=0.7395162785706926 \n",
      "[CV]  colsample_bytree=0.6052416274824561, gamma=0, learning_rate=0.6050492440098373, max_depth=7, n_estimators=304, subsample=0.7395162785706926, score=0.999, total= 1.3min\n",
      "[CV] colsample_bytree=0.3798729645059653, gamma=0, learning_rate=0.2244110761611232, max_depth=9, n_estimators=212, subsample=0.38626895174139364 \n",
      "[CV]  colsample_bytree=0.3798729645059653, gamma=0, learning_rate=0.2244110761611232, max_depth=9, n_estimators=212, subsample=0.38626895174139364, score=0.999, total=  56.1s\n",
      "[CV] colsample_bytree=0.3798729645059653, gamma=0, learning_rate=0.2244110761611232, max_depth=9, n_estimators=212, subsample=0.38626895174139364 \n",
      "[CV]  colsample_bytree=0.3798729645059653, gamma=0, learning_rate=0.2244110761611232, max_depth=9, n_estimators=212, subsample=0.38626895174139364, score=0.999, total=  55.6s\n",
      "[CV] colsample_bytree=0.3798729645059653, gamma=0, learning_rate=0.2244110761611232, max_depth=9, n_estimators=212, subsample=0.38626895174139364 \n",
      "[CV]  colsample_bytree=0.3798729645059653, gamma=0, learning_rate=0.2244110761611232, max_depth=9, n_estimators=212, subsample=0.38626895174139364, score=0.999, total=  55.9s\n",
      "[CV] colsample_bytree=0.6081741773955259, gamma=0, learning_rate=0.3242569496604357, max_depth=3, n_estimators=487, subsample=0.16575363219645556 \n",
      "[CV]  colsample_bytree=0.6081741773955259, gamma=0, learning_rate=0.3242569496604357, max_depth=3, n_estimators=487, subsample=0.16575363219645556, score=0.998, total= 1.0min\n",
      "[CV] colsample_bytree=0.6081741773955259, gamma=0, learning_rate=0.3242569496604357, max_depth=3, n_estimators=487, subsample=0.16575363219645556 \n",
      "[CV]  colsample_bytree=0.6081741773955259, gamma=0, learning_rate=0.3242569496604357, max_depth=3, n_estimators=487, subsample=0.16575363219645556, score=0.998, total= 1.0min\n",
      "[CV] colsample_bytree=0.6081741773955259, gamma=0, learning_rate=0.3242569496604357, max_depth=3, n_estimators=487, subsample=0.16575363219645556 \n",
      "[CV]  colsample_bytree=0.6081741773955259, gamma=0, learning_rate=0.3242569496604357, max_depth=3, n_estimators=487, subsample=0.16575363219645556, score=0.998, total= 1.0min\n",
      "[CV] colsample_bytree=0.34825342627224587, gamma=0, learning_rate=0.4185815141367779, max_depth=3, n_estimators=488, subsample=0.8780483709609663 \n",
      "[CV]  colsample_bytree=0.34825342627224587, gamma=0, learning_rate=0.4185815141367779, max_depth=3, n_estimators=488, subsample=0.8780483709609663, score=0.999, total= 1.0min\n",
      "[CV] colsample_bytree=0.34825342627224587, gamma=0, learning_rate=0.4185815141367779, max_depth=3, n_estimators=488, subsample=0.8780483709609663 \n",
      "[CV]  colsample_bytree=0.34825342627224587, gamma=0, learning_rate=0.4185815141367779, max_depth=3, n_estimators=488, subsample=0.8780483709609663, score=0.999, total= 1.0min\n",
      "[CV] colsample_bytree=0.34825342627224587, gamma=0, learning_rate=0.4185815141367779, max_depth=3, n_estimators=488, subsample=0.8780483709609663 \n",
      "[CV]  colsample_bytree=0.34825342627224587, gamma=0, learning_rate=0.4185815141367779, max_depth=3, n_estimators=488, subsample=0.8780483709609663, score=0.999, total= 1.0min\n",
      "[CV] colsample_bytree=0.4288656296016934, gamma=0.5, learning_rate=0.6730164898324128, max_depth=5, n_estimators=410, subsample=0.7248087016755762 \n",
      "[CV]  colsample_bytree=0.4288656296016934, gamma=0.5, learning_rate=0.6730164898324128, max_depth=5, n_estimators=410, subsample=0.7248087016755762, score=0.999, total= 1.3min\n",
      "[CV] colsample_bytree=0.4288656296016934, gamma=0.5, learning_rate=0.6730164898324128, max_depth=5, n_estimators=410, subsample=0.7248087016755762 \n",
      "[CV]  colsample_bytree=0.4288656296016934, gamma=0.5, learning_rate=0.6730164898324128, max_depth=5, n_estimators=410, subsample=0.7248087016755762, score=0.999, total= 1.3min\n",
      "[CV] colsample_bytree=0.4288656296016934, gamma=0.5, learning_rate=0.6730164898324128, max_depth=5, n_estimators=410, subsample=0.7248087016755762 \n"
     ]
    },
    {
     "name": "stdout",
     "output_type": "stream",
     "text": [
      "[CV]  colsample_bytree=0.4288656296016934, gamma=0.5, learning_rate=0.6730164898324128, max_depth=5, n_estimators=410, subsample=0.7248087016755762, score=0.999, total= 1.3min\n",
      "[CV] colsample_bytree=0.0017306007327145823, gamma=0.5, learning_rate=0.05315918465055469, max_depth=9, n_estimators=205, subsample=0.8061810315662579 \n",
      "[CV]  colsample_bytree=0.0017306007327145823, gamma=0.5, learning_rate=0.05315918465055469, max_depth=9, n_estimators=205, subsample=0.8061810315662579, score=0.997, total=  24.7s\n",
      "[CV] colsample_bytree=0.0017306007327145823, gamma=0.5, learning_rate=0.05315918465055469, max_depth=9, n_estimators=205, subsample=0.8061810315662579 \n",
      "[CV]  colsample_bytree=0.0017306007327145823, gamma=0.5, learning_rate=0.05315918465055469, max_depth=9, n_estimators=205, subsample=0.8061810315662579, score=0.997, total=  24.9s\n",
      "[CV] colsample_bytree=0.0017306007327145823, gamma=0.5, learning_rate=0.05315918465055469, max_depth=9, n_estimators=205, subsample=0.8061810315662579 \n",
      "[CV]  colsample_bytree=0.0017306007327145823, gamma=0.5, learning_rate=0.05315918465055469, max_depth=9, n_estimators=205, subsample=0.8061810315662579, score=0.997, total=  25.2s\n",
      "[CV] colsample_bytree=0.0652058663329057, gamma=0.5, learning_rate=0.3009542371416952, max_depth=5, n_estimators=215, subsample=0.7182879010530241 \n",
      "[CV]  colsample_bytree=0.0652058663329057, gamma=0.5, learning_rate=0.3009542371416952, max_depth=5, n_estimators=215, subsample=0.7182879010530241, score=0.998, total=  24.4s\n",
      "[CV] colsample_bytree=0.0652058663329057, gamma=0.5, learning_rate=0.3009542371416952, max_depth=5, n_estimators=215, subsample=0.7182879010530241 \n",
      "[CV]  colsample_bytree=0.0652058663329057, gamma=0.5, learning_rate=0.3009542371416952, max_depth=5, n_estimators=215, subsample=0.7182879010530241, score=0.999, total=  24.5s\n",
      "[CV] colsample_bytree=0.0652058663329057, gamma=0.5, learning_rate=0.3009542371416952, max_depth=5, n_estimators=215, subsample=0.7182879010530241 \n",
      "[CV]  colsample_bytree=0.0652058663329057, gamma=0.5, learning_rate=0.3009542371416952, max_depth=5, n_estimators=215, subsample=0.7182879010530241, score=0.999, total=  24.5s\n",
      "[CV] colsample_bytree=0.03736425297203316, gamma=1, learning_rate=0.34508603000232396, max_depth=3, n_estimators=149, subsample=0.3515989871516927 \n",
      "[CV]  colsample_bytree=0.03736425297203316, gamma=1, learning_rate=0.34508603000232396, max_depth=3, n_estimators=149, subsample=0.3515989871516927, score=0.998, total=  11.7s\n",
      "[CV] colsample_bytree=0.03736425297203316, gamma=1, learning_rate=0.34508603000232396, max_depth=3, n_estimators=149, subsample=0.3515989871516927 \n",
      "[CV]  colsample_bytree=0.03736425297203316, gamma=1, learning_rate=0.34508603000232396, max_depth=3, n_estimators=149, subsample=0.3515989871516927, score=0.998, total=  11.8s\n",
      "[CV] colsample_bytree=0.03736425297203316, gamma=1, learning_rate=0.34508603000232396, max_depth=3, n_estimators=149, subsample=0.3515989871516927 \n",
      "[CV]  colsample_bytree=0.03736425297203316, gamma=1, learning_rate=0.34508603000232396, max_depth=3, n_estimators=149, subsample=0.3515989871516927, score=0.998, total=  11.7s\n",
      "[CV] colsample_bytree=0.28640275096467005, gamma=0.5, learning_rate=0.13625268915862287, max_depth=5, n_estimators=375, subsample=0.7122370715991608 \n",
      "[CV]  colsample_bytree=0.28640275096467005, gamma=0.5, learning_rate=0.13625268915862287, max_depth=5, n_estimators=375, subsample=0.7122370715991608, score=0.999, total= 1.1min\n",
      "[CV] colsample_bytree=0.28640275096467005, gamma=0.5, learning_rate=0.13625268915862287, max_depth=5, n_estimators=375, subsample=0.7122370715991608 \n",
      "[CV]  colsample_bytree=0.28640275096467005, gamma=0.5, learning_rate=0.13625268915862287, max_depth=5, n_estimators=375, subsample=0.7122370715991608, score=0.999, total= 1.1min\n",
      "[CV] colsample_bytree=0.28640275096467005, gamma=0.5, learning_rate=0.13625268915862287, max_depth=5, n_estimators=375, subsample=0.7122370715991608 \n",
      "[CV]  colsample_bytree=0.28640275096467005, gamma=0.5, learning_rate=0.13625268915862287, max_depth=5, n_estimators=375, subsample=0.7122370715991608, score=0.999, total= 1.1min\n",
      "[CV] colsample_bytree=0.11584888265940785, gamma=0, learning_rate=0.4908537989581572, max_depth=7, n_estimators=217, subsample=0.21808623249143 \n",
      "[CV]  colsample_bytree=0.11584888265940785, gamma=0, learning_rate=0.4908537989581572, max_depth=7, n_estimators=217, subsample=0.21808623249143, score=0.998, total=  28.6s\n",
      "[CV] colsample_bytree=0.11584888265940785, gamma=0, learning_rate=0.4908537989581572, max_depth=7, n_estimators=217, subsample=0.21808623249143 \n",
      "[CV]  colsample_bytree=0.11584888265940785, gamma=0, learning_rate=0.4908537989581572, max_depth=7, n_estimators=217, subsample=0.21808623249143, score=0.998, total=  28.5s\n",
      "[CV] colsample_bytree=0.11584888265940785, gamma=0, learning_rate=0.4908537989581572, max_depth=7, n_estimators=217, subsample=0.21808623249143 \n",
      "[CV]  colsample_bytree=0.11584888265940785, gamma=0, learning_rate=0.4908537989581572, max_depth=7, n_estimators=217, subsample=0.21808623249143, score=0.998, total=  28.7s\n",
      "[CV] colsample_bytree=0.6104278565642697, gamma=1, learning_rate=0.19229938260169954, max_depth=3, n_estimators=384, subsample=0.9695258738383024 \n",
      "[CV]  colsample_bytree=0.6104278565642697, gamma=1, learning_rate=0.19229938260169954, max_depth=3, n_estimators=384, subsample=0.9695258738383024, score=0.999, total= 1.0min\n",
      "[CV] colsample_bytree=0.6104278565642697, gamma=1, learning_rate=0.19229938260169954, max_depth=3, n_estimators=384, subsample=0.9695258738383024 \n",
      "[CV]  colsample_bytree=0.6104278565642697, gamma=1, learning_rate=0.19229938260169954, max_depth=3, n_estimators=384, subsample=0.9695258738383024, score=0.999, total= 1.0min\n",
      "[CV] colsample_bytree=0.6104278565642697, gamma=1, learning_rate=0.19229938260169954, max_depth=3, n_estimators=384, subsample=0.9695258738383024 \n",
      "[CV]  colsample_bytree=0.6104278565642697, gamma=1, learning_rate=0.19229938260169954, max_depth=3, n_estimators=384, subsample=0.9695258738383024, score=0.999, total= 1.0min\n",
      "[CV] colsample_bytree=0.4418555802707862, gamma=1, learning_rate=0.838802169791344, max_depth=9, n_estimators=483, subsample=0.34916312744720013 \n",
      "[CV]  colsample_bytree=0.4418555802707862, gamma=1, learning_rate=0.838802169791344, max_depth=9, n_estimators=483, subsample=0.34916312744720013, score=0.998, total= 1.6min\n",
      "[CV] colsample_bytree=0.4418555802707862, gamma=1, learning_rate=0.838802169791344, max_depth=9, n_estimators=483, subsample=0.34916312744720013 \n",
      "[CV]  colsample_bytree=0.4418555802707862, gamma=1, learning_rate=0.838802169791344, max_depth=9, n_estimators=483, subsample=0.34916312744720013, score=0.998, total= 1.6min\n",
      "[CV] colsample_bytree=0.4418555802707862, gamma=1, learning_rate=0.838802169791344, max_depth=9, n_estimators=483, subsample=0.34916312744720013 \n",
      "[CV]  colsample_bytree=0.4418555802707862, gamma=1, learning_rate=0.838802169791344, max_depth=9, n_estimators=483, subsample=0.34916312744720013, score=0.998, total= 1.6min\n",
      "[CV] colsample_bytree=0.6468232104916526, gamma=0.5, learning_rate=0.5599867682778354, max_depth=7, n_estimators=376, subsample=0.8247083447312324 \n",
      "[CV]  colsample_bytree=0.6468232104916526, gamma=0.5, learning_rate=0.5599867682778354, max_depth=7, n_estimators=376, subsample=0.8247083447312324, score=0.999, total= 2.0min\n",
      "[CV] colsample_bytree=0.6468232104916526, gamma=0.5, learning_rate=0.5599867682778354, max_depth=7, n_estimators=376, subsample=0.8247083447312324 \n",
      "[CV]  colsample_bytree=0.6468232104916526, gamma=0.5, learning_rate=0.5599867682778354, max_depth=7, n_estimators=376, subsample=0.8247083447312324, score=0.999, total= 2.0min\n",
      "[CV] colsample_bytree=0.6468232104916526, gamma=0.5, learning_rate=0.5599867682778354, max_depth=7, n_estimators=376, subsample=0.8247083447312324 \n",
      "[CV]  colsample_bytree=0.6468232104916526, gamma=0.5, learning_rate=0.5599867682778354, max_depth=7, n_estimators=376, subsample=0.8247083447312324, score=0.999, total= 2.0min\n",
      "[CV] colsample_bytree=0.4697145869577216, gamma=0.5, learning_rate=0.39720907308977726, max_depth=3, n_estimators=312, subsample=0.9607885510753981 \n",
      "[CV]  colsample_bytree=0.4697145869577216, gamma=0.5, learning_rate=0.39720907308977726, max_depth=3, n_estimators=312, subsample=0.9607885510753981, score=0.999, total=  43.7s\n",
      "[CV] colsample_bytree=0.4697145869577216, gamma=0.5, learning_rate=0.39720907308977726, max_depth=3, n_estimators=312, subsample=0.9607885510753981 \n"
     ]
    },
    {
     "name": "stdout",
     "output_type": "stream",
     "text": [
      "[CV]  colsample_bytree=0.4697145869577216, gamma=0.5, learning_rate=0.39720907308977726, max_depth=3, n_estimators=312, subsample=0.9607885510753981, score=0.999, total=  43.7s\n",
      "[CV] colsample_bytree=0.4697145869577216, gamma=0.5, learning_rate=0.39720907308977726, max_depth=3, n_estimators=312, subsample=0.9607885510753981 \n",
      "[CV]  colsample_bytree=0.4697145869577216, gamma=0.5, learning_rate=0.39720907308977726, max_depth=3, n_estimators=312, subsample=0.9607885510753981, score=0.999, total=  43.5s\n",
      "[CV] colsample_bytree=0.1807105983444972, gamma=0.5, learning_rate=0.7116905005504024, max_depth=7, n_estimators=43, subsample=0.12476164013176438 \n",
      "[CV]  colsample_bytree=0.1807105983444972, gamma=0.5, learning_rate=0.7116905005504024, max_depth=7, n_estimators=43, subsample=0.12476164013176438, score=0.997, total=   6.5s\n",
      "[CV] colsample_bytree=0.1807105983444972, gamma=0.5, learning_rate=0.7116905005504024, max_depth=7, n_estimators=43, subsample=0.12476164013176438 \n",
      "[CV]  colsample_bytree=0.1807105983444972, gamma=0.5, learning_rate=0.7116905005504024, max_depth=7, n_estimators=43, subsample=0.12476164013176438, score=0.998, total=   6.4s\n",
      "[CV] colsample_bytree=0.1807105983444972, gamma=0.5, learning_rate=0.7116905005504024, max_depth=7, n_estimators=43, subsample=0.12476164013176438 \n",
      "[CV]  colsample_bytree=0.1807105983444972, gamma=0.5, learning_rate=0.7116905005504024, max_depth=7, n_estimators=43, subsample=0.12476164013176438, score=0.997, total=   6.5s\n",
      "[CV] colsample_bytree=0.04489508721875779, gamma=0.5, learning_rate=0.3573079777273209, max_depth=7, n_estimators=104, subsample=0.5565968240145037 \n",
      "[CV]  colsample_bytree=0.04489508721875779, gamma=0.5, learning_rate=0.3573079777273209, max_depth=7, n_estimators=104, subsample=0.5565968240145037, score=0.998, total=  12.3s\n",
      "[CV] colsample_bytree=0.04489508721875779, gamma=0.5, learning_rate=0.3573079777273209, max_depth=7, n_estimators=104, subsample=0.5565968240145037 \n",
      "[CV]  colsample_bytree=0.04489508721875779, gamma=0.5, learning_rate=0.3573079777273209, max_depth=7, n_estimators=104, subsample=0.5565968240145037, score=0.998, total=  12.2s\n",
      "[CV] colsample_bytree=0.04489508721875779, gamma=0.5, learning_rate=0.3573079777273209, max_depth=7, n_estimators=104, subsample=0.5565968240145037 \n",
      "[CV]  colsample_bytree=0.04489508721875779, gamma=0.5, learning_rate=0.3573079777273209, max_depth=7, n_estimators=104, subsample=0.5565968240145037, score=0.998, total=  12.4s\n",
      "[CV] colsample_bytree=0.5378305425082532, gamma=0.5, learning_rate=0.07486337619698258, max_depth=5, n_estimators=50, subsample=0.419807612168166 \n",
      "[CV]  colsample_bytree=0.5378305425082532, gamma=0.5, learning_rate=0.07486337619698258, max_depth=5, n_estimators=50, subsample=0.419807612168166, score=0.998, total=  11.9s\n",
      "[CV] colsample_bytree=0.5378305425082532, gamma=0.5, learning_rate=0.07486337619698258, max_depth=5, n_estimators=50, subsample=0.419807612168166 \n",
      "[CV]  colsample_bytree=0.5378305425082532, gamma=0.5, learning_rate=0.07486337619698258, max_depth=5, n_estimators=50, subsample=0.419807612168166, score=0.998, total=  11.8s\n",
      "[CV] colsample_bytree=0.5378305425082532, gamma=0.5, learning_rate=0.07486337619698258, max_depth=5, n_estimators=50, subsample=0.419807612168166 \n",
      "[CV]  colsample_bytree=0.5378305425082532, gamma=0.5, learning_rate=0.07486337619698258, max_depth=5, n_estimators=50, subsample=0.419807612168166, score=0.998, total=  11.8s\n",
      "[CV] colsample_bytree=0.08027764806449922, gamma=0, learning_rate=0.5816739095805397, max_depth=3, n_estimators=431, subsample=0.43419038829354917 \n",
      "[CV]  colsample_bytree=0.08027764806449922, gamma=0, learning_rate=0.5816739095805397, max_depth=3, n_estimators=431, subsample=0.43419038829354917, score=0.998, total=  36.3s\n",
      "[CV] colsample_bytree=0.08027764806449922, gamma=0, learning_rate=0.5816739095805397, max_depth=3, n_estimators=431, subsample=0.43419038829354917 \n",
      "[CV]  colsample_bytree=0.08027764806449922, gamma=0, learning_rate=0.5816739095805397, max_depth=3, n_estimators=431, subsample=0.43419038829354917, score=0.998, total=  36.3s\n",
      "[CV] colsample_bytree=0.08027764806449922, gamma=0, learning_rate=0.5816739095805397, max_depth=3, n_estimators=431, subsample=0.43419038829354917 \n",
      "[CV]  colsample_bytree=0.08027764806449922, gamma=0, learning_rate=0.5816739095805397, max_depth=3, n_estimators=431, subsample=0.43419038829354917, score=0.998, total=  36.6s\n",
      "[CV] colsample_bytree=0.8443575182198271, gamma=0, learning_rate=0.7856293762743507, max_depth=7, n_estimators=192, subsample=0.7530818233092769 \n",
      "[CV]  colsample_bytree=0.8443575182198271, gamma=0, learning_rate=0.7856293762743507, max_depth=7, n_estimators=192, subsample=0.7530818233092769, score=0.999, total= 1.1min\n",
      "[CV] colsample_bytree=0.8443575182198271, gamma=0, learning_rate=0.7856293762743507, max_depth=7, n_estimators=192, subsample=0.7530818233092769 \n",
      "[CV]  colsample_bytree=0.8443575182198271, gamma=0, learning_rate=0.7856293762743507, max_depth=7, n_estimators=192, subsample=0.7530818233092769, score=0.999, total= 1.1min\n",
      "[CV] colsample_bytree=0.8443575182198271, gamma=0, learning_rate=0.7856293762743507, max_depth=7, n_estimators=192, subsample=0.7530818233092769 \n",
      "[CV]  colsample_bytree=0.8443575182198271, gamma=0, learning_rate=0.7856293762743507, max_depth=7, n_estimators=192, subsample=0.7530818233092769, score=0.999, total= 1.1min\n",
      "[CV] colsample_bytree=0.42208030371369953, gamma=0, learning_rate=0.6831122329710866, max_depth=3, n_estimators=120, subsample=0.49261723921786116 \n",
      "[CV]  colsample_bytree=0.42208030371369953, gamma=0, learning_rate=0.6831122329710866, max_depth=3, n_estimators=120, subsample=0.49261723921786116, score=0.998, total=  16.9s\n",
      "[CV] colsample_bytree=0.42208030371369953, gamma=0, learning_rate=0.6831122329710866, max_depth=3, n_estimators=120, subsample=0.49261723921786116 \n",
      "[CV]  colsample_bytree=0.42208030371369953, gamma=0, learning_rate=0.6831122329710866, max_depth=3, n_estimators=120, subsample=0.49261723921786116, score=0.999, total=  16.8s\n",
      "[CV] colsample_bytree=0.42208030371369953, gamma=0, learning_rate=0.6831122329710866, max_depth=3, n_estimators=120, subsample=0.49261723921786116 \n",
      "[CV]  colsample_bytree=0.42208030371369953, gamma=0, learning_rate=0.6831122329710866, max_depth=3, n_estimators=120, subsample=0.49261723921786116, score=0.999, total=  16.8s\n",
      "[CV] colsample_bytree=0.8239347020567251, gamma=0, learning_rate=0.46000569578319994, max_depth=7, n_estimators=239, subsample=0.3321379188544956 \n",
      "[CV]  colsample_bytree=0.8239347020567251, gamma=0, learning_rate=0.46000569578319994, max_depth=7, n_estimators=239, subsample=0.3321379188544956, score=0.998, total= 1.2min\n",
      "[CV] colsample_bytree=0.8239347020567251, gamma=0, learning_rate=0.46000569578319994, max_depth=7, n_estimators=239, subsample=0.3321379188544956 \n",
      "[CV]  colsample_bytree=0.8239347020567251, gamma=0, learning_rate=0.46000569578319994, max_depth=7, n_estimators=239, subsample=0.3321379188544956, score=0.998, total= 1.2min\n",
      "[CV] colsample_bytree=0.8239347020567251, gamma=0, learning_rate=0.46000569578319994, max_depth=7, n_estimators=239, subsample=0.3321379188544956 \n",
      "[CV]  colsample_bytree=0.8239347020567251, gamma=0, learning_rate=0.46000569578319994, max_depth=7, n_estimators=239, subsample=0.3321379188544956, score=0.999, total= 1.2min\n",
      "[CV] colsample_bytree=0.7392011452227608, gamma=0, learning_rate=0.7943107818388505, max_depth=7, n_estimators=108, subsample=0.5403080029773456 \n",
      "[CV]  colsample_bytree=0.7392011452227608, gamma=0, learning_rate=0.7943107818388505, max_depth=7, n_estimators=108, subsample=0.5403080029773456, score=0.998, total=  37.7s\n",
      "[CV] colsample_bytree=0.7392011452227608, gamma=0, learning_rate=0.7943107818388505, max_depth=7, n_estimators=108, subsample=0.5403080029773456 \n",
      "[CV]  colsample_bytree=0.7392011452227608, gamma=0, learning_rate=0.7943107818388505, max_depth=7, n_estimators=108, subsample=0.5403080029773456, score=0.999, total=  38.9s\n",
      "[CV] colsample_bytree=0.7392011452227608, gamma=0, learning_rate=0.7943107818388505, max_depth=7, n_estimators=108, subsample=0.5403080029773456 \n",
      "[CV]  colsample_bytree=0.7392011452227608, gamma=0, learning_rate=0.7943107818388505, max_depth=7, n_estimators=108, subsample=0.5403080029773456, score=0.999, total=  38.7s\n",
      "[CV] colsample_bytree=0.7494207571997938, gamma=1, learning_rate=0.5669082329780527, max_depth=3, n_estimators=35, subsample=0.8936616121288703 \n"
     ]
    },
    {
     "name": "stdout",
     "output_type": "stream",
     "text": [
      "[CV]  colsample_bytree=0.7494207571997938, gamma=1, learning_rate=0.5669082329780527, max_depth=3, n_estimators=35, subsample=0.8936616121288703, score=0.998, total=   7.1s\n",
      "[CV] colsample_bytree=0.7494207571997938, gamma=1, learning_rate=0.5669082329780527, max_depth=3, n_estimators=35, subsample=0.8936616121288703 \n",
      "[CV]  colsample_bytree=0.7494207571997938, gamma=1, learning_rate=0.5669082329780527, max_depth=3, n_estimators=35, subsample=0.8936616121288703, score=0.998, total=   7.1s\n",
      "[CV] colsample_bytree=0.7494207571997938, gamma=1, learning_rate=0.5669082329780527, max_depth=3, n_estimators=35, subsample=0.8936616121288703 \n",
      "[CV]  colsample_bytree=0.7494207571997938, gamma=1, learning_rate=0.5669082329780527, max_depth=3, n_estimators=35, subsample=0.8936616121288703, score=0.999, total=   7.1s\n",
      "[CV] colsample_bytree=0.1233781606164811, gamma=0.5, learning_rate=0.09772802614862519, max_depth=3, n_estimators=295, subsample=0.32162421002224917 \n",
      "[CV]  colsample_bytree=0.1233781606164811, gamma=0.5, learning_rate=0.09772802614862519, max_depth=3, n_estimators=295, subsample=0.32162421002224917, score=0.998, total=  26.0s\n",
      "[CV] colsample_bytree=0.1233781606164811, gamma=0.5, learning_rate=0.09772802614862519, max_depth=3, n_estimators=295, subsample=0.32162421002224917 \n",
      "[CV]  colsample_bytree=0.1233781606164811, gamma=0.5, learning_rate=0.09772802614862519, max_depth=3, n_estimators=295, subsample=0.32162421002224917, score=0.998, total=  26.9s\n",
      "[CV] colsample_bytree=0.1233781606164811, gamma=0.5, learning_rate=0.09772802614862519, max_depth=3, n_estimators=295, subsample=0.32162421002224917 \n",
      "[CV]  colsample_bytree=0.1233781606164811, gamma=0.5, learning_rate=0.09772802614862519, max_depth=3, n_estimators=295, subsample=0.32162421002224917, score=0.999, total=  25.9s\n",
      "[CV] colsample_bytree=0.1473000060656997, gamma=0.5, learning_rate=0.13448222256392894, max_depth=5, n_estimators=106, subsample=0.23774042930082184 \n",
      "[CV]  colsample_bytree=0.1473000060656997, gamma=0.5, learning_rate=0.13448222256392894, max_depth=5, n_estimators=106, subsample=0.23774042930082184, score=0.998, total=  13.1s\n",
      "[CV] colsample_bytree=0.1473000060656997, gamma=0.5, learning_rate=0.13448222256392894, max_depth=5, n_estimators=106, subsample=0.23774042930082184 \n",
      "[CV]  colsample_bytree=0.1473000060656997, gamma=0.5, learning_rate=0.13448222256392894, max_depth=5, n_estimators=106, subsample=0.23774042930082184, score=0.998, total=  12.8s\n",
      "[CV] colsample_bytree=0.1473000060656997, gamma=0.5, learning_rate=0.13448222256392894, max_depth=5, n_estimators=106, subsample=0.23774042930082184 \n",
      "[CV]  colsample_bytree=0.1473000060656997, gamma=0.5, learning_rate=0.13448222256392894, max_depth=5, n_estimators=106, subsample=0.23774042930082184, score=0.998, total=  12.8s\n",
      "[CV] colsample_bytree=0.9670359633400014, gamma=0, learning_rate=0.7056816909331856, max_depth=5, n_estimators=61, subsample=0.01977714403091213 \n",
      "[CV]  colsample_bytree=0.9670359633400014, gamma=0, learning_rate=0.7056816909331856, max_depth=5, n_estimators=61, subsample=0.01977714403091213, score=0.997, total=  11.2s\n",
      "[CV] colsample_bytree=0.9670359633400014, gamma=0, learning_rate=0.7056816909331856, max_depth=5, n_estimators=61, subsample=0.01977714403091213 \n",
      "[CV]  colsample_bytree=0.9670359633400014, gamma=0, learning_rate=0.7056816909331856, max_depth=5, n_estimators=61, subsample=0.01977714403091213, score=0.996, total=  11.2s\n",
      "[CV] colsample_bytree=0.9670359633400014, gamma=0, learning_rate=0.7056816909331856, max_depth=5, n_estimators=61, subsample=0.01977714403091213 \n",
      "[CV]  colsample_bytree=0.9670359633400014, gamma=0, learning_rate=0.7056816909331856, max_depth=5, n_estimators=61, subsample=0.01977714403091213, score=0.997, total=  11.0s\n",
      "[CV] colsample_bytree=0.2180407029928415, gamma=0.5, learning_rate=0.07812750650828248, max_depth=9, n_estimators=415, subsample=0.518517898052102 \n",
      "[CV]  colsample_bytree=0.2180407029928415, gamma=0.5, learning_rate=0.07812750650828248, max_depth=9, n_estimators=415, subsample=0.518517898052102, score=0.999, total= 1.6min\n",
      "[CV] colsample_bytree=0.2180407029928415, gamma=0.5, learning_rate=0.07812750650828248, max_depth=9, n_estimators=415, subsample=0.518517898052102 \n",
      "[CV]  colsample_bytree=0.2180407029928415, gamma=0.5, learning_rate=0.07812750650828248, max_depth=9, n_estimators=415, subsample=0.518517898052102, score=0.999, total= 1.5min\n",
      "[CV] colsample_bytree=0.2180407029928415, gamma=0.5, learning_rate=0.07812750650828248, max_depth=9, n_estimators=415, subsample=0.518517898052102 \n",
      "[CV]  colsample_bytree=0.2180407029928415, gamma=0.5, learning_rate=0.07812750650828248, max_depth=9, n_estimators=415, subsample=0.518517898052102, score=0.999, total= 1.5min\n",
      "[CV] colsample_bytree=0.41559925955532984, gamma=1, learning_rate=0.7698928944238359, max_depth=9, n_estimators=328, subsample=0.22604362169550185 \n",
      "[CV]  colsample_bytree=0.41559925955532984, gamma=1, learning_rate=0.7698928944238359, max_depth=9, n_estimators=328, subsample=0.22604362169550185, score=0.998, total= 1.1min\n",
      "[CV] colsample_bytree=0.41559925955532984, gamma=1, learning_rate=0.7698928944238359, max_depth=9, n_estimators=328, subsample=0.22604362169550185 \n",
      "[CV]  colsample_bytree=0.41559925955532984, gamma=1, learning_rate=0.7698928944238359, max_depth=9, n_estimators=328, subsample=0.22604362169550185, score=0.998, total= 1.1min\n",
      "[CV] colsample_bytree=0.41559925955532984, gamma=1, learning_rate=0.7698928944238359, max_depth=9, n_estimators=328, subsample=0.22604362169550185 \n",
      "[CV]  colsample_bytree=0.41559925955532984, gamma=1, learning_rate=0.7698928944238359, max_depth=9, n_estimators=328, subsample=0.22604362169550185, score=0.998, total= 1.1min\n",
      "[CV] colsample_bytree=0.5642240482168264, gamma=0.5, learning_rate=0.09939965650812232, max_depth=9, n_estimators=123, subsample=0.28602526178423104 \n",
      "[CV]  colsample_bytree=0.5642240482168264, gamma=0.5, learning_rate=0.09939965650812232, max_depth=9, n_estimators=123, subsample=0.28602526178423104, score=0.999, total=  39.5s\n",
      "[CV] colsample_bytree=0.5642240482168264, gamma=0.5, learning_rate=0.09939965650812232, max_depth=9, n_estimators=123, subsample=0.28602526178423104 \n",
      "[CV]  colsample_bytree=0.5642240482168264, gamma=0.5, learning_rate=0.09939965650812232, max_depth=9, n_estimators=123, subsample=0.28602526178423104, score=0.999, total=  39.8s\n",
      "[CV] colsample_bytree=0.5642240482168264, gamma=0.5, learning_rate=0.09939965650812232, max_depth=9, n_estimators=123, subsample=0.28602526178423104 \n",
      "[CV]  colsample_bytree=0.5642240482168264, gamma=0.5, learning_rate=0.09939965650812232, max_depth=9, n_estimators=123, subsample=0.28602526178423104, score=0.999, total=  39.8s\n",
      "[CV] colsample_bytree=0.6895767510518857, gamma=0.5, learning_rate=0.0011319754648878577, max_depth=5, n_estimators=329, subsample=0.37315429901325914 \n",
      "[CV]  colsample_bytree=0.6895767510518857, gamma=0.5, learning_rate=0.0011319754648878577, max_depth=5, n_estimators=329, subsample=0.37315429901325914, score=0.998, total= 1.3min\n",
      "[CV] colsample_bytree=0.6895767510518857, gamma=0.5, learning_rate=0.0011319754648878577, max_depth=5, n_estimators=329, subsample=0.37315429901325914 \n",
      "[CV]  colsample_bytree=0.6895767510518857, gamma=0.5, learning_rate=0.0011319754648878577, max_depth=5, n_estimators=329, subsample=0.37315429901325914, score=0.998, total= 1.3min\n",
      "[CV] colsample_bytree=0.6895767510518857, gamma=0.5, learning_rate=0.0011319754648878577, max_depth=5, n_estimators=329, subsample=0.37315429901325914 \n",
      "[CV]  colsample_bytree=0.6895767510518857, gamma=0.5, learning_rate=0.0011319754648878577, max_depth=5, n_estimators=329, subsample=0.37315429901325914, score=0.998, total= 1.3min\n",
      "[CV] colsample_bytree=0.45294600144107167, gamma=1, learning_rate=0.08303834961595746, max_depth=7, n_estimators=187, subsample=0.6069127728741993 \n",
      "[CV]  colsample_bytree=0.45294600144107167, gamma=1, learning_rate=0.08303834961595746, max_depth=7, n_estimators=187, subsample=0.6069127728741993, score=0.999, total=  53.3s\n",
      "[CV] colsample_bytree=0.45294600144107167, gamma=1, learning_rate=0.08303834961595746, max_depth=7, n_estimators=187, subsample=0.6069127728741993 \n",
      "[CV]  colsample_bytree=0.45294600144107167, gamma=1, learning_rate=0.08303834961595746, max_depth=7, n_estimators=187, subsample=0.6069127728741993, score=0.999, total=  52.9s\n",
      "[CV] colsample_bytree=0.45294600144107167, gamma=1, learning_rate=0.08303834961595746, max_depth=7, n_estimators=187, subsample=0.6069127728741993 \n"
     ]
    },
    {
     "name": "stdout",
     "output_type": "stream",
     "text": [
      "[CV]  colsample_bytree=0.45294600144107167, gamma=1, learning_rate=0.08303834961595746, max_depth=7, n_estimators=187, subsample=0.6069127728741993, score=0.999, total=  53.0s\n",
      "[CV] colsample_bytree=0.7327546305008223, gamma=0.5, learning_rate=0.692803142146249, max_depth=7, n_estimators=180, subsample=0.705851693379962 \n",
      "[CV]  colsample_bytree=0.7327546305008223, gamma=0.5, learning_rate=0.692803142146249, max_depth=7, n_estimators=180, subsample=0.705851693379962, score=0.999, total= 1.1min\n",
      "[CV] colsample_bytree=0.7327546305008223, gamma=0.5, learning_rate=0.692803142146249, max_depth=7, n_estimators=180, subsample=0.705851693379962 \n",
      "[CV]  colsample_bytree=0.7327546305008223, gamma=0.5, learning_rate=0.692803142146249, max_depth=7, n_estimators=180, subsample=0.705851693379962, score=0.999, total= 1.1min\n",
      "[CV] colsample_bytree=0.7327546305008223, gamma=0.5, learning_rate=0.692803142146249, max_depth=7, n_estimators=180, subsample=0.705851693379962 \n",
      "[CV]  colsample_bytree=0.7327546305008223, gamma=0.5, learning_rate=0.692803142146249, max_depth=7, n_estimators=180, subsample=0.705851693379962, score=0.999, total= 1.1min\n",
      "[CV] colsample_bytree=0.05362154980326561, gamma=0, learning_rate=0.7980698940293289, max_depth=3, n_estimators=158, subsample=0.17004133125997645 \n",
      "[CV]  colsample_bytree=0.05362154980326561, gamma=0, learning_rate=0.7980698940293289, max_depth=3, n_estimators=158, subsample=0.17004133125997645, score=0.998, total=  11.2s\n",
      "[CV] colsample_bytree=0.05362154980326561, gamma=0, learning_rate=0.7980698940293289, max_depth=3, n_estimators=158, subsample=0.17004133125997645 \n",
      "[CV]  colsample_bytree=0.05362154980326561, gamma=0, learning_rate=0.7980698940293289, max_depth=3, n_estimators=158, subsample=0.17004133125997645, score=0.997, total=  11.2s\n",
      "[CV] colsample_bytree=0.05362154980326561, gamma=0, learning_rate=0.7980698940293289, max_depth=3, n_estimators=158, subsample=0.17004133125997645 \n",
      "[CV]  colsample_bytree=0.05362154980326561, gamma=0, learning_rate=0.7980698940293289, max_depth=3, n_estimators=158, subsample=0.17004133125997645, score=0.998, total=  11.1s\n",
      "[CV] colsample_bytree=0.07134898268568757, gamma=0.5, learning_rate=0.35233232505199596, max_depth=5, n_estimators=458, subsample=0.22387461076329174 \n",
      "[CV]  colsample_bytree=0.07134898268568757, gamma=0.5, learning_rate=0.35233232505199596, max_depth=5, n_estimators=458, subsample=0.22387461076329174, score=0.998, total=  43.6s\n",
      "[CV] colsample_bytree=0.07134898268568757, gamma=0.5, learning_rate=0.35233232505199596, max_depth=5, n_estimators=458, subsample=0.22387461076329174 \n",
      "[CV]  colsample_bytree=0.07134898268568757, gamma=0.5, learning_rate=0.35233232505199596, max_depth=5, n_estimators=458, subsample=0.22387461076329174, score=0.998, total=  43.7s\n",
      "[CV] colsample_bytree=0.07134898268568757, gamma=0.5, learning_rate=0.35233232505199596, max_depth=5, n_estimators=458, subsample=0.22387461076329174 \n",
      "[CV]  colsample_bytree=0.07134898268568757, gamma=0.5, learning_rate=0.35233232505199596, max_depth=5, n_estimators=458, subsample=0.22387461076329174, score=0.998, total=  43.8s\n",
      "[CV] colsample_bytree=0.5830420267513081, gamma=0, learning_rate=0.1407773526305579, max_depth=3, n_estimators=114, subsample=0.06530708638295535 \n",
      "[CV]  colsample_bytree=0.5830420267513081, gamma=0, learning_rate=0.1407773526305579, max_depth=3, n_estimators=114, subsample=0.06530708638295535, score=0.998, total=  12.9s\n",
      "[CV] colsample_bytree=0.5830420267513081, gamma=0, learning_rate=0.1407773526305579, max_depth=3, n_estimators=114, subsample=0.06530708638295535 \n",
      "[CV]  colsample_bytree=0.5830420267513081, gamma=0, learning_rate=0.1407773526305579, max_depth=3, n_estimators=114, subsample=0.06530708638295535, score=0.998, total=  13.2s\n",
      "[CV] colsample_bytree=0.5830420267513081, gamma=0, learning_rate=0.1407773526305579, max_depth=3, n_estimators=114, subsample=0.06530708638295535 \n",
      "[CV]  colsample_bytree=0.5830420267513081, gamma=0, learning_rate=0.1407773526305579, max_depth=3, n_estimators=114, subsample=0.06530708638295535, score=0.998, total=  13.0s\n",
      "[CV] colsample_bytree=0.1272012299182168, gamma=0.5, learning_rate=0.7365916997846382, max_depth=5, n_estimators=259, subsample=0.5938153837167053 \n",
      "[CV]  colsample_bytree=0.1272012299182168, gamma=0.5, learning_rate=0.7365916997846382, max_depth=5, n_estimators=259, subsample=0.5938153837167053, score=0.998, total=  33.4s\n",
      "[CV] colsample_bytree=0.1272012299182168, gamma=0.5, learning_rate=0.7365916997846382, max_depth=5, n_estimators=259, subsample=0.5938153837167053 \n",
      "[CV]  colsample_bytree=0.1272012299182168, gamma=0.5, learning_rate=0.7365916997846382, max_depth=5, n_estimators=259, subsample=0.5938153837167053, score=0.999, total=  33.2s\n",
      "[CV] colsample_bytree=0.1272012299182168, gamma=0.5, learning_rate=0.7365916997846382, max_depth=5, n_estimators=259, subsample=0.5938153837167053 \n",
      "[CV]  colsample_bytree=0.1272012299182168, gamma=0.5, learning_rate=0.7365916997846382, max_depth=5, n_estimators=259, subsample=0.5938153837167053, score=0.999, total=  33.3s\n",
      "[CV] colsample_bytree=0.5213285655977811, gamma=1, learning_rate=0.12245745743134928, max_depth=5, n_estimators=448, subsample=0.48831719352338554 \n",
      "[CV]  colsample_bytree=0.5213285655977811, gamma=1, learning_rate=0.12245745743134928, max_depth=5, n_estimators=448, subsample=0.48831719352338554, score=0.999, total= 1.7min\n",
      "[CV] colsample_bytree=0.5213285655977811, gamma=1, learning_rate=0.12245745743134928, max_depth=5, n_estimators=448, subsample=0.48831719352338554 \n",
      "[CV]  colsample_bytree=0.5213285655977811, gamma=1, learning_rate=0.12245745743134928, max_depth=5, n_estimators=448, subsample=0.48831719352338554, score=0.999, total= 1.7min\n",
      "[CV] colsample_bytree=0.5213285655977811, gamma=1, learning_rate=0.12245745743134928, max_depth=5, n_estimators=448, subsample=0.48831719352338554 \n",
      "[CV]  colsample_bytree=0.5213285655977811, gamma=1, learning_rate=0.12245745743134928, max_depth=5, n_estimators=448, subsample=0.48831719352338554, score=0.999, total= 1.7min\n",
      "[CV] colsample_bytree=0.5241718165563152, gamma=0.5, learning_rate=0.019013169365516558, max_depth=3, n_estimators=463, subsample=0.6098711368955574 \n",
      "[CV]  colsample_bytree=0.5241718165563152, gamma=0.5, learning_rate=0.019013169365516558, max_depth=3, n_estimators=463, subsample=0.6098711368955574, score=0.998, total= 1.2min\n",
      "[CV] colsample_bytree=0.5241718165563152, gamma=0.5, learning_rate=0.019013169365516558, max_depth=3, n_estimators=463, subsample=0.6098711368955574 \n",
      "[CV]  colsample_bytree=0.5241718165563152, gamma=0.5, learning_rate=0.019013169365516558, max_depth=3, n_estimators=463, subsample=0.6098711368955574, score=0.998, total= 1.2min\n",
      "[CV] colsample_bytree=0.5241718165563152, gamma=0.5, learning_rate=0.019013169365516558, max_depth=3, n_estimators=463, subsample=0.6098711368955574 \n",
      "[CV]  colsample_bytree=0.5241718165563152, gamma=0.5, learning_rate=0.019013169365516558, max_depth=3, n_estimators=463, subsample=0.6098711368955574, score=0.998, total= 1.2min\n",
      "[CV] colsample_bytree=0.671301928197165, gamma=0.5, learning_rate=0.5467452756716188, max_depth=3, n_estimators=140, subsample=0.5648319298748983 \n",
      "[CV]  colsample_bytree=0.671301928197165, gamma=0.5, learning_rate=0.5467452756716188, max_depth=3, n_estimators=140, subsample=0.5648319298748983, score=0.998, total=  24.7s\n",
      "[CV] colsample_bytree=0.671301928197165, gamma=0.5, learning_rate=0.5467452756716188, max_depth=3, n_estimators=140, subsample=0.5648319298748983 \n",
      "[CV]  colsample_bytree=0.671301928197165, gamma=0.5, learning_rate=0.5467452756716188, max_depth=3, n_estimators=140, subsample=0.5648319298748983, score=0.999, total=  24.6s\n",
      "[CV] colsample_bytree=0.671301928197165, gamma=0.5, learning_rate=0.5467452756716188, max_depth=3, n_estimators=140, subsample=0.5648319298748983 \n",
      "[CV]  colsample_bytree=0.671301928197165, gamma=0.5, learning_rate=0.5467452756716188, max_depth=3, n_estimators=140, subsample=0.5648319298748983, score=0.999, total=  24.7s\n",
      "[CV] colsample_bytree=0.919421811544759, gamma=1, learning_rate=0.9622594737743404, max_depth=5, n_estimators=158, subsample=0.6372091818441632 \n",
      "[CV]  colsample_bytree=0.919421811544759, gamma=1, learning_rate=0.9622594737743404, max_depth=5, n_estimators=158, subsample=0.6372091818441632, score=0.998, total=  54.4s\n",
      "[CV] colsample_bytree=0.919421811544759, gamma=1, learning_rate=0.9622594737743404, max_depth=5, n_estimators=158, subsample=0.6372091818441632 \n"
     ]
    },
    {
     "name": "stdout",
     "output_type": "stream",
     "text": [
      "[CV]  colsample_bytree=0.919421811544759, gamma=1, learning_rate=0.9622594737743404, max_depth=5, n_estimators=158, subsample=0.6372091818441632, score=0.998, total=  53.9s\n",
      "[CV] colsample_bytree=0.919421811544759, gamma=1, learning_rate=0.9622594737743404, max_depth=5, n_estimators=158, subsample=0.6372091818441632 \n",
      "[CV]  colsample_bytree=0.919421811544759, gamma=1, learning_rate=0.9622594737743404, max_depth=5, n_estimators=158, subsample=0.6372091818441632, score=0.998, total=  54.4s\n",
      "[CV] colsample_bytree=0.6754086694441321, gamma=0, learning_rate=0.22800333163252395, max_depth=9, n_estimators=165, subsample=0.4357666773827713 \n",
      "[CV]  colsample_bytree=0.6754086694441321, gamma=0, learning_rate=0.22800333163252395, max_depth=9, n_estimators=165, subsample=0.4357666773827713, score=0.999, total= 1.0min\n",
      "[CV] colsample_bytree=0.6754086694441321, gamma=0, learning_rate=0.22800333163252395, max_depth=9, n_estimators=165, subsample=0.4357666773827713 \n",
      "[CV]  colsample_bytree=0.6754086694441321, gamma=0, learning_rate=0.22800333163252395, max_depth=9, n_estimators=165, subsample=0.4357666773827713, score=0.999, total= 1.0min\n",
      "[CV] colsample_bytree=0.6754086694441321, gamma=0, learning_rate=0.22800333163252395, max_depth=9, n_estimators=165, subsample=0.4357666773827713 \n",
      "[CV]  colsample_bytree=0.6754086694441321, gamma=0, learning_rate=0.22800333163252395, max_depth=9, n_estimators=165, subsample=0.4357666773827713, score=0.999, total= 1.0min\n",
      "[CV] colsample_bytree=0.15852842041802295, gamma=0.5, learning_rate=0.643530100011603, max_depth=3, n_estimators=221, subsample=0.10669012117628052 \n",
      "[CV]  colsample_bytree=0.15852842041802295, gamma=0.5, learning_rate=0.643530100011603, max_depth=3, n_estimators=221, subsample=0.10669012117628052, score=0.997, total=  17.6s\n",
      "[CV] colsample_bytree=0.15852842041802295, gamma=0.5, learning_rate=0.643530100011603, max_depth=3, n_estimators=221, subsample=0.10669012117628052 \n",
      "[CV]  colsample_bytree=0.15852842041802295, gamma=0.5, learning_rate=0.643530100011603, max_depth=3, n_estimators=221, subsample=0.10669012117628052, score=0.998, total=  17.4s\n",
      "[CV] colsample_bytree=0.15852842041802295, gamma=0.5, learning_rate=0.643530100011603, max_depth=3, n_estimators=221, subsample=0.10669012117628052 \n",
      "[CV]  colsample_bytree=0.15852842041802295, gamma=0.5, learning_rate=0.643530100011603, max_depth=3, n_estimators=221, subsample=0.10669012117628052, score=0.998, total=  17.5s\n",
      "[CV] colsample_bytree=0.025980915983675024, gamma=0, learning_rate=0.4832152000966258, max_depth=7, n_estimators=450, subsample=0.4628262226680707 \n",
      "[CV]  colsample_bytree=0.025980915983675024, gamma=0, learning_rate=0.4832152000966258, max_depth=7, n_estimators=450, subsample=0.4628262226680707, score=0.998, total=  49.0s\n",
      "[CV] colsample_bytree=0.025980915983675024, gamma=0, learning_rate=0.4832152000966258, max_depth=7, n_estimators=450, subsample=0.4628262226680707 \n",
      "[CV]  colsample_bytree=0.025980915983675024, gamma=0, learning_rate=0.4832152000966258, max_depth=7, n_estimators=450, subsample=0.4628262226680707, score=0.998, total=  49.4s\n",
      "[CV] colsample_bytree=0.025980915983675024, gamma=0, learning_rate=0.4832152000966258, max_depth=7, n_estimators=450, subsample=0.4628262226680707 \n",
      "[CV]  colsample_bytree=0.025980915983675024, gamma=0, learning_rate=0.4832152000966258, max_depth=7, n_estimators=450, subsample=0.4628262226680707, score=0.998, total=  49.2s\n",
      "[CV] colsample_bytree=0.12936438191081456, gamma=0, learning_rate=0.6925902605666766, max_depth=5, n_estimators=271, subsample=0.13207322963848778 \n",
      "[CV]  colsample_bytree=0.12936438191081456, gamma=0, learning_rate=0.6925902605666766, max_depth=5, n_estimators=271, subsample=0.13207322963848778, score=0.997, total=  26.8s\n",
      "[CV] colsample_bytree=0.12936438191081456, gamma=0, learning_rate=0.6925902605666766, max_depth=5, n_estimators=271, subsample=0.13207322963848778 \n",
      "[CV]  colsample_bytree=0.12936438191081456, gamma=0, learning_rate=0.6925902605666766, max_depth=5, n_estimators=271, subsample=0.13207322963848778, score=0.997, total=  26.7s\n",
      "[CV] colsample_bytree=0.12936438191081456, gamma=0, learning_rate=0.6925902605666766, max_depth=5, n_estimators=271, subsample=0.13207322963848778 \n",
      "[CV]  colsample_bytree=0.12936438191081456, gamma=0, learning_rate=0.6925902605666766, max_depth=5, n_estimators=271, subsample=0.13207322963848778, score=0.997, total=  27.0s\n",
      "[CV] colsample_bytree=0.9023735729428712, gamma=0.5, learning_rate=0.16459096754349534, max_depth=7, n_estimators=214, subsample=0.1149135131077742 \n",
      "[CV]  colsample_bytree=0.9023735729428712, gamma=0.5, learning_rate=0.16459096754349534, max_depth=7, n_estimators=214, subsample=0.1149135131077742, score=0.998, total=  58.6s\n",
      "[CV] colsample_bytree=0.9023735729428712, gamma=0.5, learning_rate=0.16459096754349534, max_depth=7, n_estimators=214, subsample=0.1149135131077742 \n",
      "[CV]  colsample_bytree=0.9023735729428712, gamma=0.5, learning_rate=0.16459096754349534, max_depth=7, n_estimators=214, subsample=0.1149135131077742, score=0.999, total=  59.2s\n",
      "[CV] colsample_bytree=0.9023735729428712, gamma=0.5, learning_rate=0.16459096754349534, max_depth=7, n_estimators=214, subsample=0.1149135131077742 \n",
      "[CV]  colsample_bytree=0.9023735729428712, gamma=0.5, learning_rate=0.16459096754349534, max_depth=7, n_estimators=214, subsample=0.1149135131077742, score=0.999, total=  59.2s\n",
      "[CV] colsample_bytree=0.7399930949466056, gamma=1, learning_rate=0.7564334698000733, max_depth=5, n_estimators=305, subsample=0.2298970770975075 \n",
      "[CV]  colsample_bytree=0.7399930949466056, gamma=1, learning_rate=0.7564334698000733, max_depth=5, n_estimators=305, subsample=0.2298970770975075, score=0.998, total= 1.1min\n",
      "[CV] colsample_bytree=0.7399930949466056, gamma=1, learning_rate=0.7564334698000733, max_depth=5, n_estimators=305, subsample=0.2298970770975075 \n",
      "[CV]  colsample_bytree=0.7399930949466056, gamma=1, learning_rate=0.7564334698000733, max_depth=5, n_estimators=305, subsample=0.2298970770975075, score=0.998, total= 1.1min\n",
      "[CV] colsample_bytree=0.7399930949466056, gamma=1, learning_rate=0.7564334698000733, max_depth=5, n_estimators=305, subsample=0.2298970770975075 \n",
      "[CV]  colsample_bytree=0.7399930949466056, gamma=1, learning_rate=0.7564334698000733, max_depth=5, n_estimators=305, subsample=0.2298970770975075, score=0.998, total= 1.1min\n",
      "[CV] colsample_bytree=0.7419625598864609, gamma=0, learning_rate=0.19782370344184108, max_depth=9, n_estimators=404, subsample=0.14492255521087272 \n",
      "[CV]  colsample_bytree=0.7419625598864609, gamma=0, learning_rate=0.19782370344184108, max_depth=9, n_estimators=404, subsample=0.14492255521087272, score=0.999, total= 1.7min\n",
      "[CV] colsample_bytree=0.7419625598864609, gamma=0, learning_rate=0.19782370344184108, max_depth=9, n_estimators=404, subsample=0.14492255521087272 \n",
      "[CV]  colsample_bytree=0.7419625598864609, gamma=0, learning_rate=0.19782370344184108, max_depth=9, n_estimators=404, subsample=0.14492255521087272, score=0.999, total= 1.8min\n",
      "[CV] colsample_bytree=0.7419625598864609, gamma=0, learning_rate=0.19782370344184108, max_depth=9, n_estimators=404, subsample=0.14492255521087272 \n",
      "[CV]  colsample_bytree=0.7419625598864609, gamma=0, learning_rate=0.19782370344184108, max_depth=9, n_estimators=404, subsample=0.14492255521087272, score=0.999, total= 1.8min\n",
      "[CV] colsample_bytree=0.33473414668950685, gamma=0, learning_rate=0.026090948956925764, max_depth=7, n_estimators=375, subsample=0.3085565577280761 \n",
      "[CV]  colsample_bytree=0.33473414668950685, gamma=0, learning_rate=0.026090948956925764, max_depth=7, n_estimators=375, subsample=0.3085565577280761, score=0.999, total= 1.3min\n",
      "[CV] colsample_bytree=0.33473414668950685, gamma=0, learning_rate=0.026090948956925764, max_depth=7, n_estimators=375, subsample=0.3085565577280761 \n",
      "[CV]  colsample_bytree=0.33473414668950685, gamma=0, learning_rate=0.026090948956925764, max_depth=7, n_estimators=375, subsample=0.3085565577280761, score=0.999, total= 1.4min\n",
      "[CV] colsample_bytree=0.33473414668950685, gamma=0, learning_rate=0.026090948956925764, max_depth=7, n_estimators=375, subsample=0.3085565577280761 \n",
      "[CV]  colsample_bytree=0.33473414668950685, gamma=0, learning_rate=0.026090948956925764, max_depth=7, n_estimators=375, subsample=0.3085565577280761, score=0.999, total= 1.3min\n",
      "[CV] colsample_bytree=0.09712926011751544, gamma=1, learning_rate=0.026293094084396507, max_depth=7, n_estimators=59, subsample=0.08470617912256251 \n"
     ]
    },
    {
     "name": "stdout",
     "output_type": "stream",
     "text": [
      "[CV]  colsample_bytree=0.09712926011751544, gamma=1, learning_rate=0.026293094084396507, max_depth=7, n_estimators=59, subsample=0.08470617912256251, score=0.996, total=   7.0s\n",
      "[CV] colsample_bytree=0.09712926011751544, gamma=1, learning_rate=0.026293094084396507, max_depth=7, n_estimators=59, subsample=0.08470617912256251 \n",
      "[CV]  colsample_bytree=0.09712926011751544, gamma=1, learning_rate=0.026293094084396507, max_depth=7, n_estimators=59, subsample=0.08470617912256251, score=0.995, total=   6.9s\n",
      "[CV] colsample_bytree=0.09712926011751544, gamma=1, learning_rate=0.026293094084396507, max_depth=7, n_estimators=59, subsample=0.08470617912256251 \n",
      "[CV]  colsample_bytree=0.09712926011751544, gamma=1, learning_rate=0.026293094084396507, max_depth=7, n_estimators=59, subsample=0.08470617912256251, score=0.995, total=   6.8s\n",
      "[CV] colsample_bytree=0.4660191122328683, gamma=0.5, learning_rate=0.2721599325974995, max_depth=5, n_estimators=184, subsample=0.7718717535091743 \n",
      "[CV]  colsample_bytree=0.4660191122328683, gamma=0.5, learning_rate=0.2721599325974995, max_depth=5, n_estimators=184, subsample=0.7718717535091743, score=0.999, total=  41.1s\n",
      "[CV] colsample_bytree=0.4660191122328683, gamma=0.5, learning_rate=0.2721599325974995, max_depth=5, n_estimators=184, subsample=0.7718717535091743 \n",
      "[CV]  colsample_bytree=0.4660191122328683, gamma=0.5, learning_rate=0.2721599325974995, max_depth=5, n_estimators=184, subsample=0.7718717535091743, score=0.999, total=  40.6s\n",
      "[CV] colsample_bytree=0.4660191122328683, gamma=0.5, learning_rate=0.2721599325974995, max_depth=5, n_estimators=184, subsample=0.7718717535091743 \n",
      "[CV]  colsample_bytree=0.4660191122328683, gamma=0.5, learning_rate=0.2721599325974995, max_depth=5, n_estimators=184, subsample=0.7718717535091743, score=0.999, total=  41.2s\n",
      "[CV] colsample_bytree=0.0196350531903301, gamma=0, learning_rate=0.5608552327112024, max_depth=9, n_estimators=438, subsample=0.8308693569436266 \n",
      "[CV]  colsample_bytree=0.0196350531903301, gamma=0, learning_rate=0.5608552327112024, max_depth=9, n_estimators=438, subsample=0.8308693569436266, score=0.998, total=  50.7s\n",
      "[CV] colsample_bytree=0.0196350531903301, gamma=0, learning_rate=0.5608552327112024, max_depth=9, n_estimators=438, subsample=0.8308693569436266 \n",
      "[CV]  colsample_bytree=0.0196350531903301, gamma=0, learning_rate=0.5608552327112024, max_depth=9, n_estimators=438, subsample=0.8308693569436266, score=0.998, total=  50.5s\n",
      "[CV] colsample_bytree=0.0196350531903301, gamma=0, learning_rate=0.5608552327112024, max_depth=9, n_estimators=438, subsample=0.8308693569436266 \n",
      "[CV]  colsample_bytree=0.0196350531903301, gamma=0, learning_rate=0.5608552327112024, max_depth=9, n_estimators=438, subsample=0.8308693569436266, score=0.998, total=  50.8s\n",
      "[CV] colsample_bytree=0.3022201220854588, gamma=0, learning_rate=0.8826391501054447, max_depth=5, n_estimators=402, subsample=0.2049291021815972 \n",
      "[CV]  colsample_bytree=0.3022201220854588, gamma=0, learning_rate=0.8826391501054447, max_depth=5, n_estimators=402, subsample=0.2049291021815972, score=0.998, total=  51.6s\n",
      "[CV] colsample_bytree=0.3022201220854588, gamma=0, learning_rate=0.8826391501054447, max_depth=5, n_estimators=402, subsample=0.2049291021815972 \n",
      "[CV]  colsample_bytree=0.3022201220854588, gamma=0, learning_rate=0.8826391501054447, max_depth=5, n_estimators=402, subsample=0.2049291021815972, score=0.998, total=  52.5s\n",
      "[CV] colsample_bytree=0.3022201220854588, gamma=0, learning_rate=0.8826391501054447, max_depth=5, n_estimators=402, subsample=0.2049291021815972 \n",
      "[CV]  colsample_bytree=0.3022201220854588, gamma=0, learning_rate=0.8826391501054447, max_depth=5, n_estimators=402, subsample=0.2049291021815972, score=0.998, total=  52.2s\n",
      "[CV] colsample_bytree=0.3807465201080452, gamma=0.5, learning_rate=0.6852319036671645, max_depth=3, n_estimators=227, subsample=0.0731181499958562 \n",
      "[CV]  colsample_bytree=0.3807465201080452, gamma=0.5, learning_rate=0.6852319036671645, max_depth=3, n_estimators=227, subsample=0.0731181499958562, score=0.997, total=  21.5s\n",
      "[CV] colsample_bytree=0.3807465201080452, gamma=0.5, learning_rate=0.6852319036671645, max_depth=3, n_estimators=227, subsample=0.0731181499958562 \n",
      "[CV]  colsample_bytree=0.3807465201080452, gamma=0.5, learning_rate=0.6852319036671645, max_depth=3, n_estimators=227, subsample=0.0731181499958562, score=0.997, total=  21.7s\n",
      "[CV] colsample_bytree=0.3807465201080452, gamma=0.5, learning_rate=0.6852319036671645, max_depth=3, n_estimators=227, subsample=0.0731181499958562 \n",
      "[CV]  colsample_bytree=0.3807465201080452, gamma=0.5, learning_rate=0.6852319036671645, max_depth=3, n_estimators=227, subsample=0.0731181499958562, score=0.997, total=  21.6s\n",
      "[CV] colsample_bytree=0.17699034320789264, gamma=1, learning_rate=0.7904219886137076, max_depth=5, n_estimators=469, subsample=0.09950285387090774 \n",
      "[CV]  colsample_bytree=0.17699034320789264, gamma=1, learning_rate=0.7904219886137076, max_depth=5, n_estimators=469, subsample=0.09950285387090774, score=0.997, total=  40.5s\n",
      "[CV] colsample_bytree=0.17699034320789264, gamma=1, learning_rate=0.7904219886137076, max_depth=5, n_estimators=469, subsample=0.09950285387090774 \n",
      "[CV]  colsample_bytree=0.17699034320789264, gamma=1, learning_rate=0.7904219886137076, max_depth=5, n_estimators=469, subsample=0.09950285387090774, score=0.997, total=  40.9s\n",
      "[CV] colsample_bytree=0.17699034320789264, gamma=1, learning_rate=0.7904219886137076, max_depth=5, n_estimators=469, subsample=0.09950285387090774 \n",
      "[CV]  colsample_bytree=0.17699034320789264, gamma=1, learning_rate=0.7904219886137076, max_depth=5, n_estimators=469, subsample=0.09950285387090774, score=0.997, total=  41.2s\n",
      "[CV] colsample_bytree=0.6453814641206962, gamma=0, learning_rate=0.6489622209916911, max_depth=5, n_estimators=119, subsample=0.7172982319058863 \n",
      "[CV]  colsample_bytree=0.6453814641206962, gamma=0, learning_rate=0.6489622209916911, max_depth=5, n_estimators=119, subsample=0.7172982319058863, score=0.999, total=  31.2s\n",
      "[CV] colsample_bytree=0.6453814641206962, gamma=0, learning_rate=0.6489622209916911, max_depth=5, n_estimators=119, subsample=0.7172982319058863 \n",
      "[CV]  colsample_bytree=0.6453814641206962, gamma=0, learning_rate=0.6489622209916911, max_depth=5, n_estimators=119, subsample=0.7172982319058863, score=0.999, total=  30.8s\n",
      "[CV] colsample_bytree=0.6453814641206962, gamma=0, learning_rate=0.6489622209916911, max_depth=5, n_estimators=119, subsample=0.7172982319058863 \n",
      "[CV]  colsample_bytree=0.6453814641206962, gamma=0, learning_rate=0.6489622209916911, max_depth=5, n_estimators=119, subsample=0.7172982319058863, score=0.999, total=  31.4s\n",
      "[CV] colsample_bytree=0.21862382069258146, gamma=0.5, learning_rate=0.15001375427002706, max_depth=3, n_estimators=102, subsample=0.3236587597229481 \n",
      "[CV]  colsample_bytree=0.21862382069258146, gamma=0.5, learning_rate=0.15001375427002706, max_depth=3, n_estimators=102, subsample=0.3236587597229481, score=0.998, total=  10.3s\n",
      "[CV] colsample_bytree=0.21862382069258146, gamma=0.5, learning_rate=0.15001375427002706, max_depth=3, n_estimators=102, subsample=0.3236587597229481 \n",
      "[CV]  colsample_bytree=0.21862382069258146, gamma=0.5, learning_rate=0.15001375427002706, max_depth=3, n_estimators=102, subsample=0.3236587597229481, score=0.998, total=  10.3s\n",
      "[CV] colsample_bytree=0.21862382069258146, gamma=0.5, learning_rate=0.15001375427002706, max_depth=3, n_estimators=102, subsample=0.3236587597229481 \n",
      "[CV]  colsample_bytree=0.21862382069258146, gamma=0.5, learning_rate=0.15001375427002706, max_depth=3, n_estimators=102, subsample=0.3236587597229481, score=0.999, total=  10.3s\n",
      "[CV] colsample_bytree=0.8997330149392108, gamma=0.5, learning_rate=0.3835247744746083, max_depth=5, n_estimators=356, subsample=0.7052102240395378 \n",
      "[CV]  colsample_bytree=0.8997330149392108, gamma=0.5, learning_rate=0.3835247744746083, max_depth=5, n_estimators=356, subsample=0.7052102240395378, score=0.999, total= 2.0min\n",
      "[CV] colsample_bytree=0.8997330149392108, gamma=0.5, learning_rate=0.3835247744746083, max_depth=5, n_estimators=356, subsample=0.7052102240395378 \n",
      "[CV]  colsample_bytree=0.8997330149392108, gamma=0.5, learning_rate=0.3835247744746083, max_depth=5, n_estimators=356, subsample=0.7052102240395378, score=0.999, total= 1.9min\n",
      "[CV] colsample_bytree=0.8997330149392108, gamma=0.5, learning_rate=0.3835247744746083, max_depth=5, n_estimators=356, subsample=0.7052102240395378 \n"
     ]
    },
    {
     "name": "stdout",
     "output_type": "stream",
     "text": [
      "[CV]  colsample_bytree=0.8997330149392108, gamma=0.5, learning_rate=0.3835247744746083, max_depth=5, n_estimators=356, subsample=0.7052102240395378, score=0.999, total= 2.0min\n",
      "[CV] colsample_bytree=0.8274594348493765, gamma=0, learning_rate=0.9807421345062718, max_depth=7, n_estimators=357, subsample=0.007095876549151892 \n",
      "[CV]  colsample_bytree=0.8274594348493765, gamma=0, learning_rate=0.9807421345062718, max_depth=7, n_estimators=357, subsample=0.007095876549151892, score=0.997, total=  26.1s\n",
      "[CV] colsample_bytree=0.8274594348493765, gamma=0, learning_rate=0.9807421345062718, max_depth=7, n_estimators=357, subsample=0.007095876549151892 \n",
      "[CV]  colsample_bytree=0.8274594348493765, gamma=0, learning_rate=0.9807421345062718, max_depth=7, n_estimators=357, subsample=0.007095876549151892, score=0.997, total=  27.4s\n",
      "[CV] colsample_bytree=0.8274594348493765, gamma=0, learning_rate=0.9807421345062718, max_depth=7, n_estimators=357, subsample=0.007095876549151892 \n",
      "[CV]  colsample_bytree=0.8274594348493765, gamma=0, learning_rate=0.9807421345062718, max_depth=7, n_estimators=357, subsample=0.007095876549151892, score=0.997, total=  27.1s\n",
      "[CV] colsample_bytree=0.20232884924216632, gamma=0, learning_rate=0.2702093627098191, max_depth=5, n_estimators=247, subsample=0.83911487102172 \n",
      "[CV]  colsample_bytree=0.20232884924216632, gamma=0, learning_rate=0.2702093627098191, max_depth=5, n_estimators=247, subsample=0.83911487102172, score=0.999, total=  36.6s\n",
      "[CV] colsample_bytree=0.20232884924216632, gamma=0, learning_rate=0.2702093627098191, max_depth=5, n_estimators=247, subsample=0.83911487102172 \n",
      "[CV]  colsample_bytree=0.20232884924216632, gamma=0, learning_rate=0.2702093627098191, max_depth=5, n_estimators=247, subsample=0.83911487102172, score=0.999, total=  36.4s\n",
      "[CV] colsample_bytree=0.20232884924216632, gamma=0, learning_rate=0.2702093627098191, max_depth=5, n_estimators=247, subsample=0.83911487102172 \n",
      "[CV]  colsample_bytree=0.20232884924216632, gamma=0, learning_rate=0.2702093627098191, max_depth=5, n_estimators=247, subsample=0.83911487102172, score=0.999, total=  36.3s\n",
      "[CV] colsample_bytree=0.7589294511785274, gamma=0.5, learning_rate=0.4359531294299118, max_depth=3, n_estimators=410, subsample=0.931964856164638 \n",
      "[CV]  colsample_bytree=0.7589294511785274, gamma=0.5, learning_rate=0.4359531294299118, max_depth=3, n_estimators=410, subsample=0.931964856164638, score=0.999, total= 1.3min\n",
      "[CV] colsample_bytree=0.7589294511785274, gamma=0.5, learning_rate=0.4359531294299118, max_depth=3, n_estimators=410, subsample=0.931964856164638 \n",
      "[CV]  colsample_bytree=0.7589294511785274, gamma=0.5, learning_rate=0.4359531294299118, max_depth=3, n_estimators=410, subsample=0.931964856164638, score=0.999, total= 1.2min\n",
      "[CV] colsample_bytree=0.7589294511785274, gamma=0.5, learning_rate=0.4359531294299118, max_depth=3, n_estimators=410, subsample=0.931964856164638 \n",
      "[CV]  colsample_bytree=0.7589294511785274, gamma=0.5, learning_rate=0.4359531294299118, max_depth=3, n_estimators=410, subsample=0.931964856164638, score=0.999, total= 1.3min\n",
      "[CV] colsample_bytree=0.6353029959551116, gamma=1, learning_rate=0.4597663311041704, max_depth=5, n_estimators=446, subsample=0.4719941047090389 \n",
      "[CV]  colsample_bytree=0.6353029959551116, gamma=1, learning_rate=0.4597663311041704, max_depth=5, n_estimators=446, subsample=0.4719941047090389, score=0.999, total= 1.8min\n",
      "[CV] colsample_bytree=0.6353029959551116, gamma=1, learning_rate=0.4597663311041704, max_depth=5, n_estimators=446, subsample=0.4719941047090389 \n",
      "[CV]  colsample_bytree=0.6353029959551116, gamma=1, learning_rate=0.4597663311041704, max_depth=5, n_estimators=446, subsample=0.4719941047090389, score=0.999, total= 1.8min\n",
      "[CV] colsample_bytree=0.6353029959551116, gamma=1, learning_rate=0.4597663311041704, max_depth=5, n_estimators=446, subsample=0.4719941047090389 \n",
      "[CV]  colsample_bytree=0.6353029959551116, gamma=1, learning_rate=0.4597663311041704, max_depth=5, n_estimators=446, subsample=0.4719941047090389, score=0.999, total= 1.8min\n",
      "[CV] colsample_bytree=0.631714367902491, gamma=0.5, learning_rate=0.08673527024268302, max_depth=5, n_estimators=398, subsample=0.4025895046450445 \n",
      "[CV]  colsample_bytree=0.631714367902491, gamma=0.5, learning_rate=0.08673527024268302, max_depth=5, n_estimators=398, subsample=0.4025895046450445, score=0.999, total= 1.6min\n",
      "[CV] colsample_bytree=0.631714367902491, gamma=0.5, learning_rate=0.08673527024268302, max_depth=5, n_estimators=398, subsample=0.4025895046450445 \n",
      "[CV]  colsample_bytree=0.631714367902491, gamma=0.5, learning_rate=0.08673527024268302, max_depth=5, n_estimators=398, subsample=0.4025895046450445, score=0.999, total= 1.6min\n",
      "[CV] colsample_bytree=0.631714367902491, gamma=0.5, learning_rate=0.08673527024268302, max_depth=5, n_estimators=398, subsample=0.4025895046450445 \n",
      "[CV]  colsample_bytree=0.631714367902491, gamma=0.5, learning_rate=0.08673527024268302, max_depth=5, n_estimators=398, subsample=0.4025895046450445, score=0.999, total= 1.6min\n",
      "[CV] colsample_bytree=0.370169261051031, gamma=1, learning_rate=0.23649191416687532, max_depth=9, n_estimators=458, subsample=0.157342950917284 \n",
      "[CV]  colsample_bytree=0.370169261051031, gamma=1, learning_rate=0.23649191416687532, max_depth=9, n_estimators=458, subsample=0.157342950917284, score=0.998, total= 1.4min\n",
      "[CV] colsample_bytree=0.370169261051031, gamma=1, learning_rate=0.23649191416687532, max_depth=9, n_estimators=458, subsample=0.157342950917284 \n",
      "[CV]  colsample_bytree=0.370169261051031, gamma=1, learning_rate=0.23649191416687532, max_depth=9, n_estimators=458, subsample=0.157342950917284, score=0.998, total= 1.4min\n",
      "[CV] colsample_bytree=0.370169261051031, gamma=1, learning_rate=0.23649191416687532, max_depth=9, n_estimators=458, subsample=0.157342950917284 \n",
      "[CV]  colsample_bytree=0.370169261051031, gamma=1, learning_rate=0.23649191416687532, max_depth=9, n_estimators=458, subsample=0.157342950917284, score=0.999, total= 1.4min\n",
      "[CV] colsample_bytree=0.3940255142601945, gamma=0, learning_rate=0.6478858456370922, max_depth=9, n_estimators=430, subsample=0.7900397119400009 \n",
      "[CV]  colsample_bytree=0.3940255142601945, gamma=0, learning_rate=0.6478858456370922, max_depth=9, n_estimators=430, subsample=0.7900397119400009, score=0.999, total= 1.3min\n",
      "[CV] colsample_bytree=0.3940255142601945, gamma=0, learning_rate=0.6478858456370922, max_depth=9, n_estimators=430, subsample=0.7900397119400009 \n",
      "[CV]  colsample_bytree=0.3940255142601945, gamma=0, learning_rate=0.6478858456370922, max_depth=9, n_estimators=430, subsample=0.7900397119400009, score=0.999, total= 1.3min\n",
      "[CV] colsample_bytree=0.3940255142601945, gamma=0, learning_rate=0.6478858456370922, max_depth=9, n_estimators=430, subsample=0.7900397119400009 \n",
      "[CV]  colsample_bytree=0.3940255142601945, gamma=0, learning_rate=0.6478858456370922, max_depth=9, n_estimators=430, subsample=0.7900397119400009, score=0.999, total= 1.4min\n",
      "[CV] colsample_bytree=0.415071774582214, gamma=0, learning_rate=0.16469217470793096, max_depth=5, n_estimators=181, subsample=0.8608607124804514 \n",
      "[CV]  colsample_bytree=0.415071774582214, gamma=0, learning_rate=0.16469217470793096, max_depth=5, n_estimators=181, subsample=0.8608607124804514, score=0.999, total=  37.6s\n",
      "[CV] colsample_bytree=0.415071774582214, gamma=0, learning_rate=0.16469217470793096, max_depth=5, n_estimators=181, subsample=0.8608607124804514 \n",
      "[CV]  colsample_bytree=0.415071774582214, gamma=0, learning_rate=0.16469217470793096, max_depth=5, n_estimators=181, subsample=0.8608607124804514, score=0.999, total=  37.1s\n",
      "[CV] colsample_bytree=0.415071774582214, gamma=0, learning_rate=0.16469217470793096, max_depth=5, n_estimators=181, subsample=0.8608607124804514 \n",
      "[CV]  colsample_bytree=0.415071774582214, gamma=0, learning_rate=0.16469217470793096, max_depth=5, n_estimators=181, subsample=0.8608607124804514, score=0.999, total=  37.4s\n",
      "[CV] colsample_bytree=0.33627139494857383, gamma=0.5, learning_rate=0.24389578673746937, max_depth=3, n_estimators=180, subsample=0.5248144499730755 \n",
      "[CV]  colsample_bytree=0.33627139494857383, gamma=0.5, learning_rate=0.24389578673746937, max_depth=3, n_estimators=180, subsample=0.5248144499730755, score=0.999, total=  23.9s\n",
      "[CV] colsample_bytree=0.33627139494857383, gamma=0.5, learning_rate=0.24389578673746937, max_depth=3, n_estimators=180, subsample=0.5248144499730755 \n"
     ]
    },
    {
     "name": "stdout",
     "output_type": "stream",
     "text": [
      "[CV]  colsample_bytree=0.33627139494857383, gamma=0.5, learning_rate=0.24389578673746937, max_depth=3, n_estimators=180, subsample=0.5248144499730755, score=0.999, total=  23.5s\n",
      "[CV] colsample_bytree=0.33627139494857383, gamma=0.5, learning_rate=0.24389578673746937, max_depth=3, n_estimators=180, subsample=0.5248144499730755 \n",
      "[CV]  colsample_bytree=0.33627139494857383, gamma=0.5, learning_rate=0.24389578673746937, max_depth=3, n_estimators=180, subsample=0.5248144499730755, score=0.999, total=  23.5s\n",
      "[CV] colsample_bytree=0.8258550253895973, gamma=0.5, learning_rate=0.2522783789438505, max_depth=9, n_estimators=70, subsample=0.9167099703054473 \n",
      "[CV]  colsample_bytree=0.8258550253895973, gamma=0.5, learning_rate=0.2522783789438505, max_depth=9, n_estimators=70, subsample=0.9167099703054473, score=0.999, total=  37.7s\n",
      "[CV] colsample_bytree=0.8258550253895973, gamma=0.5, learning_rate=0.2522783789438505, max_depth=9, n_estimators=70, subsample=0.9167099703054473 \n",
      "[CV]  colsample_bytree=0.8258550253895973, gamma=0.5, learning_rate=0.2522783789438505, max_depth=9, n_estimators=70, subsample=0.9167099703054473, score=0.999, total=  38.1s\n",
      "[CV] colsample_bytree=0.8258550253895973, gamma=0.5, learning_rate=0.2522783789438505, max_depth=9, n_estimators=70, subsample=0.9167099703054473 \n",
      "[CV]  colsample_bytree=0.8258550253895973, gamma=0.5, learning_rate=0.2522783789438505, max_depth=9, n_estimators=70, subsample=0.9167099703054473, score=0.999, total=  37.8s\n",
      "[CV] colsample_bytree=0.7697999489168833, gamma=0.5, learning_rate=0.4210794567032977, max_depth=7, n_estimators=262, subsample=0.14588802855605443 \n",
      "[CV]  colsample_bytree=0.7697999489168833, gamma=0.5, learning_rate=0.4210794567032977, max_depth=7, n_estimators=262, subsample=0.14588802855605443, score=0.998, total= 1.1min\n",
      "[CV] colsample_bytree=0.7697999489168833, gamma=0.5, learning_rate=0.4210794567032977, max_depth=7, n_estimators=262, subsample=0.14588802855605443 \n",
      "[CV]  colsample_bytree=0.7697999489168833, gamma=0.5, learning_rate=0.4210794567032977, max_depth=7, n_estimators=262, subsample=0.14588802855605443, score=0.998, total= 1.1min\n",
      "[CV] colsample_bytree=0.7697999489168833, gamma=0.5, learning_rate=0.4210794567032977, max_depth=7, n_estimators=262, subsample=0.14588802855605443 \n",
      "[CV]  colsample_bytree=0.7697999489168833, gamma=0.5, learning_rate=0.4210794567032977, max_depth=7, n_estimators=262, subsample=0.14588802855605443, score=0.998, total= 1.1min\n",
      "[CV] colsample_bytree=0.17028147303471963, gamma=1, learning_rate=0.8714849191793524, max_depth=5, n_estimators=447, subsample=0.21844544719274095 \n",
      "[CV]  colsample_bytree=0.17028147303471963, gamma=1, learning_rate=0.8714849191793524, max_depth=5, n_estimators=447, subsample=0.21844544719274095, score=0.997, total=  48.4s\n",
      "[CV] colsample_bytree=0.17028147303471963, gamma=1, learning_rate=0.8714849191793524, max_depth=5, n_estimators=447, subsample=0.21844544719274095 \n",
      "[CV]  colsample_bytree=0.17028147303471963, gamma=1, learning_rate=0.8714849191793524, max_depth=5, n_estimators=447, subsample=0.21844544719274095, score=0.997, total=  48.0s\n",
      "[CV] colsample_bytree=0.17028147303471963, gamma=1, learning_rate=0.8714849191793524, max_depth=5, n_estimators=447, subsample=0.21844544719274095 \n",
      "[CV]  colsample_bytree=0.17028147303471963, gamma=1, learning_rate=0.8714849191793524, max_depth=5, n_estimators=447, subsample=0.21844544719274095, score=0.998, total=  48.4s\n",
      "[CV] colsample_bytree=0.8490606183204268, gamma=0, learning_rate=0.8864792402405596, max_depth=5, n_estimators=150, subsample=0.5579207536468347 \n",
      "[CV]  colsample_bytree=0.8490606183204268, gamma=0, learning_rate=0.8864792402405596, max_depth=5, n_estimators=150, subsample=0.5579207536468347, score=0.998, total=  45.6s\n",
      "[CV] colsample_bytree=0.8490606183204268, gamma=0, learning_rate=0.8864792402405596, max_depth=5, n_estimators=150, subsample=0.5579207536468347 \n",
      "[CV]  colsample_bytree=0.8490606183204268, gamma=0, learning_rate=0.8864792402405596, max_depth=5, n_estimators=150, subsample=0.5579207536468347, score=0.998, total=  45.5s\n",
      "[CV] colsample_bytree=0.8490606183204268, gamma=0, learning_rate=0.8864792402405596, max_depth=5, n_estimators=150, subsample=0.5579207536468347 \n",
      "[CV]  colsample_bytree=0.8490606183204268, gamma=0, learning_rate=0.8864792402405596, max_depth=5, n_estimators=150, subsample=0.5579207536468347, score=0.999, total=  46.3s\n",
      "[CV] colsample_bytree=0.6172959808445663, gamma=0.5, learning_rate=0.1488016319852361, max_depth=7, n_estimators=67, subsample=0.554323840486844 \n",
      "[CV]  colsample_bytree=0.6172959808445663, gamma=0.5, learning_rate=0.1488016319852361, max_depth=7, n_estimators=67, subsample=0.554323840486844, score=0.999, total=  23.6s\n",
      "[CV] colsample_bytree=0.6172959808445663, gamma=0.5, learning_rate=0.1488016319852361, max_depth=7, n_estimators=67, subsample=0.554323840486844 \n",
      "[CV]  colsample_bytree=0.6172959808445663, gamma=0.5, learning_rate=0.1488016319852361, max_depth=7, n_estimators=67, subsample=0.554323840486844, score=0.999, total=  23.4s\n",
      "[CV] colsample_bytree=0.6172959808445663, gamma=0.5, learning_rate=0.1488016319852361, max_depth=7, n_estimators=67, subsample=0.554323840486844 \n",
      "[CV]  colsample_bytree=0.6172959808445663, gamma=0.5, learning_rate=0.1488016319852361, max_depth=7, n_estimators=67, subsample=0.554323840486844, score=0.999, total=  23.7s\n",
      "[CV] colsample_bytree=0.9166734817980288, gamma=0.5, learning_rate=0.007943776010369552, max_depth=9, n_estimators=330, subsample=0.13350516754249875 \n",
      "[CV]  colsample_bytree=0.9166734817980288, gamma=0.5, learning_rate=0.007943776010369552, max_depth=9, n_estimators=330, subsample=0.13350516754249875, score=0.998, total= 2.1min\n",
      "[CV] colsample_bytree=0.9166734817980288, gamma=0.5, learning_rate=0.007943776010369552, max_depth=9, n_estimators=330, subsample=0.13350516754249875 \n",
      "[CV]  colsample_bytree=0.9166734817980288, gamma=0.5, learning_rate=0.007943776010369552, max_depth=9, n_estimators=330, subsample=0.13350516754249875, score=0.998, total= 2.1min\n",
      "[CV] colsample_bytree=0.9166734817980288, gamma=0.5, learning_rate=0.007943776010369552, max_depth=9, n_estimators=330, subsample=0.13350516754249875 \n",
      "[CV]  colsample_bytree=0.9166734817980288, gamma=0.5, learning_rate=0.007943776010369552, max_depth=9, n_estimators=330, subsample=0.13350516754249875, score=0.998, total= 2.1min\n",
      "[CV] colsample_bytree=0.8762999250695436, gamma=1, learning_rate=0.45060719059757015, max_depth=5, n_estimators=315, subsample=0.881936425350204 \n",
      "[CV]  colsample_bytree=0.8762999250695436, gamma=1, learning_rate=0.45060719059757015, max_depth=5, n_estimators=315, subsample=0.881936425350204, score=0.999, total= 1.7min\n",
      "[CV] colsample_bytree=0.8762999250695436, gamma=1, learning_rate=0.45060719059757015, max_depth=5, n_estimators=315, subsample=0.881936425350204 \n",
      "[CV]  colsample_bytree=0.8762999250695436, gamma=1, learning_rate=0.45060719059757015, max_depth=5, n_estimators=315, subsample=0.881936425350204, score=0.999, total= 1.7min\n",
      "[CV] colsample_bytree=0.8762999250695436, gamma=1, learning_rate=0.45060719059757015, max_depth=5, n_estimators=315, subsample=0.881936425350204 \n",
      "[CV]  colsample_bytree=0.8762999250695436, gamma=1, learning_rate=0.45060719059757015, max_depth=5, n_estimators=315, subsample=0.881936425350204, score=0.999, total= 1.7min\n",
      "[CV] colsample_bytree=0.30409600374136125, gamma=0, learning_rate=0.6723046261336927, max_depth=7, n_estimators=251, subsample=0.43463411770600047 \n",
      "[CV]  colsample_bytree=0.30409600374136125, gamma=0, learning_rate=0.6723046261336927, max_depth=7, n_estimators=251, subsample=0.43463411770600047, score=0.998, total=  47.5s\n",
      "[CV] colsample_bytree=0.30409600374136125, gamma=0, learning_rate=0.6723046261336927, max_depth=7, n_estimators=251, subsample=0.43463411770600047 \n",
      "[CV]  colsample_bytree=0.30409600374136125, gamma=0, learning_rate=0.6723046261336927, max_depth=7, n_estimators=251, subsample=0.43463411770600047, score=0.999, total=  47.1s\n",
      "[CV] colsample_bytree=0.30409600374136125, gamma=0, learning_rate=0.6723046261336927, max_depth=7, n_estimators=251, subsample=0.43463411770600047 \n",
      "[CV]  colsample_bytree=0.30409600374136125, gamma=0, learning_rate=0.6723046261336927, max_depth=7, n_estimators=251, subsample=0.43463411770600047, score=0.999, total=  47.6s\n",
      "[CV] colsample_bytree=0.4715416412473765, gamma=1, learning_rate=0.2662630192036526, max_depth=5, n_estimators=369, subsample=0.21027234582906684 \n"
     ]
    },
    {
     "name": "stdout",
     "output_type": "stream",
     "text": [
      "[CV]  colsample_bytree=0.4715416412473765, gamma=1, learning_rate=0.2662630192036526, max_depth=5, n_estimators=369, subsample=0.21027234582906684, score=0.998, total= 1.0min\n",
      "[CV] colsample_bytree=0.4715416412473765, gamma=1, learning_rate=0.2662630192036526, max_depth=5, n_estimators=369, subsample=0.21027234582906684 \n",
      "[CV]  colsample_bytree=0.4715416412473765, gamma=1, learning_rate=0.2662630192036526, max_depth=5, n_estimators=369, subsample=0.21027234582906684, score=0.999, total= 1.0min\n",
      "[CV] colsample_bytree=0.4715416412473765, gamma=1, learning_rate=0.2662630192036526, max_depth=5, n_estimators=369, subsample=0.21027234582906684 \n",
      "[CV]  colsample_bytree=0.4715416412473765, gamma=1, learning_rate=0.2662630192036526, max_depth=5, n_estimators=369, subsample=0.21027234582906684, score=0.999, total= 1.0min\n",
      "[CV] colsample_bytree=0.5139404691578969, gamma=0.5, learning_rate=0.2999675136645916, max_depth=9, n_estimators=278, subsample=0.8277418366554766 \n",
      "[CV]  colsample_bytree=0.5139404691578969, gamma=0.5, learning_rate=0.2999675136645916, max_depth=9, n_estimators=278, subsample=0.8277418366554766, score=0.999, total= 1.7min\n",
      "[CV] colsample_bytree=0.5139404691578969, gamma=0.5, learning_rate=0.2999675136645916, max_depth=9, n_estimators=278, subsample=0.8277418366554766 \n",
      "[CV]  colsample_bytree=0.5139404691578969, gamma=0.5, learning_rate=0.2999675136645916, max_depth=9, n_estimators=278, subsample=0.8277418366554766, score=0.999, total= 1.7min\n",
      "[CV] colsample_bytree=0.5139404691578969, gamma=0.5, learning_rate=0.2999675136645916, max_depth=9, n_estimators=278, subsample=0.8277418366554766 \n",
      "[CV]  colsample_bytree=0.5139404691578969, gamma=0.5, learning_rate=0.2999675136645916, max_depth=9, n_estimators=278, subsample=0.8277418366554766, score=0.999, total= 1.7min\n",
      "[CV] colsample_bytree=0.9836893891476692, gamma=0, learning_rate=0.6930224983970341, max_depth=7, n_estimators=48, subsample=0.5921623514658518 \n",
      "[CV]  colsample_bytree=0.9836893891476692, gamma=0, learning_rate=0.6930224983970341, max_depth=7, n_estimators=48, subsample=0.5921623514658518, score=0.998, total=  24.1s\n",
      "[CV] colsample_bytree=0.9836893891476692, gamma=0, learning_rate=0.6930224983970341, max_depth=7, n_estimators=48, subsample=0.5921623514658518 \n",
      "[CV]  colsample_bytree=0.9836893891476692, gamma=0, learning_rate=0.6930224983970341, max_depth=7, n_estimators=48, subsample=0.5921623514658518, score=0.998, total=  24.0s\n",
      "[CV] colsample_bytree=0.9836893891476692, gamma=0, learning_rate=0.6930224983970341, max_depth=7, n_estimators=48, subsample=0.5921623514658518 \n",
      "[CV]  colsample_bytree=0.9836893891476692, gamma=0, learning_rate=0.6930224983970341, max_depth=7, n_estimators=48, subsample=0.5921623514658518, score=0.999, total=  23.9s\n",
      "[CV] colsample_bytree=0.3647160589980064, gamma=0.5, learning_rate=0.18837809971484631, max_depth=3, n_estimators=150, subsample=0.3837770926031977 \n",
      "[CV]  colsample_bytree=0.3647160589980064, gamma=0.5, learning_rate=0.18837809971484631, max_depth=3, n_estimators=150, subsample=0.3837770926031977, score=0.999, total=  18.9s\n",
      "[CV] colsample_bytree=0.3647160589980064, gamma=0.5, learning_rate=0.18837809971484631, max_depth=3, n_estimators=150, subsample=0.3837770926031977 \n",
      "[CV]  colsample_bytree=0.3647160589980064, gamma=0.5, learning_rate=0.18837809971484631, max_depth=3, n_estimators=150, subsample=0.3837770926031977, score=0.999, total=  18.9s\n",
      "[CV] colsample_bytree=0.3647160589980064, gamma=0.5, learning_rate=0.18837809971484631, max_depth=3, n_estimators=150, subsample=0.3837770926031977 \n",
      "[CV]  colsample_bytree=0.3647160589980064, gamma=0.5, learning_rate=0.18837809971484631, max_depth=3, n_estimators=150, subsample=0.3837770926031977, score=0.999, total=  18.9s\n",
      "[CV] colsample_bytree=0.7854812250403213, gamma=0, learning_rate=0.7913554490834939, max_depth=5, n_estimators=338, subsample=0.15663380450944753 \n",
      "[CV]  colsample_bytree=0.7854812250403213, gamma=0, learning_rate=0.7913554490834939, max_depth=5, n_estimators=338, subsample=0.15663380450944753, score=0.997, total= 1.0min\n",
      "[CV] colsample_bytree=0.7854812250403213, gamma=0, learning_rate=0.7913554490834939, max_depth=5, n_estimators=338, subsample=0.15663380450944753 \n",
      "[CV]  colsample_bytree=0.7854812250403213, gamma=0, learning_rate=0.7913554490834939, max_depth=5, n_estimators=338, subsample=0.15663380450944753, score=0.997, total= 1.0min\n",
      "[CV] colsample_bytree=0.7854812250403213, gamma=0, learning_rate=0.7913554490834939, max_depth=5, n_estimators=338, subsample=0.15663380450944753 \n",
      "[CV]  colsample_bytree=0.7854812250403213, gamma=0, learning_rate=0.7913554490834939, max_depth=5, n_estimators=338, subsample=0.15663380450944753, score=0.998, total= 1.1min\n",
      "[CV] colsample_bytree=0.9918052899392772, gamma=1, learning_rate=0.49988329785256946, max_depth=7, n_estimators=326, subsample=0.851320279936076 \n",
      "[CV]  colsample_bytree=0.9918052899392772, gamma=1, learning_rate=0.49988329785256946, max_depth=7, n_estimators=326, subsample=0.851320279936076, score=0.999, total= 2.6min\n",
      "[CV] colsample_bytree=0.9918052899392772, gamma=1, learning_rate=0.49988329785256946, max_depth=7, n_estimators=326, subsample=0.851320279936076 \n",
      "[CV]  colsample_bytree=0.9918052899392772, gamma=1, learning_rate=0.49988329785256946, max_depth=7, n_estimators=326, subsample=0.851320279936076, score=0.999, total= 2.6min\n",
      "[CV] colsample_bytree=0.9918052899392772, gamma=1, learning_rate=0.49988329785256946, max_depth=7, n_estimators=326, subsample=0.851320279936076 \n",
      "[CV]  colsample_bytree=0.9918052899392772, gamma=1, learning_rate=0.49988329785256946, max_depth=7, n_estimators=326, subsample=0.851320279936076, score=0.999, total= 2.5min\n",
      "[CV] colsample_bytree=0.5277729971905636, gamma=0, learning_rate=0.2938886729499883, max_depth=7, n_estimators=171, subsample=0.6123651266348715 \n",
      "[CV]  colsample_bytree=0.5277729971905636, gamma=0, learning_rate=0.2938886729499883, max_depth=7, n_estimators=171, subsample=0.6123651266348715, score=0.999, total=  52.7s\n",
      "[CV] colsample_bytree=0.5277729971905636, gamma=0, learning_rate=0.2938886729499883, max_depth=7, n_estimators=171, subsample=0.6123651266348715 \n",
      "[CV]  colsample_bytree=0.5277729971905636, gamma=0, learning_rate=0.2938886729499883, max_depth=7, n_estimators=171, subsample=0.6123651266348715, score=0.999, total=  52.7s\n",
      "[CV] colsample_bytree=0.5277729971905636, gamma=0, learning_rate=0.2938886729499883, max_depth=7, n_estimators=171, subsample=0.6123651266348715 \n",
      "[CV]  colsample_bytree=0.5277729971905636, gamma=0, learning_rate=0.2938886729499883, max_depth=7, n_estimators=171, subsample=0.6123651266348715, score=0.999, total=  52.8s\n",
      "[CV] colsample_bytree=0.8778792852395237, gamma=1, learning_rate=0.8974458895090524, max_depth=3, n_estimators=345, subsample=0.12439164141973824 \n",
      "[CV]  colsample_bytree=0.8778792852395237, gamma=1, learning_rate=0.8974458895090524, max_depth=3, n_estimators=345, subsample=0.12439164141973824, score=0.997, total=  47.5s\n",
      "[CV] colsample_bytree=0.8778792852395237, gamma=1, learning_rate=0.8974458895090524, max_depth=3, n_estimators=345, subsample=0.12439164141973824 \n",
      "[CV]  colsample_bytree=0.8778792852395237, gamma=1, learning_rate=0.8974458895090524, max_depth=3, n_estimators=345, subsample=0.12439164141973824, score=0.998, total=  47.6s\n",
      "[CV] colsample_bytree=0.8778792852395237, gamma=1, learning_rate=0.8974458895090524, max_depth=3, n_estimators=345, subsample=0.12439164141973824 \n",
      "[CV]  colsample_bytree=0.8778792852395237, gamma=1, learning_rate=0.8974458895090524, max_depth=3, n_estimators=345, subsample=0.12439164141973824, score=0.997, total=  47.5s\n",
      "[CV] colsample_bytree=0.9564638424139361, gamma=0, learning_rate=0.28181496645949267, max_depth=7, n_estimators=425, subsample=0.3361040265850367 \n",
      "[CV]  colsample_bytree=0.9564638424139361, gamma=0, learning_rate=0.28181496645949267, max_depth=7, n_estimators=425, subsample=0.3361040265850367, score=0.999, total= 2.4min\n",
      "[CV] colsample_bytree=0.9564638424139361, gamma=0, learning_rate=0.28181496645949267, max_depth=7, n_estimators=425, subsample=0.3361040265850367 \n",
      "[CV]  colsample_bytree=0.9564638424139361, gamma=0, learning_rate=0.28181496645949267, max_depth=7, n_estimators=425, subsample=0.3361040265850367, score=0.999, total= 2.3min\n",
      "[CV] colsample_bytree=0.9564638424139361, gamma=0, learning_rate=0.28181496645949267, max_depth=7, n_estimators=425, subsample=0.3361040265850367 \n"
     ]
    },
    {
     "name": "stdout",
     "output_type": "stream",
     "text": [
      "[CV]  colsample_bytree=0.9564638424139361, gamma=0, learning_rate=0.28181496645949267, max_depth=7, n_estimators=425, subsample=0.3361040265850367, score=0.999, total= 2.4min\n",
      "[CV] colsample_bytree=0.3625473603983238, gamma=0.5, learning_rate=0.886975127977201, max_depth=3, n_estimators=420, subsample=0.04016312842699654 \n",
      "[CV]  colsample_bytree=0.3625473603983238, gamma=0.5, learning_rate=0.886975127977201, max_depth=3, n_estimators=420, subsample=0.04016312842699654, score=0.997, total=  32.4s\n",
      "[CV] colsample_bytree=0.3625473603983238, gamma=0.5, learning_rate=0.886975127977201, max_depth=3, n_estimators=420, subsample=0.04016312842699654 \n",
      "[CV]  colsample_bytree=0.3625473603983238, gamma=0.5, learning_rate=0.886975127977201, max_depth=3, n_estimators=420, subsample=0.04016312842699654, score=0.997, total=  32.0s\n",
      "[CV] colsample_bytree=0.3625473603983238, gamma=0.5, learning_rate=0.886975127977201, max_depth=3, n_estimators=420, subsample=0.04016312842699654 \n",
      "[CV]  colsample_bytree=0.3625473603983238, gamma=0.5, learning_rate=0.886975127977201, max_depth=3, n_estimators=420, subsample=0.04016312842699654, score=0.997, total=  33.0s\n",
      "[CV] colsample_bytree=0.1427110872694175, gamma=0, learning_rate=0.934040431225683, max_depth=5, n_estimators=488, subsample=0.9099284219574344 \n",
      "[CV]  colsample_bytree=0.1427110872694175, gamma=0, learning_rate=0.934040431225683, max_depth=5, n_estimators=488, subsample=0.9099284219574344, score=0.999, total=  56.1s\n",
      "[CV] colsample_bytree=0.1427110872694175, gamma=0, learning_rate=0.934040431225683, max_depth=5, n_estimators=488, subsample=0.9099284219574344 \n",
      "[CV]  colsample_bytree=0.1427110872694175, gamma=0, learning_rate=0.934040431225683, max_depth=5, n_estimators=488, subsample=0.9099284219574344, score=0.999, total=  55.6s\n",
      "[CV] colsample_bytree=0.1427110872694175, gamma=0, learning_rate=0.934040431225683, max_depth=5, n_estimators=488, subsample=0.9099284219574344 \n",
      "[CV]  colsample_bytree=0.1427110872694175, gamma=0, learning_rate=0.934040431225683, max_depth=5, n_estimators=488, subsample=0.9099284219574344, score=0.999, total=  55.6s\n",
      "[CV] colsample_bytree=0.08769606209243763, gamma=0, learning_rate=0.5854474555253671, max_depth=7, n_estimators=480, subsample=0.6426781116847852 \n",
      "[CV]  colsample_bytree=0.08769606209243763, gamma=0, learning_rate=0.5854474555253671, max_depth=7, n_estimators=480, subsample=0.6426781116847852, score=0.999, total= 1.0min\n",
      "[CV] colsample_bytree=0.08769606209243763, gamma=0, learning_rate=0.5854474555253671, max_depth=7, n_estimators=480, subsample=0.6426781116847852 \n",
      "[CV]  colsample_bytree=0.08769606209243763, gamma=0, learning_rate=0.5854474555253671, max_depth=7, n_estimators=480, subsample=0.6426781116847852, score=0.999, total= 1.0min\n",
      "[CV] colsample_bytree=0.08769606209243763, gamma=0, learning_rate=0.5854474555253671, max_depth=7, n_estimators=480, subsample=0.6426781116847852 \n",
      "[CV]  colsample_bytree=0.08769606209243763, gamma=0, learning_rate=0.5854474555253671, max_depth=7, n_estimators=480, subsample=0.6426781116847852, score=0.999, total= 1.0min\n",
      "[CV] colsample_bytree=0.7228330063824677, gamma=0, learning_rate=0.45734181067366253, max_depth=7, n_estimators=222, subsample=0.4304634131220364 \n",
      "[CV]  colsample_bytree=0.7228330063824677, gamma=0, learning_rate=0.45734181067366253, max_depth=7, n_estimators=222, subsample=0.4304634131220364, score=0.999, total= 1.1min\n",
      "[CV] colsample_bytree=0.7228330063824677, gamma=0, learning_rate=0.45734181067366253, max_depth=7, n_estimators=222, subsample=0.4304634131220364 \n",
      "[CV]  colsample_bytree=0.7228330063824677, gamma=0, learning_rate=0.45734181067366253, max_depth=7, n_estimators=222, subsample=0.4304634131220364, score=0.999, total= 1.1min\n",
      "[CV] colsample_bytree=0.7228330063824677, gamma=0, learning_rate=0.45734181067366253, max_depth=7, n_estimators=222, subsample=0.4304634131220364 \n",
      "[CV]  colsample_bytree=0.7228330063824677, gamma=0, learning_rate=0.45734181067366253, max_depth=7, n_estimators=222, subsample=0.4304634131220364, score=0.999, total= 1.1min\n",
      "[CV] colsample_bytree=0.9317312433254439, gamma=0.5, learning_rate=0.22673587222022618, max_depth=7, n_estimators=336, subsample=0.7946945369030941 \n",
      "[CV]  colsample_bytree=0.9317312433254439, gamma=0.5, learning_rate=0.22673587222022618, max_depth=7, n_estimators=336, subsample=0.7946945369030941, score=0.999, total= 2.6min\n",
      "[CV] colsample_bytree=0.9317312433254439, gamma=0.5, learning_rate=0.22673587222022618, max_depth=7, n_estimators=336, subsample=0.7946945369030941 \n",
      "[CV]  colsample_bytree=0.9317312433254439, gamma=0.5, learning_rate=0.22673587222022618, max_depth=7, n_estimators=336, subsample=0.7946945369030941, score=0.999, total= 2.5min\n",
      "[CV] colsample_bytree=0.9317312433254439, gamma=0.5, learning_rate=0.22673587222022618, max_depth=7, n_estimators=336, subsample=0.7946945369030941 \n",
      "[CV]  colsample_bytree=0.9317312433254439, gamma=0.5, learning_rate=0.22673587222022618, max_depth=7, n_estimators=336, subsample=0.7946945369030941, score=0.999, total= 2.5min\n",
      "[CV] colsample_bytree=0.5465084521486412, gamma=1, learning_rate=0.08004026297152456, max_depth=5, n_estimators=58, subsample=0.29838796310162563 \n",
      "[CV]  colsample_bytree=0.5465084521486412, gamma=1, learning_rate=0.08004026297152456, max_depth=5, n_estimators=58, subsample=0.29838796310162563, score=0.998, total=  12.6s\n",
      "[CV] colsample_bytree=0.5465084521486412, gamma=1, learning_rate=0.08004026297152456, max_depth=5, n_estimators=58, subsample=0.29838796310162563 \n",
      "[CV]  colsample_bytree=0.5465084521486412, gamma=1, learning_rate=0.08004026297152456, max_depth=5, n_estimators=58, subsample=0.29838796310162563, score=0.998, total=  12.5s\n",
      "[CV] colsample_bytree=0.5465084521486412, gamma=1, learning_rate=0.08004026297152456, max_depth=5, n_estimators=58, subsample=0.29838796310162563 \n",
      "[CV]  colsample_bytree=0.5465084521486412, gamma=1, learning_rate=0.08004026297152456, max_depth=5, n_estimators=58, subsample=0.29838796310162563, score=0.998, total=  12.5s\n",
      "[CV] colsample_bytree=0.32758384646402006, gamma=1, learning_rate=0.8203733203767808, max_depth=7, n_estimators=65, subsample=0.31753571550134707 \n",
      "[CV]  colsample_bytree=0.32758384646402006, gamma=1, learning_rate=0.8203733203767808, max_depth=7, n_estimators=65, subsample=0.31753571550134707, score=0.998, total=  14.9s\n",
      "[CV] colsample_bytree=0.32758384646402006, gamma=1, learning_rate=0.8203733203767808, max_depth=7, n_estimators=65, subsample=0.31753571550134707 \n",
      "[CV]  colsample_bytree=0.32758384646402006, gamma=1, learning_rate=0.8203733203767808, max_depth=7, n_estimators=65, subsample=0.31753571550134707, score=0.998, total=  14.6s\n",
      "[CV] colsample_bytree=0.32758384646402006, gamma=1, learning_rate=0.8203733203767808, max_depth=7, n_estimators=65, subsample=0.31753571550134707 \n",
      "[CV]  colsample_bytree=0.32758384646402006, gamma=1, learning_rate=0.8203733203767808, max_depth=7, n_estimators=65, subsample=0.31753571550134707, score=0.998, total=  14.8s\n",
      "[CV] colsample_bytree=0.5152259490515718, gamma=0.5, learning_rate=0.4797621665478846, max_depth=9, n_estimators=127, subsample=0.10894076186231982 \n",
      "[CV]  colsample_bytree=0.5152259490515718, gamma=0.5, learning_rate=0.4797621665478846, max_depth=9, n_estimators=127, subsample=0.10894076186231982, score=0.998, total=  27.7s\n",
      "[CV] colsample_bytree=0.5152259490515718, gamma=0.5, learning_rate=0.4797621665478846, max_depth=9, n_estimators=127, subsample=0.10894076186231982 \n",
      "[CV]  colsample_bytree=0.5152259490515718, gamma=0.5, learning_rate=0.4797621665478846, max_depth=9, n_estimators=127, subsample=0.10894076186231982, score=0.998, total=  28.5s\n",
      "[CV] colsample_bytree=0.5152259490515718, gamma=0.5, learning_rate=0.4797621665478846, max_depth=9, n_estimators=127, subsample=0.10894076186231982 \n",
      "[CV]  colsample_bytree=0.5152259490515718, gamma=0.5, learning_rate=0.4797621665478846, max_depth=9, n_estimators=127, subsample=0.10894076186231982, score=0.998, total=  28.0s\n",
      "[CV] colsample_bytree=0.5060506125373518, gamma=0.5, learning_rate=0.64099934659491, max_depth=9, n_estimators=166, subsample=0.3027654384906646 \n",
      "[CV]  colsample_bytree=0.5060506125373518, gamma=0.5, learning_rate=0.64099934659491, max_depth=9, n_estimators=166, subsample=0.3027654384906646, score=0.998, total=  42.7s\n",
      "[CV] colsample_bytree=0.5060506125373518, gamma=0.5, learning_rate=0.64099934659491, max_depth=9, n_estimators=166, subsample=0.3027654384906646 \n"
     ]
    },
    {
     "name": "stdout",
     "output_type": "stream",
     "text": [
      "[CV]  colsample_bytree=0.5060506125373518, gamma=0.5, learning_rate=0.64099934659491, max_depth=9, n_estimators=166, subsample=0.3027654384906646, score=0.998, total=  42.4s\n",
      "[CV] colsample_bytree=0.5060506125373518, gamma=0.5, learning_rate=0.64099934659491, max_depth=9, n_estimators=166, subsample=0.3027654384906646 \n",
      "[CV]  colsample_bytree=0.5060506125373518, gamma=0.5, learning_rate=0.64099934659491, max_depth=9, n_estimators=166, subsample=0.3027654384906646, score=0.998, total=  43.7s\n",
      "[CV] colsample_bytree=0.9983862721241882, gamma=0.5, learning_rate=0.2159654911802783, max_depth=5, n_estimators=232, subsample=0.9385444349357669 \n",
      "[CV]  colsample_bytree=0.9983862721241882, gamma=0.5, learning_rate=0.2159654911802783, max_depth=5, n_estimators=232, subsample=0.9385444349357669, score=0.999, total= 1.4min\n",
      "[CV] colsample_bytree=0.9983862721241882, gamma=0.5, learning_rate=0.2159654911802783, max_depth=5, n_estimators=232, subsample=0.9385444349357669 \n",
      "[CV]  colsample_bytree=0.9983862721241882, gamma=0.5, learning_rate=0.2159654911802783, max_depth=5, n_estimators=232, subsample=0.9385444349357669, score=0.999, total= 1.4min\n",
      "[CV] colsample_bytree=0.9983862721241882, gamma=0.5, learning_rate=0.2159654911802783, max_depth=5, n_estimators=232, subsample=0.9385444349357669 \n",
      "[CV]  colsample_bytree=0.9983862721241882, gamma=0.5, learning_rate=0.2159654911802783, max_depth=5, n_estimators=232, subsample=0.9385444349357669, score=0.999, total= 1.4min\n"
     ]
    },
    {
     "name": "stderr",
     "output_type": "stream",
     "text": [
      "[Parallel(n_jobs=1)]: Done 300 out of 300 | elapsed: 257.5min finished\n"
     ]
    },
    {
     "data": {
      "text/plain": [
       "RandomizedSearchCV(cv=3, error_score=nan,\n",
       "                   estimator=XGBClassifier(base_score=None, booster=None,\n",
       "                                           colsample_bylevel=None,\n",
       "                                           colsample_bynode=None,\n",
       "                                           colsample_bytree=None, gamma=None,\n",
       "                                           gpu_id=None, importance_type='gain',\n",
       "                                           interaction_constraints=None,\n",
       "                                           learning_rate=None,\n",
       "                                           max_delta_step=None, max_depth=None,\n",
       "                                           min_child_weight=None, missing=nan,\n",
       "                                           monotone_constraints=None,\n",
       "                                           n...\n",
       "                                        'learning_rate': <scipy.stats._distn_infrastructure.rv_frozen object at 0x7fc68131c710>,\n",
       "                                        'max_depth': range(3, 10, 2),\n",
       "                                        'n_estimators': <scipy.stats._distn_infrastructure.rv_frozen object at 0x7fc6c83cb198>,\n",
       "                                        'subsample': <scipy.stats._distn_infrastructure.rv_frozen object at 0x7fc68131cc50>},\n",
       "                   pre_dispatch='2*n_jobs', random_state=342, refit=True,\n",
       "                   return_train_score=False, scoring='accuracy', verbose=10)"
      ]
     },
     "execution_count": 15,
     "metadata": {},
     "output_type": "execute_result"
    }
   ],
   "source": [
    "rd_grid.fit(X_train,y_train)"
   ]
  },
  {
   "cell_type": "code",
   "execution_count": 19,
   "metadata": {},
   "outputs": [
    {
     "data": {
      "text/plain": [
       "{'colsample_bytree': 0.9983862721241882,\n",
       " 'gamma': 0.5,\n",
       " 'learning_rate': 0.2159654911802783,\n",
       " 'max_depth': 5,\n",
       " 'n_estimators': 232,\n",
       " 'subsample': 0.9385444349357669}"
      ]
     },
     "execution_count": 19,
     "metadata": {},
     "output_type": "execute_result"
    }
   ],
   "source": [
    "rd_grid.best_params_"
   ]
  },
  {
   "cell_type": "code",
   "execution_count": 20,
   "metadata": {},
   "outputs": [],
   "source": [
    "clf=XGBClassifier(colsample_bytree= 0.9983862721241882,\n",
    " gamma= 0.5,\n",
    " learning_rate= 0.2159654911802783,\n",
    " max_depth= 5,\n",
    " n_estimators= 232,\n",
    " subsample= 0.9385444349357669,objective='binary:logistic')"
   ]
  },
  {
   "cell_type": "markdown",
   "metadata": {},
   "source": [
    "Pour l'instant le meilleur avec X "
   ]
  },
  {
   "cell_type": "code",
   "execution_count": 21,
   "metadata": {},
   "outputs": [
    {
     "data": {
      "text/plain": [
       "XGBClassifier(base_score=0.5, booster=None, colsample_bylevel=1,\n",
       "              colsample_bynode=1, colsample_bytree=0.9983862721241882,\n",
       "              gamma=0.5, gpu_id=-1, importance_type='gain',\n",
       "              interaction_constraints=None, learning_rate=0.2159654911802783,\n",
       "              max_delta_step=0, max_depth=5, min_child_weight=1, missing=nan,\n",
       "              monotone_constraints=None, n_estimators=232, n_jobs=0,\n",
       "              num_parallel_tree=1, objective='binary:logistic', random_state=0,\n",
       "              reg_alpha=0, reg_lambda=1, scale_pos_weight=1,\n",
       "              subsample=0.9385444349357669, tree_method=None,\n",
       "              validate_parameters=False, verbosity=None)"
      ]
     },
     "execution_count": 21,
     "metadata": {},
     "output_type": "execute_result"
    }
   ],
   "source": [
    "clf.fit(X_train,y_train)"
   ]
  },
  {
   "cell_type": "code",
   "execution_count": 22,
   "metadata": {},
   "outputs": [
    {
     "data": {
      "text/plain": [
       "0.9989450010918671"
      ]
     },
     "execution_count": 22,
     "metadata": {},
     "output_type": "execute_result"
    }
   ],
   "source": [
    "clf.score(X_test,y_test)"
   ]
  },
  {
   "cell_type": "code",
   "execution_count": 6,
   "metadata": {},
   "outputs": [],
   "source": [
    "clf = xgb.XGBClassifier(missing=np.nan, max_depth=9, \n",
    "                        n_estimators=300, learning_rate=0.01,gamma=0.1, min_child_weight=5,\n",
    "                        subsample=1, colsample_bytree=0.9, seed=2100,objective= 'binary:logistic')"
   ]
  },
  {
   "cell_type": "code",
   "execution_count": 7,
   "metadata": {},
   "outputs": [
    {
     "data": {
      "text/plain": [
       "XGBClassifier(base_score=0.5, booster=None, colsample_bylevel=1,\n",
       "              colsample_bynode=1, colsample_bytree=0.9, gamma=0.1, gpu_id=-1,\n",
       "              importance_type='gain', interaction_constraints=None,\n",
       "              learning_rate=0.01, max_delta_step=0, max_depth=9,\n",
       "              min_child_weight=5, missing=nan, monotone_constraints=None,\n",
       "              n_estimators=300, n_jobs=0, num_parallel_tree=1,\n",
       "              objective='binary:logistic', random_state=2100, reg_alpha=0,\n",
       "              reg_lambda=1, scale_pos_weight=1, seed=2100, subsample=1,\n",
       "              tree_method=None, validate_parameters=False, verbosity=None)"
      ]
     },
     "execution_count": 7,
     "metadata": {},
     "output_type": "execute_result"
    }
   ],
   "source": [
    "clf.fit(X_train,y_train)"
   ]
  },
  {
   "cell_type": "code",
   "execution_count": 8,
   "metadata": {},
   "outputs": [
    {
     "data": {
      "text/plain": [
       "0.9984798940463462"
      ]
     },
     "execution_count": 8,
     "metadata": {},
     "output_type": "execute_result"
    }
   ],
   "source": [
    "clf.score(X_test,y_test)"
   ]
  },
  {
   "cell_type": "code",
   "execution_count": null,
   "metadata": {},
   "outputs": [],
   "source": [
    "ytest1=clf.predict(X_exam[:1500000])\n"
   ]
  },
  {
   "cell_type": "markdown",
   "metadata": {},
   "source": [
    "0,9984 with max_depth=11 \n",
    "0,9984 with max_depth=9\n",
    "0,9980 with max_depth=5\n",
    "0,9983 with max_depth=7\n",
    "0,9975 with max_depth=3"
   ]
  },
  {
   "cell_type": "markdown",
   "metadata": {},
   "source": [
    "### Tune max_depth and min_child_weight"
   ]
  },
  {
   "cell_type": "code",
   "execution_count": 110,
   "metadata": {},
   "outputs": [
    {
     "ename": "OSError",
     "evalue": "[Errno 12] Cannot allocate memory",
     "output_type": "error",
     "traceback": [
      "\u001b[0;31m---------------------------------------------------------------------------\u001b[0m",
      "\u001b[0;31mOSError\u001b[0m                                   Traceback (most recent call last)",
      "\u001b[0;32m<ipython-input-110-5af6abb61cfc>\u001b[0m in \u001b[0;36m<module>\u001b[0;34m()\u001b[0m\n\u001b[1;32m      9\u001b[0m \u001b[0;34m\u001b[0m\u001b[0m\n\u001b[1;32m     10\u001b[0m \u001b[0;34m\u001b[0m\u001b[0m\n\u001b[0;32m---> 11\u001b[0;31m \u001b[0mgsearch1\u001b[0m\u001b[0;34m.\u001b[0m\u001b[0mfit\u001b[0m\u001b[0;34m(\u001b[0m\u001b[0mX_train\u001b[0m\u001b[0;34m,\u001b[0m\u001b[0my_train\u001b[0m\u001b[0;34m)\u001b[0m\u001b[0;34m\u001b[0m\u001b[0;34m\u001b[0m\u001b[0m\n\u001b[0m\u001b[1;32m     12\u001b[0m \u001b[0;34m\u001b[0m\u001b[0m\n\u001b[1;32m     13\u001b[0m \u001b[0mprint\u001b[0m\u001b[0;34m(\u001b[0m\u001b[0;34m\"Best score\"\u001b[0m\u001b[0;34m,\u001b[0m \u001b[0mgsearch1\u001b[0m\u001b[0;34m.\u001b[0m\u001b[0mbest_score_\u001b[0m\u001b[0;34m)\u001b[0m\u001b[0;34m\u001b[0m\u001b[0;34m\u001b[0m\u001b[0m\n",
      "\u001b[0;32m/home/paul/.local/lib/python3.6/site-packages/sklearn/model_selection/_search.py\u001b[0m in \u001b[0;36mfit\u001b[0;34m(self, X, y, groups, **fit_params)\u001b[0m\n\u001b[1;32m    708\u001b[0m                 \u001b[0;32mreturn\u001b[0m \u001b[0mresults\u001b[0m\u001b[0;34m\u001b[0m\u001b[0;34m\u001b[0m\u001b[0m\n\u001b[1;32m    709\u001b[0m \u001b[0;34m\u001b[0m\u001b[0m\n\u001b[0;32m--> 710\u001b[0;31m             \u001b[0mself\u001b[0m\u001b[0;34m.\u001b[0m\u001b[0m_run_search\u001b[0m\u001b[0;34m(\u001b[0m\u001b[0mevaluate_candidates\u001b[0m\u001b[0;34m)\u001b[0m\u001b[0;34m\u001b[0m\u001b[0;34m\u001b[0m\u001b[0m\n\u001b[0m\u001b[1;32m    711\u001b[0m \u001b[0;34m\u001b[0m\u001b[0m\n\u001b[1;32m    712\u001b[0m         \u001b[0;31m# For multi-metric evaluation, store the best_index_, best_params_ and\u001b[0m\u001b[0;34m\u001b[0m\u001b[0;34m\u001b[0m\u001b[0;34m\u001b[0m\u001b[0m\n",
      "\u001b[0;32m/home/paul/.local/lib/python3.6/site-packages/sklearn/model_selection/_search.py\u001b[0m in \u001b[0;36m_run_search\u001b[0;34m(self, evaluate_candidates)\u001b[0m\n\u001b[1;32m   1149\u001b[0m     \u001b[0;32mdef\u001b[0m \u001b[0m_run_search\u001b[0m\u001b[0;34m(\u001b[0m\u001b[0mself\u001b[0m\u001b[0;34m,\u001b[0m \u001b[0mevaluate_candidates\u001b[0m\u001b[0;34m)\u001b[0m\u001b[0;34m:\u001b[0m\u001b[0;34m\u001b[0m\u001b[0;34m\u001b[0m\u001b[0m\n\u001b[1;32m   1150\u001b[0m         \u001b[0;34m\"\"\"Search all candidates in param_grid\"\"\"\u001b[0m\u001b[0;34m\u001b[0m\u001b[0;34m\u001b[0m\u001b[0m\n\u001b[0;32m-> 1151\u001b[0;31m         \u001b[0mevaluate_candidates\u001b[0m\u001b[0;34m(\u001b[0m\u001b[0mParameterGrid\u001b[0m\u001b[0;34m(\u001b[0m\u001b[0mself\u001b[0m\u001b[0;34m.\u001b[0m\u001b[0mparam_grid\u001b[0m\u001b[0;34m)\u001b[0m\u001b[0;34m)\u001b[0m\u001b[0;34m\u001b[0m\u001b[0;34m\u001b[0m\u001b[0m\n\u001b[0m\u001b[1;32m   1152\u001b[0m \u001b[0;34m\u001b[0m\u001b[0m\n\u001b[1;32m   1153\u001b[0m \u001b[0;34m\u001b[0m\u001b[0m\n",
      "\u001b[0;32m/home/paul/.local/lib/python3.6/site-packages/sklearn/model_selection/_search.py\u001b[0m in \u001b[0;36mevaluate_candidates\u001b[0;34m(candidate_params)\u001b[0m\n\u001b[1;32m    687\u001b[0m                                \u001b[0;32mfor\u001b[0m \u001b[0mparameters\u001b[0m\u001b[0;34m,\u001b[0m \u001b[0;34m(\u001b[0m\u001b[0mtrain\u001b[0m\u001b[0;34m,\u001b[0m \u001b[0mtest\u001b[0m\u001b[0;34m)\u001b[0m\u001b[0;34m\u001b[0m\u001b[0;34m\u001b[0m\u001b[0m\n\u001b[1;32m    688\u001b[0m                                in product(candidate_params,\n\u001b[0;32m--> 689\u001b[0;31m                                           cv.split(X, y, groups)))\n\u001b[0m\u001b[1;32m    690\u001b[0m \u001b[0;34m\u001b[0m\u001b[0m\n\u001b[1;32m    691\u001b[0m                 \u001b[0;32mif\u001b[0m \u001b[0mlen\u001b[0m\u001b[0;34m(\u001b[0m\u001b[0mout\u001b[0m\u001b[0;34m)\u001b[0m \u001b[0;34m<\u001b[0m \u001b[0;36m1\u001b[0m\u001b[0;34m:\u001b[0m\u001b[0;34m\u001b[0m\u001b[0;34m\u001b[0m\u001b[0m\n",
      "\u001b[0;32m/home/paul/.local/lib/python3.6/site-packages/joblib/parallel.py\u001b[0m in \u001b[0;36m__call__\u001b[0;34m(self, iterable)\u001b[0m\n\u001b[1;32m   1002\u001b[0m             \u001b[0;31m# remaining jobs.\u001b[0m\u001b[0;34m\u001b[0m\u001b[0;34m\u001b[0m\u001b[0;34m\u001b[0m\u001b[0m\n\u001b[1;32m   1003\u001b[0m             \u001b[0mself\u001b[0m\u001b[0;34m.\u001b[0m\u001b[0m_iterating\u001b[0m \u001b[0;34m=\u001b[0m \u001b[0;32mFalse\u001b[0m\u001b[0;34m\u001b[0m\u001b[0;34m\u001b[0m\u001b[0m\n\u001b[0;32m-> 1004\u001b[0;31m             \u001b[0;32mif\u001b[0m \u001b[0mself\u001b[0m\u001b[0;34m.\u001b[0m\u001b[0mdispatch_one_batch\u001b[0m\u001b[0;34m(\u001b[0m\u001b[0miterator\u001b[0m\u001b[0;34m)\u001b[0m\u001b[0;34m:\u001b[0m\u001b[0;34m\u001b[0m\u001b[0;34m\u001b[0m\u001b[0m\n\u001b[0m\u001b[1;32m   1005\u001b[0m                 \u001b[0mself\u001b[0m\u001b[0;34m.\u001b[0m\u001b[0m_iterating\u001b[0m \u001b[0;34m=\u001b[0m \u001b[0mself\u001b[0m\u001b[0;34m.\u001b[0m\u001b[0m_original_iterator\u001b[0m \u001b[0;32mis\u001b[0m \u001b[0;32mnot\u001b[0m \u001b[0;32mNone\u001b[0m\u001b[0;34m\u001b[0m\u001b[0;34m\u001b[0m\u001b[0m\n\u001b[1;32m   1006\u001b[0m \u001b[0;34m\u001b[0m\u001b[0m\n",
      "\u001b[0;32m/home/paul/.local/lib/python3.6/site-packages/joblib/parallel.py\u001b[0m in \u001b[0;36mdispatch_one_batch\u001b[0;34m(self, iterator)\u001b[0m\n\u001b[1;32m    833\u001b[0m                 \u001b[0;32mreturn\u001b[0m \u001b[0;32mFalse\u001b[0m\u001b[0;34m\u001b[0m\u001b[0;34m\u001b[0m\u001b[0m\n\u001b[1;32m    834\u001b[0m             \u001b[0;32melse\u001b[0m\u001b[0;34m:\u001b[0m\u001b[0;34m\u001b[0m\u001b[0;34m\u001b[0m\u001b[0m\n\u001b[0;32m--> 835\u001b[0;31m                 \u001b[0mself\u001b[0m\u001b[0;34m.\u001b[0m\u001b[0m_dispatch\u001b[0m\u001b[0;34m(\u001b[0m\u001b[0mtasks\u001b[0m\u001b[0;34m)\u001b[0m\u001b[0;34m\u001b[0m\u001b[0;34m\u001b[0m\u001b[0m\n\u001b[0m\u001b[1;32m    836\u001b[0m                 \u001b[0;32mreturn\u001b[0m \u001b[0;32mTrue\u001b[0m\u001b[0;34m\u001b[0m\u001b[0;34m\u001b[0m\u001b[0m\n\u001b[1;32m    837\u001b[0m \u001b[0;34m\u001b[0m\u001b[0m\n",
      "\u001b[0;32m/home/paul/.local/lib/python3.6/site-packages/joblib/parallel.py\u001b[0m in \u001b[0;36m_dispatch\u001b[0;34m(self, batch)\u001b[0m\n\u001b[1;32m    752\u001b[0m         \u001b[0;32mwith\u001b[0m \u001b[0mself\u001b[0m\u001b[0;34m.\u001b[0m\u001b[0m_lock\u001b[0m\u001b[0;34m:\u001b[0m\u001b[0;34m\u001b[0m\u001b[0;34m\u001b[0m\u001b[0m\n\u001b[1;32m    753\u001b[0m             \u001b[0mjob_idx\u001b[0m \u001b[0;34m=\u001b[0m \u001b[0mlen\u001b[0m\u001b[0;34m(\u001b[0m\u001b[0mself\u001b[0m\u001b[0;34m.\u001b[0m\u001b[0m_jobs\u001b[0m\u001b[0;34m)\u001b[0m\u001b[0;34m\u001b[0m\u001b[0;34m\u001b[0m\u001b[0m\n\u001b[0;32m--> 754\u001b[0;31m             \u001b[0mjob\u001b[0m \u001b[0;34m=\u001b[0m \u001b[0mself\u001b[0m\u001b[0;34m.\u001b[0m\u001b[0m_backend\u001b[0m\u001b[0;34m.\u001b[0m\u001b[0mapply_async\u001b[0m\u001b[0;34m(\u001b[0m\u001b[0mbatch\u001b[0m\u001b[0;34m,\u001b[0m \u001b[0mcallback\u001b[0m\u001b[0;34m=\u001b[0m\u001b[0mcb\u001b[0m\u001b[0;34m)\u001b[0m\u001b[0;34m\u001b[0m\u001b[0;34m\u001b[0m\u001b[0m\n\u001b[0m\u001b[1;32m    755\u001b[0m             \u001b[0;31m# A job can complete so quickly than its callback is\u001b[0m\u001b[0;34m\u001b[0m\u001b[0;34m\u001b[0m\u001b[0;34m\u001b[0m\u001b[0m\n\u001b[1;32m    756\u001b[0m             \u001b[0;31m# called before we get here, causing self._jobs to\u001b[0m\u001b[0;34m\u001b[0m\u001b[0;34m\u001b[0m\u001b[0;34m\u001b[0m\u001b[0m\n",
      "\u001b[0;32m/home/paul/.local/lib/python3.6/site-packages/joblib/_parallel_backends.py\u001b[0m in \u001b[0;36mapply_async\u001b[0;34m(self, func, callback)\u001b[0m\n\u001b[1;32m    549\u001b[0m     \u001b[0;32mdef\u001b[0m \u001b[0mapply_async\u001b[0m\u001b[0;34m(\u001b[0m\u001b[0mself\u001b[0m\u001b[0;34m,\u001b[0m \u001b[0mfunc\u001b[0m\u001b[0;34m,\u001b[0m \u001b[0mcallback\u001b[0m\u001b[0;34m=\u001b[0m\u001b[0;32mNone\u001b[0m\u001b[0;34m)\u001b[0m\u001b[0;34m:\u001b[0m\u001b[0;34m\u001b[0m\u001b[0;34m\u001b[0m\u001b[0m\n\u001b[1;32m    550\u001b[0m         \u001b[0;34m\"\"\"Schedule a func to be run\"\"\"\u001b[0m\u001b[0;34m\u001b[0m\u001b[0;34m\u001b[0m\u001b[0m\n\u001b[0;32m--> 551\u001b[0;31m         \u001b[0mfuture\u001b[0m \u001b[0;34m=\u001b[0m \u001b[0mself\u001b[0m\u001b[0;34m.\u001b[0m\u001b[0m_workers\u001b[0m\u001b[0;34m.\u001b[0m\u001b[0msubmit\u001b[0m\u001b[0;34m(\u001b[0m\u001b[0mSafeFunction\u001b[0m\u001b[0;34m(\u001b[0m\u001b[0mfunc\u001b[0m\u001b[0;34m)\u001b[0m\u001b[0;34m)\u001b[0m\u001b[0;34m\u001b[0m\u001b[0;34m\u001b[0m\u001b[0m\n\u001b[0m\u001b[1;32m    552\u001b[0m         \u001b[0mfuture\u001b[0m\u001b[0;34m.\u001b[0m\u001b[0mget\u001b[0m \u001b[0;34m=\u001b[0m \u001b[0mfunctools\u001b[0m\u001b[0;34m.\u001b[0m\u001b[0mpartial\u001b[0m\u001b[0;34m(\u001b[0m\u001b[0mself\u001b[0m\u001b[0;34m.\u001b[0m\u001b[0mwrap_future_result\u001b[0m\u001b[0;34m,\u001b[0m \u001b[0mfuture\u001b[0m\u001b[0;34m)\u001b[0m\u001b[0;34m\u001b[0m\u001b[0;34m\u001b[0m\u001b[0m\n\u001b[1;32m    553\u001b[0m         \u001b[0;32mif\u001b[0m \u001b[0mcallback\u001b[0m \u001b[0;32mis\u001b[0m \u001b[0;32mnot\u001b[0m \u001b[0;32mNone\u001b[0m\u001b[0;34m:\u001b[0m\u001b[0;34m\u001b[0m\u001b[0;34m\u001b[0m\u001b[0m\n",
      "\u001b[0;32m/home/paul/.local/lib/python3.6/site-packages/joblib/externals/loky/reusable_executor.py\u001b[0m in \u001b[0;36msubmit\u001b[0;34m(self, fn, *args, **kwargs)\u001b[0m\n\u001b[1;32m    158\u001b[0m         \u001b[0;32mwith\u001b[0m \u001b[0mself\u001b[0m\u001b[0;34m.\u001b[0m\u001b[0m_submit_resize_lock\u001b[0m\u001b[0;34m:\u001b[0m\u001b[0;34m\u001b[0m\u001b[0;34m\u001b[0m\u001b[0m\n\u001b[1;32m    159\u001b[0m             return super(_ReusablePoolExecutor, self).submit(\n\u001b[0;32m--> 160\u001b[0;31m                 fn, *args, **kwargs)\n\u001b[0m\u001b[1;32m    161\u001b[0m \u001b[0;34m\u001b[0m\u001b[0m\n\u001b[1;32m    162\u001b[0m     \u001b[0;32mdef\u001b[0m \u001b[0m_resize\u001b[0m\u001b[0;34m(\u001b[0m\u001b[0mself\u001b[0m\u001b[0;34m,\u001b[0m \u001b[0mmax_workers\u001b[0m\u001b[0;34m)\u001b[0m\u001b[0;34m:\u001b[0m\u001b[0;34m\u001b[0m\u001b[0;34m\u001b[0m\u001b[0m\n",
      "\u001b[0;32m/home/paul/.local/lib/python3.6/site-packages/joblib/externals/loky/process_executor.py\u001b[0m in \u001b[0;36msubmit\u001b[0;34m(self, fn, *args, **kwargs)\u001b[0m\n\u001b[1;32m   1045\u001b[0m             \u001b[0mself\u001b[0m\u001b[0;34m.\u001b[0m\u001b[0m_queue_management_thread_wakeup\u001b[0m\u001b[0;34m.\u001b[0m\u001b[0mwakeup\u001b[0m\u001b[0;34m(\u001b[0m\u001b[0;34m)\u001b[0m\u001b[0;34m\u001b[0m\u001b[0;34m\u001b[0m\u001b[0m\n\u001b[1;32m   1046\u001b[0m \u001b[0;34m\u001b[0m\u001b[0m\n\u001b[0;32m-> 1047\u001b[0;31m             \u001b[0mself\u001b[0m\u001b[0;34m.\u001b[0m\u001b[0m_ensure_executor_running\u001b[0m\u001b[0;34m(\u001b[0m\u001b[0;34m)\u001b[0m\u001b[0;34m\u001b[0m\u001b[0;34m\u001b[0m\u001b[0m\n\u001b[0m\u001b[1;32m   1048\u001b[0m             \u001b[0;32mreturn\u001b[0m \u001b[0mf\u001b[0m\u001b[0;34m\u001b[0m\u001b[0;34m\u001b[0m\u001b[0m\n\u001b[1;32m   1049\u001b[0m     \u001b[0msubmit\u001b[0m\u001b[0;34m.\u001b[0m\u001b[0m__doc__\u001b[0m \u001b[0;34m=\u001b[0m \u001b[0m_base\u001b[0m\u001b[0;34m.\u001b[0m\u001b[0mExecutor\u001b[0m\u001b[0;34m.\u001b[0m\u001b[0msubmit\u001b[0m\u001b[0;34m.\u001b[0m\u001b[0m__doc__\u001b[0m\u001b[0;34m\u001b[0m\u001b[0;34m\u001b[0m\u001b[0m\n",
      "\u001b[0;32m/home/paul/.local/lib/python3.6/site-packages/joblib/externals/loky/process_executor.py\u001b[0m in \u001b[0;36m_ensure_executor_running\u001b[0;34m(self)\u001b[0m\n\u001b[1;32m   1019\u001b[0m         \u001b[0;32mwith\u001b[0m \u001b[0mself\u001b[0m\u001b[0;34m.\u001b[0m\u001b[0m_processes_management_lock\u001b[0m\u001b[0;34m:\u001b[0m\u001b[0;34m\u001b[0m\u001b[0;34m\u001b[0m\u001b[0m\n\u001b[1;32m   1020\u001b[0m             \u001b[0;32mif\u001b[0m \u001b[0mlen\u001b[0m\u001b[0;34m(\u001b[0m\u001b[0mself\u001b[0m\u001b[0;34m.\u001b[0m\u001b[0m_processes\u001b[0m\u001b[0;34m)\u001b[0m \u001b[0;34m!=\u001b[0m \u001b[0mself\u001b[0m\u001b[0;34m.\u001b[0m\u001b[0m_max_workers\u001b[0m\u001b[0;34m:\u001b[0m\u001b[0;34m\u001b[0m\u001b[0;34m\u001b[0m\u001b[0m\n\u001b[0;32m-> 1021\u001b[0;31m                 \u001b[0mself\u001b[0m\u001b[0;34m.\u001b[0m\u001b[0m_adjust_process_count\u001b[0m\u001b[0;34m(\u001b[0m\u001b[0;34m)\u001b[0m\u001b[0;34m\u001b[0m\u001b[0;34m\u001b[0m\u001b[0m\n\u001b[0m\u001b[1;32m   1022\u001b[0m             \u001b[0mself\u001b[0m\u001b[0;34m.\u001b[0m\u001b[0m_start_queue_management_thread\u001b[0m\u001b[0;34m(\u001b[0m\u001b[0;34m)\u001b[0m\u001b[0;34m\u001b[0m\u001b[0;34m\u001b[0m\u001b[0m\n\u001b[1;32m   1023\u001b[0m \u001b[0;34m\u001b[0m\u001b[0m\n",
      "\u001b[0;32m/home/paul/.local/lib/python3.6/site-packages/joblib/externals/loky/process_executor.py\u001b[0m in \u001b[0;36m_adjust_process_count\u001b[0;34m(self)\u001b[0m\n\u001b[1;32m   1010\u001b[0m                 \u001b[0mp\u001b[0m \u001b[0;34m=\u001b[0m \u001b[0mself\u001b[0m\u001b[0;34m.\u001b[0m\u001b[0m_context\u001b[0m\u001b[0;34m.\u001b[0m\u001b[0mProcess\u001b[0m\u001b[0;34m(\u001b[0m\u001b[0mtarget\u001b[0m\u001b[0;34m=\u001b[0m\u001b[0m_process_worker\u001b[0m\u001b[0;34m,\u001b[0m \u001b[0margs\u001b[0m\u001b[0;34m=\u001b[0m\u001b[0margs\u001b[0m\u001b[0;34m)\u001b[0m\u001b[0;34m\u001b[0m\u001b[0;34m\u001b[0m\u001b[0m\n\u001b[1;32m   1011\u001b[0m             \u001b[0mp\u001b[0m\u001b[0;34m.\u001b[0m\u001b[0m_worker_exit_lock\u001b[0m \u001b[0;34m=\u001b[0m \u001b[0mworker_exit_lock\u001b[0m\u001b[0;34m\u001b[0m\u001b[0;34m\u001b[0m\u001b[0m\n\u001b[0;32m-> 1012\u001b[0;31m             \u001b[0mp\u001b[0m\u001b[0;34m.\u001b[0m\u001b[0mstart\u001b[0m\u001b[0;34m(\u001b[0m\u001b[0;34m)\u001b[0m\u001b[0;34m\u001b[0m\u001b[0;34m\u001b[0m\u001b[0m\n\u001b[0m\u001b[1;32m   1013\u001b[0m             \u001b[0mself\u001b[0m\u001b[0;34m.\u001b[0m\u001b[0m_processes\u001b[0m\u001b[0;34m[\u001b[0m\u001b[0mp\u001b[0m\u001b[0;34m.\u001b[0m\u001b[0mpid\u001b[0m\u001b[0;34m]\u001b[0m \u001b[0;34m=\u001b[0m \u001b[0mp\u001b[0m\u001b[0;34m\u001b[0m\u001b[0;34m\u001b[0m\u001b[0m\n\u001b[1;32m   1014\u001b[0m         \u001b[0mmp\u001b[0m\u001b[0;34m.\u001b[0m\u001b[0mutil\u001b[0m\u001b[0;34m.\u001b[0m\u001b[0mdebug\u001b[0m\u001b[0;34m(\u001b[0m\u001b[0;34m'Adjust process count : {}'\u001b[0m\u001b[0;34m.\u001b[0m\u001b[0mformat\u001b[0m\u001b[0;34m(\u001b[0m\u001b[0mself\u001b[0m\u001b[0;34m.\u001b[0m\u001b[0m_processes\u001b[0m\u001b[0;34m)\u001b[0m\u001b[0;34m)\u001b[0m\u001b[0;34m\u001b[0m\u001b[0;34m\u001b[0m\u001b[0m\n",
      "\u001b[0;32m/usr/lib/python3.6/multiprocessing/process.py\u001b[0m in \u001b[0;36mstart\u001b[0;34m(self)\u001b[0m\n\u001b[1;32m    103\u001b[0m                \u001b[0;34m'daemonic processes are not allowed to have children'\u001b[0m\u001b[0;34m\u001b[0m\u001b[0;34m\u001b[0m\u001b[0m\n\u001b[1;32m    104\u001b[0m         \u001b[0m_cleanup\u001b[0m\u001b[0;34m(\u001b[0m\u001b[0;34m)\u001b[0m\u001b[0;34m\u001b[0m\u001b[0;34m\u001b[0m\u001b[0m\n\u001b[0;32m--> 105\u001b[0;31m         \u001b[0mself\u001b[0m\u001b[0;34m.\u001b[0m\u001b[0m_popen\u001b[0m \u001b[0;34m=\u001b[0m \u001b[0mself\u001b[0m\u001b[0;34m.\u001b[0m\u001b[0m_Popen\u001b[0m\u001b[0;34m(\u001b[0m\u001b[0mself\u001b[0m\u001b[0;34m)\u001b[0m\u001b[0;34m\u001b[0m\u001b[0;34m\u001b[0m\u001b[0m\n\u001b[0m\u001b[1;32m    106\u001b[0m         \u001b[0mself\u001b[0m\u001b[0;34m.\u001b[0m\u001b[0m_sentinel\u001b[0m \u001b[0;34m=\u001b[0m \u001b[0mself\u001b[0m\u001b[0;34m.\u001b[0m\u001b[0m_popen\u001b[0m\u001b[0;34m.\u001b[0m\u001b[0msentinel\u001b[0m\u001b[0;34m\u001b[0m\u001b[0;34m\u001b[0m\u001b[0m\n\u001b[1;32m    107\u001b[0m         \u001b[0;31m# Avoid a refcycle if the target function holds an indirect\u001b[0m\u001b[0;34m\u001b[0m\u001b[0;34m\u001b[0m\u001b[0;34m\u001b[0m\u001b[0m\n",
      "\u001b[0;32m/home/paul/.local/lib/python3.6/site-packages/joblib/externals/loky/backend/process.py\u001b[0m in \u001b[0;36m_Popen\u001b[0;34m(process_obj)\u001b[0m\n\u001b[1;32m     37\u001b[0m         \u001b[0;32melse\u001b[0m\u001b[0;34m:\u001b[0m\u001b[0;34m\u001b[0m\u001b[0;34m\u001b[0m\u001b[0m\n\u001b[1;32m     38\u001b[0m             \u001b[0;32mfrom\u001b[0m \u001b[0;34m.\u001b[0m\u001b[0mpopen_loky_posix\u001b[0m \u001b[0;32mimport\u001b[0m \u001b[0mPopen\u001b[0m\u001b[0;34m\u001b[0m\u001b[0;34m\u001b[0m\u001b[0m\n\u001b[0;32m---> 39\u001b[0;31m         \u001b[0;32mreturn\u001b[0m \u001b[0mPopen\u001b[0m\u001b[0;34m(\u001b[0m\u001b[0mprocess_obj\u001b[0m\u001b[0;34m)\u001b[0m\u001b[0;34m\u001b[0m\u001b[0;34m\u001b[0m\u001b[0m\n\u001b[0m\u001b[1;32m     40\u001b[0m \u001b[0;34m\u001b[0m\u001b[0m\n\u001b[1;32m     41\u001b[0m     \u001b[0;32mif\u001b[0m \u001b[0msys\u001b[0m\u001b[0;34m.\u001b[0m\u001b[0mversion_info\u001b[0m \u001b[0;34m<\u001b[0m \u001b[0;34m(\u001b[0m\u001b[0;36m3\u001b[0m\u001b[0;34m,\u001b[0m \u001b[0;36m3\u001b[0m\u001b[0;34m)\u001b[0m\u001b[0;34m:\u001b[0m\u001b[0;34m\u001b[0m\u001b[0;34m\u001b[0m\u001b[0m\n",
      "\u001b[0;32m/home/paul/.local/lib/python3.6/site-packages/joblib/externals/loky/backend/popen_loky_posix.py\u001b[0m in \u001b[0;36m__init__\u001b[0;34m(self, process_obj)\u001b[0m\n\u001b[1;32m     50\u001b[0m             \u001b[0mself\u001b[0m\u001b[0;34m.\u001b[0m\u001b[0mreturncode\u001b[0m \u001b[0;34m=\u001b[0m \u001b[0;32mNone\u001b[0m\u001b[0;34m\u001b[0m\u001b[0;34m\u001b[0m\u001b[0m\n\u001b[1;32m     51\u001b[0m             \u001b[0mself\u001b[0m\u001b[0;34m.\u001b[0m\u001b[0m_fds\u001b[0m \u001b[0;34m=\u001b[0m \u001b[0;34m[\u001b[0m\u001b[0;34m]\u001b[0m\u001b[0;34m\u001b[0m\u001b[0;34m\u001b[0m\u001b[0m\n\u001b[0;32m---> 52\u001b[0;31m             \u001b[0mself\u001b[0m\u001b[0;34m.\u001b[0m\u001b[0m_launch\u001b[0m\u001b[0;34m(\u001b[0m\u001b[0mprocess_obj\u001b[0m\u001b[0;34m)\u001b[0m\u001b[0;34m\u001b[0m\u001b[0;34m\u001b[0m\u001b[0m\n\u001b[0m\u001b[1;32m     53\u001b[0m \u001b[0;34m\u001b[0m\u001b[0m\n\u001b[1;32m     54\u001b[0m         \u001b[0;32mif\u001b[0m \u001b[0msys\u001b[0m\u001b[0;34m.\u001b[0m\u001b[0mversion_info\u001b[0m \u001b[0;34m<\u001b[0m \u001b[0;34m(\u001b[0m\u001b[0;36m3\u001b[0m\u001b[0;34m,\u001b[0m \u001b[0;36m4\u001b[0m\u001b[0;34m)\u001b[0m\u001b[0;34m:\u001b[0m\u001b[0;34m\u001b[0m\u001b[0;34m\u001b[0m\u001b[0m\n",
      "\u001b[0;32m/home/paul/.local/lib/python3.6/site-packages/joblib/externals/loky/backend/popen_loky_posix.py\u001b[0m in \u001b[0;36m_launch\u001b[0;34m(self, process_obj)\u001b[0m\n\u001b[1;32m    151\u001b[0m                 \u001b[0mself\u001b[0m\u001b[0;34m.\u001b[0m\u001b[0m_fds\u001b[0m\u001b[0;34m.\u001b[0m\u001b[0mextend\u001b[0m\u001b[0;34m(\u001b[0m\u001b[0;34m[\u001b[0m\u001b[0mchild_r\u001b[0m\u001b[0;34m,\u001b[0m \u001b[0mchild_w\u001b[0m\u001b[0;34m,\u001b[0m \u001b[0mtracker_fd\u001b[0m\u001b[0;34m]\u001b[0m\u001b[0;34m)\u001b[0m\u001b[0;34m\u001b[0m\u001b[0;34m\u001b[0m\u001b[0m\n\u001b[1;32m    152\u001b[0m                 \u001b[0;32mfrom\u001b[0m \u001b[0;34m.\u001b[0m\u001b[0mfork_exec\u001b[0m \u001b[0;32mimport\u001b[0m \u001b[0mfork_exec\u001b[0m\u001b[0;34m\u001b[0m\u001b[0;34m\u001b[0m\u001b[0m\n\u001b[0;32m--> 153\u001b[0;31m                 \u001b[0mpid\u001b[0m \u001b[0;34m=\u001b[0m \u001b[0mfork_exec\u001b[0m\u001b[0;34m(\u001b[0m\u001b[0mcmd_python\u001b[0m\u001b[0;34m,\u001b[0m \u001b[0mself\u001b[0m\u001b[0;34m.\u001b[0m\u001b[0m_fds\u001b[0m\u001b[0;34m,\u001b[0m \u001b[0menv\u001b[0m\u001b[0;34m=\u001b[0m\u001b[0mprocess_obj\u001b[0m\u001b[0;34m.\u001b[0m\u001b[0menv\u001b[0m\u001b[0;34m)\u001b[0m\u001b[0;34m\u001b[0m\u001b[0;34m\u001b[0m\u001b[0m\n\u001b[0m\u001b[1;32m    154\u001b[0m                 util.debug(\"launched python with pid {} and cmd:\\n{}\"\n\u001b[1;32m    155\u001b[0m                            .format(pid, cmd_python))\n",
      "\u001b[0;32m/home/paul/.local/lib/python3.6/site-packages/joblib/externals/loky/backend/fork_exec.py\u001b[0m in \u001b[0;36mfork_exec\u001b[0;34m(cmd, keep_fds, env)\u001b[0m\n\u001b[1;32m     41\u001b[0m     \u001b[0mchild_env\u001b[0m\u001b[0;34m.\u001b[0m\u001b[0mupdate\u001b[0m\u001b[0;34m(\u001b[0m\u001b[0menv\u001b[0m\u001b[0;34m)\u001b[0m\u001b[0;34m\u001b[0m\u001b[0;34m\u001b[0m\u001b[0m\n\u001b[1;32m     42\u001b[0m \u001b[0;34m\u001b[0m\u001b[0m\n\u001b[0;32m---> 43\u001b[0;31m     \u001b[0mpid\u001b[0m \u001b[0;34m=\u001b[0m \u001b[0mos\u001b[0m\u001b[0;34m.\u001b[0m\u001b[0mfork\u001b[0m\u001b[0;34m(\u001b[0m\u001b[0;34m)\u001b[0m\u001b[0;34m\u001b[0m\u001b[0;34m\u001b[0m\u001b[0m\n\u001b[0m\u001b[1;32m     44\u001b[0m     \u001b[0;32mif\u001b[0m \u001b[0mpid\u001b[0m \u001b[0;34m==\u001b[0m \u001b[0;36m0\u001b[0m\u001b[0;34m:\u001b[0m  \u001b[0;31m# pragma: no cover\u001b[0m\u001b[0;34m\u001b[0m\u001b[0;34m\u001b[0m\u001b[0m\n\u001b[1;32m     45\u001b[0m         \u001b[0mclose_fds\u001b[0m\u001b[0;34m(\u001b[0m\u001b[0mkeep_fds\u001b[0m\u001b[0;34m)\u001b[0m\u001b[0;34m\u001b[0m\u001b[0;34m\u001b[0m\u001b[0m\n",
      "\u001b[0;31mOSError\u001b[0m: [Errno 12] Cannot allocate memory"
     ]
    }
   ],
   "source": [
    "param_test1 = {\n",
    " 'min_child_weight':range(1,6,2)\n",
    "}\n",
    "\n",
    "gsearch1 = GridSearchCV(estimator = XGBClassifier( max_depth=9, learning_rate =0.1, n_estimators=200, gamma=0, subsample=0.8, colsample_bytree=0.8,\n",
    " objective= 'binary:', nthread=4, scale_pos_weight=1, seed=27),\n",
    "                        \n",
    " param_grid = param_test1, scoring='roc_auc',n_jobs=4,iid=False, cv=5)\n",
    "\n",
    "\n",
    "gsearch1.fit(X_train,y_train)\n",
    "\n",
    "print(\"Best score\", gsearch1.best_score_)\n",
    "print(\"Best param \", gsearch1.best_params_)"
   ]
  },
  {
   "cell_type": "code",
   "execution_count": 21,
   "metadata": {},
   "outputs": [
    {
     "name": "stderr",
     "output_type": "stream",
     "text": [
      "/home/paul/.local/lib/python3.6/site-packages/sklearn/model_selection/_search.py:823: FutureWarning: The parameter 'iid' is deprecated in 0.22 and will be removed in 0.24.\n",
      "  \"removed in 0.24.\", FutureWarning\n"
     ]
    },
    {
     "name": "stdout",
     "output_type": "stream",
     "text": [
      "Best score 0.9996823084678426\n",
      "Best param  {'max_depth': 9, 'min_child_weight': 5}\n"
     ]
    }
   ],
   "source": [
    "param_test2 = {\n",
    " 'max_depth':range(9,14,2),\n",
    " 'min_child_weight':range(4,7)\n",
    "}\n",
    "\n",
    "gsearch2 = GridSearchCV(estimator = XGBClassifier( learning_rate =0.1, n_estimators=50, gamma=0, subsample=0.8, colsample_bytree=0.8,\n",
    " objective= 'binary:logistic', nthread=4, scale_pos_weight=1, seed=27),\n",
    "                        \n",
    " param_grid = param_test2, scoring='roc_auc',n_jobs=4,iid=False, cv=5)\n",
    "\n",
    "\n",
    "gsearch2.fit(X_train,y_train)\n",
    "\n",
    "print(\"Best score\", gsearch2.best_score_)\n",
    "print(\"Best param \", gsearch2.best_params_)"
   ]
  },
  {
   "cell_type": "markdown",
   "metadata": {},
   "source": [
    "We keep {'max_depth': 11, 'min_child_weight': 5}"
   ]
  },
  {
   "cell_type": "markdown",
   "metadata": {},
   "source": [
    "### We tune gamma"
   ]
  },
  {
   "cell_type": "code",
   "execution_count": 75,
   "metadata": {},
   "outputs": [
    {
     "name": "stderr",
     "output_type": "stream",
     "text": [
      "/home/paul/.local/lib/python3.6/site-packages/sklearn/model_selection/_search.py:823: FutureWarning: The parameter 'iid' is deprecated in 0.22 and will be removed in 0.24.\n",
      "  \"removed in 0.24.\", FutureWarning\n"
     ]
    },
    {
     "ename": "AttributeError",
     "evalue": "'GridSearchCV' object has no attribute 'grid_scores_'",
     "output_type": "error",
     "traceback": [
      "\u001b[0;31m---------------------------------------------------------------------------\u001b[0m",
      "\u001b[0;31mAttributeError\u001b[0m                            Traceback (most recent call last)",
      "\u001b[0;32m<ipython-input-75-698fbe0ebb38>\u001b[0m in \u001b[0;36m<module>\u001b[0;34m()\u001b[0m\n\u001b[1;32m      9\u001b[0m \u001b[0;34m\u001b[0m\u001b[0m\n\u001b[1;32m     10\u001b[0m \u001b[0mgsearch3\u001b[0m\u001b[0;34m.\u001b[0m\u001b[0mfit\u001b[0m\u001b[0;34m(\u001b[0m\u001b[0mX_train\u001b[0m\u001b[0;34m,\u001b[0m  \u001b[0my_train\u001b[0m\u001b[0;34m)\u001b[0m\u001b[0;34m\u001b[0m\u001b[0;34m\u001b[0m\u001b[0m\n\u001b[0;32m---> 11\u001b[0;31m \u001b[0mgsearch3\u001b[0m\u001b[0;34m.\u001b[0m\u001b[0mgrid_scores_\u001b[0m\u001b[0;34m,\u001b[0m \u001b[0mgsearch3\u001b[0m\u001b[0;34m.\u001b[0m\u001b[0mbest_params_\u001b[0m\u001b[0;34m,\u001b[0m \u001b[0mgsearch3\u001b[0m\u001b[0;34m.\u001b[0m\u001b[0mbest_score_\u001b[0m\u001b[0;34m\u001b[0m\u001b[0;34m\u001b[0m\u001b[0m\n\u001b[0m",
      "\u001b[0;31mAttributeError\u001b[0m: 'GridSearchCV' object has no attribute 'grid_scores_'"
     ]
    }
   ],
   "source": [
    "param_test3 = {\n",
    " 'gamma':[i/10.0 for i in range(0,5)]\n",
    "}\n",
    "gsearch3 = GridSearchCV(estimator = XGBClassifier( learning_rate =0.1, n_estimators=70, max_depth=5,\n",
    " min_child_weight=5, gamma=0, subsample=0.8, colsample_bytree=0.8,\n",
    " objective= 'binary:logistic', nthread=4, scale_pos_weight=1,seed=27), \n",
    "                        \n",
    " param_grid = param_test3, scoring='roc_auc',n_jobs=4,iid=False, cv=5)\n",
    "\n",
    "gsearch3.fit(X_train,  y_train)\n",
    "gsearch3.grid_scores_, gsearch3.best_params_, gsearch3.best_score_"
   ]
  },
  {
   "cell_type": "code",
   "execution_count": 76,
   "metadata": {},
   "outputs": [
    {
     "data": {
      "text/plain": [
       "{'gamma': 0.2}"
      ]
     },
     "execution_count": 76,
     "metadata": {},
     "output_type": "execute_result"
    }
   ],
   "source": [
    "gsearch3.best_params_"
   ]
  },
  {
   "cell_type": "code",
   "execution_count": 77,
   "metadata": {},
   "outputs": [
    {
     "data": {
      "text/plain": [
       "0.9994678530318669"
      ]
     },
     "execution_count": 77,
     "metadata": {},
     "output_type": "execute_result"
    }
   ],
   "source": [
    "gsearch3.best_score_"
   ]
  },
  {
   "cell_type": "markdown",
   "metadata": {},
   "source": [
    "### Now, let's test this model"
   ]
  },
  {
   "cell_type": "code",
   "execution_count": 22,
   "metadata": {},
   "outputs": [],
   "source": [
    "model=XGBClassifier( learning_rate =0.1, n_estimators=200, max_depth=9,\n",
    " min_child_weight=5, gamma=0, subsample=0.8, colsample_bytree=0.8,\n",
    " objective= 'binary:logistic', nthread=4, scale_pos_weight=1,seed=27)"
   ]
  },
  {
   "cell_type": "code",
   "execution_count": 23,
   "metadata": {},
   "outputs": [
    {
     "data": {
      "text/plain": [
       "XGBClassifier(base_score=0.5, booster=None, colsample_bylevel=1,\n",
       "              colsample_bynode=1, colsample_bytree=0.8, gamma=0, gpu_id=-1,\n",
       "              importance_type='gain', interaction_constraints=None,\n",
       "              learning_rate=0.1, max_delta_step=0, max_depth=9,\n",
       "              min_child_weight=5, missing=nan, monotone_constraints=None,\n",
       "              n_estimators=200, n_jobs=4, nthread=4, num_parallel_tree=1,\n",
       "              objective='binary:logistic', random_state=27, reg_alpha=0,\n",
       "              reg_lambda=1, scale_pos_weight=1, seed=27, subsample=0.8,\n",
       "              tree_method=None, validate_parameters=False, verbosity=None)"
      ]
     },
     "execution_count": 23,
     "metadata": {},
     "output_type": "execute_result"
    }
   ],
   "source": [
    "model.fit(X_train,y_train)"
   ]
  },
  {
   "cell_type": "code",
   "execution_count": 24,
   "metadata": {},
   "outputs": [
    {
     "data": {
      "text/plain": [
       "0.9983044914568246"
      ]
     },
     "execution_count": 24,
     "metadata": {},
     "output_type": "execute_result"
    }
   ],
   "source": [
    "model.score(X_test,y_test)"
   ]
  },
  {
   "cell_type": "code",
   "execution_count": 9,
   "metadata": {},
   "outputs": [
    {
     "name": "stdout",
     "output_type": "stream",
     "text": [
      "0.03488447082478477\n"
     ]
    }
   ],
   "source": [
    "ytest = clf.predict(X_exam)\n",
    "print(ytest.mean())\n",
    "np.savetxt('ytest_challenge_student2.csv', ytest, fmt = '%1.0d', delimiter=',')"
   ]
  },
  {
   "cell_type": "code",
   "execution_count": 20,
   "metadata": {},
   "outputs": [
    {
     "data": {
      "text/plain": [
       "<scipy.stats._distn_infrastructure.rv_frozen at 0x7f049e0ec240>"
      ]
     },
     "execution_count": 20,
     "metadata": {},
     "output_type": "execute_result"
    }
   ],
   "source": [
    "uniform()"
   ]
  },
  {
   "cell_type": "code",
   "execution_count": null,
   "metadata": {},
   "outputs": [],
   "source": []
  }
 ],
 "metadata": {
  "kernelspec": {
   "display_name": "Python 3",
   "language": "python",
   "name": "python3"
  },
  "language_info": {
   "codemirror_mode": {
    "name": "ipython",
    "version": 3
   },
   "file_extension": ".py",
   "mimetype": "text/x-python",
   "name": "python",
   "nbconvert_exporter": "python",
   "pygments_lexer": "ipython3",
   "version": "3.7.4"
  }
 },
 "nbformat": 4,
 "nbformat_minor": 2
}
